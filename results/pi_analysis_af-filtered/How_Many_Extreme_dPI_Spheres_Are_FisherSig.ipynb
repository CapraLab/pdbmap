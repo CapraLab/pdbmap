{
 "metadata": {
  "name": "",
  "signature": "sha256:236fafe15ae75a039259afdc4ccc4717874cf376613a34782acc32ef2d22c9cc"
 },
 "nbformat": 3,
 "nbformat_minor": 0,
 "worksheets": [
  {
   "cells": [
    {
     "cell_type": "code",
     "collapsed": false,
     "input": [
      "import numpy as np\n",
      "import pandas as pd\n",
      "import matplotlib.pyplot as plt\n",
      "from pi_util import *\n",
      "%matplotlib inline"
     ],
     "language": "python",
     "metadata": {},
     "outputs": [],
     "prompt_number": 6
    },
    {
     "cell_type": "markdown",
     "metadata": {},
     "source": [
      "## All Missense"
     ]
    },
    {
     "cell_type": "code",
     "collapsed": false,
     "input": [
      "# Use pi_util to load, filter, collapse, and threshold the dataset\n",
      "df = load_results(\"all_pi.txt\")\n",
      "df = filter_fet(df,0.05,adj=False)\n",
      "df = collapse(df)\n",
      "df = tails(df,30)"
     ],
     "language": "python",
     "metadata": {},
     "outputs": [
      {
       "output_type": "stream",
       "stream": "stdout",
       "text": [
        "\n",
        "Total 2+ SNP spheres (221 PDBs) examined:\t\t1726\n",
        "Total spheres after filtering NaN:\t\t\t1726\n",
        "Total spheres after checking 2+ SNPs:\t\t\t1726\n",
        "Total spheres after removing non-differentiated:\t1726\n",
        "1726 spheres (221 PDBs) passed all criteria\n",
        "488 spheres (86 PDBs) with FET p.adj<0.05\n",
        "188 non-redundant spheres (86 PDBs).\n",
        "  Lower  15.0 percentile: -0.000263505\n",
        "  Upper  85.0 percentile:  0.000675272\n",
        "58 spheres (32 PDBs) in the 30% tail(s) of the dPi distribution\n"
       ]
      }
     ],
     "prompt_number": 7
    },
    {
     "cell_type": "code",
     "collapsed": false,
     "input": [
      "# Print the top 10 results (only one per gene)\n",
      "print \"European constraint relative to African\"\n",
      "print df.sort(\"dpi\",ascending=True).drop_duplicates([\"structid\",\"biounit\"]).head(5)[[\"structid\",\"chain\",\"seqid\",\"dpi\",\"fet_padj\",\"ac1\",\"ac2\",\"pfam_domain\"]]\n",
      "print \"\\nAfrican constraint relative to European\"\n",
      "print df.sort(\"dpi\",ascending=False).drop_duplicates([\"structid\",\"biounit\"]).head(5)[[\"structid\",\"chain\",\"seqid\",\"dpi\",\"fet_padj\",\"ac1\",\"ac2\",\"pfam_domain\"]]"
     ],
     "language": "python",
     "metadata": {},
     "outputs": [
      {
       "output_type": "stream",
       "stream": "stdout",
       "text": [
        "European constraint relative to African\n",
        "     structid chain  seqid       dpi  fet_padj  ac1  ac2     pfam_domain\n",
        "1567     4HOR     A     63 -0.003803  0.012281   14  114          TPR_12\n",
        "976      3E3R     B     16 -0.002714  0.011744   13  177             NaN\n",
        "602      2LNB     A     62 -0.001789  0.006187    7  102         z-alpha\n",
        "379      2A14     A     72 -0.001658  0.000617   12   55  NNMT_PNMT_TEMT\n",
        "1615     4IOP     A    115 -0.001217  0.008066   16   54        Lectin_C\n",
        "\n",
        "African constraint relative to European\n",
        "     structid chain  seqid       dpi      fet_padj  ac1  ac2      pfam_domain\n",
        "78       1FW1     A     45  0.004434  6.942974e-09  112   10  GST_N_3,GST_N_2\n",
        "583      2JJU     B     26  0.003677  2.460535e-22   86    7    V-set,Ig_2,ig\n",
        "1243     3SE6     A    635  0.001993  1.068659e-12   54    7          ERAP1_C\n",
        "892      2Y92     A    146  0.001923  2.397043e-14  189   11        TIR_2,TIR\n",
        "947      3CX2     A    219  0.001625  7.169268e-03  110   13      I-set,V-set\n"
       ]
      }
     ],
     "prompt_number": 8
    },
    {
     "cell_type": "markdown",
     "metadata": {},
     "source": [
      "## Rare Missense"
     ]
    },
    {
     "cell_type": "code",
     "collapsed": false,
     "input": [
      "# Use pi_util to load, filter, collapse, and threshold the dataset\n",
      "df = load_results(\"rare_pi.txt\")\n",
      "# df = filter_fet(df,0.05,adj=False)\n",
      "df = collapse(df)\n",
      "df = tails(df,30)"
     ],
     "language": "python",
     "metadata": {},
     "outputs": [
      {
       "output_type": "stream",
       "stream": "stdout",
       "text": [
        "\n",
        "Total 2+ SNP spheres (84 PDBs) examined:\t\t540\n",
        "Total spheres after filtering NaN:\t\t\t540\n",
        "Total spheres after checking 2+ SNPs:\t\t\t540\n",
        "Total spheres after removing non-differentiated:\t540\n",
        "540 spheres (84 PDBs) passed all criteria\n",
        "175 non-redundant spheres (84 PDBs).\n",
        "  Lower  15.0 percentile: -8.05406e-05\n",
        "  Upper  85.0 percentile:  8.18359e-05\n",
        "54 spheres (31 PDBs) in the 30% tail(s) of the dPi distribution\n"
       ]
      }
     ],
     "prompt_number": 9
    },
    {
     "cell_type": "code",
     "collapsed": false,
     "input": [
      "# Print the top 10 results (only one per gene)\n",
      "print \"European constraint relative to African\"\n",
      "print df.sort(\"dpi\",ascending=True).drop_duplicates([\"structid\",\"biounit\"]).head(5)[[\"structid\",\"chain\",\"seqid\",\"dpi\",\"fet_padj\",\"ac1\",\"ac2\",\"pfam_domain\"]]\n",
      "print \"\\nAfrican constraint relative to European\"\n",
      "print df.sort(\"dpi\",ascending=False).drop_duplicates([\"structid\",\"biounit\"]).head(5)[[\"structid\",\"chain\",\"seqid\",\"dpi\",\"fet_padj\",\"ac1\",\"ac2\",\"pfam_domain\"]]"
     ],
     "language": "python",
     "metadata": {},
     "outputs": [
      {
       "output_type": "stream",
       "stream": "stdout",
       "text": [
        "European constraint relative to African\n",
        "    structid chain  seqid       dpi  fet_padj  ac1  ac2     pfam_domain\n",
        "332     3KFV     A    633 -0.000290  0.165549    8   12             NaN\n",
        "503     4HWT     A    674 -0.000289  0.496366    4   10  HGTP_anticodon\n",
        "464     4BXF     B    217 -0.000219  0.336153   10    9         Cupin_4\n",
        "529     4KNG     A    438 -0.000214  1.000000    0   28           LRR_8\n",
        "194     2OTP     B    179 -0.000198  1.000000    0   23            Ig_2\n",
        "\n",
        "African constraint relative to European\n",
        "    structid chain  seqid       dpi  fet_padj  ac1  ac2  \\\n",
        "120     2A14     A    191  0.000288  0.543864    9    5   \n",
        "163     2JJU     B     93  0.000272  0.002185   10    8   \n",
        "0       1AM4     A     62  0.000252  1.000000    6    5   \n",
        "182     2OTP     A    161  0.000156  0.215992    5    6   \n",
        "433     4A6E     A    298  0.000149  0.132007    6    8   \n",
        "\n",
        "                        pfam_domain  \n",
        "120                  NNMT_PNMT_TEMT  \n",
        "163                           V-set  \n",
        "0                               NaN  \n",
        "182                            Ig_2  \n",
        "433  Methyltransf_2,Methyltransf_23  \n"
       ]
      }
     ],
     "prompt_number": 10
    },
    {
     "cell_type": "code",
     "collapsed": false,
     "input": [],
     "language": "python",
     "metadata": {},
     "outputs": [],
     "prompt_number": 10
    }
   ],
   "metadata": {}
  }
 ]
}