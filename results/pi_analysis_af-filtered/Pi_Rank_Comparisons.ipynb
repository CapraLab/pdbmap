{
 "metadata": {
  "name": "",
  "signature": "sha256:fff506b8772bd12d6f7fc20413d542540f98ea59381d7ad911acaed55f50190c"
 },
 "nbformat": 3,
 "nbformat_minor": 0,
 "worksheets": [
  {
   "cells": [
    {
     "cell_type": "code",
     "collapsed": false,
     "input": [
      "import numpy as np\n",
      "import pandas as pd\n",
      "import csv\n",
      "from scipy.stats import spearmanr\n",
      "from scipy.stats import pearsonr\n",
      "from scipy.stats import rankdata\n",
      "from pi_util import *\n",
      "%matplotlib inline"
     ],
     "language": "python",
     "metadata": {},
     "outputs": []
    },
    {
     "cell_type": "raw",
     "metadata": {},
     "source": [
      "### Necessary Prep for this Notebook includes running a gene- and structure-based dPi analyses\n",
      "Instructions for running these analyses:\n",
      "\n",
      "Whole-Structure:\n",
      "1) Run \"python2.7 pi_analysis.py --structure --prefix=../results/pi_analysis/all_structure_ ../data/pi_analysis/eur-afr.structfile\"\n",
      "\n",
      "Whole-Gene:\n",
      "1) Download all Human genes/proteins (and boundaries) with structures in the PDB from BioMart\n",
      "2) Use tabix to pull all 1000 Genomes missense variants within each gene boundaries\n",
      "   - You may use the PDBMap missense cache for this. The cache is built before structural mapping.\n",
      "   - Use UniProt IDs as gene identifiers to match with the structural analysis\n",
      "   - Genes should be separated into multiple files and split by ancestry (like the structure files)\n",
      "3) Create eur-afr.genefile following the same procedure used to create eur-afr.structfile\n",
      "3) Run \"python2.7 gene_pi_analysis.py --prefix=../results/pi_analysis/all_gene_ eur-afr.genefile\"\n",
      "\n",
      "Three files should now be available:\n",
      "1) all_pi.txt\n",
      "2) all_structure_pi.txt\n",
      "3) all_gene_pi.txt"
     ]
    },
    {
     "cell_type": "code",
     "collapsed": false,
     "input": [
      "def load_w_unp(fname):\n",
      "    # Annotate the sphere analysis results with UniProt IDs\n",
      "    with open(\"/Volumes/sivleyrm/pdbmap/data/pi_analysis/chain2unp.txt\",'rb') as fin:\n",
      "        fin.readline() # burn the header\n",
      "        reader = csv.reader(fin,delimiter='\\t')\n",
      "        struct2unp = dict([((sid,bio,chain),unp) for sid,bio,chain,unp in reader])\n",
      "    # Create a new file appending UniProt IDs to the dPi results\n",
      "    with open(\"unp_%s\"%fname,'wb') as fout:\n",
      "        writer = csv.writer(fout,delimiter='\\t')\n",
      "        with open(fname,'rb') as fin:\n",
      "            reader = csv.reader(fin,delimiter='\\t')\n",
      "            writer.writerow([\"unp\"]+reader.next()) # update the header\n",
      "            for row in reader:\n",
      "                sid,bio,chain = row[0],row[1],row[3] # skip the model\n",
      "                writer.writerow([struct2unp[(sid,bio,chain)]]+row)\n",
      "    # Load and return the UniProt-annotated results\n",
      "    return load_results(\"unp_%s\"%fname)"
     ],
     "language": "python",
     "metadata": {},
     "outputs": []
    },
    {
     "cell_type": "code",
     "collapsed": false,
     "input": [
      "def plot_comparison(df1,df2,label1,label2,ascending=True):\n",
      "    print \"%4d distinct proteins in the %s-based analysis.\"%(len(df1[\"unp\"].drop_duplicates()),label1)\n",
      "    print \"%4d distinct proteins in the %s-based analysis.\"%(len(df2[\"unp\"].drop_duplicates()),label2)\n",
      "    df1 = df1[df1[\"unp\"].isin(df2[\"unp\"])]\n",
      "    df2 = df2[df2[\"unp\"].isin(df1[\"unp\"])]\n",
      "    print \"%4d (%4d) overlapping proteins.\"%(len(df1[\"unp\"].drop_duplicates()),len(df2[\"unp\"].drop_duplicates()))\n",
      "    fig,axes = plt.subplots(1,2,figsize=(15,7))\n",
      "    # Compare deltaPi ranks for each gene (average-rank for ties)\n",
      "    val1  = df1.sort(\"dpi\",ascending=ascending).drop_duplicates(\"unp\")[[\"unp\",\"dpi\"]].sort(\"unp\")[\"dpi\"].values.astype(np.float64)\n",
      "    val2  = df2.sort(\"dpi\",ascending=ascending).drop_duplicates(\"unp\")[[\"unp\",\"dpi\"]].sort(\"unp\")[\"dpi\"].values.astype(np.float64)\n",
      "    rank1 = rankdata(val1)\n",
      "    rank2 = rankdata(val2)\n",
      "    axes[0].set_title(\"Rank: %s by %s - Average (%s)\"%(label1,label2,[\"Descending\",\"Ascending\"][int(ascending)]))\n",
      "    axes[0].set_xlabel(\"%s Rank\"%label1)\n",
      "    axes[0].set_ylabel(\"%s Rank\"%label2)\n",
      "    xt = [\"%.1e\"%val for i,val in enumerate(val1) if not i%len(val1)/9]\n",
      "    yt = [\"%.1e\"%val for i,val in enumerate(val2) if not i%len(val2)/9]\n",
      "    axes[0].set_xticklabels(xt)\n",
      "    axes[0].set_yticklabels(yt)\n",
      "    axes[0].hexbin(rank1,rank2,gridsize=50,cmap=plt.cm.Blues)\n",
      "    axes[0].set_xlim([-10,len(rank1)+10])\n",
      "    axes[0].set_ylim([-10,len(rank2)+10])\n",
      "    # Compare deltaPi ranks for each gene (ordinal-rank for ties)\n",
      "    rank1 = rankdata(val1,method='ordinal')\n",
      "    rank2 = rankdata(val2,method='ordinal')\n",
      "    axes[1].set_title(\"Rank: %s by %s - Ordinal (%s)\"%(label1,label2,[\"Descending\",\"Ascending\"][int(ascending)]))\n",
      "    axes[1].set_xlabel(\"%s Rank\"%label1)\n",
      "    axes[1].set_ylabel(\"%s Rank\"%label2)\n",
      "    axes[1].hexbin(rank1,rank2,gridsize=50,cmap=plt.cm.Blues)\n",
      "    axes[1].set_xlim([-10,len(rank1)+10])\n",
      "    axes[1].set_ylim([-10,len(rank2)+10])\n",
      "    plt.tight_layout()\n",
      "    plt.show()\n",
      "    print \"Spearman's Rank Correlation: %.3f; p<%.1e\"%(spearmanr(rank1,rank2))"
     ],
     "language": "python",
     "metadata": {},
     "outputs": []
    },
    {
     "cell_type": "markdown",
     "metadata": {},
     "source": [
      "# All Missense Variants"
     ]
    },
    {
     "cell_type": "code",
     "collapsed": false,
     "input": [
      "# Annotate the sphere analysis results with UniProt IDs\n",
      "sphere = load_w_unp(\"all_pi.txt\")\n",
      "# Annotate the structure analysis results with UniProt IDs\n",
      "structure = load_w_unp(\"all_structure_pi.txt\")\n",
      "# The gene analysis already includes UniProt IDs\n",
      "gene = load_results(\"all_gene_pi.txt\")"
     ],
     "language": "python",
     "metadata": {},
     "outputs": []
    },
    {
     "cell_type": "code",
     "collapsed": false,
     "input": [
      "# Gene by Sphere\n",
      "# Ascending by Ascending\n",
      "plot_comparison(gene,sphere,\"Gene\",\"Sphere\",True)"
     ],
     "language": "python",
     "metadata": {},
     "outputs": []
    },
    {
     "cell_type": "code",
     "collapsed": false,
     "input": [
      "# Gene by Sphere\n",
      "# Descending by Descending\n",
      "plot_comparison(gene,sphere,\"Gene\",\"Sphere\",False)"
     ],
     "language": "python",
     "metadata": {},
     "outputs": []
    },
    {
     "cell_type": "code",
     "collapsed": false,
     "input": [
      "# Structure by Sphere\n",
      "# Ascending by Ascending\n",
      "plot_comparison(structure,sphere,\"Structure\",\"Sphere\",True)"
     ],
     "language": "python",
     "metadata": {},
     "outputs": []
    },
    {
     "cell_type": "code",
     "collapsed": false,
     "input": [
      "# Structure by Sphere\n",
      "# Descending by Descending\n",
      "plot_comparison(structure,sphere,\"Structure\",\"Sphere\",False)"
     ],
     "language": "python",
     "metadata": {},
     "outputs": []
    },
    {
     "cell_type": "code",
     "collapsed": false,
     "input": [
      "# Gene by Structure\n",
      "# Ascending by Ascending\n",
      "plot_comparison(gene,structure,\"Gene\",\"Structure\",True)"
     ],
     "language": "python",
     "metadata": {},
     "outputs": []
    },
    {
     "cell_type": "markdown",
     "metadata": {},
     "source": [
      "# Rare Missense Variants Only"
     ]
    },
    {
     "cell_type": "code",
     "collapsed": false,
     "input": [
      "# Annotate the sphere analysis results with UniProt IDs\n",
      "sphere = load_w_unp(\"rare_pi.txt\")\n",
      "# Annotate the structure analysis results with UniProt IDs\n",
      "structure = load_w_unp(\"rare_structure_pi.txt\")\n",
      "# The gene analysis already includes UniProt IDs\n",
      "gene = load_results(\"rare_gene_pi.txt\")"
     ],
     "language": "python",
     "metadata": {},
     "outputs": []
    },
    {
     "cell_type": "code",
     "collapsed": false,
     "input": [
      "# Gene by Sphere\n",
      "# Ascending by Ascending\n",
      "plot_comparison(gene,sphere,\"Gene\",\"Sphere\",True)"
     ],
     "language": "python",
     "metadata": {},
     "outputs": []
    },
    {
     "cell_type": "code",
     "collapsed": false,
     "input": [
      "# Gene by Sphere\n",
      "# Descending by Descending\n",
      "plot_comparison(gene,sphere,\"Gene\",\"Sphere\",False)"
     ],
     "language": "python",
     "metadata": {},
     "outputs": []
    },
    {
     "cell_type": "code",
     "collapsed": false,
     "input": [
      "# Structure by Sphere\n",
      "# Ascending by Ascending\n",
      "plot_comparison(structure,sphere,\"Structure\",\"Sphere\",True)"
     ],
     "language": "python",
     "metadata": {},
     "outputs": []
    },
    {
     "cell_type": "code",
     "collapsed": false,
     "input": [
      "# Structure by Sphere\n",
      "# Descending by Descending\n",
      "plot_comparison(structure,sphere,\"Structure\",\"Sphere\",False)"
     ],
     "language": "python",
     "metadata": {},
     "outputs": []
    },
    {
     "cell_type": "code",
     "collapsed": false,
     "input": [
      "# Gene (Rare) by Structure (Rare)\n",
      "# Ascending by Ascending\n",
      "plot_comparison(gene,structure,\"Gene (Rare)\",\"Structure (Rare)\",True)"
     ],
     "language": "python",
     "metadata": {},
     "outputs": []
    },
    {
     "cell_type": "markdown",
     "metadata": {},
     "source": [
      "# All Missense vs Rare-Only Missense Comparisons"
     ]
    },
    {
     "cell_type": "code",
     "collapsed": false,
     "input": [
      "# Sphere (All) by Sphere (Rare)\n",
      "# Ascending by Ascending\n",
      "sphere  = pd.read_table(\"unp_sphere_pi.txt\",header=None,names=[\"unp\",\"structid\",\"biounit\",\"model\",\"chain\",\"seqid\",\"icode\",\n",
      "                                                              \"nbrsnps1\",\"nbrsnps2\",\"snpcnt1\",\"snpcnt2\",\"ac1\",\"ac2\",\"pi1\",\"pi2\",\n",
      "                                                              \"dpi\",\"oac1\",\"oac2\",\"opi1\",\"opi2\",\"fet\",\"fetp\",\"chi\",\"chip\"])\n",
      "rsphere = pd.read_table(\"unp_rare_sphere_pi.txt\",header=None,names=[\"unp\",\"structid\",\"biounit\",\"model\",\"chain\",\"seqid\",\"icode\",\n",
      "                                                              \"nbrsnps1\",\"nbrsnps2\",\"snpcnt1\",\"snpcnt2\",\"ac1\",\"ac2\",\"pi1\",\"pi2\",\n",
      "                                                              \"dpi\",\"oac1\",\"oac2\",\"opi1\",\"opi2\",\"fet\",\"fetp\",\"chi\",\"chip\"])\n",
      "plot_comparison(sphere,rsphere,\"Sphere (All)\",\"Sphere (Rare)\",True)"
     ],
     "language": "python",
     "metadata": {},
     "outputs": []
    },
    {
     "cell_type": "code",
     "collapsed": false,
     "input": [
      "# Sphere (All) by Sphere (Rare)\n",
      "# Descending by Descending\n",
      "sphere  = pd.read_table(\"unp_sphere_pi.txt\",header=None,names=[\"unp\",\"structid\",\"biounit\",\"model\",\"chain\",\"seqid\",\"icode\",\n",
      "                                                              \"nbrsnps1\",\"nbrsnps2\",\"snpcnt1\",\"snpcnt2\",\"ac1\",\"ac2\",\"pi1\",\"pi2\",\n",
      "                                                              \"dpi\",\"oac1\",\"oac2\",\"opi1\",\"opi2\",\"fet\",\"fetp\",\"chi\",\"chip\"])\n",
      "rsphere = pd.read_table(\"unp_rare_sphere_pi.txt\",header=None,names=[\"unp\",\"structid\",\"biounit\",\"model\",\"chain\",\"seqid\",\"icode\",\n",
      "                                                              \"nbrsnps1\",\"nbrsnps2\",\"snpcnt1\",\"snpcnt2\",\"ac1\",\"ac2\",\"pi1\",\"pi2\",\n",
      "                                                              \"dpi\",\"oac1\",\"oac2\",\"opi1\",\"opi2\",\"fet\",\"fetp\",\"chi\",\"chip\"])\n",
      "plot_comparison(sphere,rsphere,\"Sphere (All)\",\"Sphere (Rare)\",False)"
     ],
     "language": "python",
     "metadata": {},
     "outputs": []
    },
    {
     "cell_type": "code",
     "collapsed": false,
     "input": [
      "# Structure (All) by Structure (Rare)\n",
      "# Ascending by Ascending\n",
      "struct  = pd.read_table(\"unp_structure_pi.txt\",header=None,names=[\"unp\",\"structid\",\"biounit\",\"snpcnt1\",\"snpcnt2\",\n",
      "                                                                 \"ac1\",\"ac2\",\"pi1\",\"pi2\",\"dpi\"])\n",
      "rstruct = pd.read_table(\"unp_rare_structure_pi.txt\",header=None,names=[\"unp\",\"structid\",\"biounit\",\"snpcnt1\",\"snpcnt2\",\n",
      "                                                                 \"ac1\",\"ac2\",\"pi1\",\"pi2\",\"dpi\"])\n",
      "plot_comparison(struct,rstruct,\"Structure (All)\",\"Structure (Rare)\",True)"
     ],
     "language": "python",
     "metadata": {},
     "outputs": []
    },
    {
     "cell_type": "code",
     "collapsed": false,
     "input": [
      "# Structure (All) by Structure (Rare)\n",
      "# Descending by Descending\n",
      "struct  = pd.read_table(\"unp_structure_pi.txt\",header=None,names=[\"unp\",\"structid\",\"biounit\",\"snpcnt1\",\"snpcnt2\",\n",
      "                                                                 \"ac1\",\"ac2\",\"pi1\",\"pi2\",\"dpi\"])\n",
      "rstruct = pd.read_table(\"unp_rare_structure_pi.txt\",header=None,names=[\"unp\",\"structid\",\"biounit\",\"snpcnt1\",\"snpcnt2\",\n",
      "                                                                 \"ac1\",\"ac2\",\"pi1\",\"pi2\",\"dpi\"])\n",
      "plot_comparison(struct,rstruct,\"Structure (All)\",\"Structure (Rare)\",False)"
     ],
     "language": "python",
     "metadata": {},
     "outputs": []
    },
    {
     "cell_type": "code",
     "collapsed": false,
     "input": [
      "# Gene (All) by Gene (Rare)\n",
      "# Ascending by Ascending\n",
      "gene   = pd.read_table(\"gene_pi.txt\",header=0,names=[\"unp\",\"snpcnt1\",\"snpcnt2\",\"ac1\",\"ac2\",\"pi1\",\"pi2\",\"dpi\"])\n",
      "rgene  = pd.read_table(\"rare_gene_pi.txt\",header=0,names=[\"unp\",\"snpcnt1\",\"snpcnt2\",\"ac1\",\"ac2\",\"pi1\",\"pi2\",\"dpi\"])\n",
      "plot_comparison(gene,rgene,\"Gene (All)\",\"Gene (Rare)\",True)"
     ],
     "language": "python",
     "metadata": {},
     "outputs": []
    },
    {
     "cell_type": "code",
     "collapsed": false,
     "input": [
      "# Gene (All) by Gene (Rare)\n",
      "# Descending by Descending\n",
      "gene   = pd.read_table(\"gene_pi.txt\",header=0,names=[\"unp\",\"snpcnt1\",\"snpcnt2\",\"ac1\",\"ac2\",\"pi1\",\"pi2\",\"dpi\"])\n",
      "rgene   = pd.read_table(\"rare_gene_pi.txt\",header=0,names=[\"unp\",\"snpcnt1\",\"snpcnt2\",\"ac1\",\"ac2\",\"pi1\",\"pi2\",\"dpi\"])\n",
      "plot_comparison(gene,rgene,\"Gene (All)\",\"Gene (Rare)\",False)"
     ],
     "language": "python",
     "metadata": {},
     "outputs": []
    },
    {
     "cell_type": "code",
     "collapsed": false,
     "input": [],
     "language": "python",
     "metadata": {},
     "outputs": []
    }
   ],
   "metadata": {}
  }
 ]
}