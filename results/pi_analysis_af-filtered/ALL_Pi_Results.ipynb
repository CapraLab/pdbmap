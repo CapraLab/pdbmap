{
 "metadata": {
  "name": "",
  "signature": "sha256:90b4d4aaba0f623d7205e084f77a4924a9b1d6e23e45ecca2014f8cb0ad1dcb4"
 },
 "nbformat": 3,
 "nbformat_minor": 0,
 "worksheets": [
  {
   "cells": [
    {
     "cell_type": "code",
     "collapsed": false,
     "input": [
      "import numpy as np\n",
      "import pandas as pd\n",
      "import matplotlib.pyplot as plt\n",
      "%matplotlib inline"
     ],
     "language": "python",
     "metadata": {},
     "outputs": [],
     "prompt_number": 1
    },
    {
     "cell_type": "code",
     "collapsed": false,
     "input": [
      "df = pd.read_csv(\"all/pi_all.txt\",header=0,sep='\\t')\n",
      "print \"Total spheres examined:\\t\\t%d\"%len(df)\n",
      "# Identify spheres with the same set of SNPs\n",
      "ndup = (df.duplicated([\"#structid\",\"biounit\",\"nbrsnps1\",\"nbrsnps2\"])).values.sum()\n",
      "print \"Number of SNP-set duplicates:\\t%d\"%ndup\n",
      "print \"Number of unique SNP sets:\\t%d\"%(len(df)-ndup)\n",
      "# Are there spheres where neighbor SNPs listed as NaN? If so, make sure their SNP count is 0\n",
      "nansnp1 = (df[\"nbrsnps1\"].astype(str)==\"nan\").values \n",
      "nansnp2 = (df[\"nbrsnps2\"].astype(str)==\"nan\").values\n",
      "df.ix[nansnp1,\"snpcnt1\"] = 0\n",
      "df.ix[nansnp2,\"snpcnt2\"] = 0\n",
      "# Filter any spheres with fewer than 2 SNPs\n",
      "df = df[(df[\"snpcnt1\"]>1) | (df[\"snpcnt2\"]>1)]\n",
      "print \"Total spheres after requiring 2+ SNPs: %d\"%len(df)\n",
      "# Filter any spheres with allele counts less than 10\n",
      "df = df[(df[\"ac1\"]>0) | (df[\"ac2\"]>0)]\n",
      "print \"Total spheres after requiring 0+ alleles per sphere: %d\"%len(df)\n",
      "# Filter any spheres with a value of 0\n",
      "df[\"absdpi\"] = abs(df[\"dpi\"])\n",
      "df = df[df[\"absdpi\"]>0]\n",
      "print \"Total spheres after removing non-differentiated: %d\"%len(df)\n",
      "# Select the sphere with the minimum value of deltaPi\n",
      "df = df.sort(\"absdpi\",ascending=True).replace(np.nan,-999).groupby([\"#structid\",\"biounit\",\"nbrsnps1\",\"nbrsnps2\"],as_index=False).nth(0)\n",
      "# Select the sphere with the median value of deltaPi\n",
      "# df = df.groupby([\"#structid\",\"biounit\",\"nbrsnps1\",\"nbrsnps2\"]).apply(lambda x: x[x[\"dpi\"]==x[\"dpi\"].median()])\n",
      "# df = df.replace(-999,np.nan)\n",
      "print \"Total spheres after collapse:\\t%d\"%len(df)\n",
      "# Identify spheres where deltaPi is NaN. These shouldn't exist.\n",
      "df = df[~np.isnan(df[\"pi1\"])]\n",
      "df = df[~np.isnan(df[\"pi2\"])]\n",
      "print \"Total spheres after filtering NaN:\\t%d\"%len(df)\n",
      "\n",
      "print \"Total spheres for Pi analysis:\\t%d\"%len(df)\n",
      "np.savetxt(\"sphere_sids.txt\",df.drop_duplicates([\"#structid\",\"biounit\"])[[\"#structid\",\"biounit\"]],fmt=\"%s\",delimiter=\"\\t\")"
     ],
     "language": "python",
     "metadata": {},
     "outputs": [
      {
       "output_type": "stream",
       "stream": "stdout",
       "text": [
        "Total spheres examined:\t\t105760\n"
       ]
      },
      {
       "ename": "KeyError",
       "evalue": "'#structid'",
       "output_type": "pyerr",
       "traceback": [
        "\u001b[0;31m---------------------------------------------------------------------------\u001b[0m\n\u001b[0;31mKeyError\u001b[0m                                  Traceback (most recent call last)",
        "\u001b[0;32m<ipython-input-3-2c1edf8f5d53>\u001b[0m in \u001b[0;36m<module>\u001b[0;34m()\u001b[0m\n\u001b[1;32m      2\u001b[0m \u001b[0;32mprint\u001b[0m \u001b[0;34m\"Total spheres examined:\\t\\t%d\"\u001b[0m\u001b[0;34m%\u001b[0m\u001b[0mlen\u001b[0m\u001b[0;34m(\u001b[0m\u001b[0mdf\u001b[0m\u001b[0;34m)\u001b[0m\u001b[0;34m\u001b[0m\u001b[0m\n\u001b[1;32m      3\u001b[0m \u001b[0;31m# Identify spheres with the same set of SNPs\u001b[0m\u001b[0;34m\u001b[0m\u001b[0;34m\u001b[0m\u001b[0m\n\u001b[0;32m----> 4\u001b[0;31m \u001b[0mndup\u001b[0m \u001b[0;34m=\u001b[0m \u001b[0;34m(\u001b[0m\u001b[0mdf\u001b[0m\u001b[0;34m.\u001b[0m\u001b[0mduplicated\u001b[0m\u001b[0;34m(\u001b[0m\u001b[0;34m[\u001b[0m\u001b[0;34m\"#structid\"\u001b[0m\u001b[0;34m,\u001b[0m\u001b[0;34m\"biounit\"\u001b[0m\u001b[0;34m,\u001b[0m\u001b[0;34m\"nbrsnps1\"\u001b[0m\u001b[0;34m,\u001b[0m\u001b[0;34m\"nbrsnps2\"\u001b[0m\u001b[0;34m]\u001b[0m\u001b[0;34m)\u001b[0m\u001b[0;34m)\u001b[0m\u001b[0;34m.\u001b[0m\u001b[0mvalues\u001b[0m\u001b[0;34m.\u001b[0m\u001b[0msum\u001b[0m\u001b[0;34m(\u001b[0m\u001b[0;34m)\u001b[0m\u001b[0;34m\u001b[0m\u001b[0m\n\u001b[0m\u001b[1;32m      5\u001b[0m \u001b[0;32mprint\u001b[0m \u001b[0;34m\"Number of SNP-set duplicates:\\t%d\"\u001b[0m\u001b[0;34m%\u001b[0m\u001b[0mndup\u001b[0m\u001b[0;34m\u001b[0m\u001b[0m\n\u001b[1;32m      6\u001b[0m \u001b[0;32mprint\u001b[0m \u001b[0;34m\"Number of unique SNP sets:\\t%d\"\u001b[0m\u001b[0;34m%\u001b[0m\u001b[0;34m(\u001b[0m\u001b[0mlen\u001b[0m\u001b[0;34m(\u001b[0m\u001b[0mdf\u001b[0m\u001b[0;34m)\u001b[0m\u001b[0;34m-\u001b[0m\u001b[0mndup\u001b[0m\u001b[0;34m)\u001b[0m\u001b[0;34m\u001b[0m\u001b[0m\n",
        "\u001b[0;32m/Users/mikesivley/anaconda/lib/python2.7/site-packages/pandas/util/decorators.pyc\u001b[0m in \u001b[0;36mwrapper\u001b[0;34m(*args, **kwargs)\u001b[0m\n\u001b[1;32m     86\u001b[0m                 \u001b[0;32melse\u001b[0m\u001b[0;34m:\u001b[0m\u001b[0;34m\u001b[0m\u001b[0m\n\u001b[1;32m     87\u001b[0m                     \u001b[0mkwargs\u001b[0m\u001b[0;34m[\u001b[0m\u001b[0mnew_arg_name\u001b[0m\u001b[0;34m]\u001b[0m \u001b[0;34m=\u001b[0m \u001b[0mnew_arg_value\u001b[0m\u001b[0;34m\u001b[0m\u001b[0m\n\u001b[0;32m---> 88\u001b[0;31m             \u001b[0;32mreturn\u001b[0m \u001b[0mfunc\u001b[0m\u001b[0;34m(\u001b[0m\u001b[0;34m*\u001b[0m\u001b[0margs\u001b[0m\u001b[0;34m,\u001b[0m \u001b[0;34m**\u001b[0m\u001b[0mkwargs\u001b[0m\u001b[0;34m)\u001b[0m\u001b[0;34m\u001b[0m\u001b[0m\n\u001b[0m\u001b[1;32m     89\u001b[0m         \u001b[0;32mreturn\u001b[0m \u001b[0mwrapper\u001b[0m\u001b[0;34m\u001b[0m\u001b[0m\n\u001b[1;32m     90\u001b[0m     \u001b[0;32mreturn\u001b[0m \u001b[0m_deprecate_kwarg\u001b[0m\u001b[0;34m\u001b[0m\u001b[0m\n",
        "\u001b[0;32m/Users/mikesivley/anaconda/lib/python2.7/site-packages/pandas/core/frame.pyc\u001b[0m in \u001b[0;36mduplicated\u001b[0;34m(self, subset, take_last)\u001b[0m\n\u001b[1;32m   2871\u001b[0m \u001b[0;34m\u001b[0m\u001b[0m\n\u001b[1;32m   2872\u001b[0m         \u001b[0mvals\u001b[0m \u001b[0;34m=\u001b[0m \u001b[0;34m(\u001b[0m\u001b[0mself\u001b[0m\u001b[0;34m[\u001b[0m\u001b[0mcol\u001b[0m\u001b[0;34m]\u001b[0m\u001b[0;34m.\u001b[0m\u001b[0mvalues\u001b[0m \u001b[0;32mfor\u001b[0m \u001b[0mcol\u001b[0m \u001b[0;32min\u001b[0m \u001b[0msubset\u001b[0m\u001b[0;34m)\u001b[0m\u001b[0;34m\u001b[0m\u001b[0m\n\u001b[0;32m-> 2873\u001b[0;31m         \u001b[0mlabels\u001b[0m\u001b[0;34m,\u001b[0m \u001b[0mshape\u001b[0m \u001b[0;34m=\u001b[0m \u001b[0mmap\u001b[0m\u001b[0;34m(\u001b[0m\u001b[0mlist\u001b[0m\u001b[0;34m,\u001b[0m \u001b[0mzip\u001b[0m\u001b[0;34m(\u001b[0m \u001b[0;34m*\u001b[0m \u001b[0mmap\u001b[0m\u001b[0;34m(\u001b[0m\u001b[0mf\u001b[0m\u001b[0;34m,\u001b[0m \u001b[0mvals\u001b[0m\u001b[0;34m)\u001b[0m\u001b[0;34m)\u001b[0m\u001b[0;34m)\u001b[0m\u001b[0;34m\u001b[0m\u001b[0m\n\u001b[0m\u001b[1;32m   2874\u001b[0m \u001b[0;34m\u001b[0m\u001b[0m\n\u001b[1;32m   2875\u001b[0m         \u001b[0mids\u001b[0m \u001b[0;34m=\u001b[0m \u001b[0mget_group_index\u001b[0m\u001b[0;34m(\u001b[0m\u001b[0mlabels\u001b[0m\u001b[0;34m,\u001b[0m \u001b[0mshape\u001b[0m\u001b[0;34m,\u001b[0m \u001b[0msort\u001b[0m\u001b[0;34m=\u001b[0m\u001b[0mFalse\u001b[0m\u001b[0;34m,\u001b[0m \u001b[0mxnull\u001b[0m\u001b[0;34m=\u001b[0m\u001b[0mFalse\u001b[0m\u001b[0;34m)\u001b[0m\u001b[0;34m\u001b[0m\u001b[0m\n",
        "\u001b[0;32m/Users/mikesivley/anaconda/lib/python2.7/site-packages/pandas/core/frame.pyc\u001b[0m in \u001b[0;36m<genexpr>\u001b[0;34m((col,))\u001b[0m\n\u001b[1;32m   2870\u001b[0m             \u001b[0msubset\u001b[0m \u001b[0;34m=\u001b[0m \u001b[0msubset\u001b[0m\u001b[0;34m,\u001b[0m\u001b[0;34m\u001b[0m\u001b[0m\n\u001b[1;32m   2871\u001b[0m \u001b[0;34m\u001b[0m\u001b[0m\n\u001b[0;32m-> 2872\u001b[0;31m         \u001b[0mvals\u001b[0m \u001b[0;34m=\u001b[0m \u001b[0;34m(\u001b[0m\u001b[0mself\u001b[0m\u001b[0;34m[\u001b[0m\u001b[0mcol\u001b[0m\u001b[0;34m]\u001b[0m\u001b[0;34m.\u001b[0m\u001b[0mvalues\u001b[0m \u001b[0;32mfor\u001b[0m \u001b[0mcol\u001b[0m \u001b[0;32min\u001b[0m \u001b[0msubset\u001b[0m\u001b[0;34m)\u001b[0m\u001b[0;34m\u001b[0m\u001b[0m\n\u001b[0m\u001b[1;32m   2873\u001b[0m         \u001b[0mlabels\u001b[0m\u001b[0;34m,\u001b[0m \u001b[0mshape\u001b[0m \u001b[0;34m=\u001b[0m \u001b[0mmap\u001b[0m\u001b[0;34m(\u001b[0m\u001b[0mlist\u001b[0m\u001b[0;34m,\u001b[0m \u001b[0mzip\u001b[0m\u001b[0;34m(\u001b[0m \u001b[0;34m*\u001b[0m \u001b[0mmap\u001b[0m\u001b[0;34m(\u001b[0m\u001b[0mf\u001b[0m\u001b[0;34m,\u001b[0m \u001b[0mvals\u001b[0m\u001b[0;34m)\u001b[0m\u001b[0;34m)\u001b[0m\u001b[0;34m)\u001b[0m\u001b[0;34m\u001b[0m\u001b[0m\n\u001b[1;32m   2874\u001b[0m \u001b[0;34m\u001b[0m\u001b[0m\n",
        "\u001b[0;32m/Users/mikesivley/anaconda/lib/python2.7/site-packages/pandas/core/frame.pyc\u001b[0m in \u001b[0;36m__getitem__\u001b[0;34m(self, key)\u001b[0m\n\u001b[1;32m   1795\u001b[0m             \u001b[0;32mreturn\u001b[0m \u001b[0mself\u001b[0m\u001b[0;34m.\u001b[0m\u001b[0m_getitem_multilevel\u001b[0m\u001b[0;34m(\u001b[0m\u001b[0mkey\u001b[0m\u001b[0;34m)\u001b[0m\u001b[0;34m\u001b[0m\u001b[0m\n\u001b[1;32m   1796\u001b[0m         \u001b[0;32melse\u001b[0m\u001b[0;34m:\u001b[0m\u001b[0;34m\u001b[0m\u001b[0m\n\u001b[0;32m-> 1797\u001b[0;31m             \u001b[0;32mreturn\u001b[0m \u001b[0mself\u001b[0m\u001b[0;34m.\u001b[0m\u001b[0m_getitem_column\u001b[0m\u001b[0;34m(\u001b[0m\u001b[0mkey\u001b[0m\u001b[0;34m)\u001b[0m\u001b[0;34m\u001b[0m\u001b[0m\n\u001b[0m\u001b[1;32m   1798\u001b[0m \u001b[0;34m\u001b[0m\u001b[0m\n\u001b[1;32m   1799\u001b[0m     \u001b[0;32mdef\u001b[0m \u001b[0m_getitem_column\u001b[0m\u001b[0;34m(\u001b[0m\u001b[0mself\u001b[0m\u001b[0;34m,\u001b[0m \u001b[0mkey\u001b[0m\u001b[0;34m)\u001b[0m\u001b[0;34m:\u001b[0m\u001b[0;34m\u001b[0m\u001b[0m\n",
        "\u001b[0;32m/Users/mikesivley/anaconda/lib/python2.7/site-packages/pandas/core/frame.pyc\u001b[0m in \u001b[0;36m_getitem_column\u001b[0;34m(self, key)\u001b[0m\n\u001b[1;32m   1802\u001b[0m         \u001b[0;31m# get column\u001b[0m\u001b[0;34m\u001b[0m\u001b[0;34m\u001b[0m\u001b[0m\n\u001b[1;32m   1803\u001b[0m         \u001b[0;32mif\u001b[0m \u001b[0mself\u001b[0m\u001b[0;34m.\u001b[0m\u001b[0mcolumns\u001b[0m\u001b[0;34m.\u001b[0m\u001b[0mis_unique\u001b[0m\u001b[0;34m:\u001b[0m\u001b[0;34m\u001b[0m\u001b[0m\n\u001b[0;32m-> 1804\u001b[0;31m             \u001b[0;32mreturn\u001b[0m \u001b[0mself\u001b[0m\u001b[0;34m.\u001b[0m\u001b[0m_get_item_cache\u001b[0m\u001b[0;34m(\u001b[0m\u001b[0mkey\u001b[0m\u001b[0;34m)\u001b[0m\u001b[0;34m\u001b[0m\u001b[0m\n\u001b[0m\u001b[1;32m   1805\u001b[0m \u001b[0;34m\u001b[0m\u001b[0m\n\u001b[1;32m   1806\u001b[0m         \u001b[0;31m# duplicate columns & possible reduce dimensionaility\u001b[0m\u001b[0;34m\u001b[0m\u001b[0;34m\u001b[0m\u001b[0m\n",
        "\u001b[0;32m/Users/mikesivley/anaconda/lib/python2.7/site-packages/pandas/core/generic.pyc\u001b[0m in \u001b[0;36m_get_item_cache\u001b[0;34m(self, item)\u001b[0m\n\u001b[1;32m   1082\u001b[0m         \u001b[0mres\u001b[0m \u001b[0;34m=\u001b[0m \u001b[0mcache\u001b[0m\u001b[0;34m.\u001b[0m\u001b[0mget\u001b[0m\u001b[0;34m(\u001b[0m\u001b[0mitem\u001b[0m\u001b[0;34m)\u001b[0m\u001b[0;34m\u001b[0m\u001b[0m\n\u001b[1;32m   1083\u001b[0m         \u001b[0;32mif\u001b[0m \u001b[0mres\u001b[0m \u001b[0;32mis\u001b[0m \u001b[0mNone\u001b[0m\u001b[0;34m:\u001b[0m\u001b[0;34m\u001b[0m\u001b[0m\n\u001b[0;32m-> 1084\u001b[0;31m             \u001b[0mvalues\u001b[0m \u001b[0;34m=\u001b[0m \u001b[0mself\u001b[0m\u001b[0;34m.\u001b[0m\u001b[0m_data\u001b[0m\u001b[0;34m.\u001b[0m\u001b[0mget\u001b[0m\u001b[0;34m(\u001b[0m\u001b[0mitem\u001b[0m\u001b[0;34m)\u001b[0m\u001b[0;34m\u001b[0m\u001b[0m\n\u001b[0m\u001b[1;32m   1085\u001b[0m             \u001b[0mres\u001b[0m \u001b[0;34m=\u001b[0m \u001b[0mself\u001b[0m\u001b[0;34m.\u001b[0m\u001b[0m_box_item_values\u001b[0m\u001b[0;34m(\u001b[0m\u001b[0mitem\u001b[0m\u001b[0;34m,\u001b[0m \u001b[0mvalues\u001b[0m\u001b[0;34m)\u001b[0m\u001b[0;34m\u001b[0m\u001b[0m\n\u001b[1;32m   1086\u001b[0m             \u001b[0mcache\u001b[0m\u001b[0;34m[\u001b[0m\u001b[0mitem\u001b[0m\u001b[0;34m]\u001b[0m \u001b[0;34m=\u001b[0m \u001b[0mres\u001b[0m\u001b[0;34m\u001b[0m\u001b[0m\n",
        "\u001b[0;32m/Users/mikesivley/anaconda/lib/python2.7/site-packages/pandas/core/internals.pyc\u001b[0m in \u001b[0;36mget\u001b[0;34m(self, item, fastpath)\u001b[0m\n\u001b[1;32m   2849\u001b[0m \u001b[0;34m\u001b[0m\u001b[0m\n\u001b[1;32m   2850\u001b[0m             \u001b[0;32mif\u001b[0m \u001b[0;32mnot\u001b[0m \u001b[0misnull\u001b[0m\u001b[0;34m(\u001b[0m\u001b[0mitem\u001b[0m\u001b[0;34m)\u001b[0m\u001b[0;34m:\u001b[0m\u001b[0;34m\u001b[0m\u001b[0m\n\u001b[0;32m-> 2851\u001b[0;31m                 \u001b[0mloc\u001b[0m \u001b[0;34m=\u001b[0m \u001b[0mself\u001b[0m\u001b[0;34m.\u001b[0m\u001b[0mitems\u001b[0m\u001b[0;34m.\u001b[0m\u001b[0mget_loc\u001b[0m\u001b[0;34m(\u001b[0m\u001b[0mitem\u001b[0m\u001b[0;34m)\u001b[0m\u001b[0;34m\u001b[0m\u001b[0m\n\u001b[0m\u001b[1;32m   2852\u001b[0m             \u001b[0;32melse\u001b[0m\u001b[0;34m:\u001b[0m\u001b[0;34m\u001b[0m\u001b[0m\n\u001b[1;32m   2853\u001b[0m                 \u001b[0mindexer\u001b[0m \u001b[0;34m=\u001b[0m \u001b[0mnp\u001b[0m\u001b[0;34m.\u001b[0m\u001b[0marange\u001b[0m\u001b[0;34m(\u001b[0m\u001b[0mlen\u001b[0m\u001b[0;34m(\u001b[0m\u001b[0mself\u001b[0m\u001b[0;34m.\u001b[0m\u001b[0mitems\u001b[0m\u001b[0;34m)\u001b[0m\u001b[0;34m)\u001b[0m\u001b[0;34m[\u001b[0m\u001b[0misnull\u001b[0m\u001b[0;34m(\u001b[0m\u001b[0mself\u001b[0m\u001b[0;34m.\u001b[0m\u001b[0mitems\u001b[0m\u001b[0;34m)\u001b[0m\u001b[0;34m]\u001b[0m\u001b[0;34m\u001b[0m\u001b[0m\n",
        "\u001b[0;32m/Users/mikesivley/anaconda/lib/python2.7/site-packages/pandas/core/index.pyc\u001b[0m in \u001b[0;36mget_loc\u001b[0;34m(self, key, method)\u001b[0m\n\u001b[1;32m   1570\u001b[0m         \"\"\"\n\u001b[1;32m   1571\u001b[0m         \u001b[0;32mif\u001b[0m \u001b[0mmethod\u001b[0m \u001b[0;32mis\u001b[0m \u001b[0mNone\u001b[0m\u001b[0;34m:\u001b[0m\u001b[0;34m\u001b[0m\u001b[0m\n\u001b[0;32m-> 1572\u001b[0;31m             \u001b[0;32mreturn\u001b[0m \u001b[0mself\u001b[0m\u001b[0;34m.\u001b[0m\u001b[0m_engine\u001b[0m\u001b[0;34m.\u001b[0m\u001b[0mget_loc\u001b[0m\u001b[0;34m(\u001b[0m\u001b[0m_values_from_object\u001b[0m\u001b[0;34m(\u001b[0m\u001b[0mkey\u001b[0m\u001b[0;34m)\u001b[0m\u001b[0;34m)\u001b[0m\u001b[0;34m\u001b[0m\u001b[0m\n\u001b[0m\u001b[1;32m   1573\u001b[0m \u001b[0;34m\u001b[0m\u001b[0m\n\u001b[1;32m   1574\u001b[0m         \u001b[0mindexer\u001b[0m \u001b[0;34m=\u001b[0m \u001b[0mself\u001b[0m\u001b[0;34m.\u001b[0m\u001b[0mget_indexer\u001b[0m\u001b[0;34m(\u001b[0m\u001b[0;34m[\u001b[0m\u001b[0mkey\u001b[0m\u001b[0;34m]\u001b[0m\u001b[0;34m,\u001b[0m \u001b[0mmethod\u001b[0m\u001b[0;34m=\u001b[0m\u001b[0mmethod\u001b[0m\u001b[0;34m)\u001b[0m\u001b[0;34m\u001b[0m\u001b[0m\n",
        "\u001b[0;32m/Users/mikesivley/anaconda/lib/python2.7/site-packages/pandas/index.so\u001b[0m in \u001b[0;36mpandas.index.IndexEngine.get_loc (pandas/index.c:3824)\u001b[0;34m()\u001b[0m\n",
        "\u001b[0;32m/Users/mikesivley/anaconda/lib/python2.7/site-packages/pandas/index.so\u001b[0m in \u001b[0;36mpandas.index.IndexEngine.get_loc (pandas/index.c:3704)\u001b[0;34m()\u001b[0m\n",
        "\u001b[0;32m/Users/mikesivley/anaconda/lib/python2.7/site-packages/pandas/hashtable.so\u001b[0m in \u001b[0;36mpandas.hashtable.PyObjectHashTable.get_item (pandas/hashtable.c:12280)\u001b[0;34m()\u001b[0m\n",
        "\u001b[0;32m/Users/mikesivley/anaconda/lib/python2.7/site-packages/pandas/hashtable.so\u001b[0m in \u001b[0;36mpandas.hashtable.PyObjectHashTable.get_item (pandas/hashtable.c:12231)\u001b[0;34m()\u001b[0m\n",
        "\u001b[0;31mKeyError\u001b[0m: '#structid'"
       ]
      }
     ],
     "prompt_number": 3
    },
    {
     "cell_type": "code",
     "collapsed": false,
     "input": [],
     "language": "python",
     "metadata": {},
     "outputs": []
    },
    {
     "cell_type": "code",
     "collapsed": false,
     "input": [
      "# Check the distribution of Pi(EUR) values\n",
      "pi1 = df['pi1'].values\n",
      "plt.figure(figsize=(20,7))\n",
      "plt.title(\"Distribution of Nucleotide Diversity for European Individuals\")\n",
      "plt.hist(pi1,bins=150)\n",
      "p95 = np.percentile(pi1,95)\n",
      "print \"95th percentile: % .4f\"%p95\n",
      "plt.axvline(x=p95,color='red')\n",
      "plt.show()\n",
      "nstructs = len(df.drop_duplicates([\"#structid\",\"biounit\"]))\n",
      "xstructs = len(df[df[\"pi1\"]>np.percentile(df[\"pi1\"].values,95)].drop_duplicates([\"#structid\",\"biounit\"]))\n",
      "print \"Percentage of structures in the top 5%% of Pi(EUR) spheres: %d (%.2f%%)\"%(xstructs,xstructs*100./nstructs)"
     ],
     "language": "python",
     "metadata": {},
     "outputs": [
      {
       "output_type": "stream",
       "stream": "stdout",
       "text": [
        "95th percentile:  0.0031\n"
       ]
      },
      {
       "metadata": {},
       "output_type": "display_data",
       "png": "[encoded data removed]",
       "text": [
        "<matplotlib.figure.Figure at 0x10eeb4090>"
       ]
      },
      {
       "output_type": "stream",
       "stream": "stdout",
       "text": [
        "Percentage of structures in the top 5% of Pi(EUR) spheres: 363 (15.59%)\n"
       ]
      }
     ],
     "prompt_number": 3
    },
    {
     "cell_type": "code",
     "collapsed": false,
     "input": [
      "# Check the distribution of Pi(AFR) values\n",
      "pi2 = df['pi2'].values\n",
      "plt.figure(figsize=(20,7))\n",
      "plt.title(\"Distribution of Nucleotide Diversity for African Individuals\")\n",
      "plt.hist(pi2,bins=150)\n",
      "p95 = np.percentile(pi2,95)\n",
      "plt.axvline(x=p95,color='red')\n",
      "plt.show()"
     ],
     "language": "python",
     "metadata": {},
     "outputs": [
      {
       "metadata": {},
       "output_type": "display_data",
       "png": "[encoded data removed]",
       "text": [
        "<matplotlib.figure.Figure at 0x10e2d96d0>"
       ]
      }
     ],
     "prompt_number": 4
    },
    {
     "cell_type": "code",
     "collapsed": false,
     "input": [
      "# Check for a skew towards negative values (Pi(AFR)>Pi(EUR) - expectation)\n",
      "dpi = df['dpi'].values\n",
      "plt.figure(figsize=(20,7))\n",
      "plt.title(\"Distribution of Pi(EUR) - Pi(AFR)  (deltaPi)\")\n",
      "plt.hist(dpi,bins=100)\n",
      "plt.xlabel(\"Pi(AFR) > Pi(EUR)%sPi(EUR) > Pi(AFR)\"%(''.join([' ' for i in range(100)])))\n",
      "plt.ylabel(\"Frequency\")\n",
      "p95 = np.percentile(dpi,97.5)\n",
      "p5  = np.percentile(dpi,2.5)\n",
      "print \"95th percentile: % .4f\"%p95\n",
      "print \" 5th percentile: % .4f\"%p5\n",
      "plt.axvline(x=p95,color='red')\n",
      "plt.axvline(x=p5,color='red')\n",
      "plt.show()"
     ],
     "language": "python",
     "metadata": {},
     "outputs": [
      {
       "output_type": "stream",
       "stream": "stdout",
       "text": [
        "95th percentile:  0.0042\n",
        " 5th percentile: -0.0025\n"
       ]
      },
      {
       "metadata": {},
       "output_type": "display_data",
       "png": "[encoded data removed]",
       "text": [
        "<matplotlib.figure.Figure at 0x10b066a50>"
       ]
      }
     ],
     "prompt_number": 19
    },
    {
     "cell_type": "code",
     "collapsed": false,
     "input": [
      "# Create extreme sphere-sets\n",
      "topDPI = df[ df['dpi']>p95]\n",
      "botDPI = df[ df['dpi']<p5]\n",
      "extDPI = df[(df['dpi']>p95) | (df['dpi']<p5)]"
     ],
     "language": "python",
     "metadata": {},
     "outputs": [],
     "prompt_number": 20
    },
    {
     "cell_type": "code",
     "collapsed": false,
     "input": [
      "# View only the spheres with extreme values of deltaPi\n",
      "dpi = extDPI[\"dpi\"].values\n",
      "plt.figure(figsize=(20,7))\n",
      "plt.title(\"Distribution of Extreme Values of 'Pi(EUR) - Pi(AFR)'  (deltaPi)\")\n",
      "plt.hist(dpi,bins=150)\n",
      "plt.xlabel(\"Pi(AFR) > Pi(EUR)%sPi(EUR) > Pi(AFR)\"%(''.join([' ' for i in range(100)])))\n",
      "plt.show()"
     ],
     "language": "python",
     "metadata": {},
     "outputs": [
      {
       "metadata": {},
       "output_type": "display_data",
       "png": "[encoded data removed]",
       "text": [
        "<matplotlib.figure.Figure at 0x10e24e3d0>"
       ]
      }
     ],
     "prompt_number": 7
    },
    {
     "cell_type": "code",
     "collapsed": false,
     "input": [
      "unq_top_sids = topDPI['#structid'].drop_duplicates().tolist()\n",
      "unq_bot_sids = botDPI['#structid'].drop_duplicates().tolist()\n",
      "unq_ext_sids = extDPI['#structid'].drop_duplicates().tolist()\n",
      "unq_shd_sids = [sid for sid in unq_top_sids if sid in unq_bot_sids]\n",
      "\n",
      "print \"Spheres in the extreme 10%%: %d\"%len(extDPI)\n",
      "print \"Structures containing spheres in the extreme 10%% (deltaPi):\\t%d\"%len(unq_ext_sids)\n",
      "print \"Structures containing spheres in the top 5%% (deltaPi):\\t\\t%d\"%len(unq_top_sids)\n",
      "print \"Structures containing spheres in the bottom 5%% (deltaPi):\\t%d\"%len(unq_bot_sids)\n",
      "print \"Structures containing spheres in both extremes (deltaPi):\\t%d\" %len(unq_shd_sids)"
     ],
     "language": "python",
     "metadata": {},
     "outputs": [
      {
       "output_type": "stream",
       "stream": "stdout",
       "text": [
        "Spheres in the extreme 10%: 2996\n",
        "Structures containing spheres in the extreme 10% (deltaPi):\t645\n",
        "Structures containing spheres in the top 5% (deltaPi):\t\t385\n",
        "Structures containing spheres in the bottom 5% (deltaPi):\t446\n",
        "Structures containing spheres in both extremes (deltaPi):\t186\n"
       ]
      }
     ],
     "prompt_number": 8
    },
    {
     "cell_type": "code",
     "collapsed": false,
     "input": [
      "# Get a sense for the number of SNPs in the spheres\n",
      "df_2snp_plus = df[(df[\"snpcnt1\"]>1) | (df[\"snpcnt2\"]>1)]\n",
      "df_3snp_plus = df[(df[\"snpcnt1\"]>2) | (df[\"snpcnt2\"]>2)]\n",
      "df_4snp_plus = df[(df[\"snpcnt1\"]>3) | (df[\"snpcnt2\"]>3)]\n",
      "df_5snp_plus = df[(df[\"snpcnt1\"]>4) | (df[\"snpcnt2\"]>4)]\n",
      "df_6snp_plus = df[(df[\"snpcnt1\"]>5) | (df[\"snpcnt2\"]>5)]\n",
      "print \"Percentage of spheres containing 2+ SNPs: %.2f%%\"%(len(df_2snp_plus)/float(len(df))*100)\n",
      "print \"Percentage of spheres containing 3+ SNPs: %.2f%%\"%(len(df_3snp_plus)/float(len(df))*100)\n",
      "print \"Percentage of spheres containing 4+ SNPs: %.2f%%\"%(len(df_4snp_plus)/float(len(df))*100)\n",
      "print \"Percentage of spheres containing 5+ SNPs: %.2f%%\"%(len(df_5snp_plus)/float(len(df))*100)\n",
      "print \"Percentage of spheres containing 6+ SNPs: %.2f%%\"%(len(df_6snp_plus)/float(len(df))*100)"
     ],
     "language": "python",
     "metadata": {},
     "outputs": [
      {
       "output_type": "stream",
       "stream": "stdout",
       "text": [
        "Percentage of spheres containing 2+ SNPs: 100.00%\n",
        "Percentage of spheres containing 3+ SNPs: 42.05%\n",
        "Percentage of spheres containing 4+ SNPs: 16.28%\n",
        "Percentage of spheres containing 5+ SNPs: 7.52%\n",
        "Percentage of spheres containing 6+ SNPs: 3.92%\n"
       ]
      }
     ],
     "prompt_number": 9
    },
    {
     "cell_type": "code",
     "collapsed": false,
     "input": [
      "# And now just for the extreme-DPI spheres\n",
      "# Get a sense for the number of SNPs in the spheres\n",
      "df_2snp_plus = extDPI[(extDPI[\"snpcnt1\"]>1) | (extDPI[\"snpcnt2\"]>1)]\n",
      "df_3snp_plus = extDPI[(extDPI[\"snpcnt1\"]>2) | (extDPI[\"snpcnt2\"]>2)]\n",
      "df_4snp_plus = extDPI[(extDPI[\"snpcnt1\"]>3) | (extDPI[\"snpcnt2\"]>3)]\n",
      "df_5snp_plus = extDPI[(extDPI[\"snpcnt1\"]>4) | (extDPI[\"snpcnt2\"]>4)]\n",
      "df_6snp_plus = extDPI[(extDPI[\"snpcnt1\"]>5) | (extDPI[\"snpcnt2\"]>5)]\n",
      "print \"Percentage of extreme-DPI spheres containing 2+ SNPs: %.2f%%\"%(len(df_2snp_plus)/float(len(extDPI))*100)\n",
      "print \"Percentage of extreme-DPI spheres containing 3+ SNPs: %.2f%%\"%(len(df_3snp_plus)/float(len(extDPI))*100)\n",
      "print \"Percentage of extreme-DPI spheres containing 4+ SNPs: %.2f%%\"%(len(df_4snp_plus)/float(len(extDPI))*100)\n",
      "print \"Percentage of extreme-DPI spheres containing 5+ SNPs: %.2f%%\"%(len(df_5snp_plus)/float(len(extDPI))*100)\n",
      "print \"Percentage of extreme-DPI spheres containing 6+ SNPs: %.2f%%\"%(len(df_6snp_plus)/float(len(extDPI))*100)"
     ],
     "language": "python",
     "metadata": {},
     "outputs": [
      {
       "output_type": "stream",
       "stream": "stdout",
       "text": [
        "Percentage of extreme-DPI spheres containing 2+ SNPs: 100.00%\n",
        "Percentage of extreme-DPI spheres containing 3+ SNPs: 38.79%\n",
        "Percentage of extreme-DPI spheres containing 4+ SNPs: 10.78%\n",
        "Percentage of extreme-DPI spheres containing 5+ SNPs: 2.57%\n",
        "Percentage of extreme-DPI spheres containing 6+ SNPs: 0.40%\n"
       ]
      }
     ],
     "prompt_number": 10
    },
    {
     "cell_type": "code",
     "collapsed": false,
     "input": [
      "# Investigate the extreme spheres containing 5+ SNPs\n",
      "print \"Investigating the %d spheres with 5+ SNPs and extreme deltaPi values:\\n\"%len(df_5snp_plus)\n",
      "for sid in df_5snp_plus[\"#structid\"].drop_duplicates().values:\n",
      "    print df_5snp_plus.ix[df_5snp_plus[\"#structid\"]==sid,[\"#structid\",\"biounit\",\"chain\",\"seqid\",\"snpcnt1\",\"snpcnt2\",\"dpi\"]]\n",
      "    print df_5snp_plus.ix[df_5snp_plus[\"#structid\"]==sid,[\"nbrsnps1\",\"nbrsnps2\"]].values\n",
      "    print '--'"
     ],
     "language": "python",
     "metadata": {},
     "outputs": [
      {
       "output_type": "stream",
       "stream": "stdout",
       "text": [
        "Investigating the 77 spheres with 5+ SNPs and extreme deltaPi values:\n",
        "\n",
        "       #structid  biounit chain  seqid  snpcnt1  snpcnt2       dpi\n",
        "125565      2BO9        1     A    304        5        5 -0.001386\n",
        "125876      2BO9        1     C    304        5        5 -0.001452\n",
        "[['chr7:129962494-129962495,rs200631467,rs148867006,rs138648309,rs2171492'\n",
        "  'chr7:129962494-129962495,rs200631467,rs148867006,rs138648309,rs2171492']\n",
        " ['rs2171492,rs148867006,rs138648309,chr7:129962494-129962495,rs200631467'\n",
        "  'rs2171492,rs148867006,rs138648309,chr7:129962494-129962495,rs200631467']]\n",
        "--\n",
        "       #structid  biounit chain  seqid  snpcnt1  snpcnt2       dpi\n",
        "126183      2BOA        1     A   1304        5        5 -0.001386\n",
        "[['rs2171492,rs138648309,chr7:129962494-129962495,rs200631467,rs148867006'\n",
        "  'rs2171492,rs138648309,chr7:129962494-129962495,rs200631467,rs148867006']]\n",
        "--\n",
        "       #structid  biounit chain  seqid  snpcnt1  snpcnt2      dpi\n",
        "177219      2LNL        1     A    191        5        5 -0.00143\n",
        "[['COSM239496,rs2234671,rs56030518,rs61755739,rs146445859'\n",
        "  'COSM239496,rs2234671,rs56030518,rs61755739,rs146445859']]\n",
        "--\n",
        "      #structid  biounit chain  seqid  snpcnt1  snpcnt2       dpi\n",
        "17686      1E4K        1     C     22        5        5 -0.001432\n",
        "17682      1E4K        1     C     18        5        5 -0.001505\n",
        "17727      1E4K        1     C     62        6        6 -0.001706\n",
        "17703      1E4K        1     C     39        5        5 -0.002301\n",
        "17726      1E4K        1     C     61        5        5 -0.002639\n",
        "17731      1E4K        1     C     66        5        5 -0.002865\n",
        "[['rs376361357,rs375357751,rs5030738,rs201152581,rs371151798'\n",
        "  'rs376361357,rs375357751,rs5030738,rs201152581,rs371151798']\n",
        " ['rs375357751,rs5030738,rs201152581,rs147574249,rs371151798'\n",
        "  'rs375357751,rs5030738,rs201152581,rs147574249,rs371151798']\n",
        " [ 'chr1:161599702-161599703,rs375357751,rs5030738,rs201152581,rs147574249,rs371151798'\n",
        "  'chr1:161599702-161599703,rs375357751,rs5030738,rs201152581,rs147574249,rs371151798']\n",
        " [ 'chr1:161599702-161599703,rs76714703,chr1:161599672-161599673,rs376361357,rs370893367'\n",
        "  'chr1:161599702-161599703,rs76714703,chr1:161599672-161599673,rs376361357,rs370893367']\n",
        " ['chr1:161599702-161599703,rs5030738,rs201152581,rs147574249,rs371151798'\n",
        "  'chr1:161599702-161599703,rs5030738,rs201152581,rs147574249,rs371151798']\n",
        " ['chr1:161599702-161599703,rs76714703,rs376361357,rs370893367,rs371151798'\n",
        "  'chr1:161599702-161599703,rs76714703,rs376361357,rs370893367,rs371151798']]\n",
        "--\n",
        "       #structid  biounit chain  seqid  snpcnt1  snpcnt2       dpi\n",
        "442645      4LL9        2     B    179        5        5 -0.001513\n",
        "[['rs61739175,rs61739176,rs61739180,rs184520604,rs61739173'\n",
        "  'rs61739175,rs61739176,rs61739180,rs184520604,rs61739173']]\n",
        "--\n",
        "       #structid  biounit chain  seqid  snpcnt1  snpcnt2       dpi\n",
        "213107      2VIG        1     A    201        6        6  0.001638\n",
        "213321      2VIG        1     B    248        5        5  0.001677\n",
        "213686      2VIG        1     D    246        5        5  0.001811\n",
        "213502      2VIG        1     C    246        5        5  0.001811\n",
        "[[ 'rs57443665,chr12:121175778-121175779,rs1799958,chr12:121175676-121175677,rs1800556,rs151059234'\n",
        "  'rs57443665,chr12:121175778-121175779,rs1799958,chr12:121175676-121175677,rs1800556,rs151059234']\n",
        " ['chr12:121175676-121175677,rs1800556,rs57443665,rs144815059,rs148588313'\n",
        "  'chr12:121175676-121175677,rs1800556,rs57443665,rs144815059,rs148588313']\n",
        " ['chr12:121175676-121175677,rs1800556,rs144815059,rs148588313,rs57443665'\n",
        "  'chr12:121175676-121175677,rs1800556,rs144815059,rs148588313,rs57443665']\n",
        " ['rs57443665,rs144815059,rs148588313,chr12:121175676-121175677,rs1800556'\n",
        "  'rs57443665,rs144815059,rs148588313,chr12:121175676-121175677,rs1800556']]\n",
        "--\n",
        "       #structid  biounit chain  seqid  snpcnt1  snpcnt2      dpi\n",
        "392324      4CMM        1     A     63        5        5 -0.00167\n",
        "[['rs17855611,rs17855610,rs149634649,rs146163282,rs138283486'\n",
        "  'rs17855611,rs17855610,rs149634649,rs146163282,rs138283486']]\n",
        "--\n",
        "       #structid  biounit chain  seqid  snpcnt1  snpcnt2       dpi\n",
        "442739      4LLA        1     A    101        6        6  0.001707\n",
        "442710      4LLA        1     A     72        5        5  0.001924\n",
        "442745      4LLA        1     A    107        5        5 -0.002055\n",
        "[['rs41308754,rs150523334,rs377571428,rs1128646,rs10405713,rs146672031'\n",
        "  'rs41308754,rs150523334,rs377571428,rs1128646,rs10405713,rs146672031']\n",
        " ['rs143661416,rs386056,rs148104591,rs41308754,rs150523334'\n",
        "  'rs143661416,rs386056,rs148104591,rs41308754,rs150523334']\n",
        " ['rs7247055,rs146672031,rs7247025,rs7246737,rs116027944'\n",
        "  'rs7247055,rs146672031,rs7247025,rs7246737,rs116027944']]\n",
        "--\n",
        "       #structid  biounit chain  seqid  snpcnt1  snpcnt2       dpi\n",
        "232120      2XPG        1     A     82        8        8  0.001765\n",
        "232123      2XPG        1     A     85        7        7  0.005503\n",
        "[[ 'rs1136692,rs1136689,rs41552317,rs1136690,rs9260140,rs1136691,rs9260138,rs9260139'\n",
        "  'rs1136692,rs1136689,rs41552317,rs1136690,rs9260140,rs1136691,rs9260138,rs9260139']\n",
        " ['rs1136689,rs41552317,rs1136690,rs9260140,rs1136691,rs9260138,rs9260139'\n",
        "  'rs1136689,rs41552317,rs1136690,rs9260140,rs1136691,rs9260138,rs9260139']]\n",
        "--\n",
        "       #structid  biounit chain  seqid  snpcnt1  snpcnt2       dpi\n",
        "418891      4HAI        1     A     53        5        5 -0.001783\n",
        "418604      4HAI        1     A     53        5        5 -0.001783\n",
        "[['rs200491949,rs139234214,rs72475803,rs188742114,rs41507953'\n",
        "  'rs200491949,rs139234214,rs72475803,rs188742114,rs41507953']\n",
        " ['rs41507953,rs139234214,rs72475803,rs188742114,rs200491949'\n",
        "  'rs41507953,rs139234214,rs72475803,rs188742114,rs200491949']]\n",
        "--\n",
        "       #structid  biounit chain  seqid  snpcnt1  snpcnt2       dpi\n",
        "445070      4MIV        2     C    311        5        5  0.001856\n",
        "445340      4MIV        2     D    311        5        5  0.001931"
       ]
      },
      {
       "output_type": "stream",
       "stream": "stdout",
       "text": [
        "\n",
        "[['rs9894254,rs142309764,rs202150579,COSM1480133,COSM985570'\n",
        "  'rs9894254,rs142309764,rs202150579,COSM1480133,COSM985570']\n",
        " ['COSM1480133,COSM985570,rs202150579,rs142309764,rs9894254'\n",
        "  'COSM1480133,COSM985570,rs202150579,rs142309764,rs9894254']]\n",
        "--\n",
        "       #structid  biounit chain  seqid  snpcnt1  snpcnt2       dpi\n",
        "365364      3VCL        1     A     33        7        7  0.001878\n",
        "365382      3VCL        1     A     49        5        5  0.002228\n",
        "365386      3VCL        1     A     52        6        6  0.005100\n",
        "[[ 'rs41562914,rs9266178,rs41556614,rs1050518,rs151341132,rs143961508,rs145974360'\n",
        "  'rs41562914,rs9266178,rs41556614,rs1050518,rs151341132,rs143961508,rs145974360']\n",
        " ['rs1050518,rs151341132,rs143961508,rs145974360,rs1131279'\n",
        "  'rs1050518,rs151341132,rs143961508,rs145974360,rs1131279']\n",
        " ['rs41562914,rs9266178,rs41556614,rs151341132,rs143961508,rs145974360'\n",
        "  'rs41562914,rs9266178,rs41556614,rs151341132,rs143961508,rs145974360']]\n",
        "--\n",
        "       #structid  biounit chain  seqid  snpcnt1  snpcnt2      dpi\n",
        "216297      2VRE        1     A    192        5        5  0.00204\n",
        "216790      2VRE        1     A    192        5        5  0.00204\n",
        "216463      2VRE        1     B    192        5        5  0.00204\n",
        "217117      2VRE        1     C    192        5        5  0.00204\n",
        "[['rs2229259,rs115532911,rs2229259,rs115532911,rs2229259'\n",
        "  'rs2229259,rs115532911,rs2229259,rs115532911,rs2229259']\n",
        " ['rs115532911,rs2229259,rs2229259,rs115532911,rs2229259'\n",
        "  'rs115532911,rs2229259,rs2229259,rs115532911,rs2229259']\n",
        " ['rs2229259,rs2229259,rs115532911,rs115532911,rs2229259'\n",
        "  'rs2229259,rs2229259,rs115532911,rs115532911,rs2229259']\n",
        " ['rs115532911,rs2229259,rs115532911,rs2229259,rs2229259'\n",
        "  'rs115532911,rs2229259,rs115532911,rs2229259,rs2229259']]\n",
        "--\n",
        "     #structid  biounit chain  seqid  snpcnt1  snpcnt2       dpi\n",
        "8653      1BP1        1     A    251        5        5  0.002055\n",
        "[['rs142882330,rs5741804,rs183269384,rs112384214,rs5743549'\n",
        "  'rs142882330,rs5741804,rs183269384,rs112384214,rs5743549']]\n",
        "--\n",
        "       #structid  biounit chain  seqid  snpcnt1  snpcnt2       dpi\n",
        "128454      2C3N        1     B    103        6        6 -0.002257\n",
        "128374      2C3N        1     A    103        5        5 -0.002375\n",
        "128458      2C3N        1     B    107        5        5 -0.002488\n",
        "[['rs11550605,rs2266637,rs201658659,rs201658659,rs141759372,rs11550605'\n",
        "  'rs11550605,rs2266637,rs201658659,rs201658659,rs141759372,rs11550605']\n",
        " ['rs141759372,rs11550605,rs2266637,rs201658659,rs11550605'\n",
        "  'rs141759372,rs11550605,rs2266637,rs201658659,rs11550605']\n",
        " ['rs11550605,rs2266637,rs201658659,rs141759372,rs11550605'\n",
        "  'rs11550605,rs2266637,rs201658659,rs141759372,rs11550605']]\n",
        "--\n",
        "       #structid  biounit chain  seqid  snpcnt1  snpcnt2       dpi\n",
        "192073      2P0R        1     A    288        5        5  0.002341\n",
        "192282      2P0R        1     B    288        5        5  0.002458\n",
        "[['rs1933631,rs371287169,rs143186556,chr1:230907833-230907834,rs200448422'\n",
        "  'rs1933631,rs371287169,rs143186556,chr1:230907833-230907834,rs200448422']\n",
        " ['rs1933631,rs143186556,chr1:230907833-230907834,rs200448422,rs371287169'\n",
        "  'rs1933631,rs143186556,chr1:230907833-230907834,rs200448422,rs371287169']]\n",
        "--\n",
        "       #structid  biounit chain  seqid  snpcnt1  snpcnt2       dpi\n",
        "230673      2X6L        1     D     58        5        5  0.002513\n",
        "230437      2X6L        1     D     58        5        5  0.002513\n",
        "230339      2X6L        1     B     58        5        5  0.002627\n",
        "230292      2X6L        1     A     58        5        5  0.002627\n",
        "230387      2X6L        1     C     58        5        5  0.002627\n",
        "230623      2X6L        1     C     58        5        5  0.002627\n",
        "230575      2X6L        1     B     58        5        5  0.002627\n",
        "230717      2X6L        1     E     58        5        5  0.002627\n",
        "[[ 'chr17:34431977-34431978,rs1719152,rs200124119,rs200881527,chr17:34431963-34431964'\n",
        "  'chr17:34431977-34431978,rs1719152,rs200124119,rs200881527,chr17:34431963-34431964']\n",
        " [ 'rs200124119,rs200881527,chr17:34431963-34431964,chr17:34431977-34431978,rs1719152'\n",
        "  'rs200124119,rs200881527,chr17:34431963-34431964,chr17:34431977-34431978,rs1719152']\n",
        " [ 'chr17:34431977-34431978,rs200124119,rs1719152,rs200881527,chr17:34431963-34431964'\n",
        "  'chr17:34431977-34431978,rs200124119,rs1719152,rs200881527,chr17:34431963-34431964']\n",
        " [ 'rs200124119,chr17:34431977-34431978,rs1719152,rs200881527,chr17:34431963-34431964'\n",
        "  'rs200124119,chr17:34431977-34431978,rs1719152,rs200881527,chr17:34431963-34431964']\n",
        " [ 'rs200881527,chr17:34431963-34431964,rs200124119,chr17:34431977-34431978,rs1719152'\n",
        "  'rs200881527,chr17:34431963-34431964,rs200124119,chr17:34431977-34431978,rs1719152']\n",
        " [ 'rs1719152,rs200124119,chr17:34431977-34431978,rs200881527,chr17:34431963-34431964'\n",
        "  'rs1719152,rs200124119,chr17:34431977-34431978,rs200881527,chr17:34431963-34431964']\n",
        " [ 'rs200881527,chr17:34431963-34431964,chr17:34431977-34431978,rs200124119,rs1719152'\n",
        "  'rs200881527,chr17:34431963-34431964,chr17:34431977-34431978,rs200124119,rs1719152']\n",
        " [ 'rs200881527,chr17:34431963-34431964,rs200124119,rs1719152,chr17:34431977-34431978'\n",
        "  'rs200881527,chr17:34431963-34431964,rs200124119,rs1719152,chr17:34431977-34431978']]\n",
        "--\n",
        "       #structid  biounit chain  seqid  snpcnt1  snpcnt2      dpi\n",
        "116803      2A14        1     A    203        5        5  0.00258\n",
        "[['rs2302339,rs6970210,rs147878270,rs56800285,chr7:30795318-30795319'\n",
        "  'rs2302339,rs6970210,rs147878270,rs56800285,chr7:30795318-30795319']]\n",
        "--\n",
        "       #structid  biounit chain  seqid  snpcnt1  snpcnt2       dpi\n",
        "172635      2JJU        2     B     75        5        5  0.002752\n",
        "172636      2JJU        2     B     76        5        5  0.002860\n",
        "172591      2JJU        2     B     26        5        5  0.003699\n",
        "172625      2JJU        2     B     63        5        5  0.003813\n",
        "[['rs148239911,rs2746603,rs183947378,rs139990571,rs41275422'\n",
        "  'rs148239911,rs2746603,rs183947378,rs139990571,rs41275422']\n",
        " ['rs2746603,rs183947378,rs139990571,rs41275422,rs145222149'\n",
        "  'rs2746603,rs183947378,rs139990571,rs41275422,rs145222149']\n",
        " ['rs148239911,rs2746603,rs183947378,rs139990571,rs141367120'\n",
        "  'rs148239911,rs2746603,rs183947378,rs139990571,rs141367120']\n",
        " ['rs2746603,rs183947378,rs145689140,rs139990571,rs41275422'\n",
        "  'rs2746603,rs183947378,rs145689140,rs139990571,rs41275422']]\n",
        "--\n",
        "       #structid  biounit chain  seqid  snpcnt1  snpcnt2       dpi\n",
        "423683      4I2X        1     E    266        5        5 -0.002811\n",
        "[['rs141069067,rs6034239,rs142972068,rs200982024,rs41275436'\n",
        "  'rs141069067,rs6034239,rs142972068,rs200982024,rs41275436']]\n",
        "--\n",
        "       #structid  biounit chain  seqid  snpcnt1  snpcnt2       dpi\n",
        "378943      4AQI        1     A     71        5        5  0.003009\n",
        "378870      4AQI        1     A     71        5        5  0.003009"
       ]
      },
      {
       "output_type": "stream",
       "stream": "stdout",
       "text": [
        "\n",
        "[['rs3006414,rs148086252,rs141875780,rs141793802,rs139197773'\n",
        "  'rs3006414,rs148086252,rs141875780,rs141793802,rs139197773']\n",
        " ['rs141875780,rs148086252,rs139197773,rs141793802,rs3006414'\n",
        "  'rs141875780,rs148086252,rs139197773,rs141793802,rs3006414']]\n",
        "--\n",
        "       #structid  biounit chain  seqid  snpcnt1  snpcnt2       dpi\n",
        "383479      4BC5        2     B     33        5        5 -0.003103\n",
        "[['rs146134427,rs78669311,rs116150323,rs146884889,rs17118'\n",
        "  'rs146134427,rs78669311,rs116150323,rs146884889,rs17118']]\n",
        "--\n",
        "       #structid  biounit chain  seqid  snpcnt1  snpcnt2       dpi\n",
        "166751      2J3F        1     C    220        5        5  0.003158\n",
        "166566      2J3F        1     B    220        5        5  0.003158\n",
        "[['rs183357628,rs138686768,chr9:137777668-137777669,rs7851696,rs146926928'\n",
        "  'rs183357628,rs138686768,chr9:137777668-137777669,rs7851696,rs146926928']\n",
        " ['rs146926928,chr9:137777668-137777669,rs183357628,rs138686768,rs7851696'\n",
        "  'rs146926928,chr9:137777668-137777669,rs183357628,rs138686768,rs7851696']]\n",
        "--\n",
        "      #structid  biounit chain  seqid  snpcnt1  snpcnt2       dpi\n",
        "16955      1E07        1     A     83        5        5  0.003594\n",
        "[['rs140477498,rs201178300,rs34155934,rs35091611,rs200369485'\n",
        "  'rs140477498,rs201178300,rs34155934,rs35091611,rs200369485']]\n",
        "--\n",
        "       #structid  biounit chain  seqid  snpcnt1  snpcnt2       dpi\n",
        "263923      3COS        2     C    320        8        8  0.003786\n",
        "[[ 'rs1126671,rs1126671,rs200069768,rs29001219,rs147130103,rs200069768,rs29001219,rs147130103'\n",
        "  'rs1126671,rs1126671,rs200069768,rs29001219,rs147130103,rs200069768,rs29001219,rs147130103']]\n",
        "--\n",
        "       #structid  biounit chain  seqid  snpcnt1  snpcnt2       dpi\n",
        "137602      2DYP        1     A    109        5        5  0.003953\n",
        "[[ 'chr6:29796533-29796534,rs76011433,chr6:29796364-29796365,chr6:29796370-29796371,rs12722477'\n",
        "  'chr6:29796533-29796534,rs76011433,chr6:29796364-29796365,chr6:29796370-29796371,rs12722477']]\n",
        "--\n",
        "       #structid  biounit chain  seqid  snpcnt1  snpcnt2       dpi\n",
        "104107      1YDP        1     A    109        5        5  0.003953\n",
        "[[ 'chr6:29796364-29796365,chr6:29796370-29796371,rs76011433,chr6:29796533-29796534,rs12722477'\n",
        "  'chr6:29796364-29796365,chr6:29796370-29796371,rs76011433,chr6:29796533-29796534,rs12722477']]\n",
        "--\n",
        "       #structid  biounit chain  seqid  snpcnt1  snpcnt2       dpi\n",
        "416902      4H2D        1     A    150        6        6  0.005204\n",
        "416866      4H2D        1     A     27        5        5  0.006370\n",
        "416867      4H2D        1     A     28        5        5  0.006629\n",
        "[[ 'rs367940263,rs78476245,rs113809617,chr9:140100297-140100298,chr9:140100298-140100299,rs151228457'\n",
        "  'rs367940263,rs78476245,rs113809617,chr9:140100297-140100298,chr9:140100298-140100299,rs151228457']\n",
        " [ 'rs367940263,rs113809617,chr9:140100297-140100298,chr9:140100298-140100299,rs151228457'\n",
        "  'rs367940263,rs113809617,chr9:140100297-140100298,chr9:140100298-140100299,rs151228457']\n",
        " [ 'rs367940263,rs78476245,rs113809617,chr9:140100297-140100298,chr9:140100298-140100299'\n",
        "  'rs367940263,rs78476245,rs113809617,chr9:140100297-140100298,chr9:140100298-140100299']]\n",
        "--\n",
        "       #structid  biounit chain  seqid  snpcnt1  snpcnt2       dpi\n",
        "173411      2JLP        1     B    149        5        5  0.007915\n",
        "173554      2JLP        1     D    149        5        5  0.008524\n",
        "173482      2JLP        1     C    149        5        5  0.008524\n",
        "173341      2JLP        1     A    149        5        5  0.008524\n",
        "[[ 'chr4:24801323-24801324,rs2536512,chr4:24801405-24801406,chr4:24801406-24801407,rs17879876'\n",
        "  'chr4:24801323-24801324,rs2536512,chr4:24801405-24801406,chr4:24801406-24801407,rs17879876']\n",
        " [ 'rs2536512,chr4:24801405-24801406,chr4:24801406-24801407,chr4:24801323-24801324,rs17879876'\n",
        "  'rs2536512,chr4:24801405-24801406,chr4:24801406-24801407,chr4:24801323-24801324,rs17879876']\n",
        " [ 'chr4:24801405-24801406,chr4:24801406-24801407,rs17879876,rs2536512,chr4:24801323-24801324'\n",
        "  'chr4:24801405-24801406,chr4:24801406-24801407,rs17879876,rs2536512,chr4:24801323-24801324']\n",
        " [ 'rs17879876,rs2536512,chr4:24801405-24801406,chr4:24801406-24801407,chr4:24801323-24801324'\n",
        "  'rs17879876,rs2536512,chr4:24801405-24801406,chr4:24801406-24801407,chr4:24801323-24801324']]\n",
        "--\n",
        "       #structid  biounit chain  seqid  snpcnt1  snpcnt2       dpi\n",
        "132962      2CLP        1     A    352        5        5  0.008395\n",
        "133180      2CLP        1     B    352        5        5  0.008395\n",
        "[['rs147831859,rs1738025,rs1738025,rs147831859,rs151100364'\n",
        "  'rs147831859,rs1738025,rs1738025,rs147831859,rs151100364']\n",
        " ['rs147831859,rs151100364,rs1738025,rs1738025,rs147831859'\n",
        "  'rs147831859,rs151100364,rs1738025,rs1738025,rs147831859']]\n",
        "--\n",
        "       #structid  biounit chain  seqid  snpcnt1  snpcnt2       dpi\n",
        "109090      1Z29        1     A     56        5        5  0.008870\n",
        "108909      1Z29        1     A     56        5        5  0.008870\n",
        "109016      1Z29        1     A    226        5        5  0.012720\n",
        "109197      1Z29        1     A    226        5        5  0.012720\n",
        "109021      1Z29        1     A    231        6        6  0.013502\n",
        "109202      1Z29        1     A    231        6        6  0.013502\n",
        "[['rs368133844,chr16:28606963-28606964,rs201546883,rs11569763,rs1059491'\n",
        "  'rs368133844,chr16:28606963-28606964,rs201546883,rs11569763,rs1059491']\n",
        " ['chr16:28606963-28606964,rs201546883,rs368133844,rs11569763,rs1059491'\n",
        "  'chr16:28606963-28606964,rs201546883,rs368133844,rs11569763,rs1059491']\n",
        " ['rs201546883,chr16:28603685-28603686,rs1042041,rs11569763,rs1059491'\n",
        "  'rs201546883,chr16:28603685-28603686,rs1042041,rs11569763,rs1059491']\n",
        " ['chr16:28603685-28603686,rs1042041,rs201546883,rs11569763,rs1059491'\n",
        "  'chr16:28603685-28603686,rs1042041,rs201546883,rs11569763,rs1059491']\n",
        " [ 'rs201546883,chr16:28603685-28603686,rs1042041,rs11569763,rs1059491,rs45472392'\n",
        "  'rs201546883,chr16:28603685-28603686,rs1042041,rs11569763,rs1059491,rs45472392']\n",
        " [ 'chr16:28603685-28603686,rs1042041,rs201546883,rs45472392,rs11569763,rs1059491'\n",
        "  'chr16:28603685-28603686,rs1042041,rs201546883,rs45472392,rs11569763,rs1059491']]\n",
        "--\n",
        "       #structid  biounit chain  seqid  snpcnt1  snpcnt2       dpi\n",
        "303594      3IG6        1     B     59        5        5 -0.022587"
       ]
      },
      {
       "output_type": "stream",
       "stream": "stdout",
       "text": [
        "\n",
        "[['rs201795845,rs2227567,rs2227567,rs2227567,rs2227567'\n",
        "  'rs201795845,rs2227567,rs2227567,rs2227567,rs2227567']]\n",
        "--\n"
       ]
      }
     ],
     "prompt_number": 11
    },
    {
     "cell_type": "code",
     "collapsed": false,
     "input": [
      "# Investigate the extreme spheres with significant FET p-values\n",
      "sigFET = df[df[\"fetp\"]<0.01]\n",
      "print \"Percentage of all spheres with significant FET (p<0.05):\\t\\t%.2f%%\"%(len(sigFET)/float(len(df))*100)\n",
      "sigFET = extDPI[extDPI[\"fetp\"]<0.01]\n",
      "print \"Percentage of extreme-DPI spheres with significant FET (p<0.05):\\t%.2f%%\"%(len(sigFET)/float(len(extDPI))*100)"
     ],
     "language": "python",
     "metadata": {},
     "outputs": [
      {
       "output_type": "stream",
       "stream": "stdout",
       "text": [
        "Percentage of all spheres with significant FET (p<0.05):\t\t28.00%\n",
        "Percentage of extreme-DPI spheres with significant FET (p<0.05):\t61.93%\n"
       ]
      }
     ],
     "prompt_number": 28
    },
    {
     "cell_type": "code",
     "collapsed": false,
     "input": [
      "# Do the extreme spheres occur in structures of proteins identified by Tennessen?\n",
      "tennessen = [sid.strip() for sid in open(\"/Users/mikesivley/sivleyrm/pdbmap/temp/pi_analysis/Tennessen2012_SolvedPDB.txt\")]\n",
      "# How many of these structures were used as representatives (were they included in the analysis?)\n",
      "print \"%d of %d\"%(len(df[df[\"#structid\"].isin(tennessen)].drop_duplicates(\"#structid\")),len(tennessen))\n",
      "# How many were extreme?\n",
      "print \"%d of %d\"%(len(extDPI[extDPI[\"#structid\"].isin(tennessen)].drop_duplicates(\"#structid\")),len(tennessen))\n",
      "# Did they contain extreme spheres?\n",
      "print \"%d of %d\"%(len(sigFET[sigFET[\"#structid\"].isin(tennessen)].drop_duplicates(\"#structid\")),len(tennessen))\n",
      "print sigFET.ix[sigFET[\"#structid\"].isin(tennessen),[\"#structid\",\"biounit\",\"chain\",\"seqid\",\"dpi\",\"fetp\",\"snpcnt1\",\"snpcnt2\"]].sort(\"#structid\")"
     ],
     "language": "python",
     "metadata": {},
     "outputs": [
      {
       "output_type": "stream",
       "stream": "stdout",
       "text": [
        "17 of 104\n",
        "5 of 104\n",
        "2 of 104\n",
        "       #structid  biounit chain  seqid       dpi          fetp  snpcnt1  \\\n",
        "137613      2DYP        1     A    128 -0.014205  6.268662e-07        2   \n",
        "251711      3APX        1     A     87 -0.003136  1.224459e-04        3   \n",
        "251713      3APX        1     A     89 -0.003874  1.224459e-04        3   \n",
        "251687      3APX        1     A     53 -0.004478  6.290697e-03        2   \n",
        "251705      3APX        1     A     81 -0.006259  1.270148e-04        2   \n",
        "\n",
        "        snpcnt2  \n",
        "137613        2  \n",
        "251711        3  \n",
        "251713        3  \n",
        "251687        2  \n",
        "251705        2  \n"
       ]
      }
     ],
     "prompt_number": 46
    },
    {
     "cell_type": "code",
     "collapsed": false,
     "input": [
      "# Which ones?\n",
      "for sid in extDPI.ix[extDPI[\"#structid\"].isin(tennessen),\"#structid\"].drop_duplicates():\n",
      "    print extDPI.ix[extDPI[\"#structid\"]==sid,[\"#structid\",\"biounit\",\"chain\",\"seqid\",\"snpcnt1\",\"snpcnt2\",\"dpi\"]]\n",
      "    print '--'"
     ],
     "language": "python",
     "metadata": {},
     "outputs": [
      {
       "output_type": "stream",
       "stream": "stdout",
       "text": [
        "       #structid  biounit chain  seqid  snpcnt1  snpcnt2       dpi\n",
        "251723      3APX        1     A     99        4        4 -0.001650\n",
        "251685      3APX        1     A     51        2        2 -0.001691\n",
        "251656      3APX        1     A     18        3        3 -0.001752\n",
        "251720      3APX        1     A     96        3        3 -0.001941\n",
        "251692      3APX        1     A     60        3        3 -0.002075\n",
        "251735      3APX        1     A    112        2        2 -0.002248\n",
        "251684      3APX        1     A     50        2        2 -0.003061\n",
        "251711      3APX        1     A     87        3        3 -0.003136\n",
        "251713      3APX        1     A     89        3        3 -0.003874\n",
        "251687      3APX        1     A     53        2        2 -0.004478\n",
        "251705      3APX        1     A     81        2        2 -0.006259\n",
        "--\n",
        "       #structid  biounit chain  seqid  snpcnt1  snpcnt2       dpi\n",
        "137665      2DYP        1     A    258        4        4  0.001814\n",
        "137668      2DYP        1     A    261        3        3  0.001900\n",
        "137594      2DYP        1     A    101        4        4  0.002498\n",
        "137595      2DYP        1     A    102        3        3  0.002622\n",
        "137602      2DYP        1     A    109        5        5  0.003953\n",
        "137613      2DYP        1     A    128        2        2 -0.014205\n",
        "--\n",
        "       #structid  biounit chain  seqid  snpcnt1  snpcnt2       dpi\n",
        "104153      1YDP        1     A    216        3        3  0.001900\n",
        "104169      1YDP        1     A    257        2        2  0.001948\n",
        "104111      1YDP        1     A    113        3        3  0.002384\n",
        "104099      1YDP        1     A    101        4        4  0.002405\n",
        "104107      1YDP        1     A    109        5        5  0.003953\n",
        "104117      1YDP        1     A    128        2        2 -0.014205\n",
        "--\n",
        "       #structid  biounit chain  seqid  snpcnt1  snpcnt2       dpi\n",
        "171000      2JII        2     B    307        2        2 -0.002001\n",
        "170986      2JII        2     B    289        2        2 -0.002274\n",
        "170945      2JII        2     B    181        2        2 -0.002344\n",
        "170980      2JII        2     B    283        2        2 -0.002354\n",
        "171028      2JII        2     B    372        3        3 -0.002411\n",
        "171005      2JII        2     B    312        2        2 -0.002482\n",
        "171002      2JII        2     B    309        3        3 -0.002654\n",
        "170995      2JII        2     B    298        2        2 -0.002769\n",
        "170991      2JII        2     B    294        3        3 -0.004782\n",
        "171023      2JII        2     B    368        2        2 -0.006032\n",
        "171007      2JII        2     B    314        2        2 -0.006960\n",
        "171032      2JII        2     B    376        2        2 -0.013997\n",
        "--\n",
        "       #structid  biounit chain  seqid  snpcnt1  snpcnt2       dpi\n",
        "135319      2D31        1     A    259        3        3  0.002081\n",
        "135514      2D31        1     A    259        3        3  0.002081\n",
        "135317      2D31        1     A    257        2        2  0.002134\n",
        "135512      2D31        1     A    257        2        2  0.002134\n",
        "135513      2D31        1     A    258        4        4  0.002268\n",
        "135318      2D31        1     A    258        4        4  0.002268\n",
        "135254      2D31        1     A    101        4        4  0.002405\n",
        "135449      2D31        1     A    101        4        4  0.002405\n",
        "135356      2D31        1     D    102        3        3  0.002498\n",
        "135551      2D31        1     D    102        3        3  0.002498\n",
        "135550      2D31        1     D    101        4        4  0.002498\n",
        "135355      2D31        1     D    101        4        4  0.002498\n",
        "135263      2D31        1     A    110        3        3 -0.002577\n",
        "135458      2D31        1     A    110        3        3 -0.002577\n",
        "135255      2D31        1     A    102        3        3  0.002622\n",
        "135425      2D31        1     A      2        2        2 -0.012019\n",
        "135468      2D31        1     A    128        2        2 -0.013021\n",
        "135230      2D31        1     A      2        2        2 -0.013021\n",
        "135273      2D31        1     A    128        2        2 -0.013021\n",
        "--\n"
       ]
      }
     ],
     "prompt_number": 14
    },
    {
     "cell_type": "code",
     "collapsed": false,
     "input": [],
     "language": "python",
     "metadata": {},
     "outputs": []
    },
    {
     "cell_type": "code",
     "collapsed": false,
     "input": [
      "# What are the *most* extreme spheres? (1st and 99th percentile *of* the 5th and 95th percentile sets)\n",
      "p99 = np.percentile(topDPI['dpi'].values,99)\n",
      "p1  = np.percentile(botDPI['dpi'].values,1)\n",
      "tiptopDPI = topDPI[topDPI['dpi']>p99]\n",
      "rocbotDPI = botDPI[botDPI['dpi']<p1]\n",
      "# Investigate the extreme spheres containing 6+ SNPs\n",
      "print \"The tip-top of deltaPi (EUR>AFR)\"\n",
      "for sid in tiptopDPI[\"#structid\"].drop_duplicates().values:\n",
      "    print tiptopDPI.ix[tiptopDPI[\"#structid\"]==sid,[\"#structid\",\"biounit\",\"chain\",\"seqid\",\"snpcnt1\",\"snpcnt2\",\"dpi\"]]\n",
      "    print '--'\n",
      "print \"\\nThe rock-bottom of deltaPi (AFR>EUR)\"\n",
      "for sid in rocbotDPI[\"#structid\"].drop_duplicates().values:\n",
      "    print rocbotDPI.ix[rocbotDPI[\"#structid\"]==sid,[\"#structid\",\"biounit\",\"chain\",\"seqid\",\"snpcnt1\",\"snpcnt2\",\"dpi\"]]\n",
      "    print '--'"
     ],
     "language": "python",
     "metadata": {},
     "outputs": [
      {
       "output_type": "stream",
       "stream": "stdout",
       "text": [
        "The tip-top of deltaPi (EUR>AFR)\n",
        "       #structid  biounit chain  seqid  snpcnt1  snpcnt2       dpi\n",
        "451537      4OAU        1     C    457        2        2  0.016303\n",
        "--\n",
        "      #structid  biounit chain  seqid  snpcnt1  snpcnt2       dpi\n",
        "16953      1E07        1     A     81        3        3  0.016569\n",
        "--\n",
        "      #structid  biounit chain  seqid  snpcnt1  snpcnt2       dpi\n",
        "30195      1GTU        1     A    175        2        2  0.017095\n",
        "--\n",
        "      #structid  biounit chain  seqid  snpcnt1  snpcnt2      dpi\n",
        "74291      1QFW        1     B     10        3        3  0.01781\n",
        "--\n",
        "       #structid  biounit chain  seqid  snpcnt1  snpcnt2       dpi\n",
        "442721      4LLA        1     A     83        2        2  0.018185\n",
        "--\n",
        "       #structid  biounit chain  seqid  snpcnt1  snpcnt2       dpi\n",
        "385171      4BOC        1     A    544        2        2  0.018521\n",
        "--\n",
        "       #structid  biounit chain  seqid  snpcnt1  snpcnt2       dpi\n",
        "351869      3SGJ        1     B    349        2        2  0.018595\n",
        "--\n",
        "      #structid  biounit chain  seqid  snpcnt1  snpcnt2       dpi\n",
        "17476      1E4K        1     A    349        2        2  0.018595\n",
        "17479      1E4K        1     A    353        2        2  0.020286\n",
        "--\n",
        "       #structid  biounit chain  seqid  snpcnt1  snpcnt2       dpi\n",
        "164741      2IWG        1     A    353        2        2  0.019404\n",
        "--\n",
        "       #structid  biounit chain  seqid  snpcnt1  snpcnt2       dpi\n",
        "173434      2JLP        1     C     39        4        4  0.019503\n",
        "173433      2JLP        1     C     38        3        3  0.027862\n",
        "--\n",
        "       #structid  biounit chain  seqid  snpcnt1  snpcnt2       dpi\n",
        "295363      3HHC        2     D     34        3        3  0.022114\n",
        "--\n",
        "       #structid  biounit chain  seqid  snpcnt1  snpcnt2       dpi\n",
        "443835      4M6R        1     A     21        2        2  0.023913\n",
        "--\n",
        "       #structid  biounit chain  seqid  snpcnt1  snpcnt2       dpi\n",
        "370121      3ZBF        1     A   2225        3        3  0.026628\n",
        "--\n",
        "\n",
        "The rock-bottom of deltaPi (AFR>EUR)\n",
        "       #structid  biounit chain  seqid  snpcnt1  snpcnt2       dpi\n",
        "404891      4FDI        1     A    375        2        2 -0.013651\n",
        "--\n",
        "       #structid  biounit chain  seqid  snpcnt1  snpcnt2       dpi\n",
        "246229      2ZV6        2     B    353        2        2 -0.013656\n",
        "--\n",
        "       #structid  biounit chain  seqid  snpcnt1  snpcnt2       dpi\n",
        "171032      2JII        2     B    376        2        2 -0.013997"
       ]
      },
      {
       "output_type": "stream",
       "stream": "stdout",
       "text": [
        "\n",
        "--\n",
        "       #structid  biounit chain  seqid  snpcnt1  snpcnt2       dpi\n",
        "288883      3GDH        1     A    756        2        2 -0.014046\n",
        "--\n",
        "       #structid  biounit chain  seqid  snpcnt1  snpcnt2       dpi\n",
        "104117      1YDP        1     A    128        2        2 -0.014205\n",
        "--\n",
        "       #structid  biounit chain  seqid  snpcnt1  snpcnt2       dpi\n",
        "137613      2DYP        1     A    128        2        2 -0.014205\n",
        "--\n",
        "      #structid  biounit chain  seqid  snpcnt1  snpcnt2       dpi\n",
        "33237      1H8U        2     B     80        2        2 -0.014220\n",
        "33241      1H8U        2     B     84        3        3 -0.017302\n",
        "--\n",
        "       #structid  biounit chain  seqid  snpcnt1  snpcnt2       dpi\n",
        "281958      3FBY        1     A    757        2        2 -0.015322\n",
        "--\n",
        "       #structid  biounit chain  seqid  snpcnt1  snpcnt2       dpi\n",
        "365431      3VCL        1     A     86        3        3 -0.016014\n",
        "--\n",
        "       #structid  biounit chain  seqid  snpcnt1  snpcnt2       dpi\n",
        "442752      4LLA        1     A    127        2        2 -0.018917\n",
        "--\n",
        "       #structid  biounit chain  seqid  snpcnt1  snpcnt2       dpi\n",
        "303594      3IG6        1     B     59        5        5 -0.022587\n",
        "303599      3IG6        1     B     61        3        3 -0.040109\n",
        "303598      3IG6        1     B     60        4        4 -0.042019\n",
        "--\n",
        "       #structid  biounit chain  seqid  snpcnt1  snpcnt2       dpi\n",
        "104503      1YHN        1     B    280        2        2 -0.025995\n",
        "--\n"
       ]
      }
     ],
     "prompt_number": 15
    },
    {
     "cell_type": "code",
     "collapsed": false,
     "input": [
      "# How many of the extreme spheres contain exclusively population-specific SNPs?\n",
      "# What is the distribution in the *number* of SNPs in those spheres?\n",
      "popsec = df[(df[\"snpcnt1\"]<1) | (df[\"snpcnt2\"]<1)]\n",
      "print len(popsec)\n",
      "popsec = extDPI[(extDPI[\"snpcnt1\"]<1) | (extDPI[\"snpcnt2\"]<1)]\n",
      "print len(popsec)"
     ],
     "language": "python",
     "metadata": {},
     "outputs": [
      {
       "output_type": "stream",
       "stream": "stdout",
       "text": [
        "0\n",
        "0\n"
       ]
      }
     ],
     "prompt_number": 16
    },
    {
     "cell_type": "code",
     "collapsed": false,
     "input": [
      "plt.figure(figsize=(15,5))\n",
      "plt.xlim([0,10])\n",
      "import seaborn as sns\n",
      "sns.distplot(df[\"snpcnt1\"].values,color='red',label=\"EUR\",hist=True,kde=False)\n",
      "sns.distplot(df[\"snpcnt2\"].values,color='blue',label=\"AFR\",hist=True,kde=False)\n",
      "plt.legend()\n",
      "plt.show()"
     ],
     "language": "python",
     "metadata": {},
     "outputs": [
      {
       "metadata": {},
       "output_type": "display_data",
       "png": "[encoded data removed]",
       "text": [
        "<matplotlib.figure.Figure at 0x107f74a10>"
       ]
      }
     ],
     "prompt_number": 17
    },
    {
     "cell_type": "code",
     "collapsed": false,
     "input": [
      "plt.figure(figsize=(15,5))\n",
      "plt.xlim([0,10])\n",
      "import seaborn as sns\n",
      "sns.distplot(extDPI[\"snpcnt1\"].values,color='red',label=\"EUR\",hist=True,kde=False)\n",
      "sns.distplot(extDPI[\"snpcnt2\"].values,color='blue',label=\"AFR\",hist=True,kde=False)\n",
      "plt.legend()\n",
      "plt.show()"
     ],
     "language": "python",
     "metadata": {},
     "outputs": [
      {
       "metadata": {},
       "output_type": "display_data",
       "png": "[encoded data removed]",
       "text": [
        "<matplotlib.figure.Figure at 0x107f740d0>"
       ]
      }
     ],
     "prompt_number": 18
    },
    {
     "cell_type": "code",
     "collapsed": false,
     "input": [],
     "language": "python",
     "metadata": {},
     "outputs": [],
     "prompt_number": 18
    }
   ],
   "metadata": {}
  }
 ]
}