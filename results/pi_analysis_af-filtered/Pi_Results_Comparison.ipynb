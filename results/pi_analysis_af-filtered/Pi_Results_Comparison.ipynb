{
 "metadata": {
  "name": "",
  "signature": "sha256:206db27016288b6298d237bb9dea9fb42f24a79b1f5aa3400750213dabb28ab0"
 },
 "nbformat": 3,
 "nbformat_minor": 0,
 "worksheets": [
  {
   "cells": [
    {
     "cell_type": "code",
     "collapsed": false,
     "input": [
      "import numpy as np\n",
      "import pandas as pd\n",
      "pd.set_option('display.max_rows', 500)\n",
      "from collections import OrderedDict\n",
      "import matplotlib.pyplot as plt\n",
      "%matplotlib inline"
     ],
     "language": "python",
     "metadata": {},
     "outputs": [],
     "prompt_number": 5
    },
    {
     "cell_type": "code",
     "collapsed": false,
     "input": [
      "def filtr(tdf,cols=[\"#structid\",\"biounit\",\"nbrsnps1\",\"nbrsnps2\"]):\n",
      "    # Identify spheres with the same set of SNPs\n",
      "    ndup = (tdf.duplicated(cols)).values.sum()\n",
      "    print \"Number of SNP-set duplicates:\\t%d\"%ndup\n",
      "    print \"Number of unique SNP sets:\\t%d\"%(len(tdf)-ndup)\n",
      "    # Select only the sphere with the most extreme value of deltaPi\n",
      "    tdf[\"absdpi\"] = abs(tdf[\"dpi\"])\n",
      "    # Filter any spheres with a value of 0\n",
      "    tdf = tdf[tdf[\"absdpi\"]>0]\n",
      "    # Filter any spheres with fewer than 2 SNPs\n",
      "    tdf = tdf[(tdf[\"snpcnt1\"]>1) | (tdf[\"snpcnt2\"]>1)]\n",
      "    # Filter any spheres with allele counts less than 10\n",
      "    tdf = tdf[(tdf[\"ac1\"]>=10) | (tdf[\"ac2\"]>=10)]\n",
      "    tdf = tdf.groupby([\"#structid\",\"biounit\",\"nbrsnps1\",\"nbrsnps2\"]).apply(lambda x: x[x[\"dpi\"]==x[\"dpi\"].median()])\n",
      "    return tdf"
     ],
     "language": "python",
     "metadata": {},
     "outputs": [],
     "prompt_number": 6
    },
    {
     "cell_type": "code",
     "collapsed": false,
     "input": [
      "dtypes = OrderedDict([(\"structid\",str),(\"biounit\",np.uint16),(\"model\",np.uint16),(\"chain\",str),\n",
      "                      (\"seqid\",np.uint16),(\"nbrsnps1\",str),(\"nbrsnps2\",str),(\"snpcnt1\",np.uint16),\n",
      "                      (\"snpcnt2\",np.uint16),(\"ac1\",np.uint16),(\"ac2\",np.uint16),(\"pi1\",np.float64),\n",
      "                      (\"pi2\",np.float64),(\"dpi\",np.float64),(\"Ocnt1\",np.uint16),(\"Ocnt2\",np.uint16),\n",
      "                      (\"Opi1\",np.float64),(\"Opi2\",np.float64),(\"fet_or\",np.float64),(\"fetp\",np.float64),\n",
      "                      (\"chisq\",np.float64),(\"chip\",np.float64)])"
     ],
     "language": "python",
     "metadata": {},
     "outputs": [],
     "prompt_number": 7
    },
    {
     "cell_type": "code",
     "collapsed": false,
     "input": [
      "def read(fname,filter_sets=True):\n",
      "    df = pd.read_csv(fname,header=0,sep='\\t',dtype=dtypes)\n",
      "    print \"Total spheres examined:\\t\\t%d\"%len(df)\n",
      "    if filter_sets:\n",
      "        df = filtr(df)\n",
      "        print \"Total spheres after collapse:\\t%d\"%len(df)\n",
      "    # Identify spheres where deltaPi is NaN. These shouldn't exist.\n",
      "    df = df[~np.isnan(df[\"pi1\"])]\n",
      "    df = df[~np.isnan(df[\"pi2\"])]\n",
      "    print \"Total spheres after filtering NaN:\\t%d\"%len(df)\n",
      "    # Are there spheres where neighbor SNPs listed as NaN? If so, make sure their SNP count is 0\n",
      "    nansnp1 = (df[\"nbrsnps1\"].astype(str)==\"nan\").values \n",
      "    nansnp2 = (df[\"nbrsnps2\"].astype(str)==\"nan\").values\n",
      "    df.ix[nansnp1,\"snpcnt1\"] = 0\n",
      "    df.ix[nansnp2,\"snpcnt2\"] = 0\n",
      "    print \"Total spheres for Pi analysis:  \\t%d\"%len(df)\n",
      "    return df\n",
      "print \"Reading all...\"\n",
      "adf = read(\"all/pi_all.txt\")\n",
      "print \"\\nReading rare...\"\n",
      "rdf = read(\"rare/pi_rare.txt\")"
     ],
     "language": "python",
     "metadata": {},
     "outputs": [
      {
       "output_type": "stream",
       "stream": "stdout",
       "text": [
        "Reading all...\n",
        "Total spheres examined:\t\t454472"
       ]
      },
      {
       "output_type": "stream",
       "stream": "stdout",
       "text": [
        "\n",
        "Number of SNP-set duplicates:\t404751"
       ]
      },
      {
       "output_type": "stream",
       "stream": "stdout",
       "text": [
        "\n",
        "Number of unique SNP sets:\t49721\n",
        "Total spheres after collapse:\t11511"
       ]
      },
      {
       "output_type": "stream",
       "stream": "stdout",
       "text": [
        "\n",
        "Total spheres after filtering NaN:\t11511\n",
        "Total spheres for Pi analysis:  \t11511\n",
        "\n",
        "Reading rare...\n",
        "Total spheres examined:\t\t433180"
       ]
      },
      {
       "output_type": "stream",
       "stream": "stdout",
       "text": [
        "\n",
        "Number of SNP-set duplicates:\t389177"
       ]
      },
      {
       "output_type": "stream",
       "stream": "stdout",
       "text": [
        "\n",
        "Number of unique SNP sets:\t44003\n",
        "Total spheres after collapse:\t6578"
       ]
      },
      {
       "output_type": "stream",
       "stream": "stdout",
       "text": [
        "\n",
        "Total spheres after filtering NaN:\t6578\n",
        "Total spheres for Pi analysis:  \t6578\n"
       ]
      }
     ],
     "prompt_number": 8
    },
    {
     "cell_type": "code",
     "collapsed": false,
     "input": [
      "# Outer join the two datasets to get the best spheres from each dataset\n",
      "print \"Total ALL- SNP sets examined:\\t%d\"%len(adf)\n",
      "print \"Total RARE-SNP sets examined:\\t%d\"%len(rdf)\n",
      "mdf = adf.merge(rdf,on=[\"#structid\",\"biounit\",\"model\",\"chain\",\"seqid\",\"icode\"],how='outer')\n",
      "# mdf[[\"biounit\",\"model\",\"seqid\"]] = mdf[[\"biounit\",\"model\",\"seqid\"]].astype(int)\n",
      "print \"Total sites of unioned sets:\\t%d\"%len(mdf)"
     ],
     "language": "python",
     "metadata": {},
     "outputs": [
      {
       "output_type": "stream",
       "stream": "stdout",
       "text": [
        "Total ALL- SNP sets examined:\t11511\n",
        "Total RARE-SNP sets examined:\t6578\n",
        "Total sites of unioned sets:\t12180\n"
       ]
      }
     ],
     "prompt_number": 9
    },
    {
     "cell_type": "code",
     "collapsed": false,
     "input": [
      "# Rebuild each dataset to include the best sites from each dataset\n",
      "print \"Reading all dataset...\"\n",
      "adf = read(\"all/pi_all.txt\",filter_sets=False)\n",
      "print \"\\nSubsetting adf...\"\n",
      "adf = adf.merge(mdf,on=[\"#structid\",\"biounit\",\"model\",\"chain\",\"seqid\",\"icode\"],how='inner',suffixes=('','_y'))\n",
      "drpcol = [c for c in adf.columns.values if '_y' in c]\n",
      "adf.drop(drpcol,axis=1,inplace=True)\n",
      "print \"Size of adf: %d\"%len(adf)\n",
      "\n",
      "print \"\\nReading rare dataset...\"\n",
      "rdf = read(\"rare/pi_rare.txt\",filter_sets=False)\n",
      "print \"\\nSubsetting rdf...\"\n",
      "rdf = rdf.merge(mdf,on=[\"#structid\",\"biounit\",\"model\",\"chain\",\"seqid\",\"icode\"],how='inner',suffixes=('','_y'))\n",
      "drpcol = [c for c in rdf.columns.values if '_y' in c]\n",
      "rdf.drop(drpcol,axis=1,inplace=True)\n",
      "print \"Size of rdf: %d\"%len(rdf)"
     ],
     "language": "python",
     "metadata": {},
     "outputs": [
      {
       "output_type": "stream",
       "stream": "stdout",
       "text": [
        "Reading all dataset...\n",
        "Total spheres examined:\t\t454472"
       ]
      },
      {
       "output_type": "stream",
       "stream": "stdout",
       "text": [
        "\n",
        "Total spheres after filtering NaN:\t453827"
       ]
      },
      {
       "output_type": "stream",
       "stream": "stdout",
       "text": [
        "\n",
        "Total spheres for Pi analysis:  \t453827"
       ]
      },
      {
       "output_type": "stream",
       "stream": "stdout",
       "text": [
        "\n",
        "\n",
        "Subsetting adf...\n",
        "Size of adf: 13844"
       ]
      },
      {
       "output_type": "stream",
       "stream": "stdout",
       "text": [
        "\n",
        "\n",
        "Reading rare dataset...\n",
        "Total spheres examined:\t\t433180"
       ]
      },
      {
       "output_type": "stream",
       "stream": "stdout",
       "text": [
        "\n",
        "Total spheres after filtering NaN:\t433180"
       ]
      },
      {
       "output_type": "stream",
       "stream": "stdout",
       "text": [
        "\n",
        "Total spheres for Pi analysis:  \t433180"
       ]
      },
      {
       "output_type": "stream",
       "stream": "stdout",
       "text": [
        "\n",
        "\n",
        "Subsetting rdf...\n",
        "Size of rdf: 13136"
       ]
      },
      {
       "output_type": "stream",
       "stream": "stdout",
       "text": [
        "\n"
       ]
      }
     ],
     "prompt_number": 10
    },
    {
     "cell_type": "code",
     "collapsed": false,
     "input": [
      "# Collapse residue duplicates by taking the most extreme dPi rows\n",
      "adf = filtr(adf,cols=[\"#structid\",\"biounit\",\"model\",\"seqid\",\"chain\",\"seqid\",\"icode\"])\n",
      "print \"Size of adf: %d\"%len(adf)\n",
      "rdf = filtr(rdf,cols=[\"#structid\",\"biounit\",\"model\",\"seqid\",\"chain\",\"seqid\",\"icode\"])\n",
      "print \"Size of rdf: %d\"%len(rdf)\n",
      "# Once they have the same subset of rows (rdf may have fewer than adf), perform the outer join\n",
      "mdf = adf.merge(rdf,on=[\"#structid\",\"biounit\",\"model\",\"chain\",\"seqid\",\"icode\"],how='outer')\n",
      "mdf[[\"dpi_x\",\"dpi_y\"]] = mdf[[\"dpi_x\",\"dpi_y\"]].fillna(0)\n",
      "print \"\\nTotal sites of unioned data:\\t%d\"%len(mdf)"
     ],
     "language": "python",
     "metadata": {},
     "outputs": []
    },
    {
     "cell_type": "code",
     "collapsed": false,
     "input": [
      "# Plot all-dPi by rare-dPi\n",
      "matplotlib.rcParams.update({'font.size': 12})\n",
      "plt.figure(figsize=(20,10))\n",
      "plt.xlim([-.03,.03])\n",
      "plt.ylim([-.015,.015])\n",
      "plt.xlabel(\"Pi(AFR) > Pi(EUR)%sALL dPi%sPi(EUR) > Pi(AFR)\"%(''.join([' ' for i in range(25)]),''.join([' ' for i in range(25)])))\n",
      "plt.ylabel(\"Pi(AFR) > Pi(EUR)%sRARE dPi%sPi(EUR) > Pi(AFR)\"%(''.join([' ' for i in range(10)]),''.join([' ' for i in range(10)])))\n",
      "plt.title(\"Comparing Sphere dPi for All or Rare SNPs\")\n",
      "plt.scatter(mdf[\"dpi_x\"],mdf[\"dpi_y\"],s=30,alpha=0.2)\n",
      "plt.show()"
     ],
     "language": "python",
     "metadata": {},
     "outputs": []
    },
    {
     "cell_type": "code",
     "collapsed": false,
     "input": [
      "# Plot all-dPi by rare-dPi for spheres in the extreme of *either* dataset\n",
      "# Determine the thresholds\n",
      "p95_all     = np.percentile(adf['dpi'].values,99)\n",
      "p95_rare    = np.percentile(rdf['dpi'].values,99)\n",
      "p5_all      = np.percentile(adf['dpi'].values,1)\n",
      "p5_rare     = np.percentile(rdf['dpi'].values,1)\n",
      "matplotlib.rcParams.update({'font.size': 12})\n",
      "plt.figure(figsize=(20,10))\n",
      "plt.xlim([-.03,.03])\n",
      "plt.ylim([-.015,.015])\n",
      "plt.xlabel(\"Pi(AFR) > Pi(EUR)%sALL dPi%sPi(EUR) > Pi(AFR)\"%(''.join([' ' for i in range(25)]),''.join([' ' for i in range(25)])))\n",
      "plt.ylabel(\"Pi(AFR) > Pi(EUR)%sRARE dPi%sPi(EUR) > Pi(AFR)\"%(''.join([' ' for i in range(10)]),''.join([' ' for i in range(10)])))\n",
      "plt.title(\"Comparing Sphere dPi for Extreme Spheres by All or Rare Analysis\")\n",
      "\n",
      "fdf = mdf[(mdf[\"dpi_x\"]<p5_all) | (mdf[\"dpi_x\"]>p95_all) | (mdf[\"dpi_y\"]<p5_rare) | (mdf[\"dpi_y\"]>p95_rare)]\n",
      "# Missing spheres were empty, so set their dPi to 0\n",
      "print \"Shared between datasets:\\t%d\"%((fdf['dpi_y']!=0) & (fdf['dpi_x']!=0)).sum()\n",
      "print \"Equal dPi in both datasets:\\t%d\"%((fdf['dpi_y']!=0) & (fdf['dpi_x']!=0) & (fdf['dpi_x']==fdf['dpi_y'])).sum()\n",
      "print \"Divergent dPi between datasets:\\t%d\"%((fdf['dpi_y']!=0) & (fdf['dpi_x']!=0) & (fdf['dpi_x']!=fdf['dpi_y'])).sum()\n",
      "print \"Unique to the ALL  dataset:\\t%d\"%(fdf['dpi_y']==0).values.sum()\n",
      "print \"Unique to the RARE dataset:\\t%d\"%(fdf['dpi_x']==0).values.sum()\n",
      "print \"Number of outliers not plotted:\\t%d\"%((fdf['dpi_x']<-0.03) | (fdf['dpi_x']>0.03) | (fdf['dpi_y']<-0.015) | (fdf['dpi_y']>0.015)).sum()\n",
      "fdf[[\"dpi_x\",\"dpi_y\"]] = fdf[[\"dpi_x\",\"dpi_y\"]].fillna(0)\n",
      "plt.scatter(fdf[\"dpi_x\"],fdf[\"dpi_y\"],s=30,alpha=0.2)\n",
      "plt.show()"
     ],
     "language": "python",
     "metadata": {},
     "outputs": []
    },
    {
     "cell_type": "code",
     "collapsed": false,
     "input": [
      "# Manually selecting two points from the discrepant point clusters\n",
      "# The point in Q2 that is near where the diagonal would be\n",
      "print fdf.ix[(fdf[\"dpi_x\"]<-0.006) & (fdf[\"dpi_x\"]>-0.008) & (fdf[\"dpi_y\"]>0.002) & (fdf[\"dpi_y\"]<0.004),\n",
      "             [\"#structid\",\"biounit\",\"model\",\"chain\",\"seqid\",\"icode\",\"dpi_x\",\"dpi_y\",\"nbrsnps1_x\",\"nbrsnps2_x\",\"fet_or\",\"fetp\"]]\n",
      "print '--'\n",
      "# The point in Q4 that is farthest along what would be near the diagonal\n",
      "print fdf.ix[(fdf[\"dpi_x\"]>0.006) & (fdf[\"dpi_x\"]<0.008) & (fdf[\"dpi_y\"]<-0.003) & (fdf[\"dpi_y\"]>-0.005),\n",
      "             [\"#structid\",\"biounit\",\"model\",\"chain\",\"seqid\",\"icode\",\"dpi_x\",\"dpi_y\",\"nbrsnps1_x\",\"nbrsnps2_x\",\"fet_or\",\"fetp\"]]"
     ],
     "language": "python",
     "metadata": {},
     "outputs": []
    },
    {
     "cell_type": "code",
     "collapsed": false,
     "input": [
      "print \"List the outliers\"\n",
      "print fdf.ix[(fdf['dpi_x']<-0.03) | (fdf['dpi_x']>0.03) | (fdf['dpi_y']<-0.015) | (fdf['dpi_y']>0.015),\n",
      "             [\"#structid\",\"biounit\",\"model\",\"chain\",\"seqid\",\"icode\",\"dpi_x\",\"dpi_y\",\"nbrsnps1_x\",\"nbrsnps2_x\",\"fet_or\",\"fetp\"]]"
     ],
     "language": "python",
     "metadata": {},
     "outputs": []
    },
    {
     "cell_type": "code",
     "collapsed": false,
     "input": [
      "# Isolate the 8 most extreme spheres along the axes\n",
      "print \"Most Negative Extreme ALL with no signal from RARE\"\n",
      "tdf = fdf[(fdf[\"dpi_x\"]<0) & fdf[\"dpi_y\"]==0]\n",
      "print tdf.ix[np.argmin(tdf[\"dpi_x\"]),[\"#structid\",\"biounit\",\"model\",\"chain\",\"seqid\",\"icode\",\"dpi_x\",\"dpi_y\",\"nbrsnps1_x\",\"nbrsnps2_x\",\"fet_or\",\"fetp\"]]\n",
      "print \"\\nMost Positive Extreme ALL with no signal from RARE\"\n",
      "tdf = fdf[(fdf[\"dpi_x\"]>0) & fdf[\"dpi_y\"]==0]\n",
      "print tdf.ix[np.argmax(tdf[\"dpi_x\"]),[\"#structid\",\"biounit\",\"model\",\"chain\",\"seqid\",\"icode\",\"dpi_x\",\"dpi_y\",\"nbrsnps1_x\",\"nbrsnps2_x\",\"fet_or\",\"fetp\"]]\n",
      "print \"\\nMost Negative Extreme RARE with no signal from ALL\"\n",
      "tdf = fdf[(fdf[\"dpi_y\"]<0) & fdf[\"dpi_x\"]==0]\n",
      "print tdf.ix[np.argmin(tdf[\"dpi_y\"]),[\"#structid\",\"biounit\",\"model\",\"chain\",\"seqid\",\"icode\",\"dpi_x\",\"dpi_y\",\"nbrsnps1_y\",\"nbrsnps2_y\",\"fet_or\",\"fetp\"]]\n",
      "print \"\\nMost Positive Extreme RARE with no signal from ALL\"\n",
      "tdf = fdf[(fdf[\"dpi_y\"]>0) & fdf[\"dpi_x\"]==0]\n",
      "print tdf.ix[np.argmax(tdf[\"dpi_y\"]),[\"#structid\",\"biounit\",\"model\",\"chain\",\"seqid\",\"icode\",\"dpi_x\",\"dpi_y\",\"nbrsnps1_y\",\"nbrsnps2_y\",\"fet_or\",\"fetp\"]]\n",
      "\n",
      "print \"\\nMost Negative Extreme CONSISTENT between ALL+RARE\"\n",
      "cdf = fdf[((fdf[\"dpi_x\"]<0) & (fdf[\"dpi_y\"]<0))]\n",
      "print cdf.ix[np.argmax(cdf[\"dpi_x\"]**2+cdf[\"dpi_y\"]**2),[\"#structid\",\"biounit\",\"model\",\"chain\",\"seqid\",\"icode\",\"dpi_x\",\"dpi_y\",\"nbrsnps1\",\"nbrsnps2\",\"fet_or\",\"fetp\"]]\n",
      "print \"\\nMost Positive Extreme CONSISTENT between ALL+RARE\"\n",
      "cdf = fdf[((fdf[\"dpi_x\"]>0) & (fdf[\"dpi_y\"]>0))]\n",
      "print cdf.ix[np.argmax(cdf[\"dpi_x\"]**2+cdf[\"dpi_y\"]**2),[\"#structid\",\"biounit\",\"model\",\"chain\",\"seqid\",\"icode\",\"dpi_x\",\"dpi_y\",\"nbrsnps1\",\"nbrsnps2\",\"fet_or\",\"fetp\"]]\n",
      "\n",
      "print \"\\nMost NEG/POS (Q2) Extreme DISCREPANT between ALL+RARE\"\n",
      "ddf = fdf[(fdf[\"dpi_x\"]<0) & (fdf[\"dpi_y\"]>0)]\n",
      "print ddf.ix[np.argmax(ddf[\"dpi_y\"]**2+ddf[\"dpi_x\"]**2),[\"#structid\",\"biounit\",\"model\",\"chain\",\"seqid\",\"icode\",\"dpi_x\",\"dpi_y\",\"nbrsnps1\",\"nbrsnps2\",\"fet_or\",\"fetp\"]]\n",
      "print \"\\nMost POS/NEG (Q4) Extreme DISCREPANT between ALL+RARE\"\n",
      "ddf = fdf[(fdf[\"dpi_x\"]>0) & (fdf[\"dpi_y\"]<0)]\n",
      "print ddf.ix[np.argmax(ddf[\"dpi_x\"]**2+ddf[\"dpi_y\"]**2),[\"#structid\",\"biounit\",\"model\",\"chain\",\"seqid\",\"icode\",\"dpi_x\",\"dpi_y\",\"nbrsnps1\",\"nbrsnps2\",\"fet_or\",\"fetp\"]]"
     ],
     "language": "python",
     "metadata": {},
     "outputs": []
    },
    {
     "cell_type": "code",
     "collapsed": false,
     "input": [
      "# It seems that most of the top-scoring spheres have a NaN FET values.\n",
      "# Do all of them have NaN FET values? What proportion?\n",
      "print np.isnan(adf[\"fet_or\"]).sum()*100 / float(len(adf))\n",
      "print np.isnan(rdf[\"fet_or\"]).sum()*100 / float(len(rdf))\n",
      "# So not all, what about in the extreme merged set?\n",
      "print np.isnan(fdf[\"fet_or_x\"]).sum()*100 / float((fdf[\"dpi_x\"]!=0).sum())\n",
      "print np.isnan(fdf[\"fet_or_y\"]).sum()*100 / float((fdf[\"dpi_y\"]!=0).sum())\n",
      "# So the proportion is the same in the extremes for the all-set\n",
      "# But about twice as large for the rare-set, suggesting that more of the rare extremes are driven by pop-specific variants\n",
      "print fdf[\"snpcnt1\"]"
     ],
     "language": "python",
     "metadata": {},
     "outputs": []
    },
    {
     "cell_type": "code",
     "collapsed": false,
     "input": [],
     "language": "python",
     "metadata": {},
     "outputs": []
    }
   ],
   "metadata": {}
  }
 ]
}