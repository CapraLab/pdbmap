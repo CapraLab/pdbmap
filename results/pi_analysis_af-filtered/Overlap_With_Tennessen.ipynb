{
 "metadata": {
  "name": "",
  "signature": "sha256:70fd6d41147b6b01e7b38ee811ebf4d319afd63c168063580f64a6200f46d7ce"
 },
 "nbformat": 3,
 "nbformat_minor": 0,
 "worksheets": [
  {
   "cells": [
    {
     "cell_type": "code",
     "collapsed": false,
     "input": [
      "import numpy as np\n",
      "import pandas as pd\n",
      "import matplotlib.pyplot as plt\n",
      "from pi_util import *\n",
      "%matplotlib inline"
     ],
     "language": "python",
     "metadata": {},
     "outputs": [],
     "prompt_number": 25
    },
    {
     "cell_type": "code",
     "collapsed": false,
     "input": [
      "tennessen = pd.read_csv(\"/Volumes/sivleyrm/pdbmap/data/pi_analysis/TennessenGenes.txt\",sep='\\t')\n",
      "print \"%d of %d Tennessen genes have solved structures\"%(len(tennessen[[\"PDB\",\"Biounit\",\"Chain\"]].dropna(how='any').drop_duplicates()),len(tennessen))\n",
      "tennessen = tennessen.dropna(subset=[\"PDB\",\"Biounit\",\"Chain\"],how=\"any\")\n",
      "tcov      = len(tennessen)"
     ],
     "language": "python",
     "metadata": {},
     "outputs": [
      {
       "output_type": "stream",
       "stream": "stdout",
       "text": [
        "18 of 114 Tennessen genes have solved structures\n"
       ]
      }
     ],
     "prompt_number": 26
    },
    {
     "cell_type": "code",
     "collapsed": false,
     "input": [
      "# Use pi_util to load, filter, collapse, and threshold the dataset\n",
      "df   = load_results(\"all_pi.txt\",unp=True)\n",
      "rcov = len(df[df[\"unp\"].isin(tennessen[\"UNP\"])].drop_duplicates(\"unp\"))\n",
      "df   = df[df[\"unp\"].isin(tennessen[\"UNP\"])]\n",
      "print \"%d of %d genes in results set\"%(rcov,tcov)"
     ],
     "language": "python",
     "metadata": {},
     "outputs": [
      {
       "output_type": "stream",
       "stream": "stdout",
       "text": [
        "\n",
        "Total 2+ SNP spheres (3121 PDBs) examined:\t\t292804\n",
        "Total spheres after filtering NaN:\t\t\t292804"
       ]
      },
      {
       "output_type": "stream",
       "stream": "stdout",
       "text": [
        "\n",
        "Total spheres after checking 2+ SNPs:\t\t\t64916\n",
        "Total spheres after removing non-differentiated:\t64916"
       ]
      },
      {
       "output_type": "stream",
       "stream": "stdout",
       "text": [
        "\n",
        "64916 spheres (2136 PDBs) passed all criteria\n",
        "11 of 18 genes in results set\n"
       ]
      }
     ],
     "prompt_number": 27
    },
    {
     "cell_type": "code",
     "collapsed": false,
     "input": [
      "df = filter_fet(df,0.05,adj=False)\n",
      "df = collapse(df)\n",
      "print \"%d of %d genes with nominally localized spheres\"%(len(df[df[\"unp\"].isin(tennessen[\"UNP\"])].drop_duplicates(\"unp\")),rcov)"
     ],
     "language": "python",
     "metadata": {},
     "outputs": [
      {
       "output_type": "stream",
       "stream": "stdout",
       "text": [
        "21 spheres (2 PDBs) with FET p.adj<0.05\n",
        "3 non-redundant spheres (2 PDBs).\n",
        "2 of 11 genes with nominally localized spheres\n"
       ]
      }
     ],
     "prompt_number": 28
    },
    {
     "cell_type": "code",
     "collapsed": false,
     "input": [
      "print df[[\"unp\",\"structid\",\"chain\",\"seqid\",\"dpi\",\"fet_or\",\"fetp\"]]"
     ],
     "language": "python",
     "metadata": {},
     "outputs": [
      {
       "output_type": "stream",
       "stream": "stdout",
       "text": [
        "          unp structid chain  seqid       dpi    fet_or      fetp\n",
        "23418  P22830     1HRK     A    312  0.000142       inf  0.033110\n",
        "84467  P17693     2DYP     A    217  0.001600  2.250000  0.030143\n",
        "84486  P17693     2DYP     A    261  0.002037  2.250000  0.030143\n"
       ]
      }
     ],
     "prompt_number": 29
    },
    {
     "cell_type": "code",
     "collapsed": false,
     "input": [
      "df = filter_fet(df,0.05,adj=True)\n",
      "df = collapse(df)\n",
      "print \"%d of %d genes with significantly localized spheres\"%(len(df[df[\"unp\"].isin(tennessen[\"UNP\"])].drop_duplicates(\"unp\")),rcov)"
     ],
     "language": "python",
     "metadata": {},
     "outputs": [
      {
       "output_type": "stream",
       "stream": "stdout",
       "text": [
        "0 spheres (0 PDBs) with FET p.adj<0.05\n",
        "0 non-redundant spheres (0 PDBs).\n",
        "0 of 11 genes with significantly localized spheres\n"
       ]
      }
     ],
     "prompt_number": 30
    },
    {
     "cell_type": "code",
     "collapsed": false,
     "input": [
      "print df[[\"unp\",\"structid\",\"chain\",\"seqid\",\"dpi\",\"fet_or\",\"fet_padj\"]]"
     ],
     "language": "python",
     "metadata": {},
     "outputs": [
      {
       "output_type": "stream",
       "stream": "stdout",
       "text": [
        "Empty DataFrame\n",
        "Columns: [unp, structid, chain, seqid, dpi, fet_or, fet_padj]\n",
        "Index: []\n"
       ]
      }
     ],
     "prompt_number": 31
    }
   ],
   "metadata": {}
  }
 ]
}