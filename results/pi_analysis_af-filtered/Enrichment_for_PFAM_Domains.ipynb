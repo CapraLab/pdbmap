{
 "metadata": {
  "name": "",
  "signature": "sha256:6b019ac9cd8d913b458c5dab9a91c4d0c64150a2801a158ee4dfd3e816909db4"
 },
 "nbformat": 3,
 "nbformat_minor": 0,
 "worksheets": [
  {
   "cells": [
    {
     "cell_type": "code",
     "collapsed": false,
     "input": [
      "import numpy as np\n",
      "import pandas as pd\n",
      "import matplotlib.pyplot as plt\n",
      "from pi_util import *\n",
      "%matplotlib inline\n",
      "from scipy.stats import hypergeom\n",
      "from statsmodels.sandbox.stats.multicomp import multipletests as fdr\n",
      "from collections import OrderedDict"
     ],
     "language": "python",
     "metadata": {},
     "outputs": [],
     "prompt_number": 14
    },
    {
     "cell_type": "markdown",
     "metadata": {},
     "source": [
      "## All Missense Variants"
     ]
    },
    {
     "cell_type": "code",
     "collapsed": false,
     "input": [
      "# Load the dataset and reduce to valid, non-redundant spheres\n",
      "adf = load_results(\"all_pi.txt\",unp=True)\n",
      "adf = collapse(adf)\n",
      "# df = filter_fet(adf,0.05)\n",
      "df = adf"
     ],
     "language": "python",
     "metadata": {},
     "outputs": [
      {
       "output_type": "stream",
       "stream": "stdout",
       "text": [
        "\n",
        "Total 2+ SNP spheres (3121 PDBs) examined:\t\t292804\n",
        "Total spheres after filtering NaN:\t\t\t292804"
       ]
      },
      {
       "output_type": "stream",
       "stream": "stdout",
       "text": [
        "\n",
        "Total spheres after checking 2+ SNPs:\t\t\t64916\n",
        "Total spheres after removing non-differentiated:\t64916"
       ]
      },
      {
       "output_type": "stream",
       "stream": "stdout",
       "text": [
        "\n",
        "64916 spheres (2136 PDBs) passed all criteria\n",
        "18204 non-redundant spheres (2136 PDBs)."
       ]
      },
      {
       "output_type": "stream",
       "stream": "stdout",
       "text": [
        "\n"
       ]
      }
     ],
     "prompt_number": 15
    },
    {
     "cell_type": "markdown",
     "metadata": {},
     "source": [
      "### Overall PFAM Enrichment"
     ]
    },
    {
     "cell_type": "code",
     "collapsed": false,
     "input": [
      "# ## PFAM Enrichment in the FET-significant subset\n",
      "# # Hypergeometric parameters\n",
      "# x = df[\"pfam_acc\"].notnull().sum() # pfam in tails\n",
      "# M = len(adf)                         # total spheres\n",
      "# n = adf[\"pfam_acc\"].notnull().sum()  # total pfam\n",
      "# N = len(df)                        # spheres in tails\n",
      "\n",
      "# # Enrichment by hypergeometric test\n",
      "# print \"\\nHypergeometric params: (%d,%d,%d,%d)\"%(x,M,n,N)\n",
      "# print \"Hypergeometric p-value: %.3g\"%hypergeom.sf(x,M,n,N)"
     ],
     "language": "python",
     "metadata": {},
     "outputs": [],
     "prompt_number": 16
    },
    {
     "cell_type": "code",
     "collapsed": false,
     "input": [
      "## PFAM Enrichment in the lower tail (EUR-constrained)\n",
      "ldf = tails(df,10,tail='lower')\n",
      "\n",
      "# Hypergeometric parameters\n",
      "x = ldf[\"pfam_acc\"].notnull().sum() # pfam in tails\n",
      "M = len(adf)                         # total spheres\n",
      "n = adf[\"pfam_acc\"].notnull().sum()  # total pfam\n",
      "N = len(ldf)                        # spheres in tails\n",
      "\n",
      "# Enrichment by hypergeometric test\n",
      "print \"\\nHypergeometric params: (%d,%d,%d,%d)\"%(x,M,n,N)\n",
      "print \"Hypergeometric p-value: %.3g\"%hypergeom.sf(x,M,n,N)"
     ],
     "language": "python",
     "metadata": {},
     "outputs": [
      {
       "output_type": "stream",
       "stream": "stdout",
       "text": [
        "  Lower  10.0 percentile: -0.000435536\n",
        "1821 spheres (581 PDBs) in the 10% tail(s) of the dPi distribution\n",
        "\n",
        "Hypergeometric params: (1459,18204,15061,1821)\n",
        "Hypergeometric p-value: 0.999\n"
       ]
      }
     ],
     "prompt_number": 17
    },
    {
     "cell_type": "code",
     "collapsed": false,
     "input": [
      "## PFAM Enrichment in the upper tail (AFR-constrained)\n",
      "udf = tails(df,10,tail='upper')\n",
      "\n",
      "# Hypergeometric parameters\n",
      "x = udf[\"pfam_acc\"].notnull().sum() # pfam in tails\n",
      "M = len(adf)                         # total spheres\n",
      "n = adf[\"pfam_acc\"].notnull().sum()  # total pfam\n",
      "N = len(udf)                        # spheres in tails\n",
      "\n",
      "# Enrichment by hypergeometric test\n",
      "print \"\\nHypergeometric params: (%d,%d,%d,%d)\"%(x,M,n,N)\n",
      "print \"Hypergeometric p-value: %.3g\"%hypergeom.sf(x,M,n,N)"
     ],
     "language": "python",
     "metadata": {},
     "outputs": [
      {
       "output_type": "stream",
       "stream": "stdout",
       "text": [
        "  Upper  90.0 percentile:  0.000120575\n",
        "1821 spheres (603 PDBs) in the 10% tail(s) of the dPi distribution\n",
        "\n",
        "Hypergeometric params: (1461,18204,15061,1821)\n",
        "Hypergeometric p-value: 0.998\n"
       ]
      }
     ],
     "prompt_number": 18
    },
    {
     "cell_type": "markdown",
     "metadata": {},
     "source": [
      "### PFAM Domain Enrichment"
     ]
    },
    {
     "cell_type": "code",
     "collapsed": false,
     "input": [
      "pfam_acc  = [p for r in adf[adf[\"pfam_acc\"].notnull()][\"pfam_acc\"].values for p in r.split(',')]\n",
      "pfam_desc = [p for r in adf[adf[\"pfam_domain\"].notnull()][\"pfam_domain\"].values for p in r.split(',')]\n",
      "# Map from PFAM ACC to Domain description *before* removing duplicates\n",
      "pfam_dict = dict((pfam_acc[i],pfam_desc[i]) for i in range(len(pfam_acc)))\n",
      "pfam_acc  = list(set(pfam_acc))\n",
      "print \"Testing Enrichment for %d PFAM domains\"%len(pfam_acc)"
     ],
     "language": "python",
     "metadata": {},
     "outputs": [
      {
       "output_type": "stream",
       "stream": "stdout",
       "text": [
        "Testing Enrichment for 1176 PFAM domains\n"
       ]
      }
     ],
     "prompt_number": 19
    },
    {
     "cell_type": "code",
     "collapsed": false,
     "input": [
      "# ## PFAM Enrichment in the FET-significant subset\n",
      "# # Hypergeometric parameters\n",
      "# hdict = OrderedDict({})\n",
      "# pdict = OrderedDict({})\n",
      "# for acc in pfam_acc:\n",
      "#     x = df[\"pfam_acc\"].str.contains(acc).sum() # pfam-acc in tails\n",
      "#     M = len(adf)                                 # total spheres\n",
      "#     n = adf[\"pfam_acc\"].str.contains(acc).sum()  # total pfam-acc\n",
      "#     N = len(df)                                # spheres in tails\n",
      "#     p = hypergeom.sf(x,M,n,N)\n",
      "#     hdict[acc] = (x,M,n,N)\n",
      "#     pdict[acc] = p\n",
      "\n",
      "# # Correct for multiple testing\n",
      "# pvec = pdict.values()\n",
      "# _,pvec,_,_ = fdr(pvec,0.01,method=\"fdr_bh\")\n",
      "\n",
      "# # Update p-values (order is retained by OrderedDict)\n",
      "# for i,key in enumerate(pdict.keys()):\n",
      "#     pdict[key] = pvec[i]\n",
      "\n",
      "# # Summarize\n",
      "# print \"\\nSignificant enrichment (adjp<0.01) for %d PFAM domains.\\n\"%(pvec<0.01).sum()\n",
      "# print \"PFAM Enrichment Summary (Minimum Group Size: 2):\"\n",
      "# for adjp,acc in sorted([(adjp,acc) for acc,adjp in pdict.iteritems()]):\n",
      "#     if hdict[acc][2]<2:continue # only consider PFAM domains with 2+ overlapping sphers\n",
      "#     if adjp>=0.01:break         # significant enrichments only, minimum group size: 2\n",
      "#     sidlist = ','.join(list(df.ix[(df[\"pfam_acc\"].notnull()) & (df[\"pfam_acc\"].str.contains(acc)),\"structid\"].drop_duplicates().values))\n",
      "#     if len(sidlist.split(','))<2:continue  # only consider PFAM domains overlapped in 2+ structures\n",
      "#     print \"%.1e\\t%10s\\t%15s\\t%s\\t%s\"%(adjp,acc,pfam_dict[acc],str(hdict[acc]),sidlist)"
     ],
     "language": "python",
     "metadata": {},
     "outputs": [],
     "prompt_number": 20
    },
    {
     "cell_type": "code",
     "collapsed": false,
     "input": [
      "## PFAM Enrichment in the lower tail (EUR-constrained)\n",
      "ldf = tails(df,15,tail='lower')\n",
      "\n",
      "# Hypergeometric parameters\n",
      "hdict = OrderedDict({})\n",
      "pdict = OrderedDict({})\n",
      "for acc in pfam_acc:\n",
      "    x = ldf[\"pfam_acc\"].str.contains(acc).sum() # pfam-acc in tails\n",
      "    M = len(adf)                                 # total spheres\n",
      "    n = adf[\"pfam_acc\"].str.contains(acc).sum()  # total pfam-acc\n",
      "    N = len(ldf)                                # spheres in tails\n",
      "    p = hypergeom.sf(x,M,n,N)\n",
      "    hdict[acc] = (x,M,n,N)\n",
      "    pdict[acc] = p\n",
      "\n",
      "# Correct for multiple testing\n",
      "pvec = pdict.values()\n",
      "_,pvec,_,_ = fdr(pvec,0.01,method=\"fdr_bh\")\n",
      "\n",
      "# Update p-values (order is retained by OrderedDict)\n",
      "for i,key in enumerate(pdict.keys()):\n",
      "    pdict[key] = pvec[i]\n",
      "\n",
      "# Summarize\n",
      "print \"\\nSignificant enrichment (adjp<0.01) for %d PFAM domains.\\n\"%(pvec<0.01).sum()\n",
      "print \"PFAM Enrichment Summary (Minimum Group Size: 2):\"\n",
      "for adjp,acc in sorted([(adjp,acc) for acc,adjp in pdict.iteritems()]):\n",
      "    if hdict[acc][2]<2:continue # only consider PFAM domains with 2+ overlapping spheres\n",
      "    if adjp>=0.01:break         # significant enrichments only, minimum group size: 2\n",
      "    sidlist = ','.join(list(ldf.ix[(ldf[\"pfam_acc\"].notnull()) & (ldf[\"pfam_acc\"].str.contains(acc)),\"structid\"].sort(inplace=False).drop_duplicates().values))\n",
      "    if len(sidlist.split(','))<2:continue  # only consider PFAM domains overlapped in 2+ structures\n",
      "    print \"%.1e\\t%10s\\t%15s\\t%s\\t%s\"%(adjp,acc,pfam_dict[acc],str(hdict[acc]),sidlist)"
     ],
     "language": "python",
     "metadata": {},
     "outputs": [
      {
       "output_type": "stream",
       "stream": "stdout",
       "text": [
        "  Lower  15.0 percentile: -0.000232981\n",
        "2731 spheres (736 PDBs) in the 15% tail(s) of the dPi distribution\n",
        "\n",
        "Significant enrichment (adjp<0.01) for 82 PFAM domains.\n"
       ]
      },
      {
       "output_type": "stream",
       "stream": "stdout",
       "text": [
        "\n",
        "PFAM Enrichment Summary (Minimum Group Size: 2):\n",
        "6.0e-17\tPF07654.10\t         C1-set\t(70, 18204, 163, 2731)\t1GZQ,1IGA,2H32,2WQR,3PV6,4C54,4I2X\n",
        "5.1e-10\t PF08205.7\t       C2-set_2\t(53, 18204, 142, 2731)\t1IGA,2H32,2WQR,3PV6,4C54,4I2X\n",
        "6.2e-10\tPF01179.15\t  Cu_amine_oxid\t(23, 18204, 38, 2731)\t3ALA,3HI7\n",
        "5.7e-07\tPF00266.14\t    Aminotran_5\t(28, 18204, 66, 2731)\t3E77,3GZC,3R9A\n",
        "2.6e-06\tPF01026.16\t     TatD_DNase\t(12, 18204, 18, 2731)\t2XIO,2Y1H\n",
        "1.2e-05\tPF00026.18\t            Asp\t(24, 18204, 59, 2731)\t1FLH,1HTR\n",
        "2.2e-05\tPF00255.14\t          GSHPx\t(20, 18204, 46, 2731)\t2I3Y,2OBI\n",
        "7.8e-05\t PF13895.1\t           Ig_2\t(91, 18204, 386, 2731)\t1B6U,1E07,1IGA,1P53,1P6F,1UCT,2IFG,2JJU,2OTP,2OZ4,3KGR,3O4O,3PV6,4BSJ,4DKD,4F9L,4H5S,4I2X,4KC3,4LP5"
       ]
      },
      {
       "output_type": "stream",
       "stream": "stdout",
       "text": [
        "\n",
        "4.5e-04\tPF00248.16\t   Aldo_ket_red\t(43, 18204, 156, 2731)\t1J96,1MRQ,1RY0,2BP1,2CLP\n",
        "4.5e-04\tPF02230.11\t  Abhydrolase_2\t(12, 18204, 25, 2731)\t1FJ2,3U0V\n",
        "8.6e-04\t PF13927.1\t           Ig_3\t(52, 18204, 205, 2731)\t1B6U,1IGA,1P6F,2OM5,2WQR,3KGR,3O4O,3PV6,4BSJ,4C54,4DKD,4LL9,4LLA\n",
        "1.2e-03\t PF13499.1\t      EF-hand_7\t(23, 18204, 70, 2731)\t1GGZ,2BEC,2GGZ,3E3R\n",
        "1.6e-03\t PF06602.9\t Myotub-related\t(7, 18204, 12, 2731)\t1ZVR,2YF0\n",
        "2.3e-03\t PF13405.1\t      EF-hand_6\t(15, 18204, 40, 2731)\t1K94,2BEC,2GGZ,3E3R\n",
        "2.5e-03\t PF13202.1\t      EF-hand_5\t(12, 18204, 29, 2731)\t1K94,2BEC,2GGZ,3E3R\n",
        "2.7e-03\tPF00629.18\t            MAM\t(6, 18204, 10, 2731)\t2V5Y,4GWM"
       ]
      },
      {
       "output_type": "stream",
       "stream": "stdout",
       "text": [
        "\n",
        "2.9e-03\tPF00644.15\t           PARP\t(14, 18204, 37, 2731)\t2PQF,3BLJ,3C49\n",
        "3.0e-03\tPF00048.15\t            IL8\t(16, 18204, 45, 2731)\t2MGS,2NYZ,2RA4,2X69,4OIK\n",
        "3.0e-03\tPF01216.12\t  Calsequestrin\t(8, 18204, 16, 2731)\t2VAF,3UOM\n",
        "4.3e-03\tPF00082.17\t   Peptidase_S8\t(11, 18204, 27, 2731)\t2P4E,2PMW,3EDY\n",
        "5.1e-03\t PF07859.8\t  Abhydrolase_3\t(14, 18204, 39, 2731)\t1FJ2,2HRQ,3U0V\n",
        "6.3e-03\tPF00337.17\tGal-bind_lectin\t(12, 18204, 32, 2731)\t1G86,1HLC,2ZHN,4LBM\n",
        "6.4e-03\tPF00143.14\t     Interferon\t(9, 18204, 21, 2731)\t1AU1,2LAG\n",
        "8.9e-03\tPF01403.14\t           Sema\t(17, 18204, 54, 2731)\t2UZX,3NVQ,4FWW"
       ]
      },
      {
       "output_type": "stream",
       "stream": "stdout",
       "text": [
        "\n",
        "9.2e-03\tPF00024.21\t          PAN_1\t(5, 18204, 9, 2731)\t2F83,4A5T\n"
       ]
      }
     ],
     "prompt_number": 31
    },
    {
     "cell_type": "code",
     "collapsed": false,
     "input": [
      "## PFAM Enrichment in the upper tail (AFR-constrained)\n",
      "udf = tails(df,15,tail='upper')\n",
      "\n",
      "# Hypergeometric parameters\n",
      "hdict = OrderedDict({})\n",
      "pdict = OrderedDict({})\n",
      "for acc in pfam_acc:\n",
      "    x = udf[\"pfam_acc\"].str.contains(acc).sum() # pfam-acc in tails\n",
      "    M = len(adf)                                 # total spheres\n",
      "    n = adf[\"pfam_acc\"].str.contains(acc).sum()  # total pfam-acc\n",
      "    N = len(udf)                                # spheres in tails\n",
      "    p = hypergeom.sf(x,M,n,N)\n",
      "    hdict[acc] = (x,M,n,N)\n",
      "    pdict[acc] = p\n",
      "\n",
      "# Correct for multiple testing\n",
      "pvec = pdict.values()\n",
      "_,pvec,_,_ = fdr(pvec,0.01,method=\"fdr_bh\")\n",
      "\n",
      "# Update p-values (order is retained by OrderedDict)\n",
      "for i,key in enumerate(pdict.keys()):\n",
      "    pdict[key] = pvec[i]\n",
      "\n",
      "# Summarize\n",
      "print \"\\nSignificant enrichment (adjp<0.01) for %d PFAM domains.\\n\"%(pvec<0.01).sum()\n",
      "print \"PFAM Enrichment Summary (Minimum Group Size: 2):\"\n",
      "for adjp,acc in sorted([(adjp,acc) for acc,adjp in pdict.iteritems()]):\n",
      "    if hdict[acc][2]<2:continue # only consider PFAM domains with 2+ overlapping sphers\n",
      "    if adjp>=0.01:break         # significant enrichments only, minimum group size: 2\n",
      "    sidlist = ','.join(list(udf.ix[(udf[\"pfam_acc\"].notnull()) & (udf[\"pfam_acc\"].str.contains(acc)),\"structid\"].sort(inplace=False).drop_duplicates().values))\n",
      "    if len(sidlist.split(','))<2:continue  # only consider PFAM domains overlapped in 2+ structures\n",
      "    print \"%.1e\\t%10s\\t%15s\\t%s\\t%s\"%(adjp,acc,pfam_dict[acc],str(hdict[acc]),sidlist)"
     ],
     "language": "python",
     "metadata": {},
     "outputs": [
      {
       "output_type": "stream",
       "stream": "stdout",
       "text": [
        "  Upper  85.0 percentile:  5.71611e-05\n",
        "2725 spheres (859 PDBs) in the 15% tail(s) of the dPi distribution\n",
        "\n",
        "Significant enrichment (adjp<0.01) for 78 PFAM domains.\n"
       ]
      },
      {
       "output_type": "stream",
       "stream": "stdout",
       "text": [
        "\n",
        "PFAM Enrichment Summary (Minimum Group Size: 2):\n",
        "5.6e-08\tPF07686.12\t          V-set\t(49, 18204, 143, 2725)\t1E07,2H32,2JJU,2ZG2,3CX2,3NOI,3QR2,3ZYI,4F8Q,4FRW\n",
        "2.3e-07\t PF06083.6\t           IL17\t(14, 18204, 21, 2725)\t2VXS,3JVF\n",
        "3.2e-06\t PF05724.6\t           TPMT\t(14, 18204, 24, 2725)\t2BZG,2H11\n",
        "2.4e-04\t PF14651.1\t    Lipocalin_7\t(14, 18204, 31, 2725)\t2MM3,3RSW\n",
        "5.5e-04\tPF00685.22\tSulfotransfer_1\t(45, 18204, 169, 2725)\t1Q20,1Z28,1Z29,2H8K,3AP2,3BD9,3BFX,3CKL"
       ]
      },
      {
       "output_type": "stream",
       "stream": "stdout",
       "text": [
        "\n",
        "1.3e-03\tPF00348.12\tpolyprenyl_synt\t(5, 18204, 7, 2725)\t2F89,2Q80\n",
        "1.3e-03\tPF02138.13\t          Beach\t(5, 18204, 7, 2725)\t1MI1,1T77\n",
        "1.5e-03\tPF05185.11\t          PRMT5\t(8, 18204, 15, 2725)\t2FYT,4HC4\n",
        "2.5e-03\tPF00754.20\t   F5_F8_type_C\t(13, 18204, 33, 2725)\t1CZS,1TVG,2QQM,2QQO\n",
        "7.3e-03\t PF13855.1\t          LRR_8\t(22, 18204, 75, 2725)\t2XWT,2Z7X,4BSR,4G8A,4KT1\n",
        "7.8e-03\tPF00050.16\t        Kazal_1\t(3, 18204, 4, 2725)\t1BMO,2P6A\n",
        "7.8e-03\tPF07648.10\t        Kazal_2\t(3, 18204, 4, 2725)\t1BMO,2P6A,3T5O\n",
        "1.0e-02\t PF13578.1\tMethyltransf_24\t(6, 18204, 12, 2725)\t3BWM,3BWY"
       ]
      },
      {
       "output_type": "stream",
       "stream": "stdout",
       "text": [
        "\n"
       ]
      }
     ],
     "prompt_number": 32
    },
    {
     "cell_type": "markdown",
     "metadata": {},
     "source": [
      "## Rare Missense Variants"
     ]
    },
    {
     "cell_type": "code",
     "collapsed": false,
     "input": [
      "# Load the dataset and reduce to valid, non-redundant spheres\n",
      "adf = load_results(\"rare_pi.txt\")\n",
      "adf = collapse(adf)\n",
      "df = filter_fet(adf,0.01)"
     ],
     "language": "python",
     "metadata": {},
     "outputs": []
    },
    {
     "cell_type": "markdown",
     "metadata": {},
     "source": [
      "### Overall PFAM Enrichment"
     ]
    },
    {
     "cell_type": "code",
     "collapsed": false,
     "input": [
      "## PFAM Enrichment in the FET-significant subset\n",
      "# Hypergeometric parameters\n",
      "x = df[\"pfam_acc\"].notnull().sum() # pfam in tails\n",
      "M = len(adf)                         # total spheres\n",
      "n = adf[\"pfam_acc\"].notnull().sum()  # total pfam\n",
      "N = len(df)                        # spheres in tails\n",
      "\n",
      "# Enrichment by hypergeometric test\n",
      "print \"\\nHypergeometric params: (%d,%d,%d,%d)\"%(x,M,n,N)\n",
      "print \"Hypergeometric p-value: %.3g\"%hypergeom.sf(x,M,n,N)"
     ],
     "language": "python",
     "metadata": {},
     "outputs": []
    },
    {
     "cell_type": "code",
     "collapsed": false,
     "input": [
      "## PFAM Enrichment in the lower tail (EUR-constrained)\n",
      "ldf = tails(df,15,tail='lower')\n",
      "\n",
      "# Hypergeometric parameters\n",
      "x = ldf[\"pfam_acc\"].notnull().sum() # pfam in tails\n",
      "M = len(adf)                         # total spheres\n",
      "n = adf[\"pfam_acc\"].notnull().sum()  # total pfam\n",
      "N = len(ldf)                        # spheres in tails\n",
      "\n",
      "# Enrichment by hypergeometric test\n",
      "print \"\\nHypergeometric params: (%d,%d,%d,%d)\"%(x,M,n,N)\n",
      "print \"Hypergeometric p-value: %.3g\"%hypergeom.sf(x,M,n,N)"
     ],
     "language": "python",
     "metadata": {},
     "outputs": []
    },
    {
     "cell_type": "code",
     "collapsed": false,
     "input": [
      "## PFAM Enrichment in the upper tail (AFR-constrained)\n",
      "udf = tails(df,15,tail='upper')\n",
      "\n",
      "# Hypergeometric parameters\n",
      "x = udf[\"pfam_acc\"].notnull().sum() # pfam in tails\n",
      "M = len(adf)                         # total spheres\n",
      "n = adf[\"pfam_acc\"].notnull().sum()  # total pfam\n",
      "N = len(udf)                        # spheres in tails\n",
      "\n",
      "# Enrichment by hypergeometric test\n",
      "print \"\\nHypergeometric params: (%d,%d,%d,%d)\"%(x,M,n,N)\n",
      "print \"Hypergeometric p-value: %.3g\"%hypergeom.sf(x,M,n,N)"
     ],
     "language": "python",
     "metadata": {},
     "outputs": []
    },
    {
     "cell_type": "markdown",
     "metadata": {},
     "source": [
      "### PFAM Domain Enrichment"
     ]
    },
    {
     "cell_type": "code",
     "collapsed": false,
     "input": [
      "pfam_acc  = [p for r in adf[adf[\"pfam_acc\"].notnull()][\"pfam_acc\"].values for p in r.split(',')]\n",
      "pfam_desc = [p for r in adf[adf[\"pfam_domain\"].notnull()][\"pfam_domain\"].values for p in r.split(',')]\n",
      "# Map from PFAM ACC to Domain description *before* removing duplicates\n",
      "pfam_dict = dict((pfam_acc[i],pfam_desc[i]) for i in range(len(pfam_acc)))\n",
      "pfam_acc  = list(set(pfam_acc))\n",
      "print \"Testing Enrichment for %d PFAM domains\"%len(pfam_acc)"
     ],
     "language": "python",
     "metadata": {},
     "outputs": []
    },
    {
     "cell_type": "code",
     "collapsed": false,
     "input": [
      "## PFAM Enrichment in the FET-significant subset\n",
      "# Hypergeometric parameters\n",
      "hdict = OrderedDict({})\n",
      "pdict = OrderedDict({})\n",
      "for acc in pfam_acc:\n",
      "    x = df[\"pfam_acc\"].str.contains(acc).sum() # pfam-acc in tails\n",
      "    M = len(adf)                                 # total spheres\n",
      "    n = adf[\"pfam_acc\"].str.contains(acc).sum()  # total pfam-acc\n",
      "    N = len(df)                                # spheres in tails\n",
      "    p = hypergeom.sf(x,M,n,N)\n",
      "    hdict[acc] = (x,M,n,N)\n",
      "    pdict[acc] = p\n",
      "\n",
      "# Correct for multiple testing\n",
      "pvec = pdict.values()\n",
      "_,pvec,_,_ = fdr(pvec,0.01,method=\"fdr_bh\")\n",
      "\n",
      "# Update p-values (order is retained by OrderedDict)\n",
      "for i,key in enumerate(pdict.keys()):\n",
      "    pdict[key] = pvec[i]\n",
      "\n",
      "# Summarize\n",
      "print \"\\nSignificant enrichment (adjp<0.01) for %d PFAM domains.\\n\"%(pvec<0.01).sum()\n",
      "print \"PFAM Enrichment Summary (Minimum Group Size: 2):\"\n",
      "for adjp,acc in sorted([(adjp,acc) for acc,adjp in pdict.iteritems()]):\n",
      "    if hdict[acc][2]<2:continue # only consider PFAM domains with 2+ overlapping sphers\n",
      "    if adjp>=0.01:break         # significant enrichments only, minimum group size: 2\n",
      "    sidlist = ','.join(list(df.ix[(df[\"pfam_acc\"].notnull()) & (df[\"pfam_acc\"].str.contains(acc)),\"structid\"].drop_duplicates().values))\n",
      "    if len(sidlist.split(','))<2:continue  # only consider PFAM domains overlapped in 2+ structures\n",
      "    print \"%.1e\\t%10s\\t%15s\\t%s\\t%s\"%(adjp,acc,pfam_dict[acc],str(hdict[acc]),sidlist)"
     ],
     "language": "python",
     "metadata": {},
     "outputs": []
    },
    {
     "cell_type": "code",
     "collapsed": false,
     "input": [
      "df[(df[\"pfam_acc\"]==\"PF00089.21\") & (df[\"fet_padj\"]<0.01)].sort([\"structid\",\"biounit\",\"chain\",\"seqid\",\"icode\"])"
     ],
     "language": "python",
     "metadata": {},
     "outputs": []
    },
    {
     "cell_type": "code",
     "collapsed": false,
     "input": [
      "## PFAM Enrichment in the lower tail (EUR-constrained)\n",
      "ldf = tails(df,15,tail='lower')\n",
      "\n",
      "# Hypergeometric parameters\n",
      "hdict = OrderedDict({})\n",
      "pdict = OrderedDict({})\n",
      "for acc in pfam_acc:\n",
      "    x = ldf[\"pfam_acc\"].str.contains(acc).sum() # pfam-acc in tails\n",
      "    M = len(adf)                                 # total spheres\n",
      "    n = adf[\"pfam_acc\"].str.contains(acc).sum()  # total pfam-acc\n",
      "    N = len(ldf)                                # spheres in tails\n",
      "    p = hypergeom.sf(x,M,n,N)\n",
      "    hdict[acc] = (x,M,n,N)\n",
      "    pdict[acc] = p\n",
      "\n",
      "# Correct for multiple testing\n",
      "pvec = pdict.values()\n",
      "_,pvec,_,_ = fdr(pvec,0.01,method=\"fdr_bh\")\n",
      "\n",
      "# Update p-values (order is retained by OrderedDict)\n",
      "for i,key in enumerate(pdict.keys()):\n",
      "    pdict[key] = pvec[i]\n",
      "\n",
      "# Summarize\n",
      "print \"\\nSignificant enrichment (adjp<0.01) for %d PFAM domains.\\n\"%(pvec<0.01).sum()\n",
      "print \"PFAM Enrichment Summary (Minimum Group Size: 2):\"\n",
      "for adjp,acc in sorted([(adjp,acc) for acc,adjp in pdict.iteritems()]):\n",
      "    if hdict[acc][2]<2:continue # only consider PFAM domains with 2+ overlapping spheres\n",
      "    if adjp>=0.01:break         # significant enrichments only, minimum group size: 2\n",
      "    sidlist = ','.join(list(ldf.ix[(ldf[\"pfam_acc\"].notnull()) & (ldf[\"pfam_acc\"].str.contains(acc)),\"structid\"].drop_duplicates().values))\n",
      "    if len(sidlist.split(','))<2:continue  # only consider PFAM domains overlapped in 2+ structures\n",
      "    print \"%.1e\\t%10s\\t%15s\\t%s\\t%s\"%(adjp,acc,pfam_dict[acc],str(hdict[acc]),sidlist)"
     ],
     "language": "python",
     "metadata": {},
     "outputs": []
    },
    {
     "cell_type": "code",
     "collapsed": false,
     "input": [
      "## PFAM Enrichment in the upper tail (AFR-constrained)\n",
      "udf = tails(df,15,tail='upper')\n",
      "\n",
      "# Hypergeometric parameters\n",
      "hdict = OrderedDict({})\n",
      "pdict = OrderedDict({})\n",
      "for acc in pfam_acc:\n",
      "    x = udf[\"pfam_acc\"].str.contains(acc).sum() # pfam-acc in tails\n",
      "    M = len(adf)                                 # total spheres\n",
      "    n = adf[\"pfam_acc\"].str.contains(acc).sum()  # total pfam-acc\n",
      "    N = len(udf)                                # spheres in tails\n",
      "    p = hypergeom.sf(x,M,n,N)\n",
      "    hdict[acc] = (x,M,n,N)\n",
      "    pdict[acc] = p\n",
      "\n",
      "# Correct for multiple testing\n",
      "pvec = pdict.values()\n",
      "_,pvec,_,_ = fdr(pvec,0.01,method=\"fdr_bh\")\n",
      "\n",
      "# Update p-values (order is retained by OrderedDict)\n",
      "for i,key in enumerate(pdict.keys()):\n",
      "    pdict[key] = pvec[i]\n",
      "\n",
      "# Summarize\n",
      "print \"\\nSignificant enrichment (adjp<0.01) for %d PFAM domains.\\n\"%(pvec<0.01).sum()\n",
      "print \"PFAM Enrichment Summary (Minimum Group Size: 2):\"\n",
      "for adjp,acc in sorted([(adjp,acc) for acc,adjp in pdict.iteritems()]):\n",
      "    if hdict[acc][2]<2:continue # only consider PFAM domains with 2+ overlapping sphers\n",
      "    if adjp>=0.01:break         # significant enrichments only, minimum group size: 2\n",
      "    sidlist = ','.join(list(udf.ix[(udf[\"pfam_acc\"].notnull()) & (udf[\"pfam_acc\"].str.contains(acc)),\"structid\"].drop_duplicates().values))\n",
      "    if len(sidlist.split(','))<2:continue  # only consider PFAM domains overlapped in 2+ structures\n",
      "    print \"%.1e\\t%10s\\t%15s\\t%s\\t%s\"%(adjp,acc,pfam_dict[acc],str(hdict[acc]),sidlist)"
     ],
     "language": "python",
     "metadata": {},
     "outputs": []
    },
    {
     "cell_type": "code",
     "collapsed": false,
     "input": [],
     "language": "python",
     "metadata": {},
     "outputs": []
    },
    {
     "cell_type": "code",
     "collapsed": false,
     "input": [],
     "language": "python",
     "metadata": {},
     "outputs": []
    },
    {
     "cell_type": "code",
     "collapsed": false,
     "input": [],
     "language": "python",
     "metadata": {},
     "outputs": []
    }
   ],
   "metadata": {}
  }
 ]
}