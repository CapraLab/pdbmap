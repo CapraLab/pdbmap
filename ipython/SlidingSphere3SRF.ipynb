{
 "metadata": {
  "name": "",
  "signature": "sha256:c90c36c1cd2968707d4070401d7b3a43f5c0a9e2c1c80bb5c2e2c860b0dfde6a"
 },
 "nbformat": 3,
 "nbformat_minor": 0,
 "worksheets": [
  {
   "cells": [
    {
     "cell_type": "code",
     "collapsed": false,
     "input": [
      "# 3SRF has been chosen because it contains the highest number of \n",
      "# significant spheres with respect to mean deltaDAF between Europeans and Africans\n",
      "# in the random subset of 300 structures."
     ],
     "language": "python",
     "metadata": {},
     "outputs": [],
     "prompt_number": 1
    },
    {
     "cell_type": "code",
     "collapsed": false,
     "input": [
      "# Ensure that we are in the main pdbmap directory and not a subdirectory or elsewhere\n",
      "%cd ../../pdbmap"
     ],
     "language": "python",
     "metadata": {},
     "outputs": [
      {
       "output_type": "stream",
       "stream": "stdout",
       "text": [
        "/Users/mikesivley/pdbmap\n"
       ]
      }
     ],
     "prompt_number": 2
    },
    {
     "cell_type": "code",
     "collapsed": false,
     "input": [
      "# Load libraries\n",
      "%matplotlib inline\n",
      "import numpy as np\n",
      "from numpy.random import randn\n",
      "import pandas as pd\n",
      "from scipy import stats\n",
      "import matplotlib as mpl\n",
      "import matplotlib.pyplot as plt\n",
      "import seaborn as sns\n",
      "import matplotlib.patches as mpatches"
     ],
     "language": "python",
     "metadata": {},
     "outputs": [],
     "prompt_number": 84
    },
    {
     "cell_type": "code",
     "collapsed": false,
     "input": [
      "# Load the results file into a pandas data frame\n",
      "results_fname = 'results/sliding_sphere_10_RANDOM_300_SUBSET/sliding_sphere_1KG_10A.txt'\n",
      "with open(results_fname,'rb') as fin:\n",
      "    header = fin.readline().split('\\t')\n",
      "df = pd.read_table(results_fname,delimiter='\\t')\n",
      "df = df[df.structid=='3SRF']"
     ],
     "language": "python",
     "metadata": {},
     "outputs": [],
     "prompt_number": 4
    },
    {
     "cell_type": "code",
     "collapsed": false,
     "input": [
      "# Convenient sets of column names\n",
      "count_cols    = ['amr_count','asn_count','eur_count','afr_count']\n",
      "cdaf_cols     = ['amr_cdaf','asn_cdaf', 'eur_cdaf', 'afr_cdaf']\n",
      "sumddaf_cols  = ['amr_asn_sumddaf', 'amr_eur_sumddaf', 'amr_afr_sumddaf', 'asn_eur_sumddaf', 'asn_afr_sumddaf', 'eur_afr_sumddaf']\n",
      "meanddaf_cols = ['amr_asn_meanddaf','amr_eur_meanddaf','amr_afr_meanddaf','asn_eur_meanddaf','asn_afr_meanddaf','eur_afr_meanddaf']\n",
      "minddaf_cols  = ['amr_asn_minddaf', 'amr_eur_minddaf', 'amr_afr_minddaf', 'asn_eur_minddaf', 'asn_afr_minddaf', 'eur_afr_minddaf']\n",
      "maxddaf_cols  = ['amr_asn_maxddaf', 'amr_eur_maxddaf', 'amr_afr_maxddaf', 'asn_eur_maxddaf', 'asn_afr_maxddaf', 'eur_afr_maxddaf']\n",
      "nest_cols     = [count_cols,cdaf_cols,sumddaf_cols,meanddaf_cols,minddaf_cols,maxddaf_cols]\n",
      "count_pval_cols    = ['amr_count_pval','asn_count_pval','eur_count_pval','afr_count_pval']\n",
      "cdaf_pval_cols     = ['amr_cdaf_pval','asn_cdaf_pval', 'eur_cdaf_pval', 'afr_cdaf_pval']\n",
      "sumddaf_pval_cols  = ['amr_asn_sumddaf_pval', 'amr_eur_sumddaf_pval', 'amr_afr_sumddaf_pval', 'asn_eur_sumddaf_pval', 'asn_afr_sumddaf_pval', 'eur_afr_sumddaf_pval']\n",
      "meanddaf_pval_cols = ['amr_asn_meanddaf_pval','amr_eur_meanddaf_pval','amr_afr_meanddaf_pval','asn_eur_meanddaf_pval','asn_afr_meanddaf_pval','eur_afr_meanddaf_pval']\n",
      "minddaf_pval_cols  = ['amr_asn_minddaf_pval', 'amr_eur_minddaf_pval', 'amr_afr_minddaf_pval', 'asn_eur_minddaf_pval', 'asn_afr_minddaf_pval', 'eur_afr_minddaf_pval']\n",
      "maxddaf_pval_cols  = ['amr_asn_maxddaf_pval', 'amr_eur_maxddaf_pval', 'amr_afr_maxddaf_pval', 'asn_eur_maxddaf_pval', 'asn_afr_maxddaf_pval', 'eur_afr_maxddaf_pval']\n",
      "nest_pval_cols     = [count_pval_cols,cdaf_pval_cols,sumddaf_pval_cols,meanddaf_pval_cols,minddaf_pval_cols,maxddaf_pval_cols]\n",
      "nest_all = [nest_cols,nest_pval_cols]"
     ],
     "language": "python",
     "metadata": {},
     "outputs": [],
     "prompt_number": 5
    },
    {
     "cell_type": "code",
     "collapsed": false,
     "input": [
      "# Correct error in pvalue calculations pval=1-pval\n",
      "df.loc[:,count_pval_cols]    = 1 - df.loc[:,count_pval_cols]\n",
      "df.loc[:,cdaf_pval_cols]     = 1 - df.loc[:,cdaf_pval_cols]\n",
      "df.loc[:,sumddaf_pval_cols]  = 1 - df.loc[:,sumddaf_pval_cols]\n",
      "df.loc[:,meanddaf_pval_cols] = 1 - df.loc[:,meanddaf_pval_cols]\n",
      "df.loc[:,minddaf_pval_cols]  = 1 - df.loc[:,minddaf_pval_cols]\n",
      "df.loc[:,maxddaf_pval_cols]  = 1 - df.loc[:,maxddaf_pval_cols]"
     ],
     "language": "python",
     "metadata": {},
     "outputs": [],
     "prompt_number": 6
    },
    {
     "cell_type": "code",
     "collapsed": false,
     "input": [
      "# Load the permutation file into a pandas data frame\n",
      "perm_fname = 'results/sliding_sphere_10_RANDOM_300_SUBSET/split/perm/bystruct/3SRF.txt'\n",
      "dfp = pd.read_table(perm_fname,delimiter='\\t',header=False,names=header[:56])"
     ],
     "language": "python",
     "metadata": {},
     "outputs": [],
     "prompt_number": 7
    },
    {
     "cell_type": "code",
     "collapsed": false,
     "input": [
      "# Verify the correctness of p-values\n",
      "seqids = list(set(df.seqid.values))\n",
      "seqids.sort()\n",
      "for seqid in seqids:\n",
      "    val  = df[df.seqid==seqid].eur_afr_meanddaf.values[0]\n",
      "    pval = df[df.seqid==seqid].eur_afr_meanddaf_pval.values[0]\n",
      "    perm = dfp[dfp.seqid==seqid].eur_afr_meanddaf.values\n",
      "    lperm = float(len(perm))\n",
      "    calc = np.sum([1 for p in perm if val <= p])/lperm\n",
      "    print '%3d - %2.4f; reported pval: %0.3f; #perm: %4d; recalculated pval: %0.5f; diff=%0.5f'%(seqid,val,pval,lperm,calc,np.abs(calc-pval))"
     ],
     "language": "python",
     "metadata": {},
     "outputs": [
      {
       "output_type": "stream",
       "stream": "stdout",
       "text": [
        " 12 - 0.0020; reported pval: 0.188; #perm: 3000; recalculated pval: 0.18500; diff=0.00300\n",
        " 13 - 0.0031; reported pval: 0.043; #perm: 4000; recalculated pval: 0.03750; diff=0.00550\n",
        " 14 - 0.0031; reported pval: 0.027; #perm: 4000; recalculated pval: 0.03250; diff=0.00550"
       ]
      },
      {
       "output_type": "stream",
       "stream": "stdout",
       "text": [
        "\n",
        " 15 - 0.0031; reported pval: 0.021; #perm: 4000; recalculated pval: 0.02450; diff=0.00350\n",
        " 16 - 0.0031; reported pval: 0.026; #perm: 4000; recalculated pval: 0.02525; diff=0.00075\n",
        " 17 - 0.0031; reported pval: 0.028; #perm: 4000; recalculated pval: 0.02525; diff=0.00275"
       ]
      },
      {
       "output_type": "stream",
       "stream": "stdout",
       "text": [
        "\n",
        " 18 - 0.0031; reported pval: 0.026; #perm: 4000; recalculated pval: 0.03125; diff=0.00525\n",
        " 19 - 0.0031; reported pval: 0.031; #perm: 4000; recalculated pval: 0.02550; diff=0.00550\n",
        " 20 - 0.0034; reported pval: 0.017; #perm: 4000; recalculated pval: 0.01725; diff=0.00025"
       ]
      },
      {
       "output_type": "stream",
       "stream": "stdout",
       "text": [
        "\n",
        " 21 - 0.0041; reported pval: 0.015; #perm: 4000; recalculated pval: 0.01600; diff=0.00100\n",
        " 22 - 0.0041; reported pval: 0.018; #perm: 4000; recalculated pval: 0.01850; diff=0.00050\n",
        " 23 - 0.0041; reported pval: 0.014; #perm: 4000; recalculated pval: 0.01975; diff=0.00575"
       ]
      },
      {
       "output_type": "stream",
       "stream": "stdout",
       "text": [
        "\n",
        " 24 - 0.0041; reported pval: 0.025; #perm: 4000; recalculated pval: 0.01675; diff=0.00825\n",
        " 25 - 0.0041; reported pval: 0.016; #perm: 4000; recalculated pval: 0.01775; diff=0.00175\n",
        " 26 - 0.0041; reported pval: 0.016; #perm: 4000; recalculated pval: 0.01475; diff=0.00125"
       ]
      },
      {
       "output_type": "stream",
       "stream": "stdout",
       "text": [
        "\n",
        " 27 - 0.0041; reported pval: 0.026; #perm: 4000; recalculated pval: 0.02225; diff=0.00375\n",
        " 28 - 0.0034; reported pval: 0.020; #perm: 4000; recalculated pval: 0.01900; diff=0.00100\n",
        " 29 - 0.0034; reported pval: 0.021; #perm: 4000; recalculated pval: 0.01850; diff=0.00250"
       ]
      },
      {
       "output_type": "stream",
       "stream": "stdout",
       "text": [
        "\n",
        " 30 - 0.0041; reported pval: 0.022; #perm: 4000; recalculated pval: 0.01950; diff=0.00250\n",
        " 31 - 0.0034; reported pval: 0.027; #perm: 4000; recalculated pval: 0.02550; diff=0.00150\n",
        " 32 - 0.0031; reported pval: 0.036; #perm: 4000; recalculated pval: 0.02925; diff=0.00675"
       ]
      },
      {
       "output_type": "stream",
       "stream": "stdout",
       "text": [
        "\n",
        " 33 - 0.0031; reported pval: 0.029; #perm: 4000; recalculated pval: 0.03175; diff=0.00275\n",
        " 34 - 0.0010; reported pval: 0.374; #perm: 4000; recalculated pval: 0.37125; diff=0.00275"
       ]
      },
      {
       "output_type": "stream",
       "stream": "stdout",
       "text": [
        "\n",
        " 35 - 0.0010; reported pval: 0.360; #perm: 4000; recalculated pval: 0.35125; diff=0.00875\n",
        " 36 - 0.0031; reported pval: 0.023; #perm: 4000; recalculated pval: 0.02775; diff=0.00475"
       ]
      },
      {
       "output_type": "stream",
       "stream": "stdout",
       "text": [
        "\n",
        " 37 - 0.0031; reported pval: 0.032; #perm: 4000; recalculated pval: 0.02900; diff=0.00300\n",
        " 38 - 0.0031; reported pval: 0.027; #perm: 4000; recalculated pval: 0.02275; diff=0.00425"
       ]
      },
      {
       "output_type": "stream",
       "stream": "stdout",
       "text": [
        "\n",
        " 39 - 0.0031; reported pval: 0.024; #perm: 4000; recalculated pval: 0.02575; diff=0.00175\n",
        " 40 - 0.0020; reported pval: 0.160; #perm: 4000; recalculated pval: 0.15925; diff=0.00075"
       ]
      },
      {
       "output_type": "stream",
       "stream": "stdout",
       "text": [
        "\n",
        " 41 - 0.0020; reported pval: 0.146; #perm: 4000; recalculated pval: 0.13675; diff=0.00925\n",
        " 42 - 0.0020; reported pval: 0.124; #perm: 4000; recalculated pval: 0.12275; diff=0.00125"
       ]
      },
      {
       "output_type": "stream",
       "stream": "stdout",
       "text": [
        "\n",
        " 43 - 0.0020; reported pval: 0.081; #perm: 4000; recalculated pval: 0.07400; diff=0.00700\n",
        " 44 - 0.0013; reported pval: 0.188; #perm: 4000; recalculated pval: 0.20850; diff=0.02050"
       ]
      },
      {
       "output_type": "stream",
       "stream": "stdout",
       "text": [
        "\n",
        " 45 - 0.0013; reported pval: 0.202; #perm: 4000; recalculated pval: 0.22000; diff=0.01800\n",
        " 46 - 0.0020; reported pval: 0.108; #perm: 4000; recalculated pval: 0.10525; diff=0.00275\n",
        " 47 - 0.0020; reported pval: 0.091; #perm: 4000; recalculated pval: 0.09225; diff=0.00125"
       ]
      },
      {
       "output_type": "stream",
       "stream": "stdout",
       "text": [
        "\n",
        " 48 - 0.0013; reported pval: 0.215; #perm: 4000; recalculated pval: 0.23075; diff=0.01575\n",
        " 49 - 0.0010; reported pval: 0.402; #perm: 4000; recalculated pval: 0.40025; diff=0.00175\n",
        " 50 - 0.0007; reported pval: 0.470; #perm: 4000; recalculated pval: 0.46725; diff=0.00275"
       ]
      },
      {
       "output_type": "stream",
       "stream": "stdout",
       "text": [
        "\n",
        " 51 - 0.0000; reported pval: 1.000; #perm: 4000; recalculated pval: 1.00000; diff=0.00000\n",
        " 52 - 0.0000; reported pval: 1.000; #perm: 4000; recalculated pval: 1.00000; diff=0.00000"
       ]
      },
      {
       "output_type": "stream",
       "stream": "stdout",
       "text": [
        "\n",
        " 53 - 0.0000; reported pval: 1.000; #perm: 4000; recalculated pval: 1.00000; diff=0.00000\n",
        " 54 - 0.0000; reported pval: 1.000; #perm: 4000; recalculated pval: 1.00000; diff=0.00000\n",
        " 55 - 0.0000; reported pval: 1.000; #perm: 4000; recalculated pval: 1.00000; diff=0.00000"
       ]
      },
      {
       "output_type": "stream",
       "stream": "stdout",
       "text": [
        "\n",
        " 56 - 0.0000; reported pval: 1.000; #perm: 4000; recalculated pval: 1.00000; diff=0.00000\n",
        " 57 - 0.0000; reported pval: 1.000; #perm: 4000; recalculated pval: 1.00000; diff=0.00000\n",
        " 58 - 0.0000; reported pval: 1.000; #perm: 4000; recalculated pval: 1.00000; diff=0.00000"
       ]
      },
      {
       "output_type": "stream",
       "stream": "stdout",
       "text": [
        "\n",
        " 59 - 0.0000; reported pval: 1.000; #perm: 4000; recalculated pval: 1.00000; diff=0.00000\n",
        " 60 - 0.0000; reported pval: 1.000; #perm: 4000; recalculated pval: 1.00000; diff=0.00000\n",
        " 61 - 0.0000; reported pval: 1.000; #perm: 4000; recalculated pval: 1.00000; diff=0.00000"
       ]
      },
      {
       "output_type": "stream",
       "stream": "stdout",
       "text": [
        "\n",
        " 62 - 0.0020; reported pval: 0.167; #perm: 4000; recalculated pval: 0.16775; diff=0.00075\n",
        " 63 - 0.0020; reported pval: 0.159; #perm: 4000; recalculated pval: 0.16375; diff=0.00475\n",
        " 64 - 0.0020; reported pval: 0.150; #perm: 4000; recalculated pval: 0.14800; diff=0.00200"
       ]
      },
      {
       "output_type": "stream",
       "stream": "stdout",
       "text": [
        "\n",
        " 65 - 0.0020; reported pval: 0.173; #perm: 4000; recalculated pval: 0.18150; diff=0.00850\n",
        " 66 - 0.0020; reported pval: 0.146; #perm: 4000; recalculated pval: 0.14800; diff=0.00200\n",
        " 67 - 0.0020; reported pval: 0.141; #perm: 4000; recalculated pval: 0.14150; diff=0.00050"
       ]
      },
      {
       "output_type": "stream",
       "stream": "stdout",
       "text": [
        "\n",
        " 68 - 0.0020; reported pval: 0.124; #perm: 4000; recalculated pval: 0.12750; diff=0.00350\n",
        " 69 - 0.0013; reported pval: 0.216; #perm: 4000; recalculated pval: 0.21500; diff=0.00100\n",
        " 70 - 0.0010; reported pval: 0.374; #perm: 4000; recalculated pval: 0.38025; diff=0.00625"
       ]
      },
      {
       "output_type": "stream",
       "stream": "stdout",
       "text": [
        "\n",
        " 71 - 0.0007; reported pval: 0.503; #perm: 4000; recalculated pval: 0.50625; diff=0.00325\n",
        " 72 - 0.0005; reported pval: 0.599; #perm: 4000; recalculated pval: 0.60650; diff=0.00750\n",
        " 73 - 0.0005; reported pval: 0.515; #perm: 4000; recalculated pval: 0.52450; diff=0.00950"
       ]
      },
      {
       "output_type": "stream",
       "stream": "stdout",
       "text": [
        "\n",
        " 74 - 0.0005; reported pval: 0.556; #perm: 4000; recalculated pval: 0.54275; diff=0.01325\n",
        " 75 - 0.0005; reported pval: 0.489; #perm: 4000; recalculated pval: 0.50150; diff=0.01250\n",
        " 76 - 0.0000; reported pval: 1.000; #perm: 4000; recalculated pval: 1.00000; diff=0.00000"
       ]
      },
      {
       "output_type": "stream",
       "stream": "stdout",
       "text": [
        "\n",
        " 77 - 0.0000; reported pval: 1.000; #perm: 4000; recalculated pval: 1.00000; diff=0.00000\n",
        " 78 - 0.0000; reported pval: 1.000; #perm: 4000; recalculated pval: 1.00000; diff=0.00000\n",
        " 79 - 0.0000; reported pval: 1.000; #perm: 4000; recalculated pval: 1.00000; diff=0.00000"
       ]
      },
      {
       "output_type": "stream",
       "stream": "stdout",
       "text": [
        "\n",
        " 80 - 0.0000; reported pval: 1.000; #perm: 4000; recalculated pval: 1.00000; diff=0.00000\n",
        " 81 - 0.0000; reported pval: 1.000; #perm: 4000; recalculated pval: 1.00000; diff=0.00000"
       ]
      },
      {
       "output_type": "stream",
       "stream": "stdout",
       "text": [
        "\n",
        " 82 - 0.0000; reported pval: 1.000; #perm: 4000; recalculated pval: 1.00000; diff=0.00000\n",
        " 83 - 0.0005; reported pval: 0.416; #perm: 4000; recalculated pval: 0.41750; diff=0.00150\n",
        " 84 - 0.0000; reported pval: 1.000; #perm: 4000; recalculated pval: 1.00000; diff=0.00000"
       ]
      },
      {
       "output_type": "stream",
       "stream": "stdout",
       "text": [
        "\n",
        " 85 - 0.0000; reported pval: 1.000; #perm: 4000; recalculated pval: 1.00000; diff=0.00000\n",
        " 86 - 0.0000; reported pval: 1.000; #perm: 4000; recalculated pval: 1.00000; diff=0.00000\n",
        " 87 - 0.0005; reported pval: 0.449; #perm: 4000; recalculated pval: 0.44700; diff=0.00200"
       ]
      },
      {
       "output_type": "stream",
       "stream": "stdout",
       "text": [
        "\n",
        " 88 - 0.0000; reported pval: 1.000; #perm: 4000; recalculated pval: 1.00000; diff=0.00000\n",
        " 89 - 0.0000; reported pval: 1.000; #perm: 4000; recalculated pval: 1.00000; diff=0.00000"
       ]
      },
      {
       "output_type": "stream",
       "stream": "stdout",
       "text": [
        "\n",
        " 90 - 0.0007; reported pval: 0.418; #perm: 4000; recalculated pval: 0.43225; diff=0.01425\n",
        " 91 - 0.0007; reported pval: 0.422; #perm: 4000; recalculated pval: 0.41475; diff=0.00725\n",
        " 92 - 0.0000; reported pval: 1.000; #perm: 4000; recalculated pval: 1.00000; diff=0.00000"
       ]
      },
      {
       "output_type": "stream",
       "stream": "stdout",
       "text": [
        "\n",
        " 93 - 0.0000; reported pval: 1.000; #perm: 4000; recalculated pval: 1.00000; diff=0.00000\n",
        " 94 - 0.0010; reported pval: 0.339; #perm: 4000; recalculated pval: 0.33875; diff=0.00025\n",
        " 95 - 0.0000; reported pval: 1.000; #perm: 4000; recalculated pval: 1.00000; diff=0.00000"
       ]
      },
      {
       "output_type": "stream",
       "stream": "stdout",
       "text": [
        "\n",
        " 96 - 0.0000; reported pval: 1.000; #perm: 4000; recalculated pval: 1.00000; diff=0.00000\n",
        " 97 - 0.0000; reported pval: 1.000; #perm: 4000; recalculated pval: 1.00000; diff=0.00000\n",
        " 98 - 0.0000; reported pval: 1.000; #perm: 4000; recalculated pval: 1.00000; diff=0.00000"
       ]
      },
      {
       "output_type": "stream",
       "stream": "stdout",
       "text": [
        "\n",
        " 99 - 0.0000; reported pval: 1.000; #perm: 4000; recalculated pval: 1.00000; diff=0.00000\n",
        "100 - 0.0000; reported pval: 1.000; #perm: 4000; recalculated pval: 1.00000; diff=0.00000\n",
        "101 - 0.0000; reported pval: 1.000; #perm: 4000; recalculated pval: 1.00000; diff=0.00000"
       ]
      },
      {
       "output_type": "stream",
       "stream": "stdout",
       "text": [
        "\n",
        "102 - 0.0000; reported pval: 1.000; #perm: 4000; recalculated pval: 1.00000; diff=0.00000\n",
        "103 - 0.0010; reported pval: 0.320; #perm: 4000; recalculated pval: 0.33250; diff=0.01250\n",
        "104 - 0.0000; reported pval: 1.000; #perm: 4000; recalculated pval: 1.00000; diff=0.00000"
       ]
      },
      {
       "output_type": "stream",
       "stream": "stdout",
       "text": [
        "\n",
        "105 - 0.0010; reported pval: 0.402; #perm: 4000; recalculated pval: 0.38775; diff=0.01425\n",
        "106 - 0.0013; reported pval: 0.224; #perm: 4000; recalculated pval: 0.22925; diff=0.00525\n",
        "107 - 0.0010; reported pval: 0.379; #perm: 4000; recalculated pval: 0.36525; diff=0.01375"
       ]
      },
      {
       "output_type": "stream",
       "stream": "stdout",
       "text": [
        "\n",
        "108 - 0.0007; reported pval: 0.518; #perm: 4000; recalculated pval: 0.50900; diff=0.00900\n",
        "109 - 0.0005; reported pval: 0.537; #perm: 4000; recalculated pval: 0.54000; diff=0.00300\n",
        "110 - 0.0005; reported pval: 0.556; #perm: 4000; recalculated pval: 0.55675; diff=0.00075"
       ]
      },
      {
       "output_type": "stream",
       "stream": "stdout",
       "text": [
        "\n",
        "111 - 0.0005; reported pval: 0.537; #perm: 4000; recalculated pval: 0.54175; diff=0.00475\n",
        "112 - 0.0005; reported pval: 0.595; #perm: 4000; recalculated pval: 0.57825; diff=0.01675\n",
        "113 - 0.0005; reported pval: 0.527; #perm: 4000; recalculated pval: 0.53750; diff=0.01050"
       ]
      },
      {
       "output_type": "stream",
       "stream": "stdout",
       "text": [
        "\n",
        "114 - 0.0000; reported pval: 1.000; #perm: 4000; recalculated pval: 1.00000; diff=0.00000\n",
        "115 - 0.0004; reported pval: 0.543; #perm: 4000; recalculated pval: 0.53625; diff=0.00675\n",
        "116 - 0.0000; reported pval: 1.000; #perm: 4000; recalculated pval: 1.00000; diff=0.00000"
       ]
      },
      {
       "output_type": "stream",
       "stream": "stdout",
       "text": [
        "\n",
        "117 - 0.0000; reported pval: 1.000; #perm: 4000; recalculated pval: 1.00000; diff=0.00000\n",
        "118 - 0.0000; reported pval: 1.000; #perm: 4000; recalculated pval: 1.00000; diff=0.00000"
       ]
      },
      {
       "output_type": "stream",
       "stream": "stdout",
       "text": [
        "\n",
        "119 - 0.0000; reported pval: 1.000; #perm: 4000; recalculated pval: 1.00000; diff=0.00000\n",
        "120 - 0.0000; reported pval: 1.000; #perm: 4000; recalculated pval: 1.00000; diff=0.00000\n",
        "121 - 0.0000; reported pval: 1.000; #perm: 4000; recalculated pval: 1.00000; diff=0.00000"
       ]
      },
      {
       "output_type": "stream",
       "stream": "stdout",
       "text": [
        "\n",
        "122 - 0.0000; reported pval: 1.000; #perm: 4000; recalculated pval: 1.00000; diff=0.00000\n",
        "123 - 0.0000; reported pval: 1.000; #perm: 4000; recalculated pval: 1.00000; diff=0.00000"
       ]
      },
      {
       "output_type": "stream",
       "stream": "stdout",
       "text": [
        "\n",
        "124 - 0.0000; reported pval: 1.000; #perm: 4000; recalculated pval: 1.00000; diff=0.00000\n",
        "125 - 0.0000; reported pval: 1.000; #perm: 2000; recalculated pval: 1.00000; diff=0.00000\n",
        "126 - 0.0000; reported pval: 1.000; #perm: 1000; recalculated pval: 1.00000; diff=0.00000"
       ]
      },
      {
       "output_type": "stream",
       "stream": "stdout",
       "text": [
        "\n",
        "127 - 0.0000; reported pval: 1.000; #perm: 1000; recalculated pval: 1.00000; diff=0.00000\n",
        "128 - 0.0000; reported pval: 1.000; #perm: 2000; recalculated pval: 1.00000; diff=0.00000\n",
        "129 - 0.0000; reported pval: 1.000; #perm: 3000; recalculated pval: 1.00000; diff=0.00000"
       ]
      },
      {
       "output_type": "stream",
       "stream": "stdout",
       "text": [
        "\n",
        "130 - 0.0000; reported pval: 1.000; #perm: 4000; recalculated pval: 1.00000; diff=0.00000\n",
        "131 - 0.0000; reported pval: 1.000; #perm: 4000; recalculated pval: 1.00000; diff=0.00000\n",
        "132 - 0.0000; reported pval: 1.000; #perm: 4000; recalculated pval: 1.00000; diff=0.00000"
       ]
      },
      {
       "output_type": "stream",
       "stream": "stdout",
       "text": [
        "\n",
        "133 - 0.0000; reported pval: 1.000; #perm: 4000; recalculated pval: 1.00000; diff=0.00000\n",
        "134 - 0.0000; reported pval: 1.000; #perm: 4000; recalculated pval: 1.00000; diff=0.00000"
       ]
      },
      {
       "output_type": "stream",
       "stream": "stdout",
       "text": [
        "\n",
        "135 - 0.0000; reported pval: 1.000; #perm: 4000; recalculated pval: 1.00000; diff=0.00000\n",
        "136 - 0.0000; reported pval: 1.000; #perm: 4000; recalculated pval: 1.00000; diff=0.00000\n",
        "137 - 0.0000; reported pval: 1.000; #perm: 4000; recalculated pval: 1.00000; diff=0.00000"
       ]
      },
      {
       "output_type": "stream",
       "stream": "stdout",
       "text": [
        "\n",
        "138 - 0.0000; reported pval: 1.000; #perm: 4000; recalculated pval: 1.00000; diff=0.00000\n",
        "139 - 0.0000; reported pval: 1.000; #perm: 4000; recalculated pval: 1.00000; diff=0.00000\n",
        "140 - 0.0000; reported pval: 1.000; #perm: 4000; recalculated pval: 1.00000; diff=0.00000"
       ]
      },
      {
       "output_type": "stream",
       "stream": "stdout",
       "text": [
        "\n",
        "141 - 0.0000; reported pval: 1.000; #perm: 4000; recalculated pval: 1.00000; diff=0.00000\n",
        "142 - 0.0000; reported pval: 1.000; #perm: 4000; recalculated pval: 1.00000; diff=0.00000\n",
        "143 - 0.0000; reported pval: 1.000; #perm: 4000; recalculated pval: 1.00000; diff=0.00000"
       ]
      },
      {
       "output_type": "stream",
       "stream": "stdout",
       "text": [
        "\n",
        "144 - 0.0000; reported pval: 1.000; #perm: 4000; recalculated pval: 1.00000; diff=0.00000\n",
        "145 - 0.0000; reported pval: 1.000; #perm: 4000; recalculated pval: 1.00000; diff=0.00000\n",
        "146 - 0.0000; reported pval: 1.000; #perm: 4000; recalculated pval: 1.00000; diff=0.00000"
       ]
      },
      {
       "output_type": "stream",
       "stream": "stdout",
       "text": [
        "\n",
        "147 - 0.0000; reported pval: 1.000; #perm: 4000; recalculated pval: 1.00000; diff=0.00000\n",
        "148 - 0.0000; reported pval: 1.000; #perm: 4000; recalculated pval: 1.00000; diff=0.00000"
       ]
      },
      {
       "output_type": "stream",
       "stream": "stdout",
       "text": [
        "\n",
        "149 - 0.0000; reported pval: 1.000; #perm: 4000; recalculated pval: 1.00000; diff=0.00000\n",
        "150 - 0.0000; reported pval: 1.000; #perm: 4000; recalculated pval: 1.00000; diff=0.00000"
       ]
      },
      {
       "output_type": "stream",
       "stream": "stdout",
       "text": [
        "\n",
        "151 - 0.0000; reported pval: 1.000; #perm: 4000; recalculated pval: 1.00000; diff=0.00000\n",
        "152 - 0.0000; reported pval: 1.000; #perm: 4000; recalculated pval: 1.00000; diff=0.00000\n",
        "153 - 0.0000; reported pval: 1.000; #perm: 4000; recalculated pval: 1.00000; diff=0.00000"
       ]
      },
      {
       "output_type": "stream",
       "stream": "stdout",
       "text": [
        "\n",
        "154 - 0.0000; reported pval: 1.000; #perm: 8000; recalculated pval: 1.00000; diff=0.00000\n",
        "155 - 0.0000; reported pval: 1.000; #perm: 4000; recalculated pval: 1.00000; diff=0.00000"
       ]
      },
      {
       "output_type": "stream",
       "stream": "stdout",
       "text": [
        "\n",
        "156 - 0.0000; reported pval: 1.000; #perm: 4000; recalculated pval: 1.00000; diff=0.00000\n",
        "157 - 0.0000; reported pval: 1.000; #perm: 4000; recalculated pval: 1.00000; diff=0.00000"
       ]
      },
      {
       "output_type": "stream",
       "stream": "stdout",
       "text": [
        "\n",
        "158 - 0.0000; reported pval: 1.000; #perm: 4000; recalculated pval: 1.00000; diff=0.00000\n",
        "159 - 0.0000; reported pval: 1.000; #perm: 4000; recalculated pval: 1.00000; diff=0.00000\n",
        "160 - 0.0000; reported pval: 1.000; #perm: 4000; recalculated pval: 1.00000; diff=0.00000"
       ]
      },
      {
       "output_type": "stream",
       "stream": "stdout",
       "text": [
        "\n",
        "161 - 0.0000; reported pval: 1.000; #perm: 4000; recalculated pval: 1.00000; diff=0.00000\n",
        "162 - 0.0000; reported pval: 1.000; #perm: 4000; recalculated pval: 1.00000; diff=0.00000\n",
        "163 - 0.0000; reported pval: 1.000; #perm: 4000; recalculated pval: 1.00000; diff=0.00000"
       ]
      },
      {
       "output_type": "stream",
       "stream": "stdout",
       "text": [
        "\n",
        "164 - 0.0000; reported pval: 1.000; #perm: 4000; recalculated pval: 1.00000; diff=0.00000\n",
        "165 - 0.0000; reported pval: 1.000; #perm: 4000; recalculated pval: 1.00000; diff=0.00000\n",
        "166 - 0.0000; reported pval: 1.000; #perm: 4000; recalculated pval: 1.00000; diff=0.00000"
       ]
      },
      {
       "output_type": "stream",
       "stream": "stdout",
       "text": [
        "\n",
        "167 - 0.0000; reported pval: 1.000; #perm: 4000; recalculated pval: 1.00000; diff=0.00000\n",
        "168 - 0.0000; reported pval: 1.000; #perm: 4000; recalculated pval: 1.00000; diff=0.00000\n",
        "169 - 0.0000; reported pval: 1.000; #perm: 4000; recalculated pval: 1.00000; diff=0.00000"
       ]
      },
      {
       "output_type": "stream",
       "stream": "stdout",
       "text": [
        "\n",
        "170 - 0.0000; reported pval: 1.000; #perm: 4000; recalculated pval: 1.00000; diff=0.00000\n",
        "171 - 0.0000; reported pval: 1.000; #perm: 4000; recalculated pval: 1.00000; diff=0.00000\n",
        "172 - 0.0000; reported pval: 1.000; #perm: 4000; recalculated pval: 1.00000; diff=0.00000"
       ]
      },
      {
       "output_type": "stream",
       "stream": "stdout",
       "text": [
        "\n",
        "173 - 0.0000; reported pval: 1.000; #perm: 4000; recalculated pval: 1.00000; diff=0.00000\n",
        "174 - 0.0000; reported pval: 1.000; #perm: 4000; recalculated pval: 1.00000; diff=0.00000\n",
        "175 - 0.0000; reported pval: 1.000; #perm: 4000; recalculated pval: 1.00000; diff=0.00000"
       ]
      },
      {
       "output_type": "stream",
       "stream": "stdout",
       "text": [
        "\n",
        "176 - 0.0000; reported pval: 1.000; #perm: 4000; recalculated pval: 1.00000; diff=0.00000\n",
        "177 - 0.0000; reported pval: 1.000; #perm: 4000; recalculated pval: 1.00000; diff=0.00000\n",
        "178 - 0.0000; reported pval: 1.000; #perm: 4000; recalculated pval: 1.00000; diff=0.00000"
       ]
      },
      {
       "output_type": "stream",
       "stream": "stdout",
       "text": [
        "\n",
        "179 - 0.0000; reported pval: 1.000; #perm: 4000; recalculated pval: 1.00000; diff=0.00000\n",
        "180 - 0.0000; reported pval: 1.000; #perm: 4000; recalculated pval: 1.00000; diff=0.00000"
       ]
      },
      {
       "output_type": "stream",
       "stream": "stdout",
       "text": [
        "\n",
        "181 - 0.0000; reported pval: 1.000; #perm: 4000; recalculated pval: 1.00000; diff=0.00000\n",
        "182 - 0.0000; reported pval: 1.000; #perm: 4000; recalculated pval: 1.00000; diff=0.00000"
       ]
      },
      {
       "output_type": "stream",
       "stream": "stdout",
       "text": [
        "\n",
        "183 - 0.0000; reported pval: 1.000; #perm: 4000; recalculated pval: 1.00000; diff=0.00000\n",
        "184 - 0.0000; reported pval: 1.000; #perm: 4000; recalculated pval: 1.00000; diff=0.00000\n",
        "185 - 0.0000; reported pval: 1.000; #perm: 4000; recalculated pval: 1.00000; diff=0.00000"
       ]
      },
      {
       "output_type": "stream",
       "stream": "stdout",
       "text": [
        "\n",
        "186 - 0.0000; reported pval: 1.000; #perm: 4000; recalculated pval: 1.00000; diff=0.00000\n",
        "187 - 0.0000; reported pval: 1.000; #perm: 4000; recalculated pval: 1.00000; diff=0.00000\n",
        "188 - 0.0000; reported pval: 1.000; #perm: 4000; recalculated pval: 1.00000; diff=0.00000"
       ]
      },
      {
       "output_type": "stream",
       "stream": "stdout",
       "text": [
        "\n",
        "189 - 0.0000; reported pval: 1.000; #perm: 4000; recalculated pval: 1.00000; diff=0.00000\n",
        "190 - 0.0000; reported pval: 1.000; #perm: 4000; recalculated pval: 1.00000; diff=0.00000\n",
        "191 - 0.0000; reported pval: 1.000; #perm: 4000; recalculated pval: 1.00000; diff=0.00000"
       ]
      },
      {
       "output_type": "stream",
       "stream": "stdout",
       "text": [
        "\n",
        "192 - 0.0000; reported pval: 1.000; #perm: 4000; recalculated pval: 1.00000; diff=0.00000\n",
        "193 - 0.0000; reported pval: 1.000; #perm: 4000; recalculated pval: 1.00000; diff=0.00000\n",
        "194 - 0.0000; reported pval: 1.000; #perm: 4000; recalculated pval: 1.00000; diff=0.00000"
       ]
      },
      {
       "output_type": "stream",
       "stream": "stdout",
       "text": [
        "\n",
        "195 - 0.0000; reported pval: 1.000; #perm: 4000; recalculated pval: 1.00000; diff=0.00000\n",
        "196 - 0.0000; reported pval: 1.000; #perm: 4000; recalculated pval: 1.00000; diff=0.00000\n",
        "197 - 0.0000; reported pval: 1.000; #perm: 4000; recalculated pval: 1.00000; diff=0.00000"
       ]
      },
      {
       "output_type": "stream",
       "stream": "stdout",
       "text": [
        "\n",
        "198 - 0.0000; reported pval: 1.000; #perm: 4000; recalculated pval: 1.00000; diff=0.00000\n",
        "199 - 0.0000; reported pval: 1.000; #perm: 4000; recalculated pval: 1.00000; diff=0.00000\n",
        "200 - 0.0000; reported pval: 1.000; #perm: 4000; recalculated pval: 1.00000; diff=0.00000"
       ]
      },
      {
       "output_type": "stream",
       "stream": "stdout",
       "text": [
        "\n",
        "201 - 0.0000; reported pval: 1.000; #perm: 4000; recalculated pval: 1.00000; diff=0.00000\n",
        "202 - 0.0000; reported pval: 1.000; #perm: 4000; recalculated pval: 1.00000; diff=0.00000\n",
        "203 - 0.0000; reported pval: 1.000; #perm: 4000; recalculated pval: 1.00000; diff=0.00000"
       ]
      },
      {
       "output_type": "stream",
       "stream": "stdout",
       "text": [
        "\n",
        "204 - 0.0000; reported pval: 1.000; #perm: 4000; recalculated pval: 1.00000; diff=0.00000\n",
        "205 - 0.0000; reported pval: 1.000; #perm: 4000; recalculated pval: 1.00000; diff=0.00000\n",
        "206 - 0.0000; reported pval: 1.000; #perm: 4000; recalculated pval: 1.00000; diff=0.00000"
       ]
      },
      {
       "output_type": "stream",
       "stream": "stdout",
       "text": [
        "\n",
        "207 - 0.0000; reported pval: 1.000; #perm: 4000; recalculated pval: 1.00000; diff=0.00000\n",
        "208 - 0.0000; reported pval: 1.000; #perm: 4000; recalculated pval: 1.00000; diff=0.00000\n",
        "209 - 0.0000; reported pval: 1.000; #perm: 4000; recalculated pval: 1.00000; diff=0.00000"
       ]
      },
      {
       "output_type": "stream",
       "stream": "stdout",
       "text": [
        "\n",
        "210 - 0.0000; reported pval: 1.000; #perm: 4000; recalculated pval: 1.00000; diff=0.00000\n",
        "211 - 0.0000; reported pval: 1.000; #perm: 4000; recalculated pval: 1.00000; diff=0.00000\n",
        "212 - 0.0000; reported pval: 1.000; #perm: 4000; recalculated pval: 1.00000; diff=0.00000"
       ]
      },
      {
       "output_type": "stream",
       "stream": "stdout",
       "text": [
        "\n",
        "213 - 0.0000; reported pval: 1.000; #perm: 4000; recalculated pval: 1.00000; diff=0.00000\n",
        "214 - 0.0000; reported pval: 1.000; #perm: 4000; recalculated pval: 1.00000; diff=0.00000\n",
        "215 - 0.0000; reported pval: 1.000; #perm: 4000; recalculated pval: 1.00000; diff=0.00000"
       ]
      },
      {
       "output_type": "stream",
       "stream": "stdout",
       "text": [
        "\n",
        "216 - 0.0000; reported pval: 1.000; #perm: 4000; recalculated pval: 1.00000; diff=0.00000\n",
        "217 - 0.0000; reported pval: 1.000; #perm: 4000; recalculated pval: 1.00000; diff=0.00000\n",
        "218 - 0.0000; reported pval: 1.000; #perm: 4000; recalculated pval: 1.00000; diff=0.00000"
       ]
      },
      {
       "output_type": "stream",
       "stream": "stdout",
       "text": [
        "\n",
        "219 - 0.0007; reported pval: 0.426; #perm: 4000; recalculated pval: 0.41800; diff=0.00800\n",
        "220 - 0.0004; reported pval: 0.436; #perm: 4000; recalculated pval: 0.42950; diff=0.00650\n",
        "221 - 0.0000; reported pval: 1.000; #perm: 4000; recalculated pval: 1.00000; diff=0.00000"
       ]
      },
      {
       "output_type": "stream",
       "stream": "stdout",
       "text": [
        "\n",
        "222 - 0.0000; reported pval: 1.000; #perm: 4000; recalculated pval: 1.00000; diff=0.00000\n",
        "223 - 0.0000; reported pval: 1.000; #perm: 4000; recalculated pval: 1.00000; diff=0.00000"
       ]
      },
      {
       "output_type": "stream",
       "stream": "stdout",
       "text": [
        "\n",
        "224 - 0.0005; reported pval: 0.453; #perm: 4000; recalculated pval: 0.45125; diff=0.00175\n",
        "225 - 0.0005; reported pval: 0.367; #perm: 3999; recalculated pval: 0.36784; diff=0.00084\n",
        "226 - 0.0000; reported pval: 1.000; #perm: 4000; recalculated pval: 1.00000; diff=0.00000"
       ]
      },
      {
       "output_type": "stream",
       "stream": "stdout",
       "text": [
        "\n",
        "227 - 0.0005; reported pval: 0.433; #perm: 4000; recalculated pval: 0.43800; diff=0.00500\n",
        "228 - 0.0005; reported pval: 0.425; #perm: 4000; recalculated pval: 0.42125; diff=0.00375\n",
        "229 - 0.0005; reported pval: 0.342; #perm: 4000; recalculated pval: 0.33800; diff=0.00400"
       ]
      },
      {
       "output_type": "stream",
       "stream": "stdout",
       "text": [
        "\n",
        "230 - 0.0005; reported pval: 0.378; #perm: 4000; recalculated pval: 0.37550; diff=0.00250\n",
        "231 - 0.0005; reported pval: 0.438; #perm: 4000; recalculated pval: 0.43475; diff=0.00325\n",
        "232 - 0.0005; reported pval: 0.378; #perm: 4000; recalculated pval: 0.38275; diff=0.00475"
       ]
      },
      {
       "output_type": "stream",
       "stream": "stdout",
       "text": [
        "\n",
        "233 - 0.0005; reported pval: 0.303; #perm: 4000; recalculated pval: 0.30575; diff=0.00275\n",
        "234 - 0.0005; reported pval: 0.401; #perm: 4000; recalculated pval: 0.38800; diff=0.01300\n",
        "235 - 0.0004; reported pval: 0.447; #perm: 4000; recalculated pval: 0.43825; diff=0.00875"
       ]
      },
      {
       "output_type": "stream",
       "stream": "stdout",
       "text": [
        "\n",
        "236 - 0.0005; reported pval: 0.500; #perm: 4000; recalculated pval: 0.50925; diff=0.00925\n",
        "237 - 0.0004; reported pval: 0.555; #perm: 4000; recalculated pval: 0.56700; diff=0.01200\n",
        "238 - 0.0004; reported pval: 0.598; #perm: 4000; recalculated pval: 0.59675; diff=0.00125"
       ]
      },
      {
       "output_type": "stream",
       "stream": "stdout",
       "text": [
        "\n",
        "239 - 0.0005; reported pval: 0.549; #perm: 4000; recalculated pval: 0.54525; diff=0.00375\n",
        "240 - 0.0005; reported pval: 0.589; #perm: 4000; recalculated pval: 0.59250; diff=0.00350\n",
        "241 - 0.0004; reported pval: 0.588; #perm: 4000; recalculated pval: 0.59275; diff=0.00475"
       ]
      },
      {
       "output_type": "stream",
       "stream": "stdout",
       "text": [
        "\n",
        "242 - 0.0005; reported pval: 0.541; #perm: 4000; recalculated pval: 0.55550; diff=0.01450\n",
        "243 - 0.0007; reported pval: 0.493; #perm: 4000; recalculated pval: 0.47475; diff=0.01825\n",
        "244 - 0.0007; reported pval: 0.480; #perm: 4000; recalculated pval: 0.46875; diff=0.01125"
       ]
      },
      {
       "output_type": "stream",
       "stream": "stdout",
       "text": [
        "\n",
        "245 - 0.0000; reported pval: 1.000; #perm: 4000; recalculated pval: 1.00000; diff=0.00000\n",
        "246 - 0.0007; reported pval: 0.337; #perm: 4000; recalculated pval: 0.33975; diff=0.00275\n",
        "247 - 0.0007; reported pval: 0.326; #perm: 4000; recalculated pval: 0.33625; diff=0.01025"
       ]
      },
      {
       "output_type": "stream",
       "stream": "stdout",
       "text": [
        "\n",
        "248 - 0.0007; reported pval: 0.325; #perm: 4000; recalculated pval: 0.32725; diff=0.00225\n",
        "249 - 0.0007; reported pval: 0.369; #perm: 4000; recalculated pval: 0.37575; diff=0.00675\n",
        "250 - 0.0010; reported pval: 0.339; #perm: 4000; recalculated pval: 0.32925; diff=0.00975"
       ]
      },
      {
       "output_type": "stream",
       "stream": "stdout",
       "text": [
        "\n",
        "251 - 0.0010; reported pval: 0.284; #perm: 4000; recalculated pval: 0.29000; diff=0.00600\n",
        "252 - 0.0007; reported pval: 0.338; #perm: 4000; recalculated pval: 0.34050; diff=0.00250\n",
        "253 - 0.0007; reported pval: 0.391; #perm: 4000; recalculated pval: 0.37775; diff=0.01325"
       ]
      },
      {
       "output_type": "stream",
       "stream": "stdout",
       "text": [
        "\n",
        "254 - 0.0007; reported pval: 0.350; #perm: 4000; recalculated pval: 0.36100; diff=0.01100\n",
        "255 - 0.0007; reported pval: 0.298; #perm: 4000; recalculated pval: 0.28125; diff=0.01675\n",
        "256 - 0.0005; reported pval: 0.335; #perm: 4000; recalculated pval: 0.33725; diff=0.00225"
       ]
      },
      {
       "output_type": "stream",
       "stream": "stdout",
       "text": [
        "\n",
        "257 - 0.0007; reported pval: 0.370; #perm: 4000; recalculated pval: 0.36675; diff=0.00325\n",
        "258 - 0.0007; reported pval: 0.299; #perm: 4000; recalculated pval: 0.29975; diff=0.00075\n",
        "259 - 0.0007; reported pval: 0.197; #perm: 4000; recalculated pval: 0.21400; diff=0.01700"
       ]
      },
      {
       "output_type": "stream",
       "stream": "stdout",
       "text": [
        "\n",
        "260 - 0.0007; reported pval: 0.251; #perm: 4000; recalculated pval: 0.24425; diff=0.00675\n",
        "261 - 0.0007; reported pval: 0.355; #perm: 4000; recalculated pval: 0.36175; diff=0.00675\n",
        "262 - 0.0005; reported pval: 0.327; #perm: 4000; recalculated pval: 0.32025; diff=0.00675"
       ]
      },
      {
       "output_type": "stream",
       "stream": "stdout",
       "text": [
        "\n",
        "263 - 0.0005; reported pval: 0.400; #perm: 4000; recalculated pval: 0.40300; diff=0.00300\n",
        "264 - 0.0005; reported pval: 0.453; #perm: 4000; recalculated pval: 0.47300; diff=0.02000\n",
        "265 - 0.0005; reported pval: 0.532; #perm: 4000; recalculated pval: 0.52300; diff=0.00900"
       ]
      },
      {
       "output_type": "stream",
       "stream": "stdout",
       "text": [
        "\n",
        "266 - 0.0007; reported pval: 0.486; #perm: 4000; recalculated pval: 0.47350; diff=0.01250\n",
        "267 - 0.0007; reported pval: 0.501; #perm: 4000; recalculated pval: 0.50150; diff=0.00050\n",
        "268 - 0.0010; reported pval: 0.375; #perm: 4000; recalculated pval: 0.38675; diff=0.01175"
       ]
      },
      {
       "output_type": "stream",
       "stream": "stdout",
       "text": [
        "\n",
        "269 - 0.0007; reported pval: 0.525; #perm: 4000; recalculated pval: 0.51925; diff=0.00575\n",
        "270 - 0.0010; reported pval: 0.388; #perm: 4000; recalculated pval: 0.37875; diff=0.00925"
       ]
      },
      {
       "output_type": "stream",
       "stream": "stdout",
       "text": [
        "\n",
        "271 - 0.0007; reported pval: 0.501; #perm: 4000; recalculated pval: 0.49225; diff=0.00875\n",
        "272 - 0.0000; reported pval: 1.000; #perm: 4000; recalculated pval: 1.00000; diff=0.00000"
       ]
      },
      {
       "output_type": "stream",
       "stream": "stdout",
       "text": [
        "\n",
        "273 - 0.0010; reported pval: 0.350; #perm: 4000; recalculated pval: 0.35475; diff=0.00475\n",
        "274 - 0.0000; reported pval: 1.000; #perm: 4000; recalculated pval: 1.00000; diff=0.00000\n",
        "275 - 0.0010; reported pval: 0.343; #perm: 4000; recalculated pval: 0.35225; diff=0.00925"
       ]
      },
      {
       "output_type": "stream",
       "stream": "stdout",
       "text": [
        "\n",
        "276 - 0.0010; reported pval: 0.375; #perm: 4000; recalculated pval: 0.37125; diff=0.00375\n",
        "277 - 0.0000; reported pval: 1.000; #perm: 4000; recalculated pval: 1.00000; diff=0.00000"
       ]
      },
      {
       "output_type": "stream",
       "stream": "stdout",
       "text": [
        "\n",
        "278 - 0.0000; reported pval: 1.000; #perm: 4000; recalculated pval: 1.00000; diff=0.00000\n",
        "279 - 0.0020; reported pval: 0.161; #perm: 4000; recalculated pval: 0.16525; diff=0.00425"
       ]
      },
      {
       "output_type": "stream",
       "stream": "stdout",
       "text": [
        "\n",
        "280 - 0.0020; reported pval: 0.210; #perm: 4000; recalculated pval: 0.18525; diff=0.02475\n",
        "281 - 0.0020; reported pval: 0.167; #perm: 4000; recalculated pval: 0.16575; diff=0.00125\n",
        "282 - 0.0007; reported pval: 0.449; #perm: 4000; recalculated pval: 0.45100; diff=0.00200"
       ]
      },
      {
       "output_type": "stream",
       "stream": "stdout",
       "text": [
        "\n",
        "283 - 0.0020; reported pval: 0.160; #perm: 4000; recalculated pval: 0.16125; diff=0.00125\n",
        "284 - 0.0020; reported pval: 0.183; #perm: 4000; recalculated pval: 0.18275; diff=0.00025\n",
        "285 - 0.0010; reported pval: 0.339; #perm: 4000; recalculated pval: 0.33125; diff=0.00775"
       ]
      },
      {
       "output_type": "stream",
       "stream": "stdout",
       "text": [
        "\n",
        "286 - 0.0010; reported pval: 0.367; #perm: 4000; recalculated pval: 0.36300; diff=0.00400\n",
        "287 - 0.0007; reported pval: 0.439; #perm: 4000; recalculated pval: 0.46950; diff=0.03050\n",
        "288 - 0.0010; reported pval: 0.355; #perm: 4000; recalculated pval: 0.38100; diff=0.02600"
       ]
      },
      {
       "output_type": "stream",
       "stream": "stdout",
       "text": [
        "\n",
        "289 - 0.0020; reported pval: 0.126; #perm: 4000; recalculated pval: 0.13200; diff=0.00600\n",
        "290 - 0.0020; reported pval: 0.104; #perm: 4000; recalculated pval: 0.10800; diff=0.00400\n",
        "291 - 0.0020; reported pval: 0.104; #perm: 4000; recalculated pval: 0.11075; diff=0.00675"
       ]
      },
      {
       "output_type": "stream",
       "stream": "stdout",
       "text": [
        "\n",
        "292 - 0.0010; reported pval: 0.381; #perm: 4000; recalculated pval: 0.37300; diff=0.00800\n",
        "293 - 0.0020; reported pval: 0.126; #perm: 4000; recalculated pval: 0.11700; diff=0.00900\n",
        "294 - 0.0000; reported pval: 1.000; #perm: 4000; recalculated pval: 1.00000; diff=0.00000"
       ]
      },
      {
       "output_type": "stream",
       "stream": "stdout",
       "text": [
        "\n",
        "295 - 0.0000; reported pval: 1.000; #perm: 4000; recalculated pval: 1.00000; diff=0.00000\n",
        "296 - 0.0010; reported pval: 0.382; #perm: 4000; recalculated pval: 0.38175; diff=0.00025\n",
        "297 - 0.0010; reported pval: 0.377; #perm: 4000; recalculated pval: 0.37850; diff=0.00150"
       ]
      },
      {
       "output_type": "stream",
       "stream": "stdout",
       "text": [
        "\n",
        "298 - 0.0010; reported pval: 0.368; #perm: 4000; recalculated pval: 0.36925; diff=0.00125\n",
        "299 - 0.0000; reported pval: 1.000; #perm: 4000; recalculated pval: 1.00000; diff=0.00000\n",
        "300 - 0.0010; reported pval: 0.382; #perm: 4000; recalculated pval: 0.37625; diff=0.00575"
       ]
      },
      {
       "output_type": "stream",
       "stream": "stdout",
       "text": [
        "\n",
        "301 - 0.0010; reported pval: 0.382; #perm: 4000; recalculated pval: 0.36925; diff=0.01275\n",
        "302 - 0.0010; reported pval: 0.375; #perm: 4000; recalculated pval: 0.36450; diff=0.01050\n",
        "303 - 0.0010; reported pval: 0.353; #perm: 4000; recalculated pval: 0.36875; diff=0.01575"
       ]
      },
      {
       "output_type": "stream",
       "stream": "stdout",
       "text": [
        "\n",
        "304 - 0.0010; reported pval: 0.392; #perm: 4000; recalculated pval: 0.37825; diff=0.01375\n",
        "305 - 0.0010; reported pval: 0.361; #perm: 4000; recalculated pval: 0.37925; diff=0.01825"
       ]
      },
      {
       "output_type": "stream",
       "stream": "stdout",
       "text": [
        "\n",
        "306 - 0.0031; reported pval: 0.020; #perm: 4000; recalculated pval: 0.02250; diff=0.00250\n",
        "307 - 0.0031; reported pval: 0.017; #perm: 4000; recalculated pval: 0.02200; diff=0.00500"
       ]
      },
      {
       "output_type": "stream",
       "stream": "stdout",
       "text": [
        "\n",
        "308 - 0.0010; reported pval: 0.363; #perm: 4000; recalculated pval: 0.36900; diff=0.00600\n",
        "309 - 0.0020; reported pval: 0.121; #perm: 4000; recalculated pval: 0.12450; diff=0.00350"
       ]
      },
      {
       "output_type": "stream",
       "stream": "stdout",
       "text": [
        "\n",
        "310 - 0.0031; reported pval: 0.018; #perm: 4000; recalculated pval: 0.01925; diff=0.00125\n",
        "311 - 0.0031; reported pval: 0.021; #perm: 4000; recalculated pval: 0.02300; diff=0.00200\n",
        "312 - 0.0020; reported pval: 0.134; #perm: 4000; recalculated pval: 0.13350; diff=0.00050"
       ]
      },
      {
       "output_type": "stream",
       "stream": "stdout",
       "text": [
        "\n",
        "313 - 0.0031; reported pval: 0.016; #perm: 4000; recalculated pval: 0.01700; diff=0.00100\n",
        "314 - 0.0034; reported pval: 0.012; #perm: 4000; recalculated pval: 0.01350; diff=0.00150\n",
        "315 - 0.0031; reported pval: 0.028; #perm: 4000; recalculated pval: 0.02800; diff=0.00000"
       ]
      },
      {
       "output_type": "stream",
       "stream": "stdout",
       "text": [
        "\n",
        "316 - 0.0020; reported pval: 0.145; #perm: 4000; recalculated pval: 0.13325; diff=0.01175\n",
        "317 - 0.0034; reported pval: 0.007; #perm: 4000; recalculated pval: 0.00950; diff=0.00250\n",
        "318 - 0.0036; reported pval: 0.013; #perm: 4000; recalculated pval: 0.01750; diff=0.00450"
       ]
      },
      {
       "output_type": "stream",
       "stream": "stdout",
       "text": [
        "\n",
        "319 - 0.0020; reported pval: 0.109; #perm: 4000; recalculated pval: 0.08625; diff=0.02275\n",
        "320 - 0.0010; reported pval: 0.419; #perm: 4000; recalculated pval: 0.38925; diff=0.02975\n",
        "321 - 0.0010; reported pval: 0.389; #perm: 4000; recalculated pval: 0.38675; diff=0.00225"
       ]
      },
      {
       "output_type": "stream",
       "stream": "stdout",
       "text": [
        "\n",
        "322 - 0.0010; reported pval: 0.391; #perm: 4000; recalculated pval: 0.37375; diff=0.01725\n",
        "323 - 0.0020; reported pval: 0.108; #perm: 4000; recalculated pval: 0.10500; diff=0.00300\n",
        "324 - 0.0020; reported pval: 0.093; #perm: 4000; recalculated pval: 0.09525; diff=0.00225"
       ]
      },
      {
       "output_type": "stream",
       "stream": "stdout",
       "text": [
        "\n",
        "325 - 0.0020; reported pval: 0.120; #perm: 4000; recalculated pval: 0.11500; diff=0.00500\n",
        "326 - 0.0020; reported pval: 0.121; #perm: 4000; recalculated pval: 0.11750; diff=0.00350\n",
        "327 - 0.0000; reported pval: 1.000; #perm: 4000; recalculated pval: 1.00000; diff=0.00000"
       ]
      },
      {
       "output_type": "stream",
       "stream": "stdout",
       "text": [
        "\n",
        "328 - 0.0000; reported pval: 1.000; #perm: 4000; recalculated pval: 1.00000; diff=0.00000\n",
        "329 - 0.0020; reported pval: 0.124; #perm: 4000; recalculated pval: 0.12450; diff=0.00050\n",
        "330 - 0.0020; reported pval: 0.133; #perm: 4000; recalculated pval: 0.13625; diff=0.00325"
       ]
      },
      {
       "output_type": "stream",
       "stream": "stdout",
       "text": [
        "\n",
        "331 - 0.0000; reported pval: 1.000; #perm: 4000; recalculated pval: 1.00000; diff=0.00000\n",
        "332 - 0.0000; reported pval: 1.000; #perm: 4000; recalculated pval: 1.00000; diff=0.00000\n",
        "333 - 0.0020; reported pval: 0.149; #perm: 4000; recalculated pval: 0.16375; diff=0.01475"
       ]
      },
      {
       "output_type": "stream",
       "stream": "stdout",
       "text": [
        "\n",
        "334 - 0.0000; reported pval: 1.000; #perm: 4000; recalculated pval: 1.00000; diff=0.00000\n",
        "335 - 0.0000; reported pval: 1.000; #perm: 4000; recalculated pval: 1.00000; diff=0.00000\n",
        "336 - 0.0000; reported pval: 1.000; #perm: 4000; recalculated pval: 1.00000; diff=0.00000"
       ]
      },
      {
       "output_type": "stream",
       "stream": "stdout",
       "text": [
        "\n",
        "337 - 0.0020; reported pval: 0.153; #perm: 4000; recalculated pval: 0.15850; diff=0.00550\n",
        "338 - 0.0010; reported pval: 0.340; #perm: 4000; recalculated pval: 0.34600; diff=0.00600\n",
        "339 - 0.0020; reported pval: 0.182; #perm: 4000; recalculated pval: 0.16650; diff=0.01550"
       ]
      },
      {
       "output_type": "stream",
       "stream": "stdout",
       "text": [
        "\n",
        "340 - 0.0020; reported pval: 0.139; #perm: 4000; recalculated pval: 0.14850; diff=0.00950\n",
        "341 - 0.0020; reported pval: 0.152; #perm: 4000; recalculated pval: 0.13875; diff=0.01325\n",
        "342 - 0.0020; reported pval: 0.146; #perm: 4000; recalculated pval: 0.13950; diff=0.00650"
       ]
      },
      {
       "output_type": "stream",
       "stream": "stdout",
       "text": [
        "\n",
        "343 - 0.0020; reported pval: 0.126; #perm: 4000; recalculated pval: 0.14275; diff=0.01675\n",
        "344 - 0.0020; reported pval: 0.124; #perm: 4000; recalculated pval: 0.13100; diff=0.00700\n",
        "345 - 0.0020; reported pval: 0.123; #perm: 4000; recalculated pval: 0.12550; diff=0.00250"
       ]
      },
      {
       "output_type": "stream",
       "stream": "stdout",
       "text": [
        "\n",
        "346 - 0.0020; reported pval: 0.136; #perm: 4000; recalculated pval: 0.12500; diff=0.01100\n",
        "347 - 0.0020; reported pval: 0.114; #perm: 4000; recalculated pval: 0.12300; diff=0.00900\n",
        "348 - 0.0031; reported pval: 0.017; #perm: 4000; recalculated pval: 0.01825; diff=0.00125"
       ]
      },
      {
       "output_type": "stream",
       "stream": "stdout",
       "text": [
        "\n",
        "349 - 0.0031; reported pval: 0.014; #perm: 4000; recalculated pval: 0.01775; diff=0.00375\n",
        "350 - 0.0020; reported pval: 0.109; #perm: 4000; recalculated pval: 0.11200; diff=0.00300\n",
        "351 - 0.0031; reported pval: 0.013; #perm: 4000; recalculated pval: 0.01325; diff=0.00025"
       ]
      },
      {
       "output_type": "stream",
       "stream": "stdout",
       "text": [
        "\n",
        "352 - 0.0031; reported pval: 0.023; #perm: 4000; recalculated pval: 0.01800; diff=0.00500\n",
        "353 - 0.0034; reported pval: 0.016; #perm: 4000; recalculated pval: 0.01350; diff=0.00250\n",
        "354 - 0.0027; reported pval: 0.015; #perm: 4000; recalculated pval: 0.01925; diff=0.00425"
       ]
      },
      {
       "output_type": "stream",
       "stream": "stdout",
       "text": [
        "\n",
        "355 - 0.0027; reported pval: 0.026; #perm: 4000; recalculated pval: 0.01975; diff=0.00625\n",
        "356 - 0.0013; reported pval: 0.215; #perm: 4000; recalculated pval: 0.22275; diff=0.00775\n",
        "357 - 0.0020; reported pval: 0.093; #perm: 4000; recalculated pval: 0.10050; diff=0.00750"
       ]
      },
      {
       "output_type": "stream",
       "stream": "stdout",
       "text": [
        "\n",
        "358 - 0.0020; reported pval: 0.134; #perm: 4000; recalculated pval: 0.11350; diff=0.02050\n",
        "359 - 0.0020; reported pval: 0.116; #perm: 4000; recalculated pval: 0.11525; diff=0.00075\n",
        "360 - 0.0020; reported pval: 0.139; #perm: 4000; recalculated pval: 0.13950; diff=0.00050"
       ]
      },
      {
       "output_type": "stream",
       "stream": "stdout",
       "text": [
        "\n",
        "361 - 0.0000; reported pval: 1.000; #perm: 4000; recalculated pval: 1.00000; diff=0.00000\n",
        "362 - 0.0000; reported pval: 1.000; #perm: 4000; recalculated pval: 1.00000; diff=0.00000\n",
        "363 - 0.0020; reported pval: 0.156; #perm: 4000; recalculated pval: 0.16025; diff=0.00425"
       ]
      },
      {
       "output_type": "stream",
       "stream": "stdout",
       "text": [
        "\n",
        "364 - 0.0000; reported pval: 1.000; #perm: 4000; recalculated pval: 1.00000; diff=0.00000\n",
        "365 - 0.0000; reported pval: 1.000; #perm: 4000; recalculated pval: 1.00000; diff=0.00000\n",
        "366 - 0.0000; reported pval: 1.000; #perm: 4000; recalculated pval: 1.00000; diff=0.00000"
       ]
      },
      {
       "output_type": "stream",
       "stream": "stdout",
       "text": [
        "\n",
        "367 - 0.0000; reported pval: 1.000; #perm: 4000; recalculated pval: 1.00000; diff=0.00000\n",
        "368 - 0.0000; reported pval: 1.000; #perm: 4000; recalculated pval: 1.00000; diff=0.00000\n",
        "369 - 0.0000; reported pval: 1.000; #perm: 4000; recalculated pval: 1.00000; diff=0.00000"
       ]
      },
      {
       "output_type": "stream",
       "stream": "stdout",
       "text": [
        "\n",
        "370 - 0.0020; reported pval: 0.173; #perm: 4000; recalculated pval: 0.16750; diff=0.00550\n",
        "371 - 0.0020; reported pval: 0.166; #perm: 4000; recalculated pval: 0.16525; diff=0.00075\n",
        "372 - 0.0020; reported pval: 0.165; #perm: 4000; recalculated pval: 0.16275; diff=0.00225"
       ]
      },
      {
       "output_type": "stream",
       "stream": "stdout",
       "text": [
        "\n",
        "373 - 0.0020; reported pval: 0.140; #perm: 4000; recalculated pval: 0.14100; diff=0.00100\n",
        "374 - 0.0020; reported pval: 0.148; #perm: 4000; recalculated pval: 0.14350; diff=0.00450\n",
        "375 - 0.0020; reported pval: 0.141; #perm: 4000; recalculated pval: 0.14825; diff=0.00725"
       ]
      },
      {
       "output_type": "stream",
       "stream": "stdout",
       "text": [
        "\n",
        "376 - 0.0020; reported pval: 0.132; #perm: 4000; recalculated pval: 0.13950; diff=0.00750\n",
        "377 - 0.0020; reported pval: 0.125; #perm: 4000; recalculated pval: 0.11925; diff=0.00575\n",
        "378 - 0.0020; reported pval: 0.127; #perm: 4000; recalculated pval: 0.14050; diff=0.01350"
       ]
      },
      {
       "output_type": "stream",
       "stream": "stdout",
       "text": [
        "\n",
        "379 - 0.0020; reported pval: 0.131; #perm: 4000; recalculated pval: 0.14325; diff=0.01225\n",
        "380 - 0.0020; reported pval: 0.134; #perm: 4000; recalculated pval: 0.12325; diff=0.01075\n",
        "381 - 0.0020; reported pval: 0.102; #perm: 4000; recalculated pval: 0.11175; diff=0.00975"
       ]
      },
      {
       "output_type": "stream",
       "stream": "stdout",
       "text": [
        "\n",
        "382 - 0.0020; reported pval: 0.148; #perm: 4000; recalculated pval: 0.14175; diff=0.00625\n",
        "383 - 0.0031; reported pval: 0.023; #perm: 4000; recalculated pval: 0.02025; diff=0.00275\n",
        "384 - 0.0031; reported pval: 0.015; #perm: 4000; recalculated pval: 0.01500; diff=0.00000"
       ]
      },
      {
       "output_type": "stream",
       "stream": "stdout",
       "text": [
        "\n",
        "385 - 0.0031; reported pval: 0.014; #perm: 4000; recalculated pval: 0.01400; diff=0.00000\n",
        "386 - 0.0031; reported pval: 0.019; #perm: 4000; recalculated pval: 0.02075; diff=0.00175\n",
        "387 - 0.0031; reported pval: 0.018; #perm: 4000; recalculated pval: 0.01975; diff=0.00175"
       ]
      },
      {
       "output_type": "stream",
       "stream": "stdout",
       "text": [
        "\n",
        "388 - 0.0031; reported pval: 0.018; #perm: 4000; recalculated pval: 0.02025; diff=0.00225\n",
        "389 - 0.0037; reported pval: 0.014; #perm: 4000; recalculated pval: 0.01450; diff=0.00050\n",
        "390 - 0.0034; reported pval: 0.010; #perm: 4000; recalculated pval: 0.01050; diff=0.00050"
       ]
      },
      {
       "output_type": "stream",
       "stream": "stdout",
       "text": [
        "\n",
        "391 - 0.0041; reported pval: 0.013; #perm: 8000; recalculated pval: 0.01350; diff=0.00050\n",
        "392 - 0.0041; reported pval: 0.008; #perm: 4000; recalculated pval: 0.01200; diff=0.00400\n",
        "393 - 0.0036; reported pval: 0.005; #perm: 4000; recalculated pval: 0.00700; diff=0.00200"
       ]
      },
      {
       "output_type": "stream",
       "stream": "stdout",
       "text": [
        "\n",
        "394 - 0.0041; reported pval: 0.011; #perm: 4000; recalculated pval: 0.01050; diff=0.00050\n",
        "395 - 0.0041; reported pval: 0.009; #perm: 4000; recalculated pval: 0.00950; diff=0.00050\n",
        "396 - 0.0041; reported pval: 0.018; #perm: 4000; recalculated pval: 0.01575; diff=0.00225"
       ]
      },
      {
       "output_type": "stream",
       "stream": "stdout",
       "text": [
        "\n",
        "397 - 0.0041; reported pval: 0.007; #perm: 4000; recalculated pval: 0.01100; diff=0.00400\n",
        "398 - 0.0041; reported pval: 0.019; #perm: 4000; recalculated pval: 0.01650; diff=0.00250\n",
        "399 - 0.0041; reported pval: 0.020; #perm: 4000; recalculated pval: 0.02250; diff=0.00250"
       ]
      },
      {
       "output_type": "stream",
       "stream": "stdout",
       "text": [
        "\n",
        "400 - 0.0041; reported pval: 0.021; #perm: 4000; recalculated pval: 0.02175; diff=0.00075\n",
        "401 - 0.0041; reported pval: 0.023; #perm: 4000; recalculated pval: 0.02250; diff=0.00050"
       ]
      },
      {
       "output_type": "stream",
       "stream": "stdout",
       "text": [
        "\n",
        "402 - 0.0041; reported pval: 0.016; #perm: 4000; recalculated pval: 0.01825; diff=0.00225\n",
        "403 - 0.0041; reported pval: 0.024; #perm: 4000; recalculated pval: 0.02575; diff=0.00175\n",
        "404 - 0.0041; reported pval: 0.023; #perm: 4000; recalculated pval: 0.02200; diff=0.00100"
       ]
      },
      {
       "output_type": "stream",
       "stream": "stdout",
       "text": [
        "\n",
        "405 - 0.0041; reported pval: 0.030; #perm: 4000; recalculated pval: 0.02675; diff=0.00325\n",
        "406 - 0.0021; reported pval: 0.059; #perm: 4000; recalculated pval: 0.06525; diff=0.00625\n",
        "407 - 0.0021; reported pval: 0.061; #perm: 4000; recalculated pval: 0.06175; diff=0.00075"
       ]
      },
      {
       "output_type": "stream",
       "stream": "stdout",
       "text": [
        "\n",
        "408 - 0.0010; reported pval: 0.327; #perm: 4000; recalculated pval: 0.31925; diff=0.00775\n",
        "409 - 0.0026; reported pval: 0.035; #perm: 4000; recalculated pval: 0.03725; diff=0.00225"
       ]
      },
      {
       "output_type": "stream",
       "stream": "stdout",
       "text": [
        "\n",
        "410 - 0.0027; reported pval: 0.025; #perm: 4000; recalculated pval: 0.02800; diff=0.00300\n",
        "411 - 0.0027; reported pval: 0.027; #perm: 4000; recalculated pval: 0.02700; diff=0.00000"
       ]
      },
      {
       "output_type": "stream",
       "stream": "stdout",
       "text": [
        "\n",
        "412 - 0.0027; reported pval: 0.031; #perm: 4000; recalculated pval: 0.02475; diff=0.00625\n",
        "413 - 0.0027; reported pval: 0.035; #perm: 4000; recalculated pval: 0.02825; diff=0.00675\n",
        "414 - 0.0027; reported pval: 0.024; #perm: 4000; recalculated pval: 0.02775; diff=0.00375"
       ]
      },
      {
       "output_type": "stream",
       "stream": "stdout",
       "text": [
        "\n",
        "415 - 0.0027; reported pval: 0.031; #perm: 4000; recalculated pval: 0.02675; diff=0.00425\n",
        "416 - 0.0026; reported pval: 0.034; #perm: 4000; recalculated pval: 0.02775; diff=0.00625\n",
        "417 - 0.0041; reported pval: 0.017; #perm: 4000; recalculated pval: 0.01850; diff=0.00150"
       ]
      },
      {
       "output_type": "stream",
       "stream": "stdout",
       "text": [
        "\n",
        "418 - 0.0027; reported pval: 0.028; #perm: 4000; recalculated pval: 0.02525; diff=0.00275\n",
        "419 - 0.0026; reported pval: 0.031; #perm: 4000; recalculated pval: 0.03125; diff=0.00025\n",
        "420 - 0.0034; reported pval: 0.017; #perm: 4000; recalculated pval: 0.01825; diff=0.00125"
       ]
      },
      {
       "output_type": "stream",
       "stream": "stdout",
       "text": [
        "\n",
        "421 - 0.0041; reported pval: 0.018; #perm: 4000; recalculated pval: 0.02000; diff=0.00200\n",
        "422 - 0.0041; reported pval: 0.021; #perm: 4000; recalculated pval: 0.02200; diff=0.00100\n",
        "423 - 0.0031; reported pval: 0.025; #perm: 4000; recalculated pval: 0.02875; diff=0.00375"
       ]
      },
      {
       "output_type": "stream",
       "stream": "stdout",
       "text": [
        "\n",
        "424 - 0.0020; reported pval: 0.071; #perm: 4000; recalculated pval: 0.08175; diff=0.01075\n",
        "425 - 0.0020; reported pval: 0.095; #perm: 4000; recalculated pval: 0.08150; diff=0.01350\n",
        "426 - 0.0020; reported pval: 0.074; #perm: 4000; recalculated pval: 0.07550; diff=0.00150"
       ]
      },
      {
       "output_type": "stream",
       "stream": "stdout",
       "text": [
        "\n",
        "427 - 0.0020; reported pval: 0.064; #perm: 4000; recalculated pval: 0.06625; diff=0.00225\n",
        "428 - 0.0000; reported pval: 1.000; #perm: 4000; recalculated pval: 1.00000; diff=0.00000\n",
        "429 - 0.0010; reported pval: 0.365; #perm: 4000; recalculated pval: 0.36200; diff=0.00300"
       ]
      },
      {
       "output_type": "stream",
       "stream": "stdout",
       "text": [
        "\n",
        "430 - 0.0000; reported pval: 1.000; #perm: 4000; recalculated pval: 1.00000; diff=0.00000\n",
        "431 - 0.0010; reported pval: 0.362; #perm: 8000; recalculated pval: 0.35175; diff=0.01025\n",
        "432 - 0.0010; reported pval: 0.317; #perm: 4000; recalculated pval: 0.32900; diff=0.01200"
       ]
      },
      {
       "output_type": "stream",
       "stream": "stdout",
       "text": [
        "\n",
        "433 - 0.0010; reported pval: 0.325; #perm: 4000; recalculated pval: 0.34150; diff=0.01650\n",
        "434 - 0.0010; reported pval: 0.395; #perm: 4000; recalculated pval: 0.36200; diff=0.03300\n",
        "435 - 0.0010; reported pval: 0.349; #perm: 4000; recalculated pval: 0.34200; diff=0.00700"
       ]
      },
      {
       "output_type": "stream",
       "stream": "stdout",
       "text": [
        "\n",
        "436 - 0.0010; reported pval: 0.350; #perm: 4000; recalculated pval: 0.35400; diff=0.00400\n",
        "437 - 0.0010; reported pval: 0.383; #perm: 4000; recalculated pval: 0.36500; diff=0.01800\n",
        "438 - 0.0010; reported pval: 0.352; #perm: 4000; recalculated pval: 0.37400; diff=0.02200"
       ]
      },
      {
       "output_type": "stream",
       "stream": "stdout",
       "text": [
        "\n",
        "439 - 0.0020; reported pval: 0.091; #perm: 4000; recalculated pval: 0.07850; diff=0.01250\n",
        "440 - 0.0020; reported pval: 0.064; #perm: 4000; recalculated pval: 0.07050; diff=0.00650\n",
        "441 - 0.0020; reported pval: 0.076; #perm: 4000; recalculated pval: 0.07150; diff=0.00450"
       ]
      },
      {
       "output_type": "stream",
       "stream": "stdout",
       "text": [
        "\n",
        "442 - 0.0026; reported pval: 0.023; #perm: 4000; recalculated pval: 0.02525; diff=0.00225\n",
        "443 - 0.0026; reported pval: 0.028; #perm: 4000; recalculated pval: 0.03100; diff=0.00300\n",
        "444 - 0.0024; reported pval: 0.014; #perm: 4000; recalculated pval: 0.01950; diff=0.00550"
       ]
      },
      {
       "output_type": "stream",
       "stream": "stdout",
       "text": [
        "\n",
        "445 - 0.0020; reported pval: 0.075; #perm: 4000; recalculated pval: 0.06600; diff=0.00900\n",
        "446 - 0.0031; reported pval: 0.023; #perm: 4000; recalculated pval: 0.02450; diff=0.00150\n",
        "447 - 0.0020; reported pval: 0.071; #perm: 4000; recalculated pval: 0.07075; diff=0.00025"
       ]
      },
      {
       "output_type": "stream",
       "stream": "stdout",
       "text": [
        "\n",
        "448 - 0.0020; reported pval: 0.073; #perm: 4000; recalculated pval: 0.07175; diff=0.00125\n",
        "449 - 0.0020; reported pval: 0.065; #perm: 4000; recalculated pval: 0.06450; diff=0.00050\n",
        "450 - 0.0010; reported pval: 0.370; #perm: 4000; recalculated pval: 0.37525; diff=0.00525"
       ]
      },
      {
       "output_type": "stream",
       "stream": "stdout",
       "text": [
        "\n",
        "451 - 0.0013; reported pval: 0.243; #perm: 4000; recalculated pval: 0.22150; diff=0.02150\n",
        "452 - 0.0010; reported pval: 0.381; #perm: 4000; recalculated pval: 0.35500; diff=0.02600\n",
        "453 - 0.0010; reported pval: 0.381; #perm: 4000; recalculated pval: 0.36625; diff=0.01475"
       ]
      },
      {
       "output_type": "stream",
       "stream": "stdout",
       "text": [
        "\n",
        "454 - 0.0010; reported pval: 0.295; #perm: 4000; recalculated pval: 0.30375; diff=0.00875\n",
        "455 - 0.0007; reported pval: 0.400; #perm: 4000; recalculated pval: 0.40750; diff=0.00750\n",
        "456 - 0.0007; reported pval: 0.442; #perm: 4000; recalculated pval: 0.42050; diff=0.02150"
       ]
      },
      {
       "output_type": "stream",
       "stream": "stdout",
       "text": [
        "\n",
        "457 - 0.0007; reported pval: 0.438; #perm: 4000; recalculated pval: 0.44050; diff=0.00250\n",
        "458 - 0.0007; reported pval: 0.427; #perm: 4000; recalculated pval: 0.46550; diff=0.03850"
       ]
      },
      {
       "output_type": "stream",
       "stream": "stdout",
       "text": [
        "\n",
        "459 - 0.0010; reported pval: 0.364; #perm: 4000; recalculated pval: 0.35875; diff=0.00525\n",
        "460 - 0.0007; reported pval: 0.508; #perm: 4000; recalculated pval: 0.48900; diff=0.01900\n",
        "461 - 0.0007; reported pval: 0.502; #perm: 4000; recalculated pval: 0.49475; diff=0.00725"
       ]
      },
      {
       "output_type": "stream",
       "stream": "stdout",
       "text": [
        "\n",
        "462 - 0.0013; reported pval: 0.218; #perm: 4000; recalculated pval: 0.20750; diff=0.01050\n",
        "463 - 0.0013; reported pval: 0.216; #perm: 4000; recalculated pval: 0.21175; diff=0.00425\n",
        "464 - 0.0013; reported pval: 0.193; #perm: 4000; recalculated pval: 0.21850; diff=0.02550"
       ]
      },
      {
       "output_type": "stream",
       "stream": "stdout",
       "text": [
        "\n",
        "465 - 0.0013; reported pval: 0.213; #perm: 4000; recalculated pval: 0.21325; diff=0.00025\n",
        "466 - 0.0020; reported pval: 0.079; #perm: 4000; recalculated pval: 0.06900; diff=0.01000\n",
        "467 - 0.0020; reported pval: 0.071; #perm: 4000; recalculated pval: 0.07050; diff=0.00050"
       ]
      },
      {
       "output_type": "stream",
       "stream": "stdout",
       "text": [
        "\n",
        "468 - 0.0013; reported pval: 0.171; #perm: 4000; recalculated pval: 0.20250; diff=0.03150\n",
        "469 - 0.0013; reported pval: 0.229; #perm: 4000; recalculated pval: 0.22150; diff=0.00750\n",
        "470 - 0.0013; reported pval: 0.205; #perm: 4000; recalculated pval: 0.22225; diff=0.01725"
       ]
      },
      {
       "output_type": "stream",
       "stream": "stdout",
       "text": [
        "\n",
        "471 - 0.0013; reported pval: 0.228; #perm: 4000; recalculated pval: 0.22525; diff=0.00275\n",
        "472 - 0.0010; reported pval: 0.355; #perm: 4000; recalculated pval: 0.35050; diff=0.00450\n",
        "473 - 0.0000; reported pval: 1.000; #perm: 4000; recalculated pval: 1.00000; diff=0.00000"
       ]
      },
      {
       "output_type": "stream",
       "stream": "stdout",
       "text": [
        "\n",
        "474 - 0.0000; reported pval: 1.000; #perm: 4000; recalculated pval: 1.00000; diff=0.00000\n",
        "475 - 0.0000; reported pval: 1.000; #perm: 4000; recalculated pval: 1.00000; diff=0.00000\n",
        "476 - 0.0000; reported pval: 1.000; #perm: 4000; recalculated pval: 1.00000; diff=0.00000"
       ]
      },
      {
       "output_type": "stream",
       "stream": "stdout",
       "text": [
        "\n",
        "477 - 0.0000; reported pval: 1.000; #perm: 4000; recalculated pval: 1.00000; diff=0.00000\n",
        "478 - 0.0000; reported pval: 1.000; #perm: 4000; recalculated pval: 1.00000; diff=0.00000\n",
        "479 - 0.0000; reported pval: 1.000; #perm: 4000; recalculated pval: 1.00000; diff=0.00000"
       ]
      },
      {
       "output_type": "stream",
       "stream": "stdout",
       "text": [
        "\n",
        "480 - 0.0000; reported pval: 1.000; #perm: 4000; recalculated pval: 1.00000; diff=0.00000\n",
        "481 - 0.0000; reported pval: 1.000; #perm: 4000; recalculated pval: 1.00000; diff=0.00000\n",
        "482 - 0.0000; reported pval: 1.000; #perm: 4000; recalculated pval: 1.00000; diff=0.00000"
       ]
      },
      {
       "output_type": "stream",
       "stream": "stdout",
       "text": [
        "\n",
        "483 - 0.0000; reported pval: 1.000; #perm: 4000; recalculated pval: 1.00000; diff=0.00000\n",
        "484 - 0.0000; reported pval: 1.000; #perm: 4000; recalculated pval: 1.00000; diff=0.00000\n",
        "485 - 0.0000; reported pval: 1.000; #perm: 4000; recalculated pval: 1.00000; diff=0.00000"
       ]
      },
      {
       "output_type": "stream",
       "stream": "stdout",
       "text": [
        "\n",
        "486 - 0.0000; reported pval: 1.000; #perm: 4000; recalculated pval: 1.00000; diff=0.00000\n",
        "487 - 0.0000; reported pval: 1.000; #perm: 4000; recalculated pval: 1.00000; diff=0.00000\n",
        "488 - 0.0000; reported pval: 1.000; #perm: 4000; recalculated pval: 1.00000; diff=0.00000"
       ]
      },
      {
       "output_type": "stream",
       "stream": "stdout",
       "text": [
        "\n",
        "489 - 0.0000; reported pval: 1.000; #perm: 4000; recalculated pval: 1.00000; diff=0.00000\n",
        "490 - 0.0000; reported pval: 1.000; #perm: 4000; recalculated pval: 1.00000; diff=0.00000"
       ]
      },
      {
       "output_type": "stream",
       "stream": "stdout",
       "text": [
        "\n",
        "491 - 0.0000; reported pval: 1.000; #perm: 4000; recalculated pval: 1.00000; diff=0.00000\n",
        "492 - 0.0000; reported pval: 1.000; #perm: 4000; recalculated pval: 1.00000; diff=0.00000\n",
        "493 - 0.0000; reported pval: 1.000; #perm: 4000; recalculated pval: 1.00000; diff=0.00000"
       ]
      },
      {
       "output_type": "stream",
       "stream": "stdout",
       "text": [
        "\n",
        "494 - 0.0000; reported pval: 1.000; #perm: 4000; recalculated pval: 1.00000; diff=0.00000\n",
        "495 - 0.0010; reported pval: 0.343; #perm: 4000; recalculated pval: 0.36625; diff=0.02325\n",
        "496 - 0.0010; reported pval: 0.328; #perm: 4000; recalculated pval: 0.34825; diff=0.02025"
       ]
      },
      {
       "output_type": "stream",
       "stream": "stdout",
       "text": [
        "\n",
        "497 - 0.0020; reported pval: 0.175; #perm: 4000; recalculated pval: 0.18100; diff=0.00600\n",
        "498 - 0.0020; reported pval: 0.190; #perm: 4000; recalculated pval: 0.18825; diff=0.00175\n",
        "499 - 0.0010; reported pval: 0.392; #perm: 4000; recalculated pval: 0.37850; diff=0.01350"
       ]
      },
      {
       "output_type": "stream",
       "stream": "stdout",
       "text": [
        "\n",
        "500 - 0.0020; reported pval: 0.174; #perm: 4000; recalculated pval: 0.17750; diff=0.00350\n",
        "501 - 0.0010; reported pval: 0.366; #perm: 4000; recalculated pval: 0.37850; diff=0.01250\n",
        "502 - 0.0010; reported pval: 0.341; #perm: 4000; recalculated pval: 0.34850; diff=0.00750"
       ]
      },
      {
       "output_type": "stream",
       "stream": "stdout",
       "text": [
        "\n",
        "503 - 0.0020; reported pval: 0.177; #perm: 4000; recalculated pval: 0.16450; diff=0.01250\n",
        "504 - 0.0000; reported pval: 1.000; #perm: 4000; recalculated pval: 1.00000; diff=0.00000\n",
        "505 - 0.0000; reported pval: 1.000; #perm: 4000; recalculated pval: 1.00000; diff=0.00000"
       ]
      },
      {
       "output_type": "stream",
       "stream": "stdout",
       "text": [
        "\n",
        "506 - 0.0020; reported pval: 0.150; #perm: 4000; recalculated pval: 0.16000; diff=0.01000\n",
        "507 - 0.0041; reported pval: 0.017; #perm: 4000; recalculated pval: 0.01850; diff=0.00150\n",
        "508 - 0.0000; reported pval: 1.000; #perm: 4000; recalculated pval: 1.00000; diff=0.00000"
       ]
      },
      {
       "output_type": "stream",
       "stream": "stdout",
       "text": [
        "\n",
        "509 - 0.0021; reported pval: 0.064; #perm: 4000; recalculated pval: 0.05150; diff=0.01250\n",
        "510 - 0.0000; reported pval: 1.000; #perm: 4000; recalculated pval: 1.00000; diff=0.00000\n",
        "511 - 0.0000; reported pval: 1.000; #perm: 4000; recalculated pval: 1.00000; diff=0.00000"
       ]
      },
      {
       "output_type": "stream",
       "stream": "stdout",
       "text": [
        "\n",
        "512 - 0.0000; reported pval: 1.000; #perm: 4000; recalculated pval: 1.00000; diff=0.00000\n",
        "513 - 0.0000; reported pval: 1.000; #perm: 4000; recalculated pval: 1.00000; diff=0.00000\n",
        "514 - 0.0000; reported pval: 1.000; #perm: 4000; recalculated pval: 1.00000; diff=0.00000"
       ]
      },
      {
       "output_type": "stream",
       "stream": "stdout",
       "text": [
        "\n",
        "515 - 0.0000; reported pval: 1.000; #perm: 4000; recalculated pval: 1.00000; diff=0.00000\n",
        "516 - 0.0000; reported pval: 1.000; #perm: 4000; recalculated pval: 1.00000; diff=0.00000\n",
        "517 - 0.0000; reported pval: 1.000; #perm: 4000; recalculated pval: 1.00000; diff=0.00000"
       ]
      },
      {
       "output_type": "stream",
       "stream": "stdout",
       "text": [
        "\n",
        "518 - 0.0000; reported pval: 1.000; #perm: 4000; recalculated pval: 1.00000; diff=0.00000\n",
        "519 - 0.0010; reported pval: 0.315; #perm: 4000; recalculated pval: 0.31175; diff=0.00325\n",
        "520 - 0.0000; reported pval: 1.000; #perm: 4000; recalculated pval: 1.00000; diff=0.00000"
       ]
      },
      {
       "output_type": "stream",
       "stream": "stdout",
       "text": [
        "\n",
        "521 - 0.0000; reported pval: 1.000; #perm: 4000; recalculated pval: 1.00000; diff=0.00000\n",
        "522 - 0.0000; reported pval: 1.000; #perm: 4000; recalculated pval: 1.00000; diff=0.00000\n",
        "523 - 0.0000; reported pval: 1.000; #perm: 4000; recalculated pval: 1.00000; diff=0.00000"
       ]
      },
      {
       "output_type": "stream",
       "stream": "stdout",
       "text": [
        "\n",
        "524 - 0.0000; reported pval: 1.000; #perm: 4000; recalculated pval: 1.00000; diff=0.00000\n",
        "525 - 0.0000; reported pval: 1.000; #perm: 4000; recalculated pval: 1.00000; diff=0.00000\n",
        "526 - 0.0000; reported pval: 1.000; #perm: 4000; recalculated pval: 1.00000; diff=0.00000"
       ]
      },
      {
       "output_type": "stream",
       "stream": "stdout",
       "text": [
        "\n",
        "527 - 0.0000; reported pval: 1.000; #perm: 4000; recalculated pval: 1.00000; diff=0.00000\n",
        "528 - 0.0000; reported pval: 1.000; #perm: 4000; recalculated pval: 1.00000; diff=0.00000\n",
        "529 - 0.0000; reported pval: 1.000; #perm: 4000; recalculated pval: 1.00000; diff=0.00000"
       ]
      },
      {
       "output_type": "stream",
       "stream": "stdout",
       "text": [
        "\n",
        "530 - 0.0000; reported pval: 1.000; #perm: 4000; recalculated pval: 1.00000; diff=0.00000\n"
       ]
      }
     ],
     "prompt_number": 9
    },
    {
     "cell_type": "code",
     "collapsed": false,
     "input": [
      "print df.chain.unique()\n",
      "print df.seqid.min()\n",
      "print df.seqid.max()\n",
      "#print df.ix[:,['seqid','eur_afr_meanddaf_pval']][df.eur_afr_meanddaf_pval<0.05]\n",
      "print dfp[dfp.seqid==15].eur_afr_meanddaf.describe()"
     ],
     "language": "python",
     "metadata": {},
     "outputs": [
      {
       "output_type": "stream",
       "stream": "stdout",
       "text": [
        "['G' 'H' 'C' 'D']\n",
        "12\n",
        "530\n",
        "count    4000.000000\n",
        "mean        0.000722\n",
        "std         0.000870\n",
        "min         0.000000\n",
        "25%         0.000000\n",
        "50%         0.000500\n",
        "75%         0.001025\n",
        "max         0.004100\n",
        "dtype: float64\n"
       ]
      }
     ],
     "prompt_number": 10
    },
    {
     "cell_type": "code",
     "collapsed": false,
     "input": [
      "# For each residue in the sequence, show the permutation boxplot and observed value\n",
      "dft   = df[(df.chain=='G') & (df.seqid>12) & (df.seqid<80)]\n",
      "dfpt  = dfp[(dfp.chain=='G') & (dfp.seqid>12) & (dfp.seqid<80)]\n",
      "fig, ax1 = plt.subplots(1,figsize=(20,10))\n",
      "#fig = plt.figure(figsize=(20,10))\n",
      "cdict = {0:'blue',1:'red'} # Significance coloring\n",
      "sns.boxplot(dfpt.eur_afr_meanddaf,groupby=dfpt.seqid,ax=ax1)\n",
      "ax1.scatter(dft.seqid-12,dft.eur_afr_meanddaf,color=[cdict[x<0.05] for x in dft.eur_afr_meanddaf_pval],marker='o',s=100)\n",
      "plt.xlim([12-12,80-12])\n",
      "plt.ylim([0,0.005])\n",
      "plt.title(\"Observed Sphere Values in Permutation Context\\n 3SRF deltaDAF (mean) EUR vs AFR\",fontsize=20)\n",
      "bluepatch = mpatches.Patch(color='blue', label='Not Significant')\n",
      "redpatch = mpatches.Patch(color='red', label='Significant')\n",
      "plt.legend(handles=[bluepatch,redpatch])\n",
      "plt.show()"
     ],
     "language": "python",
     "metadata": {},
     "outputs": [
      {
       "metadata": {},
       "output_type": "display_data",
       "png": "[encoded data removed]",
       "text": [
        "<matplotlib.figure.Figure at 0x10b320d50>"
       ]
      }
     ],
     "prompt_number": 87
    },
    {
     "cell_type": "code",
     "collapsed": false,
     "input": [],
     "language": "python",
     "metadata": {},
     "outputs": [],
     "prompt_number": 12
    }
   ],
   "metadata": {}
  }
 ]
}