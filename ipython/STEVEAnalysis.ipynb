{
 "metadata": {
  "name": "",
  "signature": "sha256:11a902b29726c3b5dc60eed066dc2cf4adbccd0422d3eba3b49fc31c6002bd0f"
 },
 "nbformat": 3,
 "nbformat_minor": 0,
 "worksheets": [
  {
   "cells": [
    {
     "cell_type": "code",
     "collapsed": false,
     "input": [
      "# Ensure that we are in the main pdbmap directory and not a subdirectory or elsewhere\n",
      "%cd ../../pdbmap"
     ],
     "language": "python",
     "metadata": {},
     "outputs": [
      {
       "output_type": "stream",
       "stream": "stdout",
       "text": [
        "[Errno 2] No such file or directory: '../../pdbmap'\n",
        "/Users/mikesivley/pdbmap\n"
       ]
      }
     ],
     "prompt_number": 110
    },
    {
     "cell_type": "code",
     "collapsed": false,
     "input": [
      "# Load libraries\n",
      "%matplotlib inline\n",
      "import glob,gzip,os,operator\n",
      "import numpy as np\n",
      "from numpy.random import randn\n",
      "from itertools import combinations\n",
      "import random\n",
      "import pandas as pd\n",
      "from scipy import stats\n",
      "from scipy.spatial import KDTree\n",
      "from sklearn.metrics import confusion_matrix\n",
      "import matplotlib as mpl\n",
      "import matplotlib.pyplot as plt\n",
      "import seaborn as sns\n",
      "pd.set_option('display.max_columns', 500)"
     ],
     "language": "python",
     "metadata": {},
     "outputs": [],
     "prompt_number": 111
    },
    {
     "cell_type": "code",
     "collapsed": false,
     "input": [
      "fname = \"/Volumes/sivleyrm/pdbmap/results/pdbmap-1kg3_v11_steve_20150514-18/nearest_neighbors.txt\";"
     ],
     "language": "python",
     "metadata": {},
     "outputs": [],
     "prompt_number": 112
    },
    {
     "cell_type": "code",
     "collapsed": false,
     "input": [
      "df = pd.read_csv(fname,header=0,sep='\\t')\n",
      "# print df.columns"
     ],
     "language": "python",
     "metadata": {},
     "outputs": [],
     "prompt_number": 113
    },
    {
     "cell_type": "code",
     "collapsed": false,
     "input": [
      "nstructs = len(df.groupby([\"VARS_STRUCTID\",\"VARS_BIOUNIT\"]))\n",
      "print \"Number of structures: %d\"%nstructs\n",
      "nsnp  = float(len(df))\n",
      "print \"Number of nsSNPs: %2.0f\"%nsnp\n",
      "nmsnp = 51909 # from MySQL query\n",
      "print \"Number of nsSNPs mapped to structures w/ other SNPs: %d\"%nmsnp\n",
      "\n",
      "print ''\n",
      "nsnn  = len(df[~df[\"SNN\"].isnull()])\n",
      "print \"Number w/ SNN:       %d (%2.2f%%)\"%(nsnn,100*nsnn/nmsnp)\n",
      "dnsnn = len(df[~df[\"SNN\"].isnull()].drop_duplicates(\"VAR\"))\n",
      "print \"Number w dstnct SNN: %d (%2.2f%%)\"%(dnsnn,100*dnsnn/nmsnp)\n",
      "ndiff = len(df[(~df[\"SNN\"].isnull()) & (df[\"GNN\"]!=df[\"SNN\"])])\n",
      "print \"Number w/ GNN!=SNN:  %d\"%ndiff\n",
      "\n",
      "print ''\n",
      "nsame = len(df[df[\"VAR\"]==df[\"SNN\"]])\n",
      "print \"Number of pairs where VAR==SNN: %d\"%nsame\n",
      "\n",
      "print ''\n",
      "nsolo = len(df.groupby([\"VARS_STRUCTID\",\"VARS_BIOUNIT\"]).filter(lambda x: len(x)<2))\n",
      "print \"Number of structures with 1 SNP: %d\"%nsolo\n",
      "\n",
      "# nsolosnp = len(df.groupby([\"VARS_STRUCTID\",\"VARS_BIOUNIT\"]).filter(lambda x: len(x.drop_duplicates(\"VAR\"))<2))\n",
      "# print \"Number of structures with 1 *unique* SNP: %d\"%nsolosnp\n",
      "# # Equal to the above\n",
      "\n",
      "print ''\n",
      "diffchr = len(df[(~df[\"SNN\"].isnull()) & (df[\"GNN_CHR\"]!=df[\"SNN_CHR\"])])\n",
      "print \"Number of mismatched GNN and SNN on different chromosomes: %d (%2.2f%% total) (%2.2f%% mismatch)\"%(diffchr,100.*diffchr/nmsnp,100.*diffchr/ndiff)"
     ],
     "language": "python",
     "metadata": {},
     "outputs": [
      {
       "output_type": "stream",
       "stream": "stdout",
       "text": [
        "Number of structures: 3440\n",
        "Number of nsSNPs: 539462\n",
        "Number of nsSNPs mapped to structures w/ other SNPs: 51909\n",
        "\n",
        "Number w/ SNN:       39861 (76.00%)"
       ]
      },
      {
       "output_type": "stream",
       "stream": "stdout",
       "text": [
        "\n",
        "Number w dstnct SNN: 39861 (76.00%)"
       ]
      },
      {
       "output_type": "stream",
       "stream": "stdout",
       "text": [
        "\n",
        "Number w/ GNN!=SNN:  23652"
       ]
      },
      {
       "output_type": "stream",
       "stream": "stdout",
       "text": [
        "\n",
        "\n",
        "Number of pairs where VAR==SNN: 0\n",
        "\n",
        "Number of structures with 1 SNP: 70"
       ]
      },
      {
       "output_type": "stream",
       "stream": "stdout",
       "text": [
        "\n",
        "\n",
        "Number of mismatched GNN and SNN on different chromosomes: 567 (1.09% total) (2.40% mismatch)"
       ]
      },
      {
       "output_type": "stream",
       "stream": "stdout",
       "text": [
        "\n"
       ]
      }
     ],
     "prompt_number": 125
    },
    {
     "cell_type": "code",
     "collapsed": false,
     "input": [],
     "language": "python",
     "metadata": {},
     "outputs": []
    }
   ],
   "metadata": {}
  }
 ]
}