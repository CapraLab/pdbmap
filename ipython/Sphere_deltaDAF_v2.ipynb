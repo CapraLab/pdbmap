{
 "metadata": {
  "name": "",
  "signature": "sha256:8b2bf19fbcca15d1b559a1028d62cf03b4db10c72f5ee4bc1b34daeb2045701e"
 },
 "nbformat": 3,
 "nbformat_minor": 0,
 "worksheets": [
  {
   "cells": [
    {
     "cell_type": "code",
     "collapsed": false,
     "input": [
      "# Ensure that we are in the main pdbmap directory and not a subdirectory or elsewhere\n",
      "%cd ../../pdbmap"
     ],
     "language": "python",
     "metadata": {},
     "outputs": [
      {
       "output_type": "stream",
       "stream": "stdout",
       "text": [
        "Z:\\projects\\pdbmap\n"
       ]
      }
     ],
     "prompt_number": 1
    },
    {
     "cell_type": "code",
     "collapsed": false,
     "input": [
      "# Load libraries\n",
      "%matplotlib inline\n",
      "import numpy as np\n",
      "import matplotlib.pyplot as plt"
     ],
     "language": "python",
     "metadata": {},
     "outputs": [],
     "prompt_number": 2
    },
    {
     "cell_type": "code",
     "collapsed": false,
     "input": [
      "# Load the results file into a pandas data frame\n",
      "import pandas as pd\n",
      "results_fname = 'results/sliding_sphere_15/sliding_sphere_1KG_15A_deltaDAF.txt'\n",
      "df = pd.read_table(results_fname,delimiter='\\t')\n",
      "df.describe()"
     ],
     "language": "python",
     "metadata": {},
     "outputs": [
      {
       "output_type": "stream",
       "stream": "stderr",
       "text": [
        "C:\\Anaconda\\lib\\site-packages\\pandas\\io\\parsers.py:1130: DtypeWarning: Columns (2,7,8,9) have mixed types. Specify dtype option on import or set low_memory=False.\n",
        "  data = self._reader.read(nrows)\n"
       ]
      },
      {
       "html": [
        "<div style=\"max-height:1000px;max-width:1500px;overflow:auto;\">\n",
        "<table border=\"1\" class=\"dataframe\">\n",
        "  <thead>\n",
        "    <tr style=\"text-align: right;\">\n",
        "      <th></th>\n",
        "      <th>isvar</th>\n",
        "      <th>issnp</th>\n",
        "      <th>amr_af</th>\n",
        "      <th>asn_af</th>\n",
        "      <th>eur_af</th>\n",
        "      <th>afr_af</th>\n",
        "      <th>seqid</th>\n",
        "      <th>x</th>\n",
        "      <th>y</th>\n",
        "      <th>z</th>\n",
        "      <th>...</th>\n",
        "      <th>ASN_AFR_sum</th>\n",
        "      <th>ASN_AFR_mean</th>\n",
        "      <th>ASN_AFR_median</th>\n",
        "      <th>ASN_AFR_min</th>\n",
        "      <th>ASN_AFR_max</th>\n",
        "      <th>EUR_AFR_sum</th>\n",
        "      <th>EUR_AFR_mean</th>\n",
        "      <th>EUR_AFR_median</th>\n",
        "      <th>EUR_AFR_min</th>\n",
        "      <th>EUR_AFR_max</th>\n",
        "    </tr>\n",
        "  </thead>\n",
        "  <tbody>\n",
        "    <tr>\n",
        "      <th>count</th>\n",
        "      <td> 12395320.000000</td>\n",
        "      <td> 1189041.000000</td>\n",
        "      <td> 412799.000000</td>\n",
        "      <td> 412799.000000</td>\n",
        "      <td> 412799.000000</td>\n",
        "      <td> 412799.000000</td>\n",
        "      <td> 12395320.000000</td>\n",
        "      <td> 12395320.000000</td>\n",
        "      <td> 12395320.000000</td>\n",
        "      <td> 12395320.000000</td>\n",
        "      <td>...</td>\n",
        "      <td> 12395320.000000</td>\n",
        "      <td> 12395320.000000</td>\n",
        "      <td> 12395320.000000</td>\n",
        "      <td> 12395320.000000</td>\n",
        "      <td> 12395320.000000</td>\n",
        "      <td> 12395320.000000</td>\n",
        "      <td> 12395320.000000</td>\n",
        "      <td> 12395320.000000</td>\n",
        "      <td> 12395320.000000</td>\n",
        "      <td> 12395320.000000</td>\n",
        "    </tr>\n",
        "    <tr>\n",
        "      <th>mean</th>\n",
        "      <td>        0.095927</td>\n",
        "      <td>       0.225697</td>\n",
        "      <td>      0.020949</td>\n",
        "      <td>      0.022159</td>\n",
        "      <td>      0.020893</td>\n",
        "      <td>      0.061580</td>\n",
        "      <td>      301.215120</td>\n",
        "      <td>       17.226122</td>\n",
        "      <td>       18.187371</td>\n",
        "      <td>       21.307629</td>\n",
        "      <td>...</td>\n",
        "      <td>        0.014171</td>\n",
        "      <td>        0.006360</td>\n",
        "      <td>        0.005210</td>\n",
        "      <td>        0.003082</td>\n",
        "      <td>        0.011636</td>\n",
        "      <td>        0.012146</td>\n",
        "      <td>        0.005568</td>\n",
        "      <td>        0.004653</td>\n",
        "      <td>        0.002831</td>\n",
        "      <td>        0.009898</td>\n",
        "    </tr>\n",
        "    <tr>\n",
        "      <th>std</th>\n",
        "      <td>        0.294491</td>\n",
        "      <td>       0.418041</td>\n",
        "      <td>      0.099586</td>\n",
        "      <td>      0.106406</td>\n",
        "      <td>      0.103274</td>\n",
        "      <td>      0.123418</td>\n",
        "      <td>      386.335882</td>\n",
        "      <td>       44.918305</td>\n",
        "      <td>       48.026633</td>\n",
        "      <td>       49.853883</td>\n",
        "      <td>...</td>\n",
        "      <td>        0.062010</td>\n",
        "      <td>        0.026964</td>\n",
        "      <td>        0.025916</td>\n",
        "      <td>        0.021496</td>\n",
        "      <td>        0.046497</td>\n",
        "      <td>        0.051957</td>\n",
        "      <td>        0.023408</td>\n",
        "      <td>        0.022555</td>\n",
        "      <td>        0.018921</td>\n",
        "      <td>        0.039249</td>\n",
        "    </tr>\n",
        "    <tr>\n",
        "      <th>min</th>\n",
        "      <td>        0.000000</td>\n",
        "      <td>       0.000000</td>\n",
        "      <td>      0.000000</td>\n",
        "      <td>      0.000000</td>\n",
        "      <td>      0.000000</td>\n",
        "      <td>      0.000000</td>\n",
        "      <td>        1.000000</td>\n",
        "      <td>     -448.479126</td>\n",
        "      <td>     -963.986023</td>\n",
        "      <td>     -581.491211</td>\n",
        "      <td>...</td>\n",
        "      <td>        0.000000</td>\n",
        "      <td>        0.000000</td>\n",
        "      <td>        0.000000</td>\n",
        "      <td>        0.000000</td>\n",
        "      <td>        0.000000</td>\n",
        "      <td>        0.000000</td>\n",
        "      <td>        0.000000</td>\n",
        "      <td>        0.000000</td>\n",
        "      <td>        0.000000</td>\n",
        "      <td>        0.000000</td>\n",
        "    </tr>\n",
        "    <tr>\n",
        "      <th>25%</th>\n",
        "      <td>        0.000000</td>\n",
        "      <td>       0.000000</td>\n",
        "      <td>      0.000000</td>\n",
        "      <td>      0.000000</td>\n",
        "      <td>      0.000000</td>\n",
        "      <td>      0.000000</td>\n",
        "      <td>       99.000000</td>\n",
        "      <td>       -6.874778</td>\n",
        "      <td>       -7.844000</td>\n",
        "      <td>       -4.359584</td>\n",
        "      <td>...</td>\n",
        "      <td>        0.000000</td>\n",
        "      <td>        0.000000</td>\n",
        "      <td>        0.000000</td>\n",
        "      <td>        0.000000</td>\n",
        "      <td>        0.000000</td>\n",
        "      <td>        0.000000</td>\n",
        "      <td>        0.000000</td>\n",
        "      <td>        0.000000</td>\n",
        "      <td>        0.000000</td>\n",
        "      <td>        0.000000</td>\n",
        "    </tr>\n",
        "    <tr>\n",
        "      <th>50%</th>\n",
        "      <td>        0.000000</td>\n",
        "      <td>       0.000000</td>\n",
        "      <td>      0.000000</td>\n",
        "      <td>      0.000000</td>\n",
        "      <td>      0.000000</td>\n",
        "      <td>      0.002000</td>\n",
        "      <td>      204.000000</td>\n",
        "      <td>       14.584625</td>\n",
        "      <td>       13.500500</td>\n",
        "      <td>       17.894400</td>\n",
        "      <td>...</td>\n",
        "      <td>        0.000000</td>\n",
        "      <td>        0.000000</td>\n",
        "      <td>        0.000000</td>\n",
        "      <td>        0.000000</td>\n",
        "      <td>        0.000000</td>\n",
        "      <td>        0.000000</td>\n",
        "      <td>        0.000000</td>\n",
        "      <td>        0.000000</td>\n",
        "      <td>        0.000000</td>\n",
        "      <td>        0.000000</td>\n",
        "    </tr>\n",
        "    <tr>\n",
        "      <th>75%</th>\n",
        "      <td>        0.000000</td>\n",
        "      <td>       0.000000</td>\n",
        "      <td>      0.010000</td>\n",
        "      <td>      0.010000</td>\n",
        "      <td>      0.010000</td>\n",
        "      <td>      0.030000</td>\n",
        "      <td>      366.000000</td>\n",
        "      <td>       37.916576</td>\n",
        "      <td>       40.010502</td>\n",
        "      <td>       43.535446</td>\n",
        "      <td>...</td>\n",
        "      <td>        0.003500</td>\n",
        "      <td>        0.002000</td>\n",
        "      <td>        0.001750</td>\n",
        "      <td>        0.000000</td>\n",
        "      <td>        0.002000</td>\n",
        "      <td>        0.003300</td>\n",
        "      <td>        0.002000</td>\n",
        "      <td>        0.001650</td>\n",
        "      <td>        0.000600</td>\n",
        "      <td>        0.002000</td>\n",
        "    </tr>\n",
        "    <tr>\n",
        "      <th>max</th>\n",
        "      <td>        1.000000</td>\n",
        "      <td>       1.000000</td>\n",
        "      <td>      1.000000</td>\n",
        "      <td>      1.000000</td>\n",
        "      <td>      1.000000</td>\n",
        "      <td>      1.000000</td>\n",
        "      <td>     8797.000000</td>\n",
        "      <td>      610.963013</td>\n",
        "      <td>      447.828491</td>\n",
        "      <td>     1067.134644</td>\n",
        "      <td>...</td>\n",
        "      <td>        3.630000</td>\n",
        "      <td>        0.760000</td>\n",
        "      <td>        0.760000</td>\n",
        "      <td>        0.760000</td>\n",
        "      <td>        0.760000</td>\n",
        "      <td>        2.410000</td>\n",
        "      <td>        0.750000</td>\n",
        "      <td>        0.750000</td>\n",
        "      <td>        0.750000</td>\n",
        "      <td>        0.750000</td>\n",
        "    </tr>\n",
        "  </tbody>\n",
        "</table>\n",
        "<p>8 rows \u00d7 40 columns</p>\n",
        "</div>"
       ],
       "metadata": {},
       "output_type": "pyout",
       "prompt_number": 3,
       "text": [
        "                 isvar           issnp         amr_af         asn_af  \\\n",
        "count  12395320.000000  1189041.000000  412799.000000  412799.000000   \n",
        "mean          0.095927        0.225697       0.020949       0.022159   \n",
        "std           0.294491        0.418041       0.099586       0.106406   \n",
        "min           0.000000        0.000000       0.000000       0.000000   \n",
        "25%           0.000000        0.000000       0.000000       0.000000   \n",
        "50%           0.000000        0.000000       0.000000       0.000000   \n",
        "75%           0.000000        0.000000       0.010000       0.010000   \n",
        "max           1.000000        1.000000       1.000000       1.000000   \n",
        "\n",
        "              eur_af         afr_af            seqid                x  \\\n",
        "count  412799.000000  412799.000000  12395320.000000  12395320.000000   \n",
        "mean        0.020893       0.061580       301.215120        17.226122   \n",
        "std         0.103274       0.123418       386.335882        44.918305   \n",
        "min         0.000000       0.000000         1.000000      -448.479126   \n",
        "25%         0.000000       0.000000        99.000000        -6.874778   \n",
        "50%         0.000000       0.002000       204.000000        14.584625   \n",
        "75%         0.010000       0.030000       366.000000        37.916576   \n",
        "max         1.000000       1.000000      8797.000000       610.963013   \n",
        "\n",
        "                     y                z       ...             ASN_AFR_sum  \\\n",
        "count  12395320.000000  12395320.000000       ...         12395320.000000   \n",
        "mean         18.187371        21.307629       ...                0.014171   \n",
        "std          48.026633        49.853883       ...                0.062010   \n",
        "min        -963.986023      -581.491211       ...                0.000000   \n",
        "25%          -7.844000        -4.359584       ...                0.000000   \n",
        "50%          13.500500        17.894400       ...                0.000000   \n",
        "75%          40.010502        43.535446       ...                0.003500   \n",
        "max         447.828491      1067.134644       ...                3.630000   \n",
        "\n",
        "          ASN_AFR_mean   ASN_AFR_median      ASN_AFR_min      ASN_AFR_max  \\\n",
        "count  12395320.000000  12395320.000000  12395320.000000  12395320.000000   \n",
        "mean          0.006360         0.005210         0.003082         0.011636   \n",
        "std           0.026964         0.025916         0.021496         0.046497   \n",
        "min           0.000000         0.000000         0.000000         0.000000   \n",
        "25%           0.000000         0.000000         0.000000         0.000000   \n",
        "50%           0.000000         0.000000         0.000000         0.000000   \n",
        "75%           0.002000         0.001750         0.000000         0.002000   \n",
        "max           0.760000         0.760000         0.760000         0.760000   \n",
        "\n",
        "           EUR_AFR_sum     EUR_AFR_mean   EUR_AFR_median      EUR_AFR_min  \\\n",
        "count  12395320.000000  12395320.000000  12395320.000000  12395320.000000   \n",
        "mean          0.012146         0.005568         0.004653         0.002831   \n",
        "std           0.051957         0.023408         0.022555         0.018921   \n",
        "min           0.000000         0.000000         0.000000         0.000000   \n",
        "25%           0.000000         0.000000         0.000000         0.000000   \n",
        "50%           0.000000         0.000000         0.000000         0.000000   \n",
        "75%           0.003300         0.002000         0.001650         0.000600   \n",
        "max           2.410000         0.750000         0.750000         0.750000   \n",
        "\n",
        "           EUR_AFR_max  \n",
        "count  12395320.000000  \n",
        "mean          0.009898  \n",
        "std           0.039249  \n",
        "min           0.000000  \n",
        "25%           0.000000  \n",
        "50%           0.000000  \n",
        "75%           0.002000  \n",
        "max           0.750000  \n",
        "\n",
        "[8 rows x 40 columns]"
       ]
      }
     ],
     "prompt_number": 3
    },
    {
     "cell_type": "code",
     "collapsed": false,
     "input": [
      "# Define the population lists to avoid mess below\n",
      "pop_sums = ['AMR_ASN_sum','AMR_EUR_sum','AMR_AFR_sum','ASN_EUR_sum','ASN_AFR_sum','EUR_AFR_sum']"
     ],
     "language": "python",
     "metadata": {},
     "outputs": [],
     "prompt_number": 4
    },
    {
     "cell_type": "code",
     "collapsed": false,
     "input": [
      "for pop_sum in pop_sums:\n",
      "    print pop_sum\n",
      "    p99 = np.percentile(df[df[pop_sum]>0][pop_sum],99)\n",
      "    tdf = df[df[pop_sum]>p99]\n",
      "    print \"%d spheres above the 99th percentile (%2.4f), across %d unique proteins.\"%(len(tdf),p99,len(tdf.groupby('unp')))\n",
      "    tdf[pop_sum].hist()\n",
      "    plt.show()"
     ],
     "language": "python",
     "metadata": {},
     "outputs": [
      {
       "output_type": "stream",
       "stream": "stdout",
       "text": [
        "AMR_ASN_sum\n",
        "47208 spheres above the 99th percentile (0.2634), across 159 unique proteins."
       ]
      },
      {
       "output_type": "stream",
       "stream": "stdout",
       "text": [
        "\n"
       ]
      },
      {
       "metadata": {},
       "output_type": "display_data",
       "png": "[encoded data removed]",
       "text": [
        "<matplotlib.figure.Figure at 0x761624e0>"
       ]
      },
      {
       "output_type": "stream",
       "stream": "stdout",
       "text": [
        "AMR_EUR_sum\n",
        "40918 spheres above the 99th percentile (0.1600), across 123 unique proteins."
       ]
      },
      {
       "output_type": "stream",
       "stream": "stdout",
       "text": [
        "\n"
       ]
      },
      {
       "metadata": {},
       "output_type": "display_data",
       "png": "[encoded data removed]",
       "text": [
        "<matplotlib.figure.Figure at 0x9e9cf60>"
       ]
      },
      {
       "output_type": "stream",
       "stream": "stdout",
       "text": [
        "AMR_AFR_sum\n",
        "46898 spheres above the 99th percentile (0.3800), across 169 unique proteins."
       ]
      },
      {
       "output_type": "stream",
       "stream": "stdout",
       "text": [
        "\n"
       ]
      },
      {
       "metadata": {},
       "output_type": "display_data",
       "png": "[encoded data removed]",
       "text": [
        "<matplotlib.figure.Figure at 0x9d60128>"
       ]
      },
      {
       "output_type": "stream",
       "stream": "stdout",
       "text": [
        "ASN_EUR_sum\n",
        "50568 spheres above the 99th percentile (0.3200), across 165 unique proteins."
       ]
      },
      {
       "output_type": "stream",
       "stream": "stdout",
       "text": [
        "\n"
       ]
      },
      {
       "metadata": {},
       "output_type": "display_data",
       "png": "[encoded data removed]",
       "text": [
        "<matplotlib.figure.Figure at 0xc5ab588>"
       ]
      },
      {
       "output_type": "stream",
       "stream": "stdout",
       "text": [
        "ASN_AFR_sum\n",
        "51692 spheres above the 99th percentile (0.4400), across 189 unique proteins."
       ]
      },
      {
       "output_type": "stream",
       "stream": "stdout",
       "text": [
        "\n"
       ]
      },
      {
       "metadata": {},
       "output_type": "display_data",
       "png": "[encoded data removed]",
       "text": [
        "<matplotlib.figure.Figure at 0xad6f9898>"
       ]
      },
      {
       "output_type": "stream",
       "stream": "stdout",
       "text": [
        "EUR_AFR_sum\n",
        "52093 spheres above the 99th percentile (0.3900), across 179 unique proteins."
       ]
      },
      {
       "output_type": "stream",
       "stream": "stdout",
       "text": [
        "\n"
       ]
      },
      {
       "metadata": {},
       "output_type": "display_data",
       "png": "[encoded data removed]",
       "text": [
        "<matplotlib.figure.Figure at 0xc5b2c18>"
       ]
      }
     ],
     "prompt_number": 5
    },
    {
     "cell_type": "code",
     "collapsed": false,
     "input": [
      "# Okay, I'm going to focus on EUR/AFR differences\n",
      "# I'd like to start by looking at the structures with the most spheres with large deltaDAF sums\n",
      "# I choose sum because the 15A sphere already restricts how much density of variation can affect the score,\n",
      "# and because a 15A sphere with more variation may be more interesting, especially if they're highly differentiated.\n",
      "pop_sum = \"EUR_AFR_sum\"\n",
      "p99 = np.percentile(df[df[pop_sum]>0][pop_sum],99)\n",
      "tdf = df[df[pop_sum]>p99]\n",
      "num_p99_spheres = tdf.groupby('structid').seqid.nunique()\n",
      "num_p99_spheres.sort(ascending=False)\n",
      "print num_p99_spheres.head(10)"
     ],
     "language": "python",
     "metadata": {},
     "outputs": [
      {
       "output_type": "stream",
       "stream": "stdout",
       "text": [
        "structid\n",
        "1QVO        174\n",
        "1PL8        162\n",
        "1PL6        154\n",
        "1PL7        153\n",
        "1Q94        151\n",
        "2XPG        145\n",
        "3RL2        143\n",
        "3RL1        142\n",
        "2HN7        142\n",
        "1X7Q        141\n",
        "Name: seqid, dtype: int64\n"
       ]
      }
     ],
     "prompt_number": 22
    },
    {
     "cell_type": "code",
     "collapsed": false,
     "input": [
      "# Output the deltaDAF for this HLA structure\n",
      "with open('temp/eur_afr_sum_1qvo_spheres.txt','wb') as fout:\n",
      "    df[df[\"structid\"]=='1QVO'][[\"seqid\",\"EUR_AFR_sum\"]].to_csv(fout,'\\t',index=False)\n",
      "# The 1QVO structure is an HLA structure, as expected\n",
      "with open('temp/eur_afr_sum_1pl8_spheres.txt','wb') as fout:\n",
      "    df[df[\"structid\"]=='1PL8'][[\"seqid\",\"EUR_AFR_sum\"]].to_csv(fout,'\\t',index=False)"
     ],
     "language": "python",
     "metadata": {},
     "outputs": [],
     "prompt_number": 27
    },
    {
     "cell_type": "code",
     "collapsed": false,
     "input": [
      "# Now lets do the same with means\n",
      "pop_sum = \"EUR_AFR_mean\"\n",
      "p99 = np.percentile(df[df[pop_sum]>0][pop_sum],99)\n",
      "tdf = df[df[pop_sum]>p99]\n",
      "num_p99_spheres = tdf.groupby('structid').seqid.nunique()\n",
      "num_p99_spheres.sort(ascending=False)\n",
      "print num_p99_spheres.head(10)"
     ],
     "language": "python",
     "metadata": {},
     "outputs": [
      {
       "output_type": "stream",
       "stream": "stdout",
       "text": [
        "structid\n",
        "1PL8        124\n",
        "1PL6        123\n",
        "1PL7        115\n",
        "3L5H        111\n",
        "4C2B        109\n",
        "1U0N        106\n",
        "1PJL        106\n",
        "1M10        106\n",
        "1SQ0        105\n",
        "4C2A        104\n",
        "Name: seqid, dtype: int64\n"
       ]
      }
     ],
     "prompt_number": 23
    },
    {
     "cell_type": "code",
     "collapsed": false,
     "input": [
      "# Great! There is some overlap (IPL class of structures), but they're overall different\n",
      "# I'm most curious about the ones that overlap, so I'm looking at 1PL8, then 3L5H, the top non-overlap\n",
      "with open('temp/eur_afr_mean_1pl8_spheres.txt','wb') as fout:\n",
      "    df[df[\"structid\"]=='1PL8'][[\"seqid\",\"EUR_AFR_mean\"]].to_csv(fout,'\\t',index=False)\n",
      "with open('temp/eur_afr_mean_3l5h_spheres.txt','wb') as fout:\n",
      "    df[df[\"structid\"]=='3L5H'][[\"seqid\",\"EUR_AFR_mean\"]].to_csv(fout,'\\t',index=False)"
     ],
     "language": "python",
     "metadata": {},
     "outputs": [],
     "prompt_number": 26
    },
    {
     "cell_type": "code",
     "collapsed": false,
     "input": [],
     "language": "python",
     "metadata": {},
     "outputs": []
    }
   ],
   "metadata": {}
  }
 ]
}