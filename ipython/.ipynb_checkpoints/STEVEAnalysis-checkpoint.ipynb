{
 "metadata": {
  "name": "",
  "signature": "sha256:d42de4f85f5ab32752c46094eb0f30d7e4772d3b6b862d9fc6dcce37fad5b043"
 },
 "nbformat": 3,
 "nbformat_minor": 0,
 "worksheets": [
  {
   "cells": [
    {
     "cell_type": "code",
     "collapsed": false,
     "input": [
      "# Ensure that we are in the main pdbmap directory and not a subdirectory or elsewhere\n",
      "%cd ../../pdbmap"
     ],
     "language": "python",
     "metadata": {},
     "outputs": [
      {
       "output_type": "stream",
       "stream": "stdout",
       "text": [
        "[Errno 2] No such file or directory: '../../pdbmap'\n",
        "/Users/mikesivley/pdbmap\n"
       ]
      }
     ],
     "prompt_number": 110
    },
    {
     "cell_type": "code",
     "collapsed": false,
     "input": [
      "# Load libraries\n",
      "%matplotlib inline\n",
      "import glob,gzip,os,operator\n",
      "import numpy as np\n",
      "from numpy.random import randn\n",
      "from itertools import combinations\n",
      "import random\n",
      "import pandas as pd\n",
      "from scipy import stats\n",
      "from scipy.spatial import KDTree\n",
      "from sklearn.metrics import confusion_matrix\n",
      "import matplotlib as mpl\n",
      "import matplotlib.pyplot as plt\n",
      "import seaborn as sns\n",
      "pd.set_option('display.max_columns', 500)"
     ],
     "language": "python",
     "metadata": {},
     "outputs": [],
     "prompt_number": 111
    },
    {
     "cell_type": "code",
     "collapsed": false,
     "input": [
      "fname = \"/Volumes/sivleyrm/pdbmap/results/pdbmap-1kg3_v11_steve_20150514-18/nearest_neighbors.txt\";"
     ],
     "language": "python",
     "metadata": {},
     "outputs": [],
     "prompt_number": 112
    },
    {
     "cell_type": "code",
     "collapsed": false,
     "input": [
      "df = pd.read_csv(fname,header=0,sep='\\t')\n",
      "# print df.columns"
     ],
     "language": "python",
     "metadata": {},
     "outputs": [],
     "prompt_number": 113
    },
    {
     "cell_type": "code",
     "collapsed": false,
     "input": [
      "nstructs = len(df.groupby([\"VARS_STRUCTID\",\"VARS_BIOUNIT\"]))\n",
      "print \"Number of structures: %d\"%nstructs\n",
      "nsnp  = float(len(df))\n",
      "print \"Number of nsSNPs: %2.0f\"%nsnp\n",
      "nmsnp = 51909 # from MySQL query\n",
      "print \"Number of nsSNPs mapped to structures w/ other SNPs: %d\"%nmsnp\n",
      "\n",
      "print ''\n",
      "nsnn  = len(df[~df[\"SNN\"].isnull()])\n",
      "print \"Number w/ SNN:       %d (%2.2f%%)\"%(nsnn,100*nsnn/nmsnp)\n",
      "dnsnn = len(df[~df[\"SNN\"].isnull()].drop_duplicates(\"VAR\"))\n",
      "print \"Number w dstnct SNN: %d (%2.2f%%)\"%(dnsnn,100*dnsnn/nmsnp)\n",
      "ndiff = len(df[(~df[\"SNN\"].isnull()) & (df[\"GNN\"]!=df[\"SNN\"])])\n",
      "print \"Number w/ GNN!=SNN:  %d\"%ndiff\n",
      "\n",
      "print ''\n",
      "nsame = len(df[df[\"VAR\"]==df[\"SNN\"]])\n",
      "print \"Number of pairs where VAR==SNN: %d\"%nsame\n",
      "\n",
      "print ''\n",
      "nsolo = len(df.groupby([\"VARS_STRUCTID\",\"VARS_BIOUNIT\"]).filter(lambda x: len(x)<2))\n",
      "print \"Number of structures with 1 SNP: %d\"%nsolo\n",
      "\n",
      "# nsolosnp = len(df.groupby([\"VARS_STRUCTID\",\"VARS_BIOUNIT\"]).filter(lambda x: len(x.drop_duplicates(\"VAR\"))<2))\n",
      "# print \"Number of structures with 1 *unique* SNP: %d\"%nsolosnp\n",
      "# # Equal to the above\n",
      "\n",
      "print ''\n",
      "# # So if there are only 70 structures with one unique SNP, why are there so few with structural neighbors?\n",
      "# oddstructs = df.groupby([\"VARS_STRUCTID\",\"VARS_BIOUNIT\"]).filter(lambda x: (len(x.drop_duplicates(\"VAR\"))>2) & (x[\"SNN\"].isnull().any()))\n",
      "# print \"Number of structures with more than one unique SNP, but still has null SNNs: %d\"%len(oddstructs)\n",
      "\n",
      "# print ''\n",
      "# print \"One of those structures\"\n",
      "# for (sid,bio),group in oddstructs.groupby([\"VARS_STRUCTID\",\"VARS_BIOUNIT\"]):\n",
      "#     print \"%s[%1.0f]\"%(sid,bio)\n",
      "#     print group[[\"VAR\",\"GNN\",\"SNN\"]]\n",
      "#     break\n",
      "\n",
      "# print ''\n",
      "# print \"Some of those nsSNPS:\"\n",
      "# print df[df[\"SNN\"].isnull()][[\"VAR\",\"GNN\",\"SNN\"]].head(10)\n",
      "\n",
      "diffchr = len(df[(~df[\"SNN\"].isnull()) & (df[\"GNN_CHR\"]!=df[\"SNN_CHR\"])])\n",
      "print \"Number of mismatched GNN and SNN on different chromosomes: %d (%2.2f%% total) (%2.2f%% mismatch)\"%(diffchr,diffchr/nmsnp,diffchr/float(ndiff))"
     ],
     "language": "python",
     "metadata": {},
     "outputs": [
      {
       "output_type": "stream",
       "stream": "stdout",
       "text": [
        "Number of structures: 3440\n",
        "Number of nsSNPs: 539462\n",
        "Number of nsSNPs mapped to structures w/ other SNPs: 51909\n",
        "\n",
        "Number w/ SNN:       39861 (76.00%)"
       ]
      },
      {
       "output_type": "stream",
       "stream": "stdout",
       "text": [
        "\n",
        "Number w dstnct SNN: 39861 (76.00%)"
       ]
      },
      {
       "output_type": "stream",
       "stream": "stdout",
       "text": [
        "\n",
        "Number w/ GNN!=SNN:  23652"
       ]
      },
      {
       "output_type": "stream",
       "stream": "stdout",
       "text": [
        "\n",
        "\n",
        "Number of pairs where VAR==SNN: 0"
       ]
      },
      {
       "output_type": "stream",
       "stream": "stdout",
       "text": [
        "\n",
        "\n",
        "Number of structures with 1 SNP: 70"
       ]
      },
      {
       "output_type": "stream",
       "stream": "stdout",
       "text": [
        "\n",
        "\n"
       ]
      },
      {
       "ename": "NameError",
       "evalue": "name 'nmsnps' is not defined",
       "output_type": "pyerr",
       "traceback": [
        "\u001b[0;31m---------------------------------------------------------------------------\u001b[0m\n\u001b[0;31mNameError\u001b[0m                                 Traceback (most recent call last)",
        "\u001b[0;32m<ipython-input-120-f0360f9b0315>\u001b[0m in \u001b[0;36m<module>\u001b[0;34m()\u001b[0m\n\u001b[1;32m     43\u001b[0m \u001b[0;34m\u001b[0m\u001b[0m\n\u001b[1;32m     44\u001b[0m \u001b[0mdiffchr\u001b[0m \u001b[0;34m=\u001b[0m \u001b[0mlen\u001b[0m\u001b[0;34m(\u001b[0m\u001b[0mdf\u001b[0m\u001b[0;34m[\u001b[0m\u001b[0;34m(\u001b[0m\u001b[0;34m~\u001b[0m\u001b[0mdf\u001b[0m\u001b[0;34m[\u001b[0m\u001b[0;34m\"SNN\"\u001b[0m\u001b[0;34m]\u001b[0m\u001b[0;34m.\u001b[0m\u001b[0misnull\u001b[0m\u001b[0;34m(\u001b[0m\u001b[0;34m)\u001b[0m\u001b[0;34m)\u001b[0m \u001b[0;34m&\u001b[0m \u001b[0;34m(\u001b[0m\u001b[0mdf\u001b[0m\u001b[0;34m[\u001b[0m\u001b[0;34m\"GNN_CHR\"\u001b[0m\u001b[0;34m]\u001b[0m\u001b[0;34m!=\u001b[0m\u001b[0mdf\u001b[0m\u001b[0;34m[\u001b[0m\u001b[0;34m\"SNN_CHR\"\u001b[0m\u001b[0;34m]\u001b[0m\u001b[0;34m)\u001b[0m\u001b[0;34m]\u001b[0m\u001b[0;34m)\u001b[0m\u001b[0;34m\u001b[0m\u001b[0m\n\u001b[0;32m---> 45\u001b[0;31m \u001b[0;32mprint\u001b[0m \u001b[0;34m\"Number of mismatched GNN and SNN on different chromosomes: %d (%2.2f%% total) (%2.2f%% mismatch)\"\u001b[0m\u001b[0;34m%\u001b[0m\u001b[0;34m(\u001b[0m\u001b[0mdiffchr\u001b[0m\u001b[0;34m,\u001b[0m\u001b[0mdiffchr\u001b[0m\u001b[0;34m/\u001b[0m\u001b[0mnmsnps\u001b[0m\u001b[0;34m,\u001b[0m\u001b[0mdiffchr\u001b[0m\u001b[0;34m/\u001b[0m\u001b[0mfloat\u001b[0m\u001b[0;34m(\u001b[0m\u001b[0mndiff\u001b[0m\u001b[0;34m)\u001b[0m\u001b[0;34m)\u001b[0m\u001b[0;34m\u001b[0m\u001b[0m\n\u001b[0m",
        "\u001b[0;31mNameError\u001b[0m: name 'nmsnps' is not defined"
       ]
      }
     ],
     "prompt_number": 120
    },
    {
     "cell_type": "code",
     "collapsed": true,
     "input": [
      "print \"Percentage of 576. / 31258."
     ],
     "language": "python",
     "metadata": {},
     "outputs": [],
     "prompt_number": 114
    }
   ],
   "metadata": {}
  }
 ]
}