{
 "cells": [
  {
   "cell_type": "code",
   "execution_count": 1,
   "metadata": {
    "collapsed": false
   },
   "outputs": [
    {
     "name": "stderr",
     "output_type": "stream",
     "text": [
      "/Users/mikesivley/anaconda/lib/python2.7/site-packages/matplotlib/__init__.py:872: UserWarning: axes.color_cycle is deprecated and replaced with axes.prop_cycle; please use the latter.\n",
      "  warnings.warn(self.msg_depr % (key, alt_key))\n"
     ]
    }
   ],
   "source": [
    "import matplotlib.pyplot as plt\n",
    "import matplotlib.patches as patches\n",
    "%matplotlib inline\n",
    "import numpy as np"
   ]
  },
  {
   "cell_type": "code",
   "execution_count": 53,
   "metadata": {
    "collapsed": true
   },
   "outputs": [],
   "source": [
    "# Domain definitions from the ERJ-00401-2015_supplemental alignment\n",
    "hd1_a = (5,140)\n",
    "fes   = (140,220)\n",
    "hd1_b = (220,265)\n",
    "arch  = (265,460)\n",
    "hd1_c = (460,505)\n",
    "hd2   = (505,760)\n",
    "doms  = [hd1_a,fes,hd1_b,arch,hd1_c,hd2]\n",
    "# Where did they get the sequence ranges for the harmonin, PIP, and RING domains?"
   ]
  },
  {
   "cell_type": "code",
   "execution_count": 58,
   "metadata": {
    "collapsed": false
   },
   "outputs": [
    {
     "data": {
      "image/png": "[encoded data removed]",
      "text/plain": [
       "<matplotlib.figure.Figure at 0x1110bce90>"
      ]
     },
     "metadata": {},
     "output_type": "display_data"
    }
   ],
   "source": [
    "import matplotlib.pyplot as plt\n",
    "import matplotlib.patches as patches\n",
    "\n",
    "fig = plt.figure(figsize=(20,1))\n",
    "ax  = fig.add_subplot(111)\n",
    "ax.grid(False)\n",
    "ax.set_xlim(1,1219)\n",
    "ax.set_xticks(range(1,1219,100))\n",
    "ax.set_yticks([])\n",
    "ax.set_axis_bgcolor('white')\n",
    "[i.set_linewidth(2) for i in ax.spines.itervalues()]\n",
    "[i.set_color(\"k\") for i in ax.spines.itervalues()]\n",
    "\n",
    "\n",
    "domains = [\n",
    "    patches.Rectangle(\n",
    "        (hd1_a[0], 0.), hd1_a[1]-hd1_a[0], 1.,\n",
    "        facecolor=\"darkslateblue\"\n",
    "    ),\n",
    "    patches.Rectangle(\n",
    "        (fes[0], 0.), fes[1]-fes[0], 1.,\n",
    "        facecolor=\"orangered\"\n",
    "    ),\n",
    "    patches.Rectangle(\n",
    "        (hd1_b[0], 0.), hd1_b[1]-hd1_b[0], 1.,\n",
    "        facecolor=\"darkslateblue\"\n",
    "    ),\n",
    "    patches.Rectangle(\n",
    "        (arch[0], 0.), arch[1]-arch[0], 1.,\n",
    "        facecolor=\"tan\"\n",
    "    ),\n",
    "    patches.Rectangle(\n",
    "        (hd1_c[0], 0.), hd1_c[1]-hd1_c[0], 1.,\n",
    "        facecolor=\"darkslateblue\"\n",
    "    ),\n",
    "    patches.Rectangle(\n",
    "        (hd2[0], 0.), hd2[1]-hd2[0], 1.,\n",
    "        facecolor=\"deepskyblue\"\n",
    "    ),\n",
    "]\n",
    "for d in domains:\n",
    "    ax.add_patch(d)\n",
    "plt.show()\n",
    "\n",
    "# Plot the known pathogenic missense variants\n",
    "\n",
    "# Plot the neutral missense variants\n",
    "\n",
    "# Plot the novel VUS"
   ]
  },
  {
   "cell_type": "code",
   "execution_count": null,
   "metadata": {
    "collapsed": true
   },
   "outputs": [],
   "source": []
  }
 ],
 "metadata": {
  "kernelspec": {
   "display_name": "Python 2",
   "language": "python",
   "name": "python2"
  },
  "language_info": {
   "codemirror_mode": {
    "name": "ipython",
    "version": 2
   },
   "file_extension": ".py",
   "mimetype": "text/x-python",
   "name": "python",
   "nbconvert_exporter": "python",
   "pygments_lexer": "ipython2",
   "version": "2.7.11"
  }
 },
 "nbformat": 4,
 "nbformat_minor": 0
}
