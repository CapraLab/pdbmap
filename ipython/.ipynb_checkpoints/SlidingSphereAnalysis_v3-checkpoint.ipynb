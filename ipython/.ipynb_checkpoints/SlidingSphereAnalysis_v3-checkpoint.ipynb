{
 "metadata": {
  "name": "",
  "signature": "sha256:3c3a17fa3c40e115ac476c775787c7bb6cb01ef81f0124898735cc05ff8d112d"
 },
 "nbformat": 3,
 "nbformat_minor": 0,
 "worksheets": [
  {
   "cells": [
    {
     "cell_type": "code",
     "collapsed": false,
     "input": [
      "# Ensure that we are in the main pdbmap directory and not a subdirectory or elsewhere\n",
      "%cd ../../pdbmap"
     ],
     "language": "python",
     "metadata": {},
     "outputs": [
      {
       "output_type": "stream",
       "stream": "stdout",
       "text": [
        "Z:\\projects\\pdbmap\n"
       ]
      }
     ],
     "prompt_number": 1
    },
    {
     "cell_type": "code",
     "collapsed": false,
     "input": [
      "# Load libraries\n",
      "%matplotlib inline\n",
      "import numpy as np\n",
      "import matplotlib.pyplot as plt"
     ],
     "language": "python",
     "metadata": {},
     "outputs": [],
     "prompt_number": 3
    },
    {
     "cell_type": "code",
     "collapsed": false,
     "input": [
      "# Load the results file into a pandas data frame\n",
      "import pandas as pd\n",
      "results_fname = 'results/sliding_sphere_10/sliding_sphere_1KG_10A.txt'\n",
      "df = pd.read_table(results_fname,delimiter='\\t')\n",
      "df.describe()"
     ],
     "language": "python",
     "metadata": {},
     "outputs": []
    }
   ],
   "metadata": {}
  }
 ]
}