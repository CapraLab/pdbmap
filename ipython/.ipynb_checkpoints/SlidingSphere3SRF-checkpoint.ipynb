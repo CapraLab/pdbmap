{
 "metadata": {
  "name": "",
  "signature": "sha256:c28c3e4a226aaae35736c22d2b3774df48726caddd0af47392763503ec154201"
 },
 "nbformat": 3,
 "nbformat_minor": 0,
 "worksheets": [
  {
   "cells": [
    {
     "cell_type": "code",
     "collapsed": false,
     "input": [
      "# 3SRF has been chosen because it contains the highest number of \n",
      "# significant spheres with respect to mean deltaDAF between Europeans and Africans\n",
      "# in the random subset of 300 structures."
     ],
     "language": "python",
     "metadata": {},
     "outputs": [],
     "prompt_number": 1
    },
    {
     "cell_type": "code",
     "collapsed": false,
     "input": [
      "# Ensure that we are in the main pdbmap directory and not a subdirectory or elsewhere\n",
      "%cd ../../pdbmap"
     ],
     "language": "python",
     "metadata": {},
     "outputs": [
      {
       "output_type": "stream",
       "stream": "stdout",
       "text": [
        "/Users/mikesivley/pdbmap\n"
       ]
      }
     ],
     "prompt_number": 2
    },
    {
     "cell_type": "code",
     "collapsed": false,
     "input": [
      "# Load libraries\n",
      "%matplotlib inline\n",
      "import numpy as np\n",
      "from numpy.random import randn\n",
      "import pandas as pd\n",
      "from scipy import stats\n",
      "import matplotlib as mpl\n",
      "import matplotlib.pyplot as plt\n",
      "import seaborn as sns\n",
      "import matplotlib.patches as mpatches"
     ],
     "language": "python",
     "metadata": {},
     "outputs": [],
     "prompt_number": 3
    },
    {
     "cell_type": "code",
     "collapsed": false,
     "input": [
      "# Load the results file into a pandas data frame\n",
      "results_fname = 'results/sliding_sphere_10_RANDOM_300_SUBSET/sliding_sphere_1KG_10A.txt'\n",
      "with open(results_fname,'rb') as fin:\n",
      "    header = fin.readline().split('\\t')\n",
      "df = pd.read_table(results_fname,delimiter='\\t')\n",
      "df = df[df.structid=='3SRF']"
     ],
     "language": "python",
     "metadata": {},
     "outputs": [],
     "prompt_number": 4
    },
    {
     "cell_type": "code",
     "collapsed": false,
     "input": [
      "# for i,col in enumerate(df.columns):\n",
      "#     print i,col"
     ],
     "language": "python",
     "metadata": {},
     "outputs": [],
     "prompt_number": 5
    },
    {
     "cell_type": "code",
     "collapsed": false,
     "input": [
      "# Convenient sets of column names\n",
      "count_cols    = ['amr_count','asn_count','eur_count','afr_count']\n",
      "cdaf_cols     = ['amr_cdaf','asn_cdaf', 'eur_cdaf', 'afr_cdaf']\n",
      "sumddaf_cols  = ['amr_asn_sumddaf', 'amr_eur_sumddaf', 'amr_afr_sumddaf', 'asn_eur_sumddaf', 'asn_afr_sumddaf', 'eur_afr_sumddaf']\n",
      "meanddaf_cols = ['amr_asn_meanddaf','amr_eur_meanddaf','amr_afr_meanddaf','asn_eur_meanddaf','asn_afr_meanddaf','eur_afr_meanddaf']\n",
      "minddaf_cols  = ['amr_asn_minddaf', 'amr_eur_minddaf', 'amr_afr_minddaf', 'asn_eur_minddaf', 'asn_afr_minddaf', 'eur_afr_minddaf']\n",
      "maxddaf_cols  = ['amr_asn_maxddaf', 'amr_eur_maxddaf', 'amr_afr_maxddaf', 'asn_eur_maxddaf', 'asn_afr_maxddaf', 'eur_afr_maxddaf']\n",
      "nest_cols     = [count_cols,cdaf_cols,sumddaf_cols,meanddaf_cols,minddaf_cols,maxddaf_cols]\n",
      "count_pval_cols    = ['amr_count_pval','asn_count_pval','eur_count_pval','afr_count_pval']\n",
      "cdaf_pval_cols     = ['amr_cdaf_pval','asn_cdaf_pval', 'eur_cdaf_pval', 'afr_cdaf_pval']\n",
      "sumddaf_pval_cols  = ['amr_asn_sumddaf_pval', 'amr_eur_sumddaf_pval', 'amr_afr_sumddaf_pval', 'asn_eur_sumddaf_pval', 'asn_afr_sumddaf_pval', 'eur_afr_sumddaf_pval']\n",
      "meanddaf_pval_cols = ['amr_asn_meanddaf_pval','amr_eur_meanddaf_pval','amr_afr_meanddaf_pval','asn_eur_meanddaf_pval','asn_afr_meanddaf_pval','eur_afr_meanddaf_pval']\n",
      "minddaf_pval_cols  = ['amr_asn_minddaf_pval', 'amr_eur_minddaf_pval', 'amr_afr_minddaf_pval', 'asn_eur_minddaf_pval', 'asn_afr_minddaf_pval', 'eur_afr_minddaf_pval']\n",
      "maxddaf_pval_cols  = ['amr_asn_maxddaf_pval', 'amr_eur_maxddaf_pval', 'amr_afr_maxddaf_pval', 'asn_eur_maxddaf_pval', 'asn_afr_maxddaf_pval', 'eur_afr_maxddaf_pval']\n",
      "nest_pval_cols     = [count_pval_cols,cdaf_pval_cols,sumddaf_pval_cols,meanddaf_pval_cols,minddaf_pval_cols,maxddaf_pval_cols]\n",
      "nest_all = [nest_cols,nest_pval_cols]"
     ],
     "language": "python",
     "metadata": {},
     "outputs": [],
     "prompt_number": 6
    },
    {
     "cell_type": "code",
     "collapsed": false,
     "input": [
      "# Correct error in pvalue calculations pval=1-pval\n",
      "df.loc[:,count_pval_cols]    = 1 - df.loc[:,count_pval_cols]\n",
      "df.loc[:,cdaf_pval_cols]     = 1 - df.loc[:,cdaf_pval_cols]\n",
      "df.loc[:,sumddaf_pval_cols]  = 1 - df.loc[:,sumddaf_pval_cols]\n",
      "df.loc[:,meanddaf_pval_cols] = 1 - df.loc[:,meanddaf_pval_cols]\n",
      "df.loc[:,minddaf_pval_cols]  = 1 - df.loc[:,minddaf_pval_cols]\n",
      "df.loc[:,maxddaf_pval_cols]  = 1 - df.loc[:,maxddaf_pval_cols]"
     ],
     "language": "python",
     "metadata": {},
     "outputs": [],
     "prompt_number": 7
    },
    {
     "cell_type": "code",
     "collapsed": false,
     "input": [
      "# Load the permutation file into a pandas data frame\n",
      "perm_fname = 'results/sliding_sphere_10_RANDOM_300_SUBSET/split/perm/bystruct/3SRF.txt'\n",
      "dfp = pd.read_table(perm_fname,delimiter='\\t',header=False,names=header[:56])"
     ],
     "language": "python",
     "metadata": {},
     "outputs": [],
     "prompt_number": 8
    },
    {
     "cell_type": "code",
     "collapsed": false,
     "input": [
      "usechain = df.chain.unique()[0]\n",
      "minseqid = df.seqid.min()\n",
      "maxseqid = df.seqid.max()\n",
      "print usechain,minseqid,maxseqid"
     ],
     "language": "python",
     "metadata": {},
     "outputs": [
      {
       "output_type": "stream",
       "stream": "stdout",
       "text": [
        "G 12 530\n"
       ]
      }
     ],
     "prompt_number": 9
    },
    {
     "cell_type": "code",
     "collapsed": false,
     "input": [
      "MINSEQ = minseqid\n",
      "MAXSEQ = maxseqid\n",
      "CHAIN  = 'G'\n",
      "fig, axes = plt.subplots(4,figsize=(100,20))\n",
      "for i,col in enumerate(nest_cols[2:]):\n",
      "    eurafr  = col[-1]\n",
      "    eurafrp = nest_pval_cols[2+i][-1]\n",
      "    # For each residue in the sequence, show the permutation boxplot and observed value\n",
      "    dft   = df[(df.chain==CHAIN) & (df.seqid<MAXSEQ)]\n",
      "    dfpt  = dfp[(dfp.chain==CHAIN) & (dfp.seqid<MAXSEQ)]\n",
      "    cdict = {0:'blue',1:'red'} # Significance coloring\n",
      "    sns.boxplot(dfpt[eurafr],groupby=dfpt.seqid,ax=axes[i])\n",
      "    axes[i].scatter(dft.seqid-MINSEQ,dft[eurafr],color=[cdict[x<0.05] for x in dft[eurafrp]],marker='o',s=75)\n",
      "    #axes[i].set_xlim([0,maxseqid])\n",
      "    #axes[i].set_ylim([0,0.003])\n",
      "    stat  = eurafr.split('_')[-1][:-4]\n",
      "    statp = stat+'p'\n",
      "    axes[i].set_title(\"Observed Sphere Values in Permutation Context\\n 3SRF deltaDAF (%s) EUR vs AFR\"%stat,fontsize=15)\n",
      "    # Generate Chimera attribute files\n",
      "    with open(\"temp/3srf_%s.txt\"%stat,'wb') as fout:\n",
      "        fout.write(\"attribute: %s\\nmatch mode: 1-to-1\\nrecipient: residues\\n\\n\"%stat)\n",
      "        for _,row in df[['chain','seqid',eurafr]].iterrows():\n",
      "            fout.write(\"\\t:%d.%s\\t%.6f\\n\"%(row[1],row[0],row[2]))\n",
      "    with open(\"temp/3srf_%s.txt\"%statp,'wb') as fout:\n",
      "        fout.write(\"attribute: %s\\nmatch mode: 1-to-1\\nrecipient: residues\\n\\n\"%statp)\n",
      "        for _,row in df[['chain','seqid',eurafrp]].iterrows():\n",
      "            fout.write(\"\\t:%d.%s\\t%.6f\\n\"%(row[1],row[0],row[2]))\n",
      "# bluepatch = mpatches.Patch(color='blue', label='Not Significant')\n",
      "# redpatch = mpatches.Patch(color='red', label='Significant')\n",
      "# plt.legend(handles=[bluepatch,redpatch])\n",
      "plt.tight_layout()\n",
      "savefig('temp/deltaDAF_Distribution_3SRF.pdf')\n",
      "#plt.show()"
     ],
     "language": "python",
     "metadata": {},
     "outputs": [
      {
       "ename": "NameError",
       "evalue": "name 'eurafr' is not defined",
       "output_type": "pyerr",
       "traceback": [
        "\u001b[0;31m---------------------------------------------------------------------------\u001b[0m\n\u001b[0;31mNameError\u001b[0m                                 Traceback (most recent call last)",
        "\u001b[0;32m<ipython-input-12-7373c2f92f42>\u001b[0m in \u001b[0;36m<module>\u001b[0;34m()\u001b[0m\n\u001b[1;32m      5\u001b[0m \u001b[0;34m\u001b[0m\u001b[0m\n\u001b[1;32m      6\u001b[0m \u001b[0;31m# Extract labels\u001b[0m\u001b[0;34m\u001b[0m\u001b[0;34m\u001b[0m\u001b[0m\n\u001b[0;32m----> 7\u001b[0;31m \u001b[0mstat\u001b[0m  \u001b[0;34m=\u001b[0m \u001b[0meurafr\u001b[0m\u001b[0;34m.\u001b[0m\u001b[0msplit\u001b[0m\u001b[0;34m(\u001b[0m\u001b[0;34m'_'\u001b[0m\u001b[0;34m)\u001b[0m\u001b[0;34m[\u001b[0m\u001b[0;34m-\u001b[0m\u001b[0;36m1\u001b[0m\u001b[0;34m]\u001b[0m\u001b[0;34m[\u001b[0m\u001b[0;34m:\u001b[0m\u001b[0;34m-\u001b[0m\u001b[0;36m4\u001b[0m\u001b[0;34m]\u001b[0m\u001b[0;34m\u001b[0m\u001b[0m\n\u001b[0m\u001b[1;32m      8\u001b[0m \u001b[0mstatp\u001b[0m \u001b[0;34m=\u001b[0m \u001b[0mstat\u001b[0m\u001b[0;34m+\u001b[0m\u001b[0;34m'p'\u001b[0m\u001b[0;34m\u001b[0m\u001b[0m\n\u001b[1;32m      9\u001b[0m \u001b[0;34m\u001b[0m\u001b[0m\n",
        "\u001b[0;31mNameError\u001b[0m: name 'eurafr' is not defined"
       ]
      }
     ],
     "prompt_number": 12
    },
    {
     "cell_type": "code",
     "collapsed": false,
     "input": [],
     "language": "python",
     "metadata": {},
     "outputs": []
    }
   ],
   "metadata": {}
  }
 ]
}