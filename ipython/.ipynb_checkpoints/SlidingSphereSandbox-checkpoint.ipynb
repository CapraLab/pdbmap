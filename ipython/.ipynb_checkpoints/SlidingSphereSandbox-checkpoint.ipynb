{
 "metadata": {
  "name": "",
  "signature": "sha256:aec80945561eec3a37df5b29c4c92017a7cbef05efce9d5aacbe33b95ed88e8a"
 },
 "nbformat": 3,
 "nbformat_minor": 0,
 "worksheets": [
  {
   "cells": [
    {
     "cell_type": "code",
     "collapsed": false,
     "input": [
      "# Ensure that we are in the main pdbmap directory and not a subdirectory or elsewhere\n",
      "%cd ../../pdbmap"
     ],
     "language": "python",
     "metadata": {},
     "outputs": []
    },
    {
     "cell_type": "code",
     "collapsed": false,
     "input": [
      "# Load libraries\n",
      "%matplotlib inline\n",
      "import glob,gzip\n",
      "import numpy as np\n",
      "from numpy.random import randn\n",
      "import random\n",
      "import pandas as pd\n",
      "from scipy import stats\n",
      "import matplotlib as mpl\n",
      "import matplotlib.pyplot as plt\n",
      "import seaborn as sns\n",
      "pd.set_option('display.max_columns', 500)"
     ],
     "language": "python",
     "metadata": {},
     "outputs": []
    },
    {
     "cell_type": "code",
     "collapsed": false,
     "input": [
      "# Load the results file into a pandas data frame\n",
      "fnames = glob.glob('results/sliding_sphere_10/split/obs/bystruct/*.txt.gz')\n",
      "rlist  = [[r.split('-')[0][-4:],r.split('-')[1].split('.')[0]] for r in fnames]\n",
      "# rdf    = pd.DataFrame(rlist,columns=['structid','biounit'])\n",
      "header_fname  = 'scripts/sphere_header.txt'\n",
      "with open(header_fname,'rb') as hfin:\n",
      "    header = [h.strip() for h in hfin.readlines()]\n",
      "dfs = [pd.read_table(gzip.open(fname,'rb'),delimiter='\\t',skiprows=1,names=rlist[i]+header) for i,fname in enumerate(fnames)]\n",
      "df = pd.concat(dfs)\n",
      "del dfs"
     ],
     "language": "python",
     "metadata": {},
     "outputs": []
    },
    {
     "cell_type": "code",
     "collapsed": false,
     "input": [
      "print \"Spheres read:\",len(df)"
     ],
     "language": "python",
     "metadata": {},
     "outputs": []
    },
    {
     "cell_type": "code",
     "collapsed": false,
     "input": [
      "# Sample 50% of the observations\n",
      "df = df.ix[random.sample(df.index,len(df)/2)]"
     ],
     "language": "python",
     "metadata": {},
     "outputs": []
    },
    {
     "cell_type": "code",
     "collapsed": false,
     "input": [
      "print \"Spheres sampled:\",len(df)"
     ],
     "language": "python",
     "metadata": {},
     "outputs": []
    },
    {
     "cell_type": "code",
     "collapsed": false,
     "input": [
      "# Convenient sets of column names\n",
      "count_cols      = ['amr_snps','eas_snps','sas_snps','eur_snps','afr_snps']\n",
      "combcount_cols  = ['amr_eas_snps','amr_sas_snps','amr_eur_snps','amr_afr_snps','eas_sas_snps']\n",
      "combcount_cols += ['eas_eur_snps','eas_afr_snps','sas_eur_snps','sas_afr_snps','eur_afr_snps']\n",
      "cdaf_cols       = ['amr_cdaf','eas_cdaf','sas_cdaf','eur_cdaf','afr_cdaf']\n",
      "\n",
      "# Population comparison column names\n",
      "mean_ddaf_cols     = [\"amr_eas_meanddaf\",\"eas_amr_meanddaf\",\"amr_sas_meanddaf\",\"sas_amr_meanddaf\"]\n",
      "mean_ddaf_cols    += [\"amr_eur_meanddaf\",\"eur_amr_meanddaf\",\"amr_afr_meanddaf\",\"afr_amr_meanddaf\"]\n",
      "mean_ddaf_cols    += [\"eas_sas_meanddaf\",\"sas_eas_meanddaf\",\"eas_eur_meanddaf\",\"eur_eas_meanddaf\"]\n",
      "mean_ddaf_cols    += [\"eas_afr_meanddaf\",\"afr_eas_meanddaf\",\"sas_eur_meanddaf\",\"eur_sas_meanddaf\"]\n",
      "mean_ddaf_cols    += [\"sas_afr_meanddaf\",\"afr_sas_meanddaf\",\"eur_afr_meanddaf\",\"afr_eur_meanddaf\"]\n",
      "absmean_ddaf_cols  = [\"amreas_meanddaf\",\"amrsas_meanddaf\",\"amreur_meanddaf\",\"amrafr_meanddaf\"]\n",
      "absmean_ddaf_cols += [\"eassas_meanddaf\",\"easeur_meanddaf\",\"easafr_meanddaf\",\"saseur_meanddaf\"]\n",
      "absmean_ddaf_cols += [\"sasafr_meanddaf\",\"eurafr_meanddaf\"]\n",
      "\n",
      "# Population comparison column names (sequence windows)\n",
      "w_mean_ddaf_cols     = [\"w_amr_eas_meanddaf\",\"w_eas_amr_meanddaf\",\"w_amr_sas_meanddaf\",\"w_sas_amr_meanddaf\"]\n",
      "w_mean_ddaf_cols    += [\"w_amr_eur_meanddaf\",\"w_eur_amr_meanddaf\",\"w_amr_afr_meanddaf\",\"w_afr_amr_meanddaf\"]\n",
      "w_mean_ddaf_cols    += [\"w_eas_sas_meanddaf\",\"w_sas_eas_meanddaf\",\"w_eas_eur_meanddaf\",\"w_eur_eas_meanddaf\"]\n",
      "w_mean_ddaf_cols    += [\"w_eas_afr_meanddaf\",\"w_afr_eas_meanddaf\",\"w_sas_eur_meanddaf\",\"w_eur_sas_meanddaf\"]\n",
      "w_mean_ddaf_cols    += [\"w_sas_afr_meanddaf\",\"w_afr_sas_meanddaf\",\"w_eur_afr_meanddaf\",\"w_afr_eur_meanddaf\"]\n",
      "w_absmean_ddaf_cols  = [\"w_amreas_meanddaf\",\"w_amrsas_meanddaf\",\"w_amreur_meanddaf\",\"w_amrafr_meanddaf\"]\n",
      "w_absmean_ddaf_cols += [\"w_eassas_meanddaf\",\"w_easeur_meanddaf\",\"w_easafr_meanddaf\",\"w_saseur_meanddaf\"]\n",
      "w_absmean_ddaf_cols += [\"w_sasafr_meanddaf\",\"w_eurafr_meanddaf\"]\n",
      "\n",
      "# Collection of related column groups\n",
      "nest_cols = [count_cols,combcount_cols,cdaf_cols,mean_ddaf_cols,absmean_ddaf_cols,w_mean_ddaf_cols,w_absmean_ddaf_cols]"
     ],
     "language": "python",
     "metadata": {},
     "outputs": []
    },
    {
     "cell_type": "code",
     "collapsed": false,
     "input": [
      "# Summary boxplots of observed values for count, cDAF, or \u0394DAF statistic, stratified by population\n",
      "for colset in nest_cols:\n",
      "    plt.figure(figsize=(15,6))\n",
      "    sns.set_style(\"whitegrid\")\n",
      "    sns.set_palette(\"hls\")\n",
      "    sns.boxplot(np.abs(df.ix[:,colset]))\n",
      "    plt.tight_layout()\n",
      "    plt.show()"
     ],
     "language": "python",
     "metadata": {},
     "outputs": []
    },
    {
     "cell_type": "code",
     "collapsed": false,
     "input": [
      "# Summary boxplots of pvalues for count, cDAF, or \u0394DAF statistic, stratified by population\n",
      "for colset in nest_pval_cols:\n",
      "    plt.figure(figsize=(15,6))\n",
      "    sns.set_style(\"whitegrid\")\n",
      "    sns.set_palette(\"hls\")\n",
      "    sns.boxplot(-np.log10(df.ix[:,colset]))\n",
      "    plt.hlines(2,0,10,'red',linestyles='dotted')\n",
      "    plt.hlines(1.3,0,10,'blue',linestyles='dotted')\n",
      "    plt.tight_layout()\n",
      "    plt.show()"
     ],
     "language": "python",
     "metadata": {},
     "outputs": []
    },
    {
     "cell_type": "code",
     "collapsed": false,
     "input": [
      "# # Boxplot for each pvalues for count, cDAF, or \u0394DAF statistic, stratified by population\n",
      "# for colset in nest_pval_cols:\n",
      "#     plt.figure(figsize=(15,6))\n",
      "#     sns.set_style(\"whitegrid\")\n",
      "#     sns.set_palette(\"hls\")\n",
      "#     sns.boxplot(-np.log10(df.ix[:,colset]))\n",
      "#     plt.hlines(2,0,10,'red',linestyles='dotted')\n",
      "#     plt.hlines(1.3,0,10,'blue',linestyles='dotted')\n",
      "#     plt.tight_layout()\n",
      "#     plt.show()"
     ],
     "language": "python",
     "metadata": {},
     "outputs": []
    },
    {
     "cell_type": "code",
     "collapsed": false,
     "input": [
      "# Boxplot for the number of significant spheres for count, cDAF, or \u0394DAF statistic, stratified by population, grouped protein\n",
      "for colset in nest_pval_cols:\n",
      "    ndf = []\n",
      "    plt.figure(figsize=(15,6))\n",
      "    for col in colset:\n",
      "        sns.set_style(\"whitegrid\")\n",
      "        sns.set_palette(\"hls\")\n",
      "        dfc = df[df[col]<0.05].groupby('structid').size()\n",
      "        ndf.append(dfc)\n",
      "    sns.boxplot(ndf,names=colset)\n",
      "    plt.tight_layout()\n",
      "    plt.show()"
     ],
     "language": "python",
     "metadata": {},
     "outputs": []
    },
    {
     "cell_type": "code",
     "collapsed": false,
     "input": [
      "# Boxplot for significant sphere values for count, cDAF, or \u0394DAF statistic, stratified by population, grouped protein\n",
      "for i,colset in enumerate(nest_pval_cols):\n",
      "    ndf = []\n",
      "    plt.figure(figsize=(15,6))\n",
      "    for j,col in enumerate(colset):\n",
      "        sns.set_style(\"whitegrid\")\n",
      "        sns.set_palette(\"hls\")\n",
      "        dfc = df[df[col]<0.05][nest_cols[i][j]]\n",
      "        ndf.append(dfc)\n",
      "    sns.boxplot(ndf,names=nest_cols[i])\n",
      "    plt.tight_layout()\n",
      "    plt.show()"
     ],
     "language": "python",
     "metadata": {},
     "outputs": []
    },
    {
     "cell_type": "code",
     "collapsed": false,
     "input": [
      "# Boxplot for mean value of significant spheres for count, cDAF, or \u0394DAF statistic, stratified by population, grouped protein\n",
      "for i,colset in enumerate(nest_pval_cols):\n",
      "    ndf = []\n",
      "    plt.figure(figsize=(15,6))\n",
      "    for j,col in enumerate(colset):\n",
      "        sns.set_style(\"whitegrid\")\n",
      "        sns.set_palette(\"hls\")\n",
      "        dfc = df[df[col]<0.05].groupby('structid')[nest_cols[i][j]].mean()\n",
      "        ndf.append(dfc)\n",
      "    sns.boxplot(ndf,names=nest_cols[i])\n",
      "    plt.tight_layout()\n",
      "    plt.show()"
     ],
     "language": "python",
     "metadata": {},
     "outputs": []
    },
    {
     "cell_type": "code",
     "collapsed": false,
     "input": [
      "# Plot KDE histograms stratified by permutation, observed, significant (absolute mean)\n",
      "# I'll probably need to sample from the permutation set\n",
      "# I'll start with just the observed/significant values\n",
      "plt.figure(figsize=(20,6))\n",
      "sns.kdeplot(df['eurafr_meanddaf'],color='blue',label='observed')\n",
      "sns.kdeplot(dfp['eurafr_meanddaf'],color='black',label='permutation')\n",
      "sns.kdeplot(df[df['eurafr_meanddaf_pval']<0.05]['eurafr_meanddaf'],color='red',label='significant')\n",
      "plt.xlim([-0.1,0.1])"
     ],
     "language": "python",
     "metadata": {},
     "outputs": []
    },
    {
     "cell_type": "code",
     "collapsed": false,
     "input": [
      "# Plot KDE histograms stratified by permutation, observed, significant\n",
      "# I'll probably need to sample from the permutation set\n",
      "# I'll start with just the observed/significant values\n",
      "plt.figure(figsize=(20,6))\n",
      "sns.kdeplot(df['eur_afr_meanddaf'],color='blue',label='observed')\n",
      "sns.kdeplot(dfp['eur_afr_meanddaf'],color='black',label='permutation')\n",
      "sns.kdeplot(df[df['eur_afr_meanddaf_pval']<0.05]['eur_afr_meanddaf'],color='red',label='significant')\n",
      "plt.xlim([-0.1,0.1])"
     ],
     "language": "python",
     "metadata": {},
     "outputs": []
    },
    {
     "cell_type": "code",
     "collapsed": false,
     "input": [
      "# Plot KDE histograms stratified by permutation, observed, significant\n",
      "# I'll probably need to sample from the permutation set\n",
      "# I'll start with just the observed/significant values\n",
      "plt.figure(figsize=(20,6))\n",
      "sns.kdeplot(df['afr_eur_meanddaf'],color='blue',label='observed')\n",
      "sns.kdeplot(dfp['afr_eur_meanddaf'],color='black',label='permutation')\n",
      "sns.kdeplot(df[df['afr_eur_meanddaf_pval']<0.05]['afr_eur_meanddaf'],color='red',label='significant')\n",
      "plt.xlim([-0.1,0.1])"
     ],
     "language": "python",
     "metadata": {},
     "outputs": []
    },
    {
     "cell_type": "code",
     "collapsed": false,
     "input": [
      "# List the proteins with the *greatest number of* significant spheres for count, cDAF, and \u0394DAF, stratified by population\n",
      "for colset in nest_pval_cols:\n",
      "    ndf = []\n",
      "    for col in colset:\n",
      "        dfc = df[df[col]<0.05].groupby('structid').size()\n",
      "        dfc.sort()\n",
      "        print \"%s  %s\"%(col,' | '.join([\"%s: %.2f\"%(sid,cnt) for sid,cnt in dfc.tail(5).iteritems()][::-1]))\n",
      "    print ''"
     ],
     "language": "python",
     "metadata": {},
     "outputs": []
    },
    {
     "cell_type": "code",
     "collapsed": false,
     "input": [
      "# List the proteins with the *most extremely* significant spheres for count, cDAF, and \u0394DAF, stratified by population\n",
      "for i,colset in enumerate(nest_pval_cols):\n",
      "    ndf = []\n",
      "    for j,col in enumerate(colset):\n",
      "        dfc = df[df[col]<0.05].groupby('structid').min().sort([col,nest_cols[i][j]],ascending=[True,False]).head(5)\n",
      "        print \"%s  %s\"%(col,' | '.join([\"%s: %2.2f, p\u2264%1.1e\"%(sid,val,pval) for sid,_,pval,val in dfc.ix[:,[\"structid\",col,nest_cols[i][j]]].itertuples()]))\n",
      "    print ''"
     ],
     "language": "python",
     "metadata": {},
     "outputs": []
    },
    {
     "cell_type": "code",
     "collapsed": false,
     "input": [
      "# Top scoring - EUR selected\n",
      "metric = 'eur_afr_meanddaf'\n",
      "pval   = 'eur_afr_meanddaf_pval'\n",
      "# dfc = df[df[pval]<0.05].sort([metric,'afr_count','eur_count'],ascending=[True,False,False])\n",
      "dfc = df[df[pval]<0.05].sort([metric,'afr_count','eur_count'],ascending=[False,False,False])\n",
      "\n",
      "top_20_structs,i,keys = dict(),0,[]\n",
      "while len(top_20_structs) < 20:\n",
      "    sid = dfc.iloc[i].structid\n",
      "    if sid not in top_20_structs:\n",
      "        top_20_structs[sid] = 1\n",
      "        keys.append(sid)\n",
      "    else:\n",
      "        top_20_structs[sid] += 1\n",
      "    i+= 1\n",
      "# Structures ordered by the rank of their highest-ranking sphere\n",
      "# Counts are for all spheres with a higher rank than the final sphere considered\n",
      "for key in keys:\n",
      "    print key,top_20_structs[key]\n",
      "\n",
      "dfc = dfc.head(100)\n",
      "\n",
      "print \"%s  %s\"%(metric,'\\n'.join([\"%s:%d.%s: %2.2f, p\u2264%1.1e afr=%d eur=%d\"%(sid,seqid,chain,val,pval,afr,eur) for _,sid,seqid,chain,pval,val,afr,eur in dfc.ix[:,[\"structid\",'seqid','chain',pval,metric,'afr_count','eur_count']].itertuples()]))"
     ],
     "language": "python",
     "metadata": {},
     "outputs": []
    },
    {
     "cell_type": "code",
     "collapsed": false,
     "input": [
      "# Top Scoring - AFR selected\n",
      "metric = 'eur_afr_meanddaf'\n",
      "pval   = 'eur_afr_meanddaf_pval'\n",
      "dfc = df[df[pval]<0.05].sort([metric,'afr_count','eur_count'],ascending=[True,False,False])\n",
      "# dfc = df[df[pval]<0.05].sort([metric,'afr_count','eur_count'],ascending=[False,False,False])\n",
      "\n",
      "top_20_structs,i,keys = dict(),0,[]\n",
      "while len(top_20_structs) < 20:\n",
      "    sid = dfc.iloc[i].structid\n",
      "    if sid not in top_20_structs:\n",
      "        top_20_structs[sid] = 1\n",
      "        keys.append(sid)\n",
      "    else:\n",
      "        top_20_structs[sid] += 1\n",
      "    i+= 1\n",
      "# Structures ordered by the rank of their highest-ranking sphere\n",
      "# Counts are for all spheres with a higher rank than the final sphere considered\n",
      "for key in keys:\n",
      "    print key,top_20_structs[key]\n",
      "\n",
      "dfc = dfc.head(100)\n",
      "\n",
      "print \"%s  %s\"%(metric,'\\n'.join([\"%s:%d.%s: %2.2f, p\u2264%1.1e afr=%d eur=%d\"%(sid,seqid,chain,val,pval,afr,eur) for _,sid,seqid,chain,pval,val,afr,eur in dfc.ix[:,[\"structid\",'seqid','chain',pval,metric,'afr_count','eur_count']].itertuples()]))"
     ],
     "language": "python",
     "metadata": {},
     "outputs": []
    },
    {
     "cell_type": "code",
     "collapsed": false,
     "input": [],
     "language": "python",
     "metadata": {},
     "outputs": []
    }
   ],
   "metadata": {}
  }
 ]
}