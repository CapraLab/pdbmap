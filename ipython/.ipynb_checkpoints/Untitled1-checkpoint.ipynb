{
 "metadata": {
  "name": "",
  "signature": "sha256:b415a9b364159ee2149c54f49650fa0bc2d736a6dddcfc7865a6457414208748"
 },
 "nbformat": 3,
 "nbformat_minor": 0,
 "worksheets": []
}