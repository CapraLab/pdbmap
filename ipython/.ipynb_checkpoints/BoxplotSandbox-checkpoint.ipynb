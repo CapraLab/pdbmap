{
 "metadata": {
  "name": "",
  "signature": "sha256:a817739115ee17930f77f57709f55c3a7d5590ae3a72915dc8bd08038814b05c"
 },
 "nbformat": 3,
 "nbformat_minor": 0,
 "worksheets": [
  {
   "cells": [
    {
     "cell_type": "code",
     "collapsed": false,
     "input": [
      "# Load libraries\n",
      "%matplotlib inline\n",
      "import gzip\n",
      "import numpy as np\n",
      "from numpy.random import randn\n",
      "import pandas as pd\n",
      "from scipy import stats\n",
      "import matplotlib as mpl\n",
      "import matplotlib.pyplot as plt\n",
      "import seaborn as sns\n",
      "import matplotlib.patches as mpatches"
     ],
     "language": "python",
     "metadata": {},
     "outputs": [],
     "prompt_number": 154
    },
    {
     "cell_type": "code",
     "collapsed": false,
     "input": [
      "# Ensure that we are in the main pdbmap directory and not a subdirectory or elsewhere\n",
      "%cd ../../pdbmap"
     ],
     "language": "python",
     "metadata": {},
     "outputs": [
      {
       "output_type": "stream",
       "stream": "stdout",
       "text": [
        "[Errno 2] No such file or directory: '../../pdbmap'\n",
        "/Users/mikesivley/pdbmap\n"
       ]
      }
     ],
     "prompt_number": 155
    },
    {
     "cell_type": "code",
     "collapsed": false,
     "input": [
      "# Biological unit specification\n",
      "structid = \"1Q94\"\n",
      "biounit  = 1"
     ],
     "language": "python",
     "metadata": {},
     "outputs": [],
     "prompt_number": 160
    },
    {
     "cell_type": "code",
     "collapsed": false,
     "input": [
      "# Load the results file into a pandas data frame\n",
      "results_fname = '/Volumes/sivleyrm/pdbmap/results/sliding_sphere_10/split/obs/bystruct/sliding_sphere_%s-%d.txt.gz'%(structid,biounit)\n",
      "with gzip.open(results_fname,'rb') as obs_fin:\n",
      "    header = obs_fin.readline().split('\\t')\n",
      "with gzip.open(results_fname,'rb') as obs_fin:\n",
      "    df = pd.read_table(obs_fin,delimiter='\\t')"
     ],
     "language": "python",
     "metadata": {},
     "outputs": [],
     "prompt_number": 161
    },
    {
     "cell_type": "code",
     "collapsed": false,
     "input": [
      "#FIXME: This can be cleaned up by using column ranges from the header\n",
      "\n",
      "# Convenient sets of column names\n",
      "count_cols      = ['snpcount','amr_snps','eas_snps','sas_snps','eur_snps','afr_snps']\n",
      "combcount_cols  = ['amr_eas_snps','amr_sas_snps','amr_eur_snps','amr_afr_snps','eas_sas_snps']\n",
      "combcount_cols += ['eas_eur_snps','eas_afr_snps','sas_eur_snps','sas_afr_snps','eur_afr_snps']\n",
      "cdaf_cols       = ['amr_cdaf','eas_cdaf','sas_cdaf','eur_cdaf','afr_cdaf']\n",
      "\n",
      "# Convenient sets of column names (sequence window)\n",
      "w_count_cols      = ['w_snpcount','w_amr_snps','w_eas_snps','w_sas_snps','w_eur_snps','w_afr_snps']\n",
      "w_combcount_cols  = ['w_amr_eas_snps','w_amr_sas_snps','w_amr_eur_snps','w_amr_afr_snps','w_eas_sas_snps']\n",
      "w_combcount_cols += ['w_eas_eur_snps','w_eas_afr_snps','w_sas_eur_snps','w_sas_afr_snps','w_eur_afr_snps']\n",
      "w_cdaf_cols       = ['w_amr_cdaf','w_eas_cdaf','w_sas_cdaf','w_eur_cdaf','w_afr_cdaf']\n",
      "\n",
      "# Population comparison column names\n",
      "mean_ddaf_cols     = [\"amr_eas_meanddaf\",\"eas_amr_meanddaf\",\"amr_sas_meanddaf\",\"sas_amr_meanddaf\"]\n",
      "mean_ddaf_cols    += [\"amr_eur_meanddaf\",\"eur_amr_meanddaf\",\"amr_afr_meanddaf\",\"afr_amr_meanddaf\"]\n",
      "mean_ddaf_cols    += [\"eas_sas_meanddaf\",\"sas_eas_meanddaf\",\"eas_eur_meanddaf\",\"eur_eas_meanddaf\"]\n",
      "mean_ddaf_cols    += [\"eas_afr_meanddaf\",\"afr_eas_meanddaf\",\"sas_eur_meanddaf\",\"eur_sas_meanddaf\"]\n",
      "mean_ddaf_cols    += [\"sas_afr_meanddaf\",\"afr_sas_meanddaf\",\"eur_afr_meanddaf\",\"afr_eur_meanddaf\"]\n",
      "absmean_ddaf_cols  = [\"amreas_meanddaf\",\"amrsas_meanddaf\",\"amreur_meanddaf\",\"amrafr_meanddaf\"]\n",
      "absmean_ddaf_cols += [\"eassas_meanddaf\",\"easeur_meanddaf\",\"easafr_meanddaf\",\"saseur_meanddaf\"]\n",
      "absmean_ddaf_cols += [\"sasafr_meanddaf\",\"eurafr_meanddaf\"]\n",
      "fst_cols  = [\"amreas_fst\",\"amrsas_fst\",\"amreur_fst\",\"amrafr_fst\"]\n",
      "fst_cols += [\"eassas_fst\",\"easeur_fst\",\"easafr_fst\",\"saseur_fst\"]\n",
      "fst_cols += [\"sasafr_fst\",\"eurafr_fst\",\"allpop_fst\"]\n",
      "\n",
      "# Population comparison column names (sequence windows)\n",
      "w_mean_ddaf_cols     = [\"w_amr_eas_meanddaf\",\"w_eas_amr_meanddaf\",\"w_amr_sas_meanddaf\",\"w_sas_amr_meanddaf\"]\n",
      "w_mean_ddaf_cols    += [\"w_amr_eur_meanddaf\",\"w_eur_amr_meanddaf\",\"w_amr_afr_meanddaf\",\"w_afr_amr_meanddaf\"]\n",
      "w_mean_ddaf_cols    += [\"w_eas_sas_meanddaf\",\"w_sas_eas_meanddaf\",\"w_eas_eur_meanddaf\",\"w_eur_eas_meanddaf\"]\n",
      "w_mean_ddaf_cols    += [\"w_eas_afr_meanddaf\",\"w_afr_eas_meanddaf\",\"w_sas_eur_meanddaf\",\"w_eur_sas_meanddaf\"]\n",
      "w_mean_ddaf_cols    += [\"w_sas_afr_meanddaf\",\"w_afr_sas_meanddaf\",\"w_eur_afr_meanddaf\",\"w_afr_eur_meanddaf\"]\n",
      "w_absmean_ddaf_cols  = [\"w_amreas_meanddaf\",\"w_amrsas_meanddaf\",\"w_amreur_meanddaf\",\"w_amrafr_meanddaf\"]\n",
      "w_absmean_ddaf_cols += [\"w_eassas_meanddaf\",\"w_easeur_meanddaf\",\"w_easafr_meanddaf\",\"w_saseur_meanddaf\"]\n",
      "w_absmean_ddaf_cols += [\"w_sasafr_meanddaf\",\"w_eurafr_meanddaf\"]\n",
      "w_fst_cols  = [\"w_amreas_fst\",\"w_amrsas_fst\",\"w_amreur_fst\",\"w_amrafr_fst\"]\n",
      "w_fst_cols += [\"w_eassas_fst\",\"w_easeur_fst\",\"w_easafr_fst\",\"w_saseur_fst\"]\n",
      "w_fst_cols += [\"w_sasafr_fst\",\"w_eurafr_fst\",\"w_allpop_fst\"]\n",
      "\n",
      "# Convenient sets of p-value column names\n",
      "count_pval_cols      = [\"amr_snps_pval\",\"eas_snps_pval\",\"sas_snps_pval\",\"eur_snps_pval\",\"afr_snps_pval\"]\n",
      "combcount_pval_cols  = [\"amr_eas_snps_pval\",\"amr_sas_snps_pval\",\"amr_eur_snps_pval\",\"amr_afr_snps_pval\",\"eas_sas_snps_pval\"]\n",
      "combcount_pval_cols += [\"eas_eur_snps_pval\",\"eas_afr_snps_pval\",\"sas_eur_snps_pval\",\"sas_afr_snps_pval\",\"eur_afr_snps_pval\"]\n",
      "cdaf_pval_cols       = [\"amr_cdaf_pval\",\"eas_cdaf_pval\",\"sas_cdaf_pval\",\"eur_cdaf_pval\",\"afr_cdaf_pval\"]\n",
      "\n",
      "# Convenient sets of p-value column names (sequence window)\n",
      "w_count_pval_cols      = [\"w_amr_snps_pval\",\"w_eas_snps_pval\",\"w_sas_snps_pval\",\"w_eur_snps_pval\",\"w_afr_snps_pval\"]\n",
      "w_combcount_pval_cols  = [\"w_amr_eas_snps_pval\",\"w_amr_sas_snps_pval\",\"w_amr_eur_snps_pval\",\"w_amr_afr_snps_pval\",\"w_eas_sas_snps_pval\"]\n",
      "w_combcount_pval_cols += [\"w_eas_eur_snps_pval\",\"w_eas_afr_snps_pval\",\"w_sas_eur_snps_pval\",\"w_sas_afr_snps_pval\",\"w_eur_afr_snps_pval\"]\n",
      "w_cdaf_pval_cols       = [\"w_amr_cdaf_pval\",\"w_eas_cdaf_pval\",\"w_sas_cdaf_pval\",\"w_eur_cdaf_pval\",\"w_afr_cdaf_pval\"]\n",
      "\n",
      "# Population comparison p-value column names\n",
      "mean_ddaf_pval_cols     = [\"amr_eas_meanddaf_pval\",\"eas_amr_meanddaf_pval\",\"amr_sas_meanddaf_pval\",\"sas_amr_meanddaf_pval\"]\n",
      "mean_ddaf_pval_cols    += [\"amr_eur_meanddaf_pval\",\"eur_amr_meanddaf_pval\",\"amr_afr_meanddaf_pval\",\"afr_amr_meanddaf_pval\"]\n",
      "mean_ddaf_pval_cols    += [\"eas_sas_meanddaf_pval\",\"sas_eas_meanddaf_pval\",\"eas_eur_meanddaf_pval\",\"eur_eas_meanddaf_pval\"]\n",
      "mean_ddaf_pval_cols    += [\"eas_afr_meanddaf_pval\",\"afr_eas_meanddaf_pval\",\"sas_eur_meanddaf_pval\",\"eur_sas_meanddaf_pval\"]\n",
      "mean_ddaf_pval_cols    += [\"sas_afr_meanddaf_pval\",\"afr_sas_meanddaf_pval\",\"eur_afr_meanddaf_pval\",\"afr_eur_meanddaf_pval\"]\n",
      "absmean_ddaf_pval_cols  = [\"amreas_meanddaf_pval\",\"amrsas_meanddaf_pval\",\"amreur_meanddaf_pval\",\"amrafr_meanddaf_pval\"]\n",
      "absmean_ddaf_pval_cols += [\"eassas_meanddaf_pval\",\"easeur_meanddaf_pval\",\"easafr_meanddaf_pval\",\"saseur_meanddaf_pval\"]\n",
      "absmean_ddaf_pval_cols += [\"sasafr_meanddaf_pval\",\"eurafr_meanddaf_pval\"]\n",
      "fst_pval_cols  = [\"amreas_fst_pval\",\"amrsas_fst_pval\",\"amreur_fst_pval\",\"amrafr_fst_pval\"]\n",
      "fst_pval_cols += [\"eassas_fst_pval\",\"easeur_fst_pval\",\"easafr_fst_pval\",\"saseur_fst_pval\"]\n",
      "fst_pval_cols += [\"sasafr_fst_pval\",\"eurafr_fst_pval\",\"allpop_fst_pval\"]\n",
      "\n",
      "# Population comparison p-value column names (sequence windows)\n",
      "w_mean_ddaf_pval_cols     = [\"w_amr_eas_meanddaf_pval\",\"w_eas_amr_meanddaf_pval\",\"w_amr_sas_meanddaf_pval\",\"w_sas_amr_meanddaf_pval\"]\n",
      "w_mean_ddaf_pval_cols    += [\"w_amr_eur_meanddaf_pval\",\"w_eur_amr_meanddaf_pval\",\"w_amr_afr_meanddaf_pval\",\"w_afr_amr_meanddaf_pval\"]\n",
      "w_mean_ddaf_pval_cols    += [\"w_eas_sas_meanddaf_pval\",\"w_sas_eas_meanddaf_pval\",\"w_eas_eur_meanddaf_pval\",\"w_eur_eas_meanddaf_pval\"]\n",
      "w_mean_ddaf_pval_cols    += [\"w_eas_afr_meanddaf_pval\",\"w_afr_eas_meanddaf_pval\",\"w_sas_eur_meanddaf_pval\",\"w_eur_sas_meanddaf_pval\"]\n",
      "w_mean_ddaf_pval_cols    += [\"w_sas_afr_meanddaf_pval\",\"w_afr_sas_meanddaf_pval\",\"w_eur_afr_meanddaf_pval\",\"w_afr_eur_meanddaf_pval\"]\n",
      "w_absmean_ddaf_pval_cols  = [\"w_amreas_meanddaf_pval\",\"w_amrsas_meanddaf_pval\",\"w_amreur_meanddaf_pval\",\"w_amrafr_meanddaf_pval\"]\n",
      "w_absmean_ddaf_pval_cols += [\"w_eassas_meanddaf_pval\",\"w_easeur_meanddaf_pval\",\"w_easafr_meanddaf_pval\",\"w_saseur_meanddaf_pval\"]\n",
      "w_absmean_ddaf_pval_cols += [\"w_sasafr_meanddaf_pval\",\"w_eurafr_meanddaf_pval\"]\n",
      "w_fst_pval_cols  = [\"w_amreas_fst_pval\",\"w_amrsas_fst_pval\",\"w_amreur_fst_pval\",\"w_amrafr_fst_pval\"]\n",
      "w_fst_pval_cols += [\"w_eassas_fst_pval\",\"w_easeur_fst_pval\",\"w_easafr_fst_pval\",\"w_saseur_fst_pval\"]\n",
      "w_fst_pval_cols += [\"w_sasafr_fst_pval\",\"w_eurafr_fst_pval\",\"w_allpop_fst_pval\"]\n",
      "\n",
      "# Collection of related column groups \n",
      "nest_cols      = [count_cols,combcount_cols,cdaf_cols,mean_ddaf_cols,absmean_ddaf_cols,fst_cols,w_mean_ddaf_cols,w_absmean_ddaf_cols,w_fst_cols]\n",
      "nest_pval_cols = [count_pval_cols,combcount_pval_cols,cdaf_pval_cols,mean_ddaf_pval_cols,absmean_ddaf_pval_cols,fst_pval_cols,w_mean_ddaf_pval_cols,w_absmean_ddaf_pval_cols,w_fst_pval_cols]"
     ],
     "language": "python",
     "metadata": {},
     "outputs": [],
     "prompt_number": 162
    },
    {
     "cell_type": "code",
     "collapsed": false,
     "input": [
      "# Load the permutation file\n",
      "perm_fname = '/Volumes/sivleyrm/pdbmap/results/sliding_sphere_10/split/perm/bystruct/sliding_sphere_perm_%s-%d.npz'%(structid,biounit)\n",
      "with np.load(perm_fname) as npzfile:\n",
      "    npz = npzfile.items()[0][1]"
     ],
     "language": "python",
     "metadata": {},
     "outputs": [],
     "prompt_number": 282
    },
    {
     "cell_type": "code",
     "collapsed": false,
     "input": [
      "npz[:,:,12] = np.core.defchararray.add(np.array(npz[:,:,11],dtype=str),npz[:,:,12]) # append the model # to the chain ID\n",
      "chains = list(set(npz[:,:,12].ravel()))\n",
      "chains.sort()\n",
      "minseq = [np.min(npz[npz[:,:,12]==chain,14]) for chain in chains]\n",
      "maxseq = [np.max(npz[npz[:,:,12]==chain,14]) for chain in chains]\n",
      "print chains,minseq,maxseq"
     ],
     "language": "python",
     "metadata": {},
     "outputs": [
      {
       "output_type": "stream",
       "stream": "stdout",
       "text": [
        "['1A', '1B', '1D', '1E', '2A', '2B', '2D', '2E'] [1L, 1L, 1L, 1L, 1L, 1L, 1L, 1L] [275L, 99L, 275L, 99L, 275L, 99L, 275L, 99L]\n"
       ]
      }
     ],
     "prompt_number": 283
    },
    {
     "cell_type": "code",
     "collapsed": false,
     "input": [
      "def chain_plot(metric,observations,permutations,header):\n",
      "    df  = observations.copy()\n",
      "    npz = permutations.copy()\n",
      "    npz[:,:,12] = np.core.defchararray.add(np.array(npz[:,:,11],dtype=str),npz[:,:,12]) # append the model # to the chain ID\n",
      "    chains = list(set(npz[:,:,12].ravel()))\n",
      "    chains.sort()\n",
      "    minseq = [np.min(npz[npz[:,:,12]==chain,14]) for chain in chains]\n",
      "    maxseq = [np.max(npz[npz[:,:,12]==chain,14]) for chain in chains]\n",
      "    print 'Chains:\\t%s'%' '.join(chains)\n",
      "    print 'SeqStart:\\t%s'%' '.join(str(x) for x in minseq)\n",
      "    print 'SeqEnd:\\t%s'%' '.join(str(x) for x in maxseq)\n",
      "    fig, axes = plt.subplots(len(chains),figsize=(max(maxseq)/4,5*len(chains)))\n",
      "    pvalue  = \"%s_pval\"%metric\n",
      "    wmetric = \"w_%s\"%metric\n",
      "    wpvalue = \"%s_pval\"%wmetric\n",
      "    midx    = header[20:-124].index(metric)\n",
      "    if len(chains) < 2:\n",
      "        axes = [axes]\n",
      "    for i,chain in enumerate(chains):\n",
      "        pos   = map(tuple,npz[npz[:,midx,12]==chain,midx,14:16]) # seqid and icode\n",
      "        idx   = list(set([pos.index(n) for n in pos])) # identify unique residue indices\n",
      "        pos   = [pos for j,pos in enumerate(pos) if j in idx] # reduce to unique residue positions\n",
      "        dat   = npz[npz[:,midx,12]==chain,midx,-5:][idx,:].swapaxes(0,1) # reduce to unique residues\n",
      "        xlabs = [\"%d.%s\"%tuple(p) if p[1]!=' ' else \"%d\"%p[0] for p in pos] # generate seqid.icode residue labels\n",
      "        sns.boxplot(dat,ax=axes[i],fliersize=0,names=xlabs)\n",
      "\n",
      "        # Now all of the observed values\n",
      "        dft    = df[(df.model==int(chain[:-1])) & (df.chain==chain[-1]) & (df.seqid>=minseq[i]) & (df.seqid<=maxseq[i])]\n",
      "        cdict  = {np.nan:'blue',0:'blue',1:'red'} # Significance coloring\n",
      "        wcdict = {np.nan:'black',0:'black',1:'red'}\n",
      "        xpos = [pos.index(tuple(r[1]))+1 for r in dft[['seqid','icode']].iterrows()]\n",
      "        axes[i].scatter(xpos,dft[wmetric],color=[wcdict[x<0.05] for x in dft[wpvalue]],linewidths=2,marker='x',s=150,zorder=2)\n",
      "        axes[i].scatter(xpos,dft[metric],color=[cdict[x<0.05] for x in dft[pvalue]],marker='o',s=75,zorder=3)\n",
      "        stat  = metric.split('_')[-1][:-4]\n",
      "        statp = stat+'p'\n",
      "        axes[i].set_title(\"Observed Sphere Values in Permutation Context\\n %s[%d].%s Fst (%s) ALLPOP\"%(structid,biounit,chain,stat),fontsize=15)\n",
      "        plt.setp(axes[i].get_xticklabels(), rotation=40, horizontalalignment='right')\n",
      "        plt.tight_layout()"
     ],
     "language": "python",
     "metadata": {},
     "outputs": [],
     "prompt_number": 319
    },
    {
     "cell_type": "code",
     "collapsed": false,
     "input": [
      "chain_plot(\"allpop_fst\",df,npz,header)"
     ],
     "language": "python",
     "metadata": {},
     "outputs": []
    },
    {
     "cell_type": "code",
     "collapsed": false,
     "input": [],
     "language": "python",
     "metadata": {},
     "outputs": [],
     "prompt_number": 166
    }
   ],
   "metadata": {}
  }
 ]
}