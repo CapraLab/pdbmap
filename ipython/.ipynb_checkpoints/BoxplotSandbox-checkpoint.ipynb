{
 "metadata": {
  "name": "",
  "signature": "sha256:0e52a38ebbe5a604301a8f297002eeb86754ca16ba8d7a3553564479152420d6"
 },
 "nbformat": 3,
 "nbformat_minor": 0,
 "worksheets": [
  {
   "cells": [
    {
     "cell_type": "code",
     "collapsed": false,
     "input": [
      "# Load libraries\n",
      "%matplotlib inline\n",
      "import gzip\n",
      "import numpy as np\n",
      "from numpy.random import randn\n",
      "import pandas as pd\n",
      "from scipy import stats\n",
      "import matplotlib as mpl\n",
      "import matplotlib.pyplot as plt\n",
      "import seaborn as sns\n",
      "import matplotlib.patches as mpatches"
     ],
     "language": "python",
     "metadata": {},
     "outputs": [],
     "prompt_number": 63
    },
    {
     "cell_type": "code",
     "collapsed": false,
     "input": [
      "# Ensure that we are in the main pdbmap directory and not a subdirectory or elsewhere\n",
      "%cd ../../pdbmap"
     ],
     "language": "python",
     "metadata": {},
     "outputs": [
      {
       "output_type": "stream",
       "stream": "stdout",
       "text": [
        "[Errno 2] No such file or directory: '../../pdbmap'\n",
        "/Users/mikesivley/pdbmap\n"
       ]
      }
     ],
     "prompt_number": 64
    },
    {
     "cell_type": "code",
     "collapsed": false,
     "input": [
      "# Biological unit specification\n",
      "structid = \"2NSM\"\n",
      "biounit  = 1"
     ],
     "language": "python",
     "metadata": {},
     "outputs": [],
     "prompt_number": 65
    },
    {
     "cell_type": "code",
     "collapsed": false,
     "input": [
      "# Load the results file into a pandas data frame\n",
      "results_fname = 'results/sliding_sphere_10/split/obs/bystruct/sliding_sphere_%s-%d.txt.gz'%(structid,biounit)\n",
      "with gzip.open(results_fname,'rb') as obs_fin:\n",
      "    header = obs_fin.readline().split('\\t')\n",
      "with gzip.open(results_fname,'rb') as obs_fin:\n",
      "    df = pd.read_table(obs_fin,delimiter='\\t')"
     ],
     "language": "python",
     "metadata": {},
     "outputs": [],
     "prompt_number": 66
    },
    {
     "cell_type": "code",
     "collapsed": false,
     "input": [
      "with gzip.open('results/sliding_sphere_10/split/perm/bystruct/sliding_sphere_perm_%s-%d.txt.gz'%(structid,biounit),'rb') as fin:\n",
      "    mat = np.load(fin)\n",
      "print mat.shape"
     ],
     "language": "python",
     "metadata": {},
     "outputs": [
      {
       "output_type": "stream",
       "stream": "stdout",
       "text": [
        "(392, 68, 6)\n"
       ]
      }
     ],
     "prompt_number": 69
    },
    {
     "cell_type": "code",
     "collapsed": false,
     "input": [
      "# Convenient sets of column names\n",
      "count_cols    = ['amr_count','asn_count','eur_count','afr_count']\n",
      "cdaf_cols     = ['amr_cdaf','asn_cdaf', 'eur_cdaf', 'afr_cdaf']\n",
      "sumddaf_cols  = ['amr_asn_sumddaf', 'amr_eur_sumddaf', 'amr_afr_sumddaf', 'asn_eur_sumddaf', 'asn_afr_sumddaf', 'eur_afr_sumddaf']\n",
      "meanddaf_cols = ['amr_asn_meanddaf','amr_eur_meanddaf','amr_afr_meanddaf','asn_eur_meanddaf','asn_afr_meanddaf','eur_afr_meanddaf']\n",
      "minddaf_cols  = ['amr_asn_minddaf', 'amr_eur_minddaf', 'amr_afr_minddaf', 'asn_eur_minddaf', 'asn_afr_minddaf', 'eur_afr_minddaf']\n",
      "maxddaf_cols  = ['amr_asn_maxddaf', 'amr_eur_maxddaf', 'amr_afr_maxddaf', 'asn_eur_maxddaf', 'asn_afr_maxddaf', 'eur_afr_maxddaf']\n",
      "nest_cols     = [count_cols,cdaf_cols,sumddaf_cols,meanddaf_cols,minddaf_cols,maxddaf_cols]\n",
      "count_pval_cols    = ['amr_count_pval','asn_count_pval','eur_count_pval','afr_count_pval']\n",
      "cdaf_pval_cols     = ['amr_cdaf_pval','asn_cdaf_pval', 'eur_cdaf_pval', 'afr_cdaf_pval']\n",
      "sumddaf_pval_cols  = ['amr_asn_sumddaf_pval', 'amr_eur_sumddaf_pval', 'amr_afr_sumddaf_pval', 'asn_eur_sumddaf_pval', 'asn_afr_sumddaf_pval', 'eur_afr_sumddaf_pval']\n",
      "meanddaf_pval_cols = ['amr_asn_meanddaf_pval','amr_eur_meanddaf_pval','amr_afr_meanddaf_pval','asn_eur_meanddaf_pval','asn_afr_meanddaf_pval','eur_afr_meanddaf_pval']\n",
      "minddaf_pval_cols  = ['amr_asn_minddaf_pval', 'amr_eur_minddaf_pval', 'amr_afr_minddaf_pval', 'asn_eur_minddaf_pval', 'asn_afr_minddaf_pval', 'eur_afr_minddaf_pval']\n",
      "maxddaf_pval_cols  = ['amr_asn_maxddaf_pval', 'amr_eur_maxddaf_pval', 'amr_afr_maxddaf_pval', 'asn_eur_maxddaf_pval', 'asn_afr_maxddaf_pval', 'eur_afr_maxddaf_pval']\n",
      "nest_pval_cols     = [count_pval_cols,cdaf_pval_cols,sumddaf_pval_cols,meanddaf_pval_cols,minddaf_pval_cols,maxddaf_pval_cols]\n",
      "nest_all = [nest_cols,nest_pval_cols]"
     ],
     "language": "python",
     "metadata": {},
     "outputs": [],
     "prompt_number": 57
    },
    {
     "cell_type": "code",
     "collapsed": false,
     "input": [
      "usechain = df.chain.unique()\n",
      "minseqid = df.seqid.min()\n",
      "maxseqid = df.seqid.max()\n",
      "print usechain,minseqid,maxseqid"
     ],
     "language": "python",
     "metadata": {},
     "outputs": [
      {
       "output_type": "stream",
       "stream": "stdout",
       "text": [
        "['A'] 1 398\n"
       ]
      }
     ],
     "prompt_number": 56
    },
    {
     "cell_type": "code",
     "collapsed": false,
     "input": [
      "fig, axes = plt.subplots(2,figsize=(MAXSEQ/4,20))\n",
      "ax = axes[0]\n",
      "bp = ax.boxplot([np.random.random(10) for i in range(minseqid,maxseqid-300)],positions=range(minseqid,maxseqid-300))\n",
      "metric = 37 # eur_afr_meanddaf\n",
      "for i,median in enumerate(bp['medians']):\n",
      "    median.set_ydata(mat[i,metric,2])\n",
      "for i,box in enumerate(bp['boxes']):\n",
      "    box.set_xy[[0,1,4],1] = mat[i,matrix,1]\n",
      "    box.set_xy[[2,3],1] = mat[i,matrix,3]"
     ],
     "language": "python",
     "metadata": {},
     "outputs": [
      {
       "ename": "IndentationError",
       "evalue": "unexpected indent (<ipython-input-82-ecf6c572113a>, line 9)",
       "output_type": "pyerr",
       "traceback": [
        "\u001b[0;36m  File \u001b[0;32m\"<ipython-input-82-ecf6c572113a>\"\u001b[0;36m, line \u001b[0;32m9\u001b[0m\n\u001b[0;31m    box.set_xy[[0,1,4],1] = mat[i,matrix,1]\u001b[0m\n\u001b[0m    ^\u001b[0m\n\u001b[0;31mIndentationError\u001b[0m\u001b[0;31m:\u001b[0m unexpected indent\n"
       ]
      }
     ],
     "prompt_number": 82
    },
    {
     "cell_type": "code",
     "collapsed": false,
     "input": [],
     "language": "python",
     "metadata": {},
     "outputs": []
    }
   ],
   "metadata": {}
  }
 ]
}