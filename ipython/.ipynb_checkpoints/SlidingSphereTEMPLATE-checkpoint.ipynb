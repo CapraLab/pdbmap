{
 "metadata": {
  "name": "",
  "signature": "sha256:ab967b5d3a477daef728c162677bde34a8865fef672700a2043f8c5bdd2da36e"
 },
 "nbformat": 3,
 "nbformat_minor": 0,
 "worksheets": [
  {
   "cells": [
    {
     "cell_type": "code",
     "collapsed": false,
     "input": [
      "# Ensure that we are in the main pdbmap directory and not a subdirectory or elsewhere\n",
      "%cd ../../pdbmap"
     ],
     "language": "python",
     "metadata": {},
     "outputs": []
    },
    {
     "cell_type": "code",
     "collapsed": false,
     "input": [
      "# Load libraries\n",
      "%matplotlib inline\n",
      "import gzip\n",
      "import numpy as np\n",
      "from numpy.random import randn\n",
      "import pandas as pd\n",
      "from scipy import stats\n",
      "import matplotlib as mpl\n",
      "import matplotlib.pyplot as plt\n",
      "import seaborn as sns\n",
      "import matplotlib.patches as mpatches\n",
      "pd.set_option('display.max_columns', 500)"
     ],
     "language": "python",
     "metadata": {},
     "outputs": []
    },
    {
     "cell_type": "code",
     "collapsed": false,
     "input": [
      "# Biological unit specification\n",
      "structid = \"\"\n",
      "biounit  = 1"
     ],
     "language": "python",
     "metadata": {},
     "outputs": []
    },
    {
     "cell_type": "code",
     "collapsed": false,
     "input": [
      "# Load the results file into a pandas data frame\n",
      "results_fname = 'results/sliding_sphere_10/split/obs/bystruct/sliding_sphere_%s-%d.txt.gz'%(structid,biounit)\n",
      "with gzip.open(results_fname,'rb') as obs_fin:\n",
      "    header = obs_fin.readline().split('\\t')\n",
      "with gzip.open(results_fname,'rb') as obs_fin:\n",
      "    df = pd.read_table(obs_fin,delimiter='\\t')\n",
      "    df.drop_duplicates(['x','y','z'],inplace=True)"
     ],
     "language": "python",
     "metadata": {},
     "outputs": []
    },
    {
     "cell_type": "code",
     "collapsed": false,
     "input": [
      "# for i,col in enumerate(df.columns):\n",
      "#     print i,col"
     ],
     "language": "python",
     "metadata": {},
     "outputs": []
    },
    {
     "cell_type": "code",
     "collapsed": false,
     "input": [
      "# Convenient sets of column names\n",
      "count_cols    = ['amr_count','asn_count','eur_count','afr_count']\n",
      "cdaf_cols     = ['amr_cdaf','asn_cdaf', 'eur_cdaf', 'afr_cdaf']\n",
      "sumddaf_cols  = ['amr_asn_sumddaf', 'amr_eur_sumddaf', 'amr_afr_sumddaf', 'asn_eur_sumddaf', 'asn_afr_sumddaf', 'eur_afr_sumddaf']\n",
      "meanddaf_cols = ['amr_asn_meanddaf','amr_eur_meanddaf','amr_afr_meanddaf','asn_eur_meanddaf','asn_afr_meanddaf','eur_afr_meanddaf']\n",
      "minddaf_cols  = ['amr_asn_minddaf', 'amr_eur_minddaf', 'amr_afr_minddaf', 'asn_eur_minddaf', 'asn_afr_minddaf', 'eur_afr_minddaf']\n",
      "maxddaf_cols  = ['amr_asn_maxddaf', 'amr_eur_maxddaf', 'amr_afr_maxddaf', 'asn_eur_maxddaf', 'asn_afr_maxddaf', 'eur_afr_maxddaf']\n",
      "nest_cols     = [count_cols,cdaf_cols,sumddaf_cols,meanddaf_cols,minddaf_cols,maxddaf_cols]\n",
      "count_pval_cols    = ['amr_count_pval','asn_count_pval','eur_count_pval','afr_count_pval']\n",
      "cdaf_pval_cols     = ['amr_cdaf_pval','asn_cdaf_pval', 'eur_cdaf_pval', 'afr_cdaf_pval']\n",
      "sumddaf_pval_cols  = ['amr_asn_sumddaf_pval', 'amr_eur_sumddaf_pval', 'amr_afr_sumddaf_pval', 'asn_eur_sumddaf_pval', 'asn_afr_sumddaf_pval', 'eur_afr_sumddaf_pval']\n",
      "meanddaf_pval_cols = ['amr_asn_meanddaf_pval','amr_eur_meanddaf_pval','amr_afr_meanddaf_pval','asn_eur_meanddaf_pval','asn_afr_meanddaf_pval','eur_afr_meanddaf_pval']\n",
      "minddaf_pval_cols  = ['amr_asn_minddaf_pval', 'amr_eur_minddaf_pval', 'amr_afr_minddaf_pval', 'asn_eur_minddaf_pval', 'asn_afr_minddaf_pval', 'eur_afr_minddaf_pval']\n",
      "maxddaf_pval_cols  = ['amr_asn_maxddaf_pval', 'amr_eur_maxddaf_pval', 'amr_afr_maxddaf_pval', 'asn_eur_maxddaf_pval', 'asn_afr_maxddaf_pval', 'eur_afr_maxddaf_pval']\n",
      "nest_pval_cols     = [count_pval_cols,cdaf_pval_cols,sumddaf_pval_cols,meanddaf_pval_cols,minddaf_pval_cols,maxddaf_pval_cols]\n",
      "nest_all = [nest_cols,nest_pval_cols]"
     ],
     "language": "python",
     "metadata": {},
     "outputs": []
    },
    {
     "cell_type": "code",
     "collapsed": false,
     "input": [
      "# Summary boxplots of observed values for count, cDAF, or \u0394DAF statistic, stratified by population\n",
      "for colset in nest_cols:\n",
      "    plt.figure(figsize=(15,6))\n",
      "    sns.set_style(\"whitegrid\")\n",
      "    sns.set_palette(\"hls\")\n",
      "    sns.boxplot(df.ix[:,colset])\n",
      "    plt.tight_layout()\n",
      "    plt.show()"
     ],
     "language": "python",
     "metadata": {},
     "outputs": []
    },
    {
     "cell_type": "code",
     "collapsed": false,
     "input": [
      "# Summary boxplots of pvalues for count, cDAF, or \u0394DAF statistic, stratified by population\n",
      "for colset in nest_pval_cols:\n",
      "    plt.figure(figsize=(15,6))\n",
      "    sns.set_style(\"whitegrid\")\n",
      "    sns.set_palette(\"hls\")\n",
      "    sns.boxplot(-np.log10(df.ix[:,colset]))\n",
      "    plt.hlines(2,0,10,'red',linestyles='dotted')\n",
      "    plt.hlines(1.3,0,10,'blue',linestyles='dotted')\n",
      "    plt.tight_layout()\n",
      "    plt.show()"
     ],
     "language": "python",
     "metadata": {},
     "outputs": []
    },
    {
     "cell_type": "code",
     "collapsed": false,
     "input": [
      "# Load the permutation file into a pandas data frame\n",
      "perm_fname = 'results/sliding_sphere_10/split/perm/bystruct/sliding_sphere_perm_%s-%d.txt.gz'%(structid,biounit)\n",
      "with gzip.open(perm_fname,'rb') as perm_fin:\n",
      "    dfp = pd.read_table(perm_fin,delimiter='\\t',header=0)"
     ],
     "language": "python",
     "metadata": {},
     "outputs": []
    },
    {
     "cell_type": "code",
     "collapsed": false,
     "input": [
      "usechain = df.chain.unique()\n",
      "usechain.sort()\n",
      "minseqid = df.seqid.min()\n",
      "maxseqid = df.seqid.max()\n",
      "print usechain,minseqid,maxseqid"
     ],
     "language": "python",
     "metadata": {},
     "outputs": []
    },
    {
     "cell_type": "code",
     "collapsed": false,
     "input": [
      "MINSEQ = minseqid\n",
      "MAXSEQ = maxseqid\n",
      "CHAIN  = usechain\n",
      "METRIC = 'eur_afr_meanddaf'\n",
      "PVALUE = 'eur_afr_meanddaf_pval'\n",
      "fig, axes = plt.subplots(len(CHAIN),figsize=(MAXSEQ/4,20))\n",
      "for i,chain in enumerate(CHAIN):\n",
      "    # For each residue in the sequence, show the permutation boxplot and observed value\n",
      "    dft   = df[(df.chain==chain) & (df.seqid>=MINSEQ) & (df.seqid<=MAXSEQ)]\n",
      "    dfpt  = dfp[(dfp.chain==chain) & (df.seqid>=MINSEQ) & (dfp.seqid<=MAXSEQ)]\n",
      "    cdict = {0:'blue',1:'red'} # Significance coloring\n",
      "    sns.boxplot(dfpt[METRIC],groupby=dfpt.seqid,ax=axes[i])\n",
      "    axes[i].scatter(dft.seqid-MINSEQ,dft[METRIC],color=[cdict[x<0.05] for x in dft[PVALUE]],marker='o',s=75)\n",
      "    stat  = METRIC.split('_')[-1][:-4]\n",
      "    statp = stat+'p'\n",
      "    axes[i].set_title(\"Observed Sphere Values in Permutation Context\\n %s[%d].%s deltaDAF (%s) EUR vs AFR\"%(structid,biounit,chain,stat),fontsize=15)\n",
      "    # Generate Chimera attribute files\n",
      "    with open(\"temp/%s-%d_%s.attr\"%(structid,biounit,stat),'wb') as fout:\n",
      "        fout.write(\"attribute: %s\\nmatch mode: 1-to-1\\nrecipient: residues\\n\\n\"%stat)\n",
      "        for _,row in df[['chain','seqid',METRIC]].iterrows():\n",
      "            fout.write(\"\\t:%d.%s\\t%.6f\\n\"%(row[1],row[0],row[2]))\n",
      "    with open(\"temp/%s-%d_%s.attr\"%(structid,biounit,statp),'wb') as fout:\n",
      "        fout.write(\"attribute: %s\\nmatch mode: 1-to-1\\nrecipient: residues\\n\\n\"%statp)\n",
      "        for _,row in df[['chain','seqid',METRIC]].iterrows():\n",
      "            fout.write(\"\\t:%d.%s\\t%.6f\\n\"%(row[1],row[0],row[2]))\n",
      "plt.tight_layout()\n",
      "savefig('temp/deltaDAF_Distribution_%s-%d.pdf'%(structid,biounit))"
     ],
     "language": "python",
     "metadata": {},
     "outputs": []
    },
    {
     "cell_type": "code",
     "collapsed": false,
     "input": [
      "MINSEQ = minseqid\n",
      "MAXSEQ = maxseqid\n",
      "CHAIN  = usechain\n",
      "METRIC = 'eur_afr_sumddaf'\n",
      "PVALUE = 'eur_afr_sumddaf_pval'\n",
      "fig, axes = plt.subplots(len(CHAIN),figsize=(MAXSEQ/4,20))\n",
      "for i,chain in enumerate(CHAIN):\n",
      "    # For each residue in the sequence, show the permutation boxplot and observed value\n",
      "    dft   = df[(df.chain==chain) & (df.seqid>=MINSEQ) & (df.seqid<=MAXSEQ)]\n",
      "    dfpt  = dfp[(dfp.chain==chain) & (df.seqid>=MINSEQ) & (dfp.seqid<=MAXSEQ)]\n",
      "    cdict = {0:'blue',1:'red'} # Significance coloring\n",
      "    sns.boxplot(dfpt[METRIC],groupby=dfpt.seqid,ax=axes[i])\n",
      "    axes[i].scatter(dft.seqid-MINSEQ,dft[METRIC],color=[cdict[x<0.05] for x in dft[PVALUE]],marker='o',s=75)\n",
      "    stat  = METRIC.split('_')[-1][:-4]\n",
      "    statp = stat+'p'\n",
      "    axes[i].set_title(\"Observed Sphere Values in Permutation Context\\n %s[%d].%s deltaDAF (%s) EUR vs AFR\"%(structid,biounit,chain,stat),fontsize=15)\n",
      "    # Generate Chimera attribute files\n",
      "    with open(\"temp/%s-%d_%s.attr\"%(structid,biounit,stat),'wb') as fout:\n",
      "        fout.write(\"attribute: %s\\nmatch mode: 1-to-1\\nrecipient: residues\\n\\n\"%stat)\n",
      "        for _,row in df[['chain','seqid',METRIC]].iterrows():\n",
      "            fout.write(\"\\t:%d.%s\\t%.6f\\n\"%(row[1],row[0],row[2]))\n",
      "    with open(\"temp/%s-%d_%s.attr\"%(structid,biounit,statp),'wb') as fout:\n",
      "        fout.write(\"attribute: %s\\nmatch mode: 1-to-1\\nrecipient: residues\\n\\n\"%statp)\n",
      "        for _,row in df[['chain','seqid',METRIC]].iterrows():\n",
      "            fout.write(\"\\t:%d.%s\\t%.6f\\n\"%(row[1],row[0],row[2]))\n",
      "plt.tight_layout()\n",
      "savefig('temp/deltaDAF_Distribution_%s-%d.pdf'%(structid,biounit))"
     ],
     "language": "python",
     "metadata": {},
     "outputs": []
    },
    {
     "cell_type": "code",
     "collapsed": false,
     "input": [],
     "language": "python",
     "metadata": {},
     "outputs": []
    }
   ],
   "metadata": {}
  }
 ]
}