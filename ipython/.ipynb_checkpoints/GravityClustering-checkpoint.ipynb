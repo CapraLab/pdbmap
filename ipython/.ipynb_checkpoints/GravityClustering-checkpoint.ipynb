{
 "metadata": {
  "name": "",
  "signature": "sha256:8a63a82e6400110bd9cde56849bc312630105462496ba3e8e54df9f4ceea1bd8"
 },
 "nbformat": 3,
 "nbformat_minor": 0,
 "worksheets": [
  {
   "cells": [
    {
     "cell_type": "code",
     "collapsed": false,
     "input": [
      "from scipy.constants import G\n",
      "import numpy as np\n",
      "def gforce(coord1,coord2,M=0.5,m=0.5):\n",
      "    x1,y1,z1 = coord1\n",
      "    x2,y2,z2 = coord2\n",
      "    r    = np.array([x2-x1,y2-y1,z2-z1])\n",
      "    dist = np.sqrt(np.sum([d**2 for d in r]))\n",
      "    fx,fy,fz = r * ((G * M * m) / dist)\n",
      "    return fx,fy,fz"
     ],
     "language": "python",
     "metadata": {},
     "outputs": [],
     "prompt_number": 1
    },
    {
     "cell_type": "code",
     "collapsed": false,
     "input": [
      "gforce((1,1,1),(5,5,5))"
     ],
     "language": "python",
     "metadata": {},
     "outputs": [
      {
       "metadata": {},
       "output_type": "pyout",
       "prompt_number": 2,
       "text": [
        "(9.6328583013212308e-12, 9.6328583013212308e-12, 9.6328583013212308e-12)"
       ]
      }
     ],
     "prompt_number": 2
    },
    {
     "cell_type": "code",
     "collapsed": false,
     "input": [
      "import pandas as pd\n",
      "# I'd like to represent the variants dataframe/matrix\n",
      "# as a boolean mask over the residues dataframe/matrix\n",
      "# It would work just as well to include a boolean column indicating variability\n",
      "# or a numeric column indicating allele frequency\n",
      "variants = pd.read_table('../temp/1pjl_1kg_vars.txt',delimiter='\\t')\n",
      "variants.set_index('model','chain','seqid')\n",
      "variants = variants[['x','y','z']]\n",
      "residues = pd.read_table('../temp/1pjl_1kg_resis.txt',delimiter='\\t')\n",
      "residues.set_index('model','chain','seqid')\n",
      "residues = residues[['x','y','z']]"
     ],
     "language": "python",
     "metadata": {},
     "outputs": [],
     "prompt_number": 51
    },
    {
     "cell_type": "code",
     "collapsed": false,
     "input": [
      "print variants.describe()\n",
      "print residues.describe()"
     ],
     "language": "python",
     "metadata": {},
     "outputs": [
      {
       "output_type": "stream",
       "stream": "stdout",
       "text": [
        "               x          y          z\n",
        "count  52.000000  52.000000  52.000000\n",
        "mean   -0.080572   0.117427  -0.260161\n",
        "std    34.606940  18.800810  38.222671\n",
        "min   -61.268501 -35.325874 -62.177120\n",
        "25%   -27.343813 -15.778085 -31.398500\n",
        "50%    -1.993643  -1.487786   2.406257\n",
        "75%    31.254025  15.710995  33.611062\n",
        "max    62.477001  36.752876  61.924496\n",
        "                 x            y            z\n",
        "count  2148.000000  2148.000000  2148.000000\n",
        "mean     -0.107923     0.297290    -0.157200\n",
        "std      29.966003    15.723731    30.802835\n",
        "min     -70.085999   -42.393444   -71.940666\n",
        "25%     -23.526398   -11.474182   -24.366232\n",
        "50%      -1.118945     0.258050     0.674900\n",
        "75%      22.350488    11.942626    23.782424\n",
        "max      69.315887    44.676777    65.678116\n"
       ]
      }
     ],
     "prompt_number": 120
    },
    {
     "cell_type": "raw",
     "metadata": {},
     "source": []
    },
    {
     "cell_type": "code",
     "collapsed": false,
     "input": [
      "def structural_gforce(residues,variants):\n",
      "    numres = len(residues)\n",
      "    numvar = len(variants)\n",
      "    return np.array([np.sum([gforce(r,v) for j,v in variants.iterrows()],axis=0) for i,r in residues.iterrows()],dtype=np.float64)"
     ],
     "language": "python",
     "metadata": {},
     "outputs": [],
     "prompt_number": 167
    },
    {
     "cell_type": "code",
     "collapsed": false,
     "input": [
      "gmat = structural_gforce(residues,variants)\n",
      "gmat *= 1e10\n",
      "print gmat"
     ],
     "language": "python",
     "metadata": {},
     "outputs": [
      {
       "output_type": "stream",
       "stream": "stdout",
       "text": [
        "[[ 7.02848563  0.31757474 -0.81841032]\n",
        " [ 6.95654329 -0.10310199 -1.07045155]\n",
        " [ 6.81348301 -0.4150285  -0.87076304]\n",
        " ..., \n",
        " [-6.90273882 -1.04363431  1.48890002]\n",
        " [-6.82506476  1.18522062  2.6758965 ]\n",
        " [-6.75052075  1.38629578  3.06436018]]\n"
       ]
      }
     ],
     "prompt_number": 168
    },
    {
     "cell_type": "code",
     "collapsed": false,
     "input": [
      "gmat = structural_gforce(residues,variants)\n",
      "gmat *= 1e10\n",
      "print gmat"
     ],
     "language": "python",
     "metadata": {},
     "outputs": [
      {
       "output_type": "stream",
       "stream": "stdout",
       "text": [
        "[ 0.46309762  0.43875467  0.42616439 ..., -0.36057752 -0.23600543\n",
        " -0.21732959]\n"
       ]
      }
     ],
     "prompt_number": 159
    },
    {
     "cell_type": "code",
     "collapsed": false,
     "input": [
      "def structure_reduce(residues,gmat):\n",
      "    # Apply the gravitational force vector to reach residue\n",
      "    return residues + gmat"
     ],
     "language": "python",
     "metadata": {},
     "outputs": [],
     "prompt_number": 191
    },
    {
     "cell_type": "code",
     "collapsed": false,
     "input": [
      "print residues.describe()\n",
      "# print variants.describe()\n",
      "residues,variants = structure_reduce(residues,variants,gmat)\n",
      "print residues.describe()\n",
      "# print variants.describe()"
     ],
     "language": "python",
     "metadata": {},
     "outputs": [
      {
       "output_type": "stream",
       "stream": "stdout",
       "text": [
        "                 x            y            z\n",
        "count  2096.000000  2096.000000  2096.000000\n",
        "mean     -0.084902     0.162221    -0.305433\n",
        "std       6.761449     2.688544     6.898813\n",
        "min     -14.654242    -7.131601   -17.113486\n",
        "25%      -5.377207    -1.638780    -5.593270\n",
        "50%      -0.233239     0.037156    -0.225072\n",
        "75%       4.836642     1.882699     5.023293\n",
        "max      15.909196     7.935954    15.573399\n",
        "                 x            y            z\n",
        "count  2096.000000  2096.000000  2096.000000\n",
        "mean     -0.085041     0.160641    -0.312135\n",
        "std       6.035823     2.349568     6.104045\n",
        "min     -13.024609    -6.137082   -15.215389\n",
        "25%      -4.807918    -1.404364    -4.973759\n",
        "50%      -0.211119     0.057169    -0.250303\n",
        "75%       4.324905     1.623927     4.393044\n",
        "max      14.152356     6.926699    13.802767\n"
       ]
      }
     ],
     "prompt_number": 150
    },
    {
     "cell_type": "code",
     "collapsed": false,
     "input": [
      "%matplotlib inline\n",
      "import matplotlib.pyplot as plt\n",
      "import time\n",
      "\n",
      "# Read clean copied of the data\n",
      "pdb   = pd.read_table('../temp/1pjl_1kg.txt',delimiter='\\t')\n",
      "# Create two views of pdb for residues and variants\n",
      "variants = pdb[pdb['var'] == 1][['x','y','z']]\n",
      "residues = pdb[['x','y','z']]\n",
      "\n",
      "# Define an equivalence tolerance\n",
      "etol,cur_iter,max_iter = 1.0,1,51\n",
      "\n",
      "# Apply force, recompute, continue until convergence\n",
      "while cur_iter < max_iter:\n",
      "    t0 = time.time()\n",
      "    # Compute the graviational force matrix\n",
      "    gmat = structural_gforce(residues,variants) * (1e10/(cur_iter*5))\n",
      "    t1 = time.time()\n",
      "    # Apply the gravitational force matrix to the residue matrix\n",
      "    residues = structure_reduce(residues,gmat)\n",
      "    t2 = time.time()\n",
      "    print 'Iteration #%d'%cur_iter\n",
      "    # Increment the iterator\n",
      "    cur_iter += 1\n",
      "\n",
      "# Print the final results\n",
      "if cur_iter < max_iter:\n",
      "    print \"Convergence reached after %d iterations\"%cur_iter\n",
      "else:\n",
      "    print \"Maximum iterations (%d) reached\"%max_iter\n",
      "print \"Final residue matrix:\"\n",
      "print residues\n",
      "print \"Gravitational force matrix:\"\n",
      "print gmat\n"
     ],
     "language": "python",
     "metadata": {},
     "outputs": [
      {
       "output_type": "stream",
       "stream": "stdout",
       "text": [
        "Iteration #1\n",
        "Iteration #2"
       ]
      },
      {
       "output_type": "stream",
       "stream": "stdout",
       "text": [
        "\n",
        "Iteration #3"
       ]
      },
      {
       "output_type": "stream",
       "stream": "stdout",
       "text": [
        "\n",
        "Iteration #4"
       ]
      },
      {
       "output_type": "stream",
       "stream": "stdout",
       "text": [
        "\n",
        "Iteration #5"
       ]
      },
      {
       "output_type": "stream",
       "stream": "stdout",
       "text": [
        "\n",
        "Iteration #6"
       ]
      }
     ]
    },
    {
     "cell_type": "code",
     "collapsed": false,
     "input": [],
     "language": "python",
     "metadata": {},
     "outputs": []
    }
   ],
   "metadata": {}
  }
 ]
}