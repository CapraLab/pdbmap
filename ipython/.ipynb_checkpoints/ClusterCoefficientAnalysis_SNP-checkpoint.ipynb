{
 "metadata": {
  "name": "",
  "signature": "sha256:be4f9c4cf30dfe410e0dbf062fe795e952740918f20f80ed0b542929c18c3ae2"
 },
 "nbformat": 3,
 "nbformat_minor": 0,
 "worksheets": [
  {
   "cells": [
    {
     "cell_type": "code",
     "collapsed": false,
     "input": [
      "%cd ../results/cluster_coefficient_1kg"
     ],
     "language": "python",
     "metadata": {},
     "outputs": [
      {
       "output_type": "stream",
       "stream": "stdout",
       "text": [
        "/Volumes/sivleyrm/projects/pdbmap/results/cluster_coefficient_1kg\n"
       ]
      }
     ],
     "prompt_number": 4
    },
    {
     "cell_type": "code",
     "collapsed": false,
     "input": [
      "# Imports, configurations, and initializations\n",
      "from pandas import DataFrame,read_table\n",
      "import pandas as pd\n",
      "import numpy as np\n",
      "# Import and initiailize matplotlib parameters\n",
      "%matplotlib inline\n",
      "import matplotlib.pylab as plt\n",
      "import matplotlib as mpl\n",
      "mpl.rcParams.update({'font.size': 16, 'font.family': 'serif'})"
     ],
     "language": "python",
     "metadata": {},
     "outputs": [],
     "prompt_number": 5
    },
    {
     "cell_type": "code",
     "collapsed": false,
     "input": [
      "df = read_table('1kg_pairwise_coefficients.txt',header=None,sep='\\t',error_bad_lines=False,\n",
      "                names=[\"type\",\"structid\",\"biounit\",\"name\",\"maf\",\"ipd\",\"nipd\"])\n",
      "print df.describe()\n",
      "print df.dtypes"
     ],
     "language": "python",
     "metadata": {},
     "outputs": [
      {
       "output_type": "stream",
       "stream": "stdout",
       "text": [
        "             biounit           maf            ipd           nipd\n",
        "count  755325.000000  755325.00000  755325.000000  755325.000000\n",
        "mean        0.549984       0.01991       0.305609       0.003299\n",
        "std         0.998679       0.09629       0.519547       0.006976\n",
        "min         0.000000       0.00000       0.000000       0.000000\n",
        "25%         0.000000       0.00050       0.058979       0.000263\n",
        "50%         0.000000       0.00050       0.179422       0.001116\n",
        "75%         1.000000       0.00180       0.389925       0.003277\n",
        "max         9.000000       1.00000      12.365570       0.161900\n",
        "type         object\n",
        "structid     object\n",
        "biounit       int64\n",
        "name         object\n",
        "maf         float64\n",
        "ipd         float64\n",
        "nipd        float64\n",
        "dtype: object"
       ]
      },
      {
       "output_type": "stream",
       "stream": "stdout",
       "text": [
        "\n"
       ]
      }
     ],
     "prompt_number": 6
    },
    {
     "cell_type": "code",
     "collapsed": false,
     "input": [
      "# Test for overall correlation between (normalized) inverse pairwise distance and minor allele frequency\n",
      "print np.corrcoef([df.maf,df.ipd,df.nipd])"
     ],
     "language": "python",
     "metadata": {},
     "outputs": [
      {
       "output_type": "stream",
       "stream": "stdout",
       "text": [
        "[[ 1.          0.01184169 -0.00773591]\n",
        " [ 0.01184169  1.         -0.079825  ]\n",
        " [-0.00773591 -0.079825    1.        ]]\n"
       ]
      }
     ],
     "prompt_number": 8
    },
    {
     "cell_type": "code",
     "collapsed": false,
     "input": [
      "df = read_table('1kg_silhouette_coefficients.txt',header=None,sep='\\t',error_bad_lines=False,\n",
      "                names=[\"type\",\"structid\",\"biounit\",\"name\",\"maf\",\"eps\",\"clustered\",\"silhouette\"])\n",
      "print \"# NaN (eps):\",len(df[np.isnan(df.eps)])\n",
      "df = df[~np.isnan(df.eps)]\n",
      "print \"# NaN (sil):\",len(df[np.isnan(df.silhouette)])\n",
      "df = df[~np.isnan(df.silhouette)]\n",
      "print \"# Inf:\",len(df[np.isinf(df.silhouette)])\n",
      "df = df[~np.isinf(df.silhouette)]\n",
      "print \"# Valid:\",len(df)\n",
      "print df.describe()\n",
      "print df.dtypes"
     ],
     "language": "python",
     "metadata": {},
     "outputs": [
      {
       "output_type": "stream",
       "stream": "stdout",
       "text": [
        "# NaN (eps): "
       ]
      },
      {
       "output_type": "stream",
       "stream": "stdout",
       "text": [
        "143512\n",
        "# NaN (sil):"
       ]
      },
      {
       "output_type": "stream",
       "stream": "stdout",
       "text": [
        " 0\n",
        "# Inf:"
       ]
      },
      {
       "output_type": "stream",
       "stream": "stdout",
       "text": [
        " 834870\n",
        "# Valid:"
       ]
      },
      {
       "output_type": "stream",
       "stream": "stdout",
       "text": [
        " 2042918\n",
        "             biounit             maf             eps       clustered  \\\n",
        "count  2042918.00000  2042918.000000  2042918.000000  2042918.000000   \n",
        "mean         0.62632        0.019834       11.702516        0.463257   \n",
        "std          1.03930        0.095951        5.384748        0.498648   \n",
        "min          0.00000        0.000000        5.000000        0.000000   \n",
        "25%          0.00000        0.000500        5.000000        0.000000   \n",
        "50%          0.00000        0.000500       10.000000        0.000000   \n",
        "75%          1.00000        0.001800       15.000000        1.000000   \n",
        "max          9.00000        1.000000       20.000000        1.000000   \n",
        "\n",
        "           silhouette  \n",
        "count  2042918.000000  \n",
        "mean        -0.144447  \n",
        "std          0.649032  \n",
        "min         -1.000000  \n",
        "25%         -1.000000  \n",
        "50%          0.000000  \n",
        "75%          0.430004  \n",
        "max          0.970447  "
       ]
      },
      {
       "output_type": "stream",
       "stream": "stdout",
       "text": [
        "\n",
        "type           object\n",
        "structid       object\n",
        "biounit         int64\n",
        "name           object\n",
        "maf           float64\n",
        "eps           float64\n",
        "clustered       int64\n",
        "silhouette    float64\n",
        "dtype: object\n"
       ]
      }
     ],
     "prompt_number": 45
    },
    {
     "cell_type": "code",
     "collapsed": false,
     "input": [
      "import random\n",
      "# Test for overall correlation between (normalized) inverse pairwise distance and minor allele frequency\n",
      "print \"Overall\"\n",
      "# Why does the sample fail when tested for correlation when the description looks okay?\n",
      "print np.corrcoef([df.maf.values,df.clustered.values,df.silhouette.values])"
     ],
     "language": "python",
     "metadata": {},
     "outputs": [
      {
       "output_type": "stream",
       "stream": "stdout",
       "text": [
        "Overall\n",
        "[[ 1.          0.0218197   0.02653611]\n",
        " [ 0.0218197   1.          0.78649318]\n",
        " [ 0.02653611  0.78649318  1.        ]]"
       ]
      },
      {
       "output_type": "stream",
       "stream": "stdout",
       "text": [
        "\n"
       ]
      }
     ],
     "prompt_number": 41
    },
    {
     "cell_type": "code",
     "collapsed": false,
     "input": [
      "# Test within each eps bracket\n",
      "for e in [5,10,15,20]:\n",
      "    print \"\\nEps=%d\"%e\n",
      "    # Reduce to the correct eps\n",
      "    tdf = df.loc[df.eps==e]\n",
      "    print np.corrcoef([tdf.maf.values,tdf.silhouette.values,tdf.clustered.values])"
     ],
     "language": "python",
     "metadata": {},
     "outputs": [
      {
       "output_type": "stream",
       "stream": "stdout",
       "text": [
        "MAF\tSilhouette\tClustered\n",
        "\n",
        "Eps=5\n",
        "[[ 1.          0.03598463  0.01607071]\n",
        " [ 0.03598463  1.          0.61057279]\n",
        " [ 0.01607071  0.61057279  1.        ]]"
       ]
      },
      {
       "output_type": "stream",
       "stream": "stdout",
       "text": [
        "\n",
        "\n",
        "Eps=10\n",
        "[[ 1.          0.03932415  0.03254464]\n",
        " [ 0.03932415  1.          0.71893566]\n",
        " [ 0.03254464  0.71893566  1.        ]]"
       ]
      },
      {
       "output_type": "stream",
       "stream": "stdout",
       "text": [
        "\n",
        "\n",
        "Eps=15\n",
        "[[ 1.          0.03012742  0.02964698]\n",
        " [ 0.03012742  1.          0.67225901]\n",
        " [ 0.02964698  0.67225901  1.        ]]"
       ]
      },
      {
       "output_type": "stream",
       "stream": "stdout",
       "text": [
        "\n",
        "\n",
        "Eps=20\n",
        "[[ 1.          0.01613628  0.02048576]\n",
        " [ 0.01613628  1.          0.61839583]\n",
        " [ 0.02048576  0.61839583  1.        ]]"
       ]
      },
      {
       "output_type": "stream",
       "stream": "stdout",
       "text": [
        "\n"
       ]
      }
     ],
     "prompt_number": 44
    }
   ],
   "metadata": {}
  }
 ]
}