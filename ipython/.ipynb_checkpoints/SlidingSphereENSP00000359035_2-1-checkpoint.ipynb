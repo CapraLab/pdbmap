{
 "metadata": {
  "name": "",
  "signature": "sha256:def14e5e00da0facd8ea1d854f99a3f9608e982093107c5f5fa15b7d9d50b938"
 },
 "nbformat": 3,
 "nbformat_minor": 0,
 "worksheets": [
  {
   "cells": [
    {
     "cell_type": "code",
     "collapsed": false,
     "input": [
      "# Specify the biological assembly\n",
      "structid = \"ENSP00000359035_2\"\n",
      "biounit  = 0"
     ],
     "language": "python",
     "metadata": {},
     "outputs": [],
     "prompt_number": 11
    },
    {
     "cell_type": "code",
     "collapsed": false,
     "input": [
      "# Ensure that we are in the main pdbmap directory and not a subdirectory or elsewhere\n",
      "%cd ../../pdbmap"
     ],
     "language": "python",
     "metadata": {},
     "outputs": [
      {
       "output_type": "stream",
       "stream": "stdout",
       "text": [
        "[Errno 2] No such file or directory: '../../pdbmap'\n",
        "/Users/mikesivley/pdbmap\n"
       ]
      }
     ],
     "prompt_number": 12
    },
    {
     "cell_type": "code",
     "collapsed": false,
     "input": [
      "# Load libraries\n",
      "%matplotlib inline\n",
      "import gzip\n",
      "import numpy as np\n",
      "from numpy.random import randn\n",
      "import pandas as pd\n",
      "from scipy import stats\n",
      "from scipy.spatial import KDTree\n",
      "import matplotlib as mpl\n",
      "from sklearn.metrics import confusion_matrix\n",
      "import matplotlib.pyplot as plt\n",
      "import seaborn as sns\n",
      "import matplotlib.patches as mpatches\n",
      "pd.set_option('display.max_columns', 500)"
     ],
     "language": "python",
     "metadata": {},
     "outputs": [],
     "prompt_number": 13
    },
    {
     "cell_type": "code",
     "collapsed": false,
     "input": [
      "# Load header information\n",
      "header_fname  = 'scripts/sphere_header.txt'\n",
      "with open(header_fname,'rb') as hfin:\n",
      "    header = [h.strip() for h in hfin.readlines()]"
     ],
     "language": "python",
     "metadata": {},
     "outputs": [],
     "prompt_number": 14
    },
    {
     "cell_type": "code",
     "collapsed": false,
     "input": [
      "# Load analysis results\n",
      "results_fname = 'results/sliding_sphere_10/split/obs/bystruct/sliding_sphere_%s-%d.txt.gz'%(structid,biounit)\n",
      "with gzip.open(results_fname,'rb') as obs_fin:\n",
      "    df = pd.read_table(obs_fin,delimiter='\\t',skiprows=1,names=header)\n",
      "    df.drop_duplicates(['x','y','z'],inplace=True)"
     ],
     "language": "python",
     "metadata": {},
     "outputs": [
      {
       "ename": "IOError",
       "evalue": "[Errno 2] No such file or directory: 'pdbmap/results/sliding_sphere_10/split/obs/bystruct/sliding_sphere_ENSP00000359035_2-0.txt.gz'",
       "output_type": "pyerr",
       "traceback": [
        "\u001b[0;31m---------------------------------------------------------------------------\u001b[0m\n\u001b[0;31mIOError\u001b[0m                                   Traceback (most recent call last)",
        "\u001b[0;32m<ipython-input-15-d60522f12cdf>\u001b[0m in \u001b[0;36m<module>\u001b[0;34m()\u001b[0m\n\u001b[1;32m      1\u001b[0m \u001b[0;31m# Load analysis results\u001b[0m\u001b[0;34m\u001b[0m\u001b[0;34m\u001b[0m\u001b[0m\n\u001b[1;32m      2\u001b[0m \u001b[0mresults_fname\u001b[0m \u001b[0;34m=\u001b[0m \u001b[0;34m'pdbmap/results/sliding_sphere_10/split/obs/bystruct/sliding_sphere_%s-%d.txt.gz'\u001b[0m\u001b[0;34m%\u001b[0m\u001b[0;34m(\u001b[0m\u001b[0mstructid\u001b[0m\u001b[0;34m,\u001b[0m\u001b[0mbiounit\u001b[0m\u001b[0;34m)\u001b[0m\u001b[0;34m\u001b[0m\u001b[0m\n\u001b[0;32m----> 3\u001b[0;31m \u001b[0;32mwith\u001b[0m \u001b[0mgzip\u001b[0m\u001b[0;34m.\u001b[0m\u001b[0mopen\u001b[0m\u001b[0;34m(\u001b[0m\u001b[0mresults_fname\u001b[0m\u001b[0;34m,\u001b[0m\u001b[0;34m'rb'\u001b[0m\u001b[0;34m)\u001b[0m \u001b[0;32mas\u001b[0m \u001b[0mobs_fin\u001b[0m\u001b[0;34m:\u001b[0m\u001b[0;34m\u001b[0m\u001b[0m\n\u001b[0m\u001b[1;32m      4\u001b[0m     \u001b[0mdf\u001b[0m \u001b[0;34m=\u001b[0m \u001b[0mpd\u001b[0m\u001b[0;34m.\u001b[0m\u001b[0mread_table\u001b[0m\u001b[0;34m(\u001b[0m\u001b[0mobs_fin\u001b[0m\u001b[0;34m,\u001b[0m\u001b[0mdelimiter\u001b[0m\u001b[0;34m=\u001b[0m\u001b[0;34m'\\t'\u001b[0m\u001b[0;34m,\u001b[0m\u001b[0mskiprows\u001b[0m\u001b[0;34m=\u001b[0m\u001b[0;36m1\u001b[0m\u001b[0;34m,\u001b[0m\u001b[0mnames\u001b[0m\u001b[0;34m=\u001b[0m\u001b[0mheader\u001b[0m\u001b[0;34m)\u001b[0m\u001b[0;34m\u001b[0m\u001b[0m\n\u001b[1;32m      5\u001b[0m     \u001b[0mdf\u001b[0m\u001b[0;34m.\u001b[0m\u001b[0mdrop_duplicates\u001b[0m\u001b[0;34m(\u001b[0m\u001b[0;34m[\u001b[0m\u001b[0;34m'x'\u001b[0m\u001b[0;34m,\u001b[0m\u001b[0;34m'y'\u001b[0m\u001b[0;34m,\u001b[0m\u001b[0;34m'z'\u001b[0m\u001b[0;34m]\u001b[0m\u001b[0;34m,\u001b[0m\u001b[0minplace\u001b[0m\u001b[0;34m=\u001b[0m\u001b[0mTrue\u001b[0m\u001b[0;34m)\u001b[0m\u001b[0;34m\u001b[0m\u001b[0m\n",
        "\u001b[0;32m/Users/mikesivley/anaconda/lib/python2.7/gzip.pyc\u001b[0m in \u001b[0;36mopen\u001b[0;34m(filename, mode, compresslevel)\u001b[0m\n\u001b[1;32m     32\u001b[0m \u001b[0;34m\u001b[0m\u001b[0m\n\u001b[1;32m     33\u001b[0m     \"\"\"\n\u001b[0;32m---> 34\u001b[0;31m     \u001b[0;32mreturn\u001b[0m \u001b[0mGzipFile\u001b[0m\u001b[0;34m(\u001b[0m\u001b[0mfilename\u001b[0m\u001b[0;34m,\u001b[0m \u001b[0mmode\u001b[0m\u001b[0;34m,\u001b[0m \u001b[0mcompresslevel\u001b[0m\u001b[0;34m)\u001b[0m\u001b[0;34m\u001b[0m\u001b[0m\n\u001b[0m\u001b[1;32m     35\u001b[0m \u001b[0;34m\u001b[0m\u001b[0m\n\u001b[1;32m     36\u001b[0m \u001b[0;32mclass\u001b[0m \u001b[0mGzipFile\u001b[0m\u001b[0;34m(\u001b[0m\u001b[0mio\u001b[0m\u001b[0;34m.\u001b[0m\u001b[0mBufferedIOBase\u001b[0m\u001b[0;34m)\u001b[0m\u001b[0;34m:\u001b[0m\u001b[0;34m\u001b[0m\u001b[0m\n",
        "\u001b[0;32m/Users/mikesivley/anaconda/lib/python2.7/gzip.pyc\u001b[0m in \u001b[0;36m__init__\u001b[0;34m(self, filename, mode, compresslevel, fileobj, mtime)\u001b[0m\n\u001b[1;32m     92\u001b[0m             \u001b[0mmode\u001b[0m \u001b[0;34m+=\u001b[0m \u001b[0;34m'b'\u001b[0m\u001b[0;34m\u001b[0m\u001b[0m\n\u001b[1;32m     93\u001b[0m         \u001b[0;32mif\u001b[0m \u001b[0mfileobj\u001b[0m \u001b[0;32mis\u001b[0m \u001b[0mNone\u001b[0m\u001b[0;34m:\u001b[0m\u001b[0;34m\u001b[0m\u001b[0m\n\u001b[0;32m---> 94\u001b[0;31m             \u001b[0mfileobj\u001b[0m \u001b[0;34m=\u001b[0m \u001b[0mself\u001b[0m\u001b[0;34m.\u001b[0m\u001b[0mmyfileobj\u001b[0m \u001b[0;34m=\u001b[0m \u001b[0m__builtin__\u001b[0m\u001b[0;34m.\u001b[0m\u001b[0mopen\u001b[0m\u001b[0;34m(\u001b[0m\u001b[0mfilename\u001b[0m\u001b[0;34m,\u001b[0m \u001b[0mmode\u001b[0m \u001b[0;32mor\u001b[0m \u001b[0;34m'rb'\u001b[0m\u001b[0;34m)\u001b[0m\u001b[0;34m\u001b[0m\u001b[0m\n\u001b[0m\u001b[1;32m     95\u001b[0m         \u001b[0;32mif\u001b[0m \u001b[0mfilename\u001b[0m \u001b[0;32mis\u001b[0m \u001b[0mNone\u001b[0m\u001b[0;34m:\u001b[0m\u001b[0;34m\u001b[0m\u001b[0m\n\u001b[1;32m     96\u001b[0m             \u001b[0;31m# Issue #13781: os.fdopen() creates a fileobj with a bogus name\u001b[0m\u001b[0;34m\u001b[0m\u001b[0;34m\u001b[0m\u001b[0m\n",
        "\u001b[0;31mIOError\u001b[0m: [Errno 2] No such file or directory: 'pdbmap/results/sliding_sphere_10/split/obs/bystruct/sliding_sphere_ENSP00000359035_2-0.txt.gz'"
       ]
      }
     ],
     "prompt_number": 15
    },
    {
     "cell_type": "code",
     "collapsed": false,
     "input": [
      "# Load permutation results\n",
      "perm_fname = 'results/sliding_sphere_10/split/perm/bystruct/sliding_sphere_perm_%s-%d.npz'%(structid,biounit)\n",
      "with np.load(perm_fname) as npzfile:\n",
      "    npz = npzfile.items()[0][1]\n",
      "# Set any NaN minimums to 0\n",
      "mins = np.array(npz[:,:,-9],dtype=np.float64)\n",
      "npz[:,:,-9][np.isnan(mins)] = 0"
     ],
     "language": "python",
     "metadata": {},
     "outputs": []
    },
    {
     "cell_type": "code",
     "collapsed": false,
     "input": [
      "# Observed values\n",
      "info_cols      = header[:21]       # Residue information\n",
      "count_cols     = header[20:36]     # SNP counts \n",
      "cdaf_cols      = header[36:41]     # Cumulative derived allele frequencies\n",
      "ddaf_cols      = header[41:69:3]   # Mean directional deltaDAF\n",
      "ddaf_cols     += header[42:70:3]   # \n",
      "absddaf_cols   = header[43:71:3]   # Mean absolute deltaDAF\n",
      "fst_cols       = header[71:82]     # Fst\n",
      "w_count_cols   = header[82:98]     # Windowed SNP counts\n",
      "w_cdaf_cols    = header[98:103]    # Windowed Cumulative derived allele frequencies\n",
      "w_ddaf_cols    = header[103:131:3] # Windowed mean directional deltaDAF\n",
      "w_ddaf_cols   += header[104:132:3] # \n",
      "w_absddaf_cols = header[105:133:3] # Windowed mean absolute deltaDAF\n",
      "w_fst_cols     = header[133:144]   # Windowed Fst\n",
      "\n",
      "# Observed p-values\n",
      "def pval_cols(cols):\n",
      "    return [\"%s_pval\"%col for col in cols]\n",
      "count_pval_cols     = pval_cols(count_cols)\n",
      "cdaf_pval_cols      = pval_cols(cdaf_cols)\n",
      "ddaf_pval_cols      = pval_cols(ddaf_cols)\n",
      "absddaf_pval_cols   = pval_cols(absddaf_cols)\n",
      "fst_pval_cols       = pval_cols(fst_cols)\n",
      "w_count_pval_cols   = pval_cols(w_count_cols)\n",
      "w_cdaf_pval_cols    = pval_cols(w_cdaf_cols)\n",
      "w_ddaf_pval_cols    = pval_cols(w_ddaf_cols)\n",
      "w_absddaf_pval_cols = pval_cols(w_absddaf_cols)\n",
      "w_fst_pval_cols     = pval_cols(w_fst_cols)\n",
      "\n",
      "# Nested column sets\n",
      "value_cols  = [count_cols,cdaf_cols,ddaf_cols,absddaf_cols,fst_cols,w_ddaf_cols,w_absddaf_cols,w_fst_cols]\n",
      "pvalue_cols = [count_pval_cols,cdaf_pval_cols,ddaf_pval_cols,absddaf_pval_cols,fst_pval_cols,w_ddaf_pval_cols,w_absddaf_pval_cols,w_fst_pval_cols]"
     ],
     "language": "python",
     "metadata": {},
     "outputs": []
    },
    {
     "cell_type": "code",
     "collapsed": false,
     "input": [
      "# Shift negative Fst values to 0\n",
      "for col in fst_cols + w_fst_cols:\n",
      "    df.ix[df[col]<0,col] = 0"
     ],
     "language": "python",
     "metadata": {},
     "outputs": []
    },
    {
     "cell_type": "code",
     "collapsed": false,
     "input": [
      "# Report the number of spheres with >0 SNPs in each population or combination of populations\n",
      "print \"Number of spheres with >0 SNPs:\"\n",
      "print (df[count_cols] > 0).sum()\n",
      "# Report the number of spheres with >1 SNP in each population or combination of populations\n",
      "print \"\\nNumber of spheres with >1 SNPs:\"\n",
      "print (df[count_cols] > 1).sum()"
     ],
     "language": "python",
     "metadata": {},
     "outputs": []
    },
    {
     "cell_type": "code",
     "collapsed": false,
     "input": [
      "# Summary boxplots of observed values for count, cDAF, \u0394DAF, or Fst, stratified by population\n",
      "for colset in value_cols:\n",
      "    fig,ax = plt.subplots(figsize=(15,6))\n",
      "    sns.set_style(\"whitegrid\")\n",
      "    sns.set_palette(\"hls\")\n",
      "    sns.boxplot(df.ix[:,colset])\n",
      "    plt.setp(ax.get_xticklabels(), rotation=30, horizontalalignment='right')\n",
      "    plt.tight_layout()\n",
      "    plt.show()"
     ],
     "language": "python",
     "metadata": {},
     "outputs": []
    },
    {
     "cell_type": "code",
     "collapsed": false,
     "input": [
      "# Summary boxplots of pvalues for count, cDAF, \u0394DAF, or Fst stratified by population\n",
      "for colset in pvalue_cols:\n",
      "    fig,ax = plt.subplots(figsize=(15,6))\n",
      "    sns.set_style(\"whitegrid\")\n",
      "    sns.set_palette(\"hls\")\n",
      "    sns.boxplot(-np.log10(df.ix[:,colset]))\n",
      "    plt.hlines(2,0,25,'red',linestyles='dotted')\n",
      "    plt.hlines(1.3,0,25,'blue',linestyles='dotted')\n",
      "    plt.setp(ax.get_xticklabels(), rotation=30, horizontalalignment='right')\n",
      "    plt.tight_layout()\n",
      "    plt.show()"
     ],
     "language": "python",
     "metadata": {},
     "outputs": []
    },
    {
     "cell_type": "code",
     "collapsed": false,
     "input": [
      "def roi(vcol,pcol,maxp=0.01,minv=0.05):\n",
      "    dft = df.ix[(df[pcol]<maxp) & (df[vcol]>minv),\n",
      "                [\"model\",\"chain\",\"seqid\",\"icode\",vcol,pcol,\"x\",\"y\",\"z\",\"snpcount\"]]\n",
      "    if dft.empty: return\n",
      "    dft = dft.reset_index()\n",
      "    pos  = np.array(dft[[\"x\",\"y\",\"z\"]],dtype=np.float64)\n",
      "    pos  = [list(p) for p in pos] # Map from KDTree to coordinates\n",
      "    kdt  = KDTree(pos)            # KDTree for queries\n",
      "    rois = []                     # Lists of overlapping spheres\n",
      "    frnt = [p for p in pos]       # Frontier of ungrouped spheres\n",
      "\n",
      "    def nnsearch(coord,kdt,pos,frnt):\n",
      "        nbrs  = [n for n in kdt.query_ball_point(coord,15) if pos[n] in frnt]\n",
      "        for n in nbrs:\n",
      "            frnt.remove(pos[n]) # global removal\n",
      "        return nbrs+[g for n in nbrs for g in nnsearch(pos[n],kdt,pos,frnt)]   \n",
      "\n",
      "    while len(frnt)>0:\n",
      "        rois.append(nnsearch(frnt.pop(0),kdt,pos,frnt))\n",
      "\n",
      "    sig_rois = [dft.ix[r,[\"model\",\"chain\",\"seqid\",\"icode\"]].values for r in rois]\n",
      "\n",
      "    colors = ['1,0,0,0.5','0,1,0,0.5','0,0,1,0.5','1,1,0,0.5','1,0,1,0.5','0,1,1,0.5','1,1,1,0.5','0,0,0,0.5']\n",
      "    print \"Metric: %s\"%vcol\n",
      "    for i,roi in enumerate(sig_rois):\n",
      "        print \"ROI %d\"%i\n",
      "        print ';'.join(\"shape sphere radius 10 mesh true center #0.%d:%d.%s@CA color %s\"%(r[0]-1,r[2],r[1],colors[i]) for r in roi)\n",
      "        print ''\n",
      "        print \"ROI %d Select Statements\"%i\n",
      "        for model in set(r[0] for r in roi):\n",
      "            for chain in set(r[1] for r in roi):\n",
      "                print \"select #0.%d:\"%(model-1)\n",
      "                print \",\".join(\"%d.%s\"%(r[2],r[1]) for r in roi if r[0]==model and r[1]==chain)+\"@CA;\",\n",
      "        print ''\n",
      "roi(\"allpop_fst\",\"allpop_fst_pval\")"
     ],
     "language": "python",
     "metadata": {},
     "outputs": []
    },
    {
     "cell_type": "code",
     "collapsed": false,
     "input": [
      "def chain_plot(metric,observations,permutations,header):\n",
      "    df  = observations.copy()\n",
      "    npz = permutations.copy()\n",
      "    npz[:,:,12] = np.core.defchararray.add(np.array(npz[:,:,11],dtype=str),npz[:,:,12]) # append the model # to the chain ID\n",
      "    chains = list(set(npz[:,:,12].ravel()))\n",
      "    chains.sort()\n",
      "    minseq = [np.min(npz[npz[:,:,12]==chain,14]) for chain in chains]\n",
      "    maxseq = [np.max(npz[npz[:,:,12]==chain,14]) for chain in chains]\n",
      "    print 'Chains:   %s'%' '.join(chains)\n",
      "    print 'SeqStart: %s'%' '.join(str(x) for x in minseq)\n",
      "    print 'SeqEnd:   %s'%' '.join(str(x) for x in maxseq)\n",
      "    fig, axes = plt.subplots(len(chains),figsize=(max(maxseq)/4,5*len(chains)))\n",
      "    pvalue  = \"%s_pval\"%metric\n",
      "    wmetric = \"w_%s\"%metric\n",
      "    wpvalue = \"%s_pval\"%wmetric\n",
      "    midx    = header[20:-124].index(metric)\n",
      "    if len(chains) < 2:\n",
      "        axes = [axes]\n",
      "    for i,chain in enumerate(chains):\n",
      "        pos   = map(tuple,npz[npz[:,midx,12]==chain,midx,14:16]) # seqid and icode\n",
      "        idx   = list(set([pos.index(n) for n in pos])) # identify unique residue indices\n",
      "        pos   = [pos for j,pos in enumerate(pos) if j in idx] # reduce to unique residue positions\n",
      "        dat   = npz[npz[:,midx,12]==chain,midx,-8:-1][idx,:].swapaxes(0,1) # reduce to unique residues\n",
      "        xlabs = [\"%d.%s\"%tuple(p) if p[1]!=' ' else \"%d\"%p[0] for p in pos] # generate seqid.icode residue labels\n",
      "        sns.boxplot(dat,ax=axes[i],fliersize=0,names=xlabs)\n",
      "\n",
      "        # Now all of the observed values\n",
      "        dft    = df[(df.model==int(chain[:-1])) & (df.chain==chain[-1]) & (df.seqid>=minseq[i]) & (df.seqid<=maxseq[i])]\n",
      "        cdict  = {np.nan:'blue',0:'blue',1:'red'} # Significance coloring\n",
      "        wcdict = {np.nan:'black',0:'black',1:'red'}\n",
      "        xpos = [pos.index(tuple(r[1]))+1 for r in dft[['seqid','icode']].iterrows()]\n",
      "        axes[i].scatter(xpos,dft[wmetric],color=[wcdict[x<0.01] for x in dft[wpvalue]],linewidths=2,marker='x',s=150,zorder=2)\n",
      "        axes[i].scatter(xpos,dft[metric],color=[cdict[x<0.01] for x in dft[pvalue]],marker='o',s=75,zorder=3)\n",
      "        \n",
      "        # Adjust axis limits (minimum Fst limit of 0.01)\n",
      "        ymax = np.max((0.01,np.max(dat[:-1,:]),np.max(dft[metric]),np.max(dft[wmetric])))*1.1\n",
      "        ymin = np.min((0-ymax*.1,np.min(dat[1,:])*1.1))\n",
      "        axes[i].set_ylim(ymin,ymax)\n",
      "        axes[i].set_xlim(0,len(pos))\n",
      "        axes[i].set_title(\"Observed Sphere Values in Permutation Context\\n %s[%d].%s (%s)\"%(structid,biounit,chain,metric),fontsize=15)\n",
      "        plt.setp(axes[i].get_xticklabels(), rotation=40, horizontalalignment='right')\n",
      "        plt.tight_layout()\n",
      "    plt.show()"
     ],
     "language": "python",
     "metadata": {},
     "outputs": []
    },
    {
     "cell_type": "code",
     "collapsed": false,
     "input": [
      "chain_plot(\"allpop_fst\",df,npz,header)"
     ],
     "language": "python",
     "metadata": {},
     "outputs": []
    },
    {
     "cell_type": "code",
     "collapsed": false,
     "input": [
      "chain_plot(\"eurafr_fst\",df,npz,header)"
     ],
     "language": "python",
     "metadata": {},
     "outputs": []
    },
    {
     "cell_type": "code",
     "collapsed": false,
     "input": [
      "chain_plot(\"eurafr_meanddaf\",df,npz,header)"
     ],
     "language": "python",
     "metadata": {},
     "outputs": []
    },
    {
     "cell_type": "code",
     "collapsed": false,
     "input": [
      "chain_plot(\"eur_afr_meanddaf\",df,npz,header)"
     ],
     "language": "python",
     "metadata": {},
     "outputs": []
    },
    {
     "cell_type": "code",
     "collapsed": false,
     "input": [
      "chain_plot(\"afr_eur_meanddaf\",df,npz,header)"
     ],
     "language": "python",
     "metadata": {},
     "outputs": []
    },
    {
     "cell_type": "code",
     "collapsed": false,
     "input": [
      "# # All chain plots\n",
      "# for colset in value_cols:\n",
      "#     for col in colset:\n",
      "#         chain_plot(col,df,npz,header)"
     ],
     "language": "python",
     "metadata": {},
     "outputs": []
    }
   ],
   "metadata": {}
  }
 ]
}