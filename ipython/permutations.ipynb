{
 "metadata": {
  "name": "",
  "signature": "sha256:61798be15c9f45928a8a44b75c37ca70b559599f93cdde9351e0156ebe3ab6e9"
 },
 "nbformat": 3,
 "nbformat_minor": 0,
 "worksheets": [
  {
   "cells": [
    {
     "cell_type": "code",
     "collapsed": false,
     "input": [
      "import numpy as np\n",
      "import pandas as pd\n",
      "import pymysql, pymysql.cursors\n",
      "from warnings import filterwarnings,resetwarnings\n",
      "filterwarnings('ignore', category = pymysql.Warning)\n",
      "from scipy.spatial import KDTree\n",
      "import sys,os,csv,time,math,random,copy"
     ],
     "language": "python",
     "metadata": {},
     "outputs": [],
     "prompt_number": 2
    },
    {
     "cell_type": "code",
     "collapsed": false,
     "input": [
      "def connect(retry=True):\n",
      "  try:\n",
      "    con = pymysql.connect(host='gwar-dev',user='mike',passwd='cheezburger',\n",
      "                          db='pdbmap_v10',cursorclass=pymysql.cursors.Cursor)\n",
      "    return con\n",
      "  except pymysql.Error as e:\n",
      "    msg = \"There was an error connecting to the database: %s\\n\"%e\n",
      "    sys.stderr.write(msg)\n",
      "    if retry:\n",
      "      msg = \"Waiting 30-300s and retrying...\\n\"\n",
      "      sys.stderr.write(msg)\n",
      "      time.sleep(random.randint(30,300)) # Wait 30-300 seconds and retry\n",
      "      return connect(retry=False)\n",
      "    else:\n",
      "      msg = \"Database connection unsuccessful: %s\\n\"%e\n",
      "      sys.stderr.write(msg)\n",
      "      raise\n",
      "con = connect()"
     ],
     "language": "python",
     "metadata": {},
     "outputs": [],
     "prompt_number": 3
    },
    {
     "cell_type": "code",
     "collapsed": false,
     "input": [
      "def load_structure(structid,biounit,verbose=False):\n",
      "  # Load the structure\n",
      "  q  = \"SELECT e.structid,e.biounit,e.model,e.chain,a.x,a.y,a.z,e.unp,a.seqid, \"\n",
      "  q += \"(b.slabel='uniprot-pdb' and b.dlabel='1kg' and \"\n",
      "  q += \"c.label='1kg' AND c.consequence LIKE '%%missense_variant%%') as issnp, \"\n",
      "  q += \"d.name,d.aa,d.ref_allele,d.alt_allele,d.amr_af,d.asn_af,d.eur_af,d.afr_af \"\n",
      "  q += \"FROM Residue as a \"\n",
      "  q += \"INNER JOIN Chain as e ON a.label=e.label AND a.structid=e.structid \"\n",
      "  q += \"AND a.biounit=e.biounit AND a.model=e.model AND a.chain=e.chain \"\n",
      "  q += \"LEFT JOIN GenomicIntersection as b \"\n",
      "  q += \"ON a.label=b.slabel AND a.structid=b.structid \"\n",
      "  q += \"AND a.chain=b.chain AND a.seqid=b.seqid \"\n",
      "  q += \"LEFT JOIN GenomicConsequence as c \"\n",
      "  q += \"ON b.dlabel=c.label AND b.gc_id=c.gc_id \"\n",
      "  q += \"LEFT JOIN GenomicData as d \"\n",
      "  q += \"ON c.label=d.label AND c.chr=d.chr \"\n",
      "  q += \"AND c.start=d.start AND c.end=d.end AND c.name=d.name \"\n",
      "  q += \"WHERE a.label='uniprot-pdb' \"\n",
      "  q += \"AND a.structid='%s' AND a.biounit=%s \"%(structid,biounit)\n",
      "  # Place all variants at the beginning of the results\n",
      "  q += \"ORDER BY issnp DESC\"\n",
      "  global con\n",
      "  c = con.cursor() # open cursor\n",
      "  c.execute(q)\n",
      "  res = [list(r) for r in c]\n",
      "  res = sorted(res, key = lambda x: (x[7], x[8]))\n",
      "  c.close()\n",
      "  # Build a KD Tree for the residues\n",
      "  if verbose:\n",
      "    print \"  Constructing sphere matrix via KDTree...\",\n",
      "    sys.stdout.flush()\n",
      "    t0 = time.time()\n",
      "  kdt  = KDTree(np.array([r[4:7] for r in res]))\n",
      "  nbrs = dict((tuple(r[4:7]),kdt.query_ball_point(r[4:7],20)) for r in res)\n",
      "  if verbose:\n",
      "    print \"100%% (%2.2fs)\"%(time.time()-t0)\n",
      "  return res,nbrs"
     ],
     "language": "python",
     "metadata": {},
     "outputs": [],
     "prompt_number": 4
    },
    {
     "cell_type": "code",
     "collapsed": false,
     "input": [
      "def permute_snps(df,permutations=1000):\n",
      "    dft = copy.deepcopy(df)\n",
      "    dfres = dft.ix[:,'unp':].drop_duplicates()\n",
      "    dfsnp = dfres.ix[:,'issnp':]\n",
      "    for i in range(permutations):\n",
      "        # Permute the snp assignment indices\n",
      "        dfsnp.index = np.random.permutation(dfsnp.index)\n",
      "        # Map the new SNP assignments to each unp+seqid\n",
      "        dfres = dfres.ix[:,:'seqid'].join(dfsnp)\n",
      "        # Merge with the structural data and yield\n",
      "        yield dft.ix[:,:'seqid'].merge(dfres,on=('unp','seqid'))"
     ],
     "language": "python",
     "metadata": {},
     "outputs": [],
     "prompt_number": 26
    },
    {
     "cell_type": "code",
     "collapsed": false,
     "input": [
      "# And the current implementation..."
     ],
     "language": "python",
     "metadata": {},
     "outputs": [],
     "prompt_number": 6
    },
    {
     "cell_type": "code",
     "collapsed": false,
     "input": [
      "def load_structure_current(structid,biounit,verbose=False):\n",
      "  # Load the structure\n",
      "  q  = \"SELECT !ISNULL(c.gc_id) as isvar,(b.slabel='uniprot-pdb' \"\n",
      "  q += \"and b.dlabel='1kg' and c.label='1kg' AND c.consequence LIKE \"\n",
      "  q += \"'%%missense_variant%%') as issnp,d.name,d.amr_af,d.asn_af,d.eur_af,d.afr_af,d.aa,d.ref_allele,d.alt_allele,e.structid,e.chain,e.unp,a.seqid, \"\n",
      "  q += \"a.x,a.y,a.z FROM Residue as a \"\n",
      "  q += \"INNER JOIN Chain as e ON a.label=e.label AND a.structid=e.structid \"\n",
      "  q += \"AND a.biounit=e.biounit AND a.model=e.model AND a.chain=e.chain \"\n",
      "  q += \"LEFT JOIN GenomicIntersection as b \"\n",
      "  q += \"ON a.label=b.slabel AND a.structid=b.structid \"\n",
      "  q += \"AND a.chain=b.chain AND a.seqid=b.seqid \"\n",
      "  q += \"LEFT JOIN GenomicConsequence as c \"\n",
      "  q += \"ON b.dlabel=c.label AND b.gc_id=c.gc_id \"\n",
      "  q += \"LEFT JOIN GenomicData as d \"\n",
      "  q += \"ON c.label=d.label AND c.chr=d.chr \"\n",
      "  q += \"AND c.start=d.start AND c.end=d.end AND c.name=d.name \"\n",
      "  q += \"WHERE a.label='uniprot-pdb' \"\n",
      "  q += \"AND a.structid='%s' AND a.biounit=%s \"%(structid,biounit)\n",
      "  # Place all variants at the beginning of the results\n",
      "  q += \"ORDER BY issnp DESC\"\n",
      "  global con\n",
      "  c = con.cursor() # open cursor\n",
      "  c.execute(q)\n",
      "  res = [list(r) for r in c]\n",
      "  c.close()\n",
      "  # Build a KD Tree for the residues\n",
      "  if verbose:\n",
      "    print \"Constructing sphere matrix via KDTree...\",\n",
      "    sys.stdout.flush()\n",
      "    t0 = time.time()\n",
      "  kdt  = KDTree(np.array([r[-3:] for r in res]))\n",
      "  nbrs = dict((tuple(r[-3:]),kdt.query_ball_point(r[-3:],20)) for r in res)\n",
      "  if verbose:\n",
      "    print \"100%% (%2.2fs)\"%(time.time()-t0)\n",
      "  return res,nbrs"
     ],
     "language": "python",
     "metadata": {},
     "outputs": [],
     "prompt_number": 7
    },
    {
     "cell_type": "code",
     "collapsed": false,
     "input": [
      "def permute_snps_current(residues,permutations=1000):\n",
      "  locseen = set() # Track unique locations\n",
      "  snpseen = set() # Track unqiue SNPs\n",
      "  locseen_add,snpseen_add = locseen.add,snpseen.add\n",
      "  loc_mat = []    # Matrix of variant coordinates (3D)\n",
      "  snps    = []    # List of missense SNPs\n",
      "  mafs    = []    # List of minor allele frequencies. Order matches snps\n",
      "  snpidx  = []    # (unp,seqid) for each variant in this structure\n",
      "  residx  = {}    # (unp,seqid)->[residue-index] for each residue in loc_mat\n",
      "  for r in residues:\n",
      "    r = tuple(r)\n",
      "    if not (tuple(r[-3:]) in locseen or locseen_add(tuple(r[-3:]))):\n",
      "      loc_mat.append(r[-3:])\n",
      "      # Assign this structural location index to a unique sequence residue\n",
      "      if r[-5:-3] not in residx:\n",
      "        residx[r[-5:-3]] = []\n",
      "      residx[r[-5:-3]].append(len(loc_mat)-1)\n",
      "      # Check if the location is a variant residue\n",
      "      if r[1]:\n",
      "        # Check if a variant has already been mapped to this residue\n",
      "        if not (tuple(r[-5:-3]) in snpseen or snpseen_add(tuple(r[-5:-3]))):\n",
      "          # snps.append(r[2])\n",
      "          mafs.append(r[2:10]) # all allele information\n",
      "          # Assign this variant to the unique sequence residue\n",
      "          snpidx.append(r[-5:-3])\n",
      "  # Reduce the location matrix to unique residues (remove multi-variant mappings)\n",
      "  loc_mat  = [list(x) for x in loc_mat]\n",
      "  rescount = len(loc_mat) # Number of residues\n",
      "  snpres   = len([r for v in snpidx for r in residx[v]]) # Number of residues mapped to variants\n",
      "  snpcount = len(snpidx) # Number of variants\n",
      "  perm_residues = copy.deepcopy(residues)\n",
      "  for i in range(permutations):\n",
      "    # Reset SNP assignments\n",
      "    for r in perm_residues:\n",
      "      r[1] = 0\n",
      "      r[2:10] = [None,0,0,0,0,None,None,None]\n",
      "    # Permute the snpidx assignments, propagate through residx to loc_mat\n",
      "    # More accurately models plausible variant distribution\n",
      "    perm_snpidx   = random.sample(residx.keys(),snpcount)\n",
      "    resseen     = set()\n",
      "    resseen_add = resseen.add\n",
      "    for r in perm_residues:\n",
      "      if tuple(r[-5:-3]) in perm_snpidx:\n",
      "        r[1] = 1\n",
      "        resseen_add(tuple(r[-5:-3]))\n",
      "        r[2:10] = list(mafs[list(resseen).index(tuple(r[-5:-3]))])\n",
      "    yield perm_residues"
     ],
     "language": "python",
     "metadata": {},
     "outputs": [],
     "prompt_number": 8
    },
    {
     "cell_type": "code",
     "collapsed": false,
     "input": [
      "# Testing the old way\n",
      "res1,nbrs1 = load_structure_current('1pl8',1,verbose=True)\n",
      "t0 = time.time()\n",
      "_ = [x for x in permute_snps_current(res1,1000)]\n",
      "print \"1000 permutations required %2.2fs\"%(time.time()-t0)"
     ],
     "language": "python",
     "metadata": {},
     "outputs": [
      {
       "output_type": "stream",
       "stream": "stdout",
       "text": [
        "Constructing sphere matrix via KDTree..."
       ]
      },
      {
       "output_type": "stream",
       "stream": "stdout",
       "text": [
        " 100% (16.58s)\n",
        "1000 permutations required 2.21s"
       ]
      },
      {
       "output_type": "stream",
       "stream": "stdout",
       "text": [
        "\n"
       ]
      }
     ],
     "prompt_number": 27
    },
    {
     "cell_type": "code",
     "collapsed": false,
     "input": [
      "# and the new way\n",
      "res,nbrs = load_structure('1pl8',1,verbose=True)\n",
      "t0 = time.time()\n",
      "# Convert to pandas dataframe and group by unp.seqid\n",
      "colnames  = ['structid','biounit','model','chain','x','y','z','unp','seqid']\n",
      "colnames += ['issnp','name','aa','ref','alt','amr_af','asn_af','eur_af','afr_af']\n",
      "df = pd.DataFrame(res,columns=colnames)\n",
      "_ = [x for x in permute_snps(df,1000)]\n",
      "print \"1000 permutations required %2.2fs\"%(time.time()-t0)"
     ],
     "language": "python",
     "metadata": {},
     "outputs": [
      {
       "output_type": "stream",
       "stream": "stdout",
       "text": [
        "  Constructing sphere matrix via KDTree..."
       ]
      },
      {
       "output_type": "stream",
       "stream": "stdout",
       "text": [
        " 100% (16.50s)\n",
        "1000 permutations required 5.88s"
       ]
      },
      {
       "output_type": "stream",
       "stream": "stdout",
       "text": [
        "\n"
       ]
      }
     ],
     "prompt_number": 28
    },
    {
     "cell_type": "code",
     "collapsed": false,
     "input": [],
     "language": "python",
     "metadata": {},
     "outputs": []
    },
    {
     "cell_type": "code",
     "collapsed": false,
     "input": [
      "x = np.array(np.random.random(75)).reshape(25,3)\n",
      "for i in range(5):\n",
      "    np.random.shuffle(x[:,1:])\n",
      "    print x[:5]"
     ],
     "language": "python",
     "metadata": {},
     "outputs": [
      {
       "output_type": "stream",
       "stream": "stdout",
       "text": [
        "[[ 0.62839403  0.61582368  0.22685995]\n",
        " [ 0.05657433  0.91004131  0.56089223]\n",
        " [ 0.70278646  0.04186711  0.11922235]\n",
        " [ 0.33698419  0.57075381  0.97353653]\n",
        " [ 0.06317022  0.72079872  0.26479891]]\n",
        "[[ 0.62839403  0.6126555   0.13409547]\n",
        " [ 0.05657433  0.20757949  0.45046535]\n",
        " [ 0.70278646  0.52655622  0.70598689]\n",
        " [ 0.33698419  0.19482849  0.81219146]\n",
        " [ 0.06317022  0.08825975  0.60122093]]\n",
        "[[ 0.62839403  0.20757949  0.45046535]\n",
        " [ 0.05657433  0.83793603  0.85526105]\n",
        " [ 0.70278646  0.91004131  0.56089223]\n",
        " [ 0.33698419  0.39191762  0.82480654]\n",
        " [ 0.06317022  0.12565359  0.41136193]]\n",
        "[[ 0.62839403  0.15731794  0.39728308]\n",
        " [ 0.05657433  0.2013397   0.56440504]\n",
        " [ 0.70278646  0.61582368  0.22685995]\n",
        " [ 0.33698419  0.31070909  0.80260914]\n",
        " [ 0.06317022  0.94708157  0.53244908]]\n",
        "[[ 0.62839403  0.08825975  0.60122093]\n",
        " [ 0.05657433  0.02583933  0.50660233]\n",
        " [ 0.70278646  0.47794926  0.97671624]\n",
        " [ 0.33698419  0.52466741  0.03710748]\n",
        " [ 0.06317022  0.03840161  0.72087536]]\n"
       ]
      }
     ],
     "prompt_number": 42
    },
    {
     "cell_type": "code",
     "collapsed": false,
     "input": [
      "y = x[1]\n",
      "print y\n",
      "np.random.shuffle(x[:,1:])\n",
      "print y\n",
      "np.random.shuffle(x[:,1:])\n",
      "print y"
     ],
     "language": "python",
     "metadata": {},
     "outputs": [
      {
       "output_type": "stream",
       "stream": "stdout",
       "text": [
        "[ 0.05657433  0.02583933  0.50660233]\n",
        "[ 0.05657433  0.83793603  0.85526105]\n",
        "[ 0.05657433  0.19482849  0.81219146]\n"
       ]
      }
     ],
     "prompt_number": 45
    },
    {
     "cell_type": "code",
     "collapsed": false,
     "input": [],
     "language": "python",
     "metadata": {},
     "outputs": []
    }
   ],
   "metadata": {}
  }
 ]
}