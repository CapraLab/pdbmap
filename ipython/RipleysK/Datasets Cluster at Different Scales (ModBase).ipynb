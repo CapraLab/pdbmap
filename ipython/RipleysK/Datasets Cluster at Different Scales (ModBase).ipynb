{
 "cells": [
  {
   "cell_type": "code",
   "execution_count": 2,
   "metadata": {
    "collapsed": false
   },
   "outputs": [
    {
     "name": "stderr",
     "output_type": "stream",
     "text": [
      "/Users/mikesivley/anaconda/lib/python2.7/site-packages/matplotlib/__init__.py:872: UserWarning: axes.color_cycle is deprecated and replaced with axes.prop_cycle; please use the latter.\n",
      "  warnings.warn(self.msg_depr % (key, alt_key))\n"
     ]
    }
   ],
   "source": [
    "import matplotlib as mpl\n",
    "import matplotlib.pyplot as plt\n",
    "import seaborn as sns\n",
    "from itertools import cycle\n",
    "%matplotlib inline\n",
    "import numpy as np\n",
    "import pandas as pd\n",
    "pd.set_option('max_rows',1000)\n",
    "import os\n",
    "from qvalue import estimate\n",
    "from glob import iglob"
   ]
  },
  {
   "cell_type": "code",
   "execution_count": 3,
   "metadata": {
    "collapsed": true
   },
   "outputs": [],
   "source": [
    "mod2unp = pd.read_csv(\"modbase2unpac.txt\",delimiter='\\t')"
   ]
  },
  {
   "cell_type": "code",
   "execution_count": 4,
   "metadata": {
    "collapsed": false
   },
   "outputs": [
    {
     "name": "stdout",
     "output_type": "stream",
     "text": [
      "Number of ModBase models evaluated:   59178\n",
      "Nmber of unique proteins analyzed:    13478\n",
      "Nmber of unique significant proteins: 0\n"
     ]
    }
   ],
   "source": [
    "# Load the ExAC nsSNV results\n",
    "ns  = pd.read_csv(\"/Volumes/sivleyrm/pdbmap/results/specialK_analysis_2016-06-28/modbase_exac/daf_K_summary.txt\",delimiter='\\t')\n",
    "ns  = ns.merge(mod2unp,left_on=\"structid\",right_on=\"modelid\")\n",
    "print \"Number of ModBase models evaluated:   %d\"%len(ns)\n",
    "wns = ns.copy()\n",
    "print \"Nmber of unique proteins analyzed:    %d\"%len(ns.sort_values(by=\"Kp\").drop_duplicates(\"unp\"))\n",
    "# Calculate FDR for un-weighted\n",
    "ns.ix[~ns[ \"Kp\"].isnull(), \"Kq\"], K_lam, K_pi = estimate(ns.ix[~ns[ \"Kp\"].isnull(), \"Kp\"].values)\n",
    "# Calculate FDR for weighted\n",
    "wns.ix[~wns[\"wKp\"].isnull(),\"wKq\"],wK_lam,wK_pi = estimate(wns.ix[~wns[\"wKp\"].isnull(),\"wKp\"].values)\n",
    "print \"Nmber of unique significant proteins: %d\"%len(ns[ns[\"Kq\"]<0.1].drop_duplicates(\"unp\"))"
   ]
  },
  {
   "cell_type": "code",
   "execution_count": 5,
   "metadata": {
    "collapsed": false
   },
   "outputs": [
    {
     "name": "stdout",
     "output_type": "stream",
     "text": [
      "Number of ModBase models evaluated: 4298\n",
      "NUmber of unique proteins analyzed: 1129\n",
      "Nmber of unique significant proteins: 151\n"
     ]
    }
   ],
   "source": [
    "# Load the ClinVar pathogenic results\n",
    "cv = pd.read_csv(\"/Volumes/sivleyrm/pdbmap/results/specialK_analysis_2016-06-21/modbase_clinvar/pathogenic_K_summary.txt\",delimiter='\\t')\n",
    "cv = cv.merge(mod2unp,left_on=\"structid\",right_on=\"modelid\")\n",
    "print \"Number of ModBase models evaluated: %d\"%len(cv)\n",
    "print \"NUmber of unique proteins analyzed: %d\"%len(cv.sort_values(by=\"Kp\").drop_duplicates(\"unp\"))\n",
    "cv.ix[~cv[ \"Kp\"].isnull(), \"Kq\"], K_lam, K_pi = estimate(cv.ix[~cv[ \"Kp\"].isnull(), \"Kp\"].values)\n",
    "print \"Nmber of unique significant proteins: %d\"%len(cv[cv[\"Kq\"]<0.1].drop_duplicates(\"unp\"))"
   ]
  },
  {
   "cell_type": "code",
   "execution_count": 6,
   "metadata": {
    "collapsed": false
   },
   "outputs": [
    {
     "name": "stdout",
     "output_type": "stream",
     "text": [
      "Number of ModBase models evaluated: 100955\n",
      "NUmber of unique proteins analyzed: 16962\n",
      "Nmber of unique significant proteins: 43\n"
     ]
    }
   ],
   "source": [
    "# Load the COSMIC somatic results\n",
    "csm  = pd.read_csv(\"/Volumes/sivleyrm/pdbmap/results/specialK_analysis_2016-06-21/modbase_cosmic/recurrence_K_summary.txt\",delimiter='\\t')\n",
    "csm  = csm.merge(mod2unp,left_on=\"structid\",right_on=\"modelid\")\n",
    "wcsm = csm.copy()\n",
    "print \"Number of ModBase models evaluated: %d\"%len(csm)\n",
    "print \"NUmber of unique proteins analyzed: %d\"%len(csm.sort_values(by=\"Kp\").drop_duplicates(\"unp\"))\n",
    "# Calculate FDR for un-weighted\n",
    "csm.ix[~csm[ \"Kp\"].isnull(), \"Kq\"], K_lam, K_pi = estimate(csm.ix[~csm[ \"Kp\"].isnull(), \"Kp\"].values)\n",
    "# Calculate FDR for weighted\n",
    "wcsm.ix[~wcsm[\"wKp\"].isnull(),\"wKq\"],wK_lam,wK_pi = estimate(wcsm.ix[~wcsm[\"wKp\"].isnull(),\"wKp\"].values)\n",
    "print \"Nmber of unique significant proteins: %d\"%len(csm[csm[\"Kq\"]<0.1].drop_duplicates(\"unp\"))"
   ]
  },
  {
   "cell_type": "code",
   "execution_count": 7,
   "metadata": {
    "collapsed": false,
    "scrolled": false
   },
   "outputs": [
    {
     "ename": "ValueError",
     "evalue": "min() arg is an empty sequence",
     "output_type": "error",
     "traceback": [
      "\u001b[0;31m---------------------------------------------------------------------------\u001b[0m",
      "\u001b[0;31mValueError\u001b[0m                                Traceback (most recent call last)",
      "\u001b[0;32m<ipython-input-7-826601c36942>\u001b[0m in \u001b[0;36m<module>\u001b[0;34m()\u001b[0m\n\u001b[1;32m      7\u001b[0m \u001b[0mdf\u001b[0m \u001b[0;34m=\u001b[0m \u001b[0mns\u001b[0m\u001b[0;34m[\u001b[0m\u001b[0;34m(\u001b[0m\u001b[0mns\u001b[0m\u001b[0;34m[\u001b[0m\u001b[0;34m\"Kq\"\u001b[0m\u001b[0;34m]\u001b[0m\u001b[0;34m<\u001b[0m\u001b[0;36m0.1\u001b[0m\u001b[0;34m)\u001b[0m \u001b[0;34m&\u001b[0m \u001b[0;34m(\u001b[0m\u001b[0mns\u001b[0m\u001b[0;34m[\u001b[0m\u001b[0;34m\"Kz\"\u001b[0m\u001b[0;34m]\u001b[0m\u001b[0;34m>\u001b[0m\u001b[0;36m0\u001b[0m\u001b[0;34m)\u001b[0m\u001b[0;34m]\u001b[0m\u001b[0;34m\u001b[0m\u001b[0m\n\u001b[1;32m      8\u001b[0m \u001b[0mdf\u001b[0m\u001b[0;34m[\u001b[0m\u001b[0;34m'dummy'\u001b[0m\u001b[0;34m]\u001b[0m \u001b[0;34m=\u001b[0m \u001b[0;34m''\u001b[0m\u001b[0;34m\u001b[0m\u001b[0m\n\u001b[0;32m----> 9\u001b[0;31m \u001b[0msns\u001b[0m\u001b[0;34m.\u001b[0m\u001b[0mviolinplot\u001b[0m\u001b[0;34m(\u001b[0m\u001b[0mx\u001b[0m\u001b[0;34m=\u001b[0m\u001b[0;34m'T'\u001b[0m\u001b[0;34m,\u001b[0m\u001b[0my\u001b[0m\u001b[0;34m=\u001b[0m\u001b[0;34m'dummy'\u001b[0m\u001b[0;34m,\u001b[0m\u001b[0mdata\u001b[0m\u001b[0;34m=\u001b[0m\u001b[0mdf\u001b[0m\u001b[0;34m,\u001b[0m\u001b[0minner\u001b[0m\u001b[0;34m=\u001b[0m\u001b[0;34m'quart'\u001b[0m\u001b[0;34m,\u001b[0m\u001b[0mcolor\u001b[0m\u001b[0;34m=\u001b[0m\u001b[0mpal\u001b[0m\u001b[0;34m[\u001b[0m\u001b[0;36m0\u001b[0m\u001b[0;34m]\u001b[0m\u001b[0;34m,\u001b[0m\u001b[0mscale\u001b[0m\u001b[0;34m=\u001b[0m\u001b[0;34m'width'\u001b[0m\u001b[0;34m,\u001b[0m\u001b[0mcut\u001b[0m\u001b[0;34m=\u001b[0m\u001b[0;36m0\u001b[0m\u001b[0;34m,\u001b[0m\u001b[0max\u001b[0m\u001b[0;34m=\u001b[0m\u001b[0max\u001b[0m\u001b[0;34m[\u001b[0m\u001b[0;36m0\u001b[0m\u001b[0;34m]\u001b[0m\u001b[0;34m)\u001b[0m\u001b[0;34m\u001b[0m\u001b[0m\n\u001b[0m\u001b[1;32m     10\u001b[0m \u001b[0msns\u001b[0m\u001b[0;34m.\u001b[0m\u001b[0mstripplot\u001b[0m\u001b[0;34m(\u001b[0m\u001b[0mx\u001b[0m\u001b[0;34m=\u001b[0m\u001b[0;34m'T'\u001b[0m\u001b[0;34m,\u001b[0m\u001b[0my\u001b[0m\u001b[0;34m=\u001b[0m\u001b[0;34m'dummy'\u001b[0m\u001b[0;34m,\u001b[0m\u001b[0mdata\u001b[0m\u001b[0;34m=\u001b[0m\u001b[0mdf\u001b[0m\u001b[0;34m,\u001b[0m\u001b[0mjitter\u001b[0m\u001b[0;34m=\u001b[0m\u001b[0mTrue\u001b[0m\u001b[0;34m,\u001b[0m\u001b[0mlw\u001b[0m\u001b[0;34m=\u001b[0m\u001b[0;36m2\u001b[0m\u001b[0;34m,\u001b[0m\u001b[0mcolor\u001b[0m\u001b[0;34m=\u001b[0m\u001b[0mpal\u001b[0m\u001b[0;34m[\u001b[0m\u001b[0;36m0\u001b[0m\u001b[0;34m]\u001b[0m\u001b[0;34m,\u001b[0m\u001b[0morient\u001b[0m\u001b[0;34m=\u001b[0m\u001b[0;34m'h'\u001b[0m\u001b[0;34m,\u001b[0m\u001b[0medgecolor\u001b[0m\u001b[0;34m=\u001b[0m\u001b[0;34m'white'\u001b[0m\u001b[0;34m,\u001b[0m\u001b[0msize\u001b[0m\u001b[0;34m=\u001b[0m\u001b[0;36m10\u001b[0m\u001b[0;34m,\u001b[0m\u001b[0max\u001b[0m\u001b[0;34m=\u001b[0m\u001b[0max\u001b[0m\u001b[0;34m[\u001b[0m\u001b[0;36m0\u001b[0m\u001b[0;34m]\u001b[0m\u001b[0;34m)\u001b[0m\u001b[0;34m\u001b[0m\u001b[0m\n\u001b[1;32m     11\u001b[0m \u001b[0max\u001b[0m\u001b[0;34m[\u001b[0m\u001b[0;36m0\u001b[0m\u001b[0;34m]\u001b[0m\u001b[0;34m.\u001b[0m\u001b[0mset_ylabel\u001b[0m\u001b[0;34m(\u001b[0m\u001b[0;34m\"ExAC\\nMissense\"\u001b[0m\u001b[0;34m,\u001b[0m\u001b[0mfontsize\u001b[0m\u001b[0;34m=\u001b[0m\u001b[0;36m25\u001b[0m\u001b[0;34m,\u001b[0m\u001b[0mrotation\u001b[0m\u001b[0;34m=\u001b[0m\u001b[0;34m'horizontal'\u001b[0m\u001b[0;34m,\u001b[0m\u001b[0mha\u001b[0m\u001b[0;34m=\u001b[0m\u001b[0;34m'right'\u001b[0m\u001b[0;34m)\u001b[0m\u001b[0;34m\u001b[0m\u001b[0m\n",
      "\u001b[0;32m/Users/mikesivley/anaconda/lib/python2.7/site-packages/seaborn/categorical.pyc\u001b[0m in \u001b[0;36mviolinplot\u001b[0;34m(x, y, hue, data, order, hue_order, bw, cut, scale, scale_hue, gridsize, width, inner, split, orient, linewidth, color, palette, saturation, ax, **kwargs)\u001b[0m\n\u001b[1;32m   2345\u001b[0m                              \u001b[0mbw\u001b[0m\u001b[0;34m,\u001b[0m \u001b[0mcut\u001b[0m\u001b[0;34m,\u001b[0m \u001b[0mscale\u001b[0m\u001b[0;34m,\u001b[0m \u001b[0mscale_hue\u001b[0m\u001b[0;34m,\u001b[0m \u001b[0mgridsize\u001b[0m\u001b[0;34m,\u001b[0m\u001b[0;34m\u001b[0m\u001b[0m\n\u001b[1;32m   2346\u001b[0m                              \u001b[0mwidth\u001b[0m\u001b[0;34m,\u001b[0m \u001b[0minner\u001b[0m\u001b[0;34m,\u001b[0m \u001b[0msplit\u001b[0m\u001b[0;34m,\u001b[0m \u001b[0morient\u001b[0m\u001b[0;34m,\u001b[0m \u001b[0mlinewidth\u001b[0m\u001b[0;34m,\u001b[0m\u001b[0;34m\u001b[0m\u001b[0m\n\u001b[0;32m-> 2347\u001b[0;31m                              color, palette, saturation)\n\u001b[0m\u001b[1;32m   2348\u001b[0m \u001b[0;34m\u001b[0m\u001b[0m\n\u001b[1;32m   2349\u001b[0m     \u001b[0;32mif\u001b[0m \u001b[0max\u001b[0m \u001b[0;32mis\u001b[0m \u001b[0mNone\u001b[0m\u001b[0;34m:\u001b[0m\u001b[0;34m\u001b[0m\u001b[0m\n",
      "\u001b[0;32m/Users/mikesivley/anaconda/lib/python2.7/site-packages/seaborn/categorical.pyc\u001b[0m in \u001b[0;36m__init__\u001b[0;34m(self, x, y, hue, data, order, hue_order, bw, cut, scale, scale_hue, gridsize, width, inner, split, orient, linewidth, color, palette, saturation)\u001b[0m\n\u001b[1;32m    540\u001b[0m \u001b[0;34m\u001b[0m\u001b[0m\n\u001b[1;32m    541\u001b[0m         \u001b[0mself\u001b[0m\u001b[0;34m.\u001b[0m\u001b[0mestablish_variables\u001b[0m\u001b[0;34m(\u001b[0m\u001b[0mx\u001b[0m\u001b[0;34m,\u001b[0m \u001b[0my\u001b[0m\u001b[0;34m,\u001b[0m \u001b[0mhue\u001b[0m\u001b[0;34m,\u001b[0m \u001b[0mdata\u001b[0m\u001b[0;34m,\u001b[0m \u001b[0morient\u001b[0m\u001b[0;34m,\u001b[0m \u001b[0morder\u001b[0m\u001b[0;34m,\u001b[0m \u001b[0mhue_order\u001b[0m\u001b[0;34m)\u001b[0m\u001b[0;34m\u001b[0m\u001b[0m\n\u001b[0;32m--> 542\u001b[0;31m         \u001b[0mself\u001b[0m\u001b[0;34m.\u001b[0m\u001b[0mestablish_colors\u001b[0m\u001b[0;34m(\u001b[0m\u001b[0mcolor\u001b[0m\u001b[0;34m,\u001b[0m \u001b[0mpalette\u001b[0m\u001b[0;34m,\u001b[0m \u001b[0msaturation\u001b[0m\u001b[0;34m)\u001b[0m\u001b[0;34m\u001b[0m\u001b[0m\n\u001b[0m\u001b[1;32m    543\u001b[0m         \u001b[0mself\u001b[0m\u001b[0;34m.\u001b[0m\u001b[0mestimate_densities\u001b[0m\u001b[0;34m(\u001b[0m\u001b[0mbw\u001b[0m\u001b[0;34m,\u001b[0m \u001b[0mcut\u001b[0m\u001b[0;34m,\u001b[0m \u001b[0mscale\u001b[0m\u001b[0;34m,\u001b[0m \u001b[0mscale_hue\u001b[0m\u001b[0;34m,\u001b[0m \u001b[0mgridsize\u001b[0m\u001b[0;34m)\u001b[0m\u001b[0;34m\u001b[0m\u001b[0m\n\u001b[1;32m    544\u001b[0m \u001b[0;34m\u001b[0m\u001b[0m\n",
      "\u001b[0;32m/Users/mikesivley/anaconda/lib/python2.7/site-packages/seaborn/categorical.pyc\u001b[0m in \u001b[0;36mestablish_colors\u001b[0;34m(self, color, palette, saturation)\u001b[0m\n\u001b[1;32m    304\u001b[0m         \u001b[0;31m# Determine the gray color to use for the lines framing the plot\u001b[0m\u001b[0;34m\u001b[0m\u001b[0;34m\u001b[0m\u001b[0m\n\u001b[1;32m    305\u001b[0m         \u001b[0mlight_vals\u001b[0m \u001b[0;34m=\u001b[0m \u001b[0;34m[\u001b[0m\u001b[0mcolorsys\u001b[0m\u001b[0;34m.\u001b[0m\u001b[0mrgb_to_hls\u001b[0m\u001b[0;34m(\u001b[0m\u001b[0;34m*\u001b[0m\u001b[0mc\u001b[0m\u001b[0;34m)\u001b[0m\u001b[0;34m[\u001b[0m\u001b[0;36m1\u001b[0m\u001b[0;34m]\u001b[0m \u001b[0;32mfor\u001b[0m \u001b[0mc\u001b[0m \u001b[0;32min\u001b[0m \u001b[0mrgb_colors\u001b[0m\u001b[0;34m]\u001b[0m\u001b[0;34m\u001b[0m\u001b[0m\n\u001b[0;32m--> 306\u001b[0;31m         \u001b[0ml\u001b[0m \u001b[0;34m=\u001b[0m \u001b[0mmin\u001b[0m\u001b[0;34m(\u001b[0m\u001b[0mlight_vals\u001b[0m\u001b[0;34m)\u001b[0m \u001b[0;34m*\u001b[0m \u001b[0;36m.6\u001b[0m\u001b[0;34m\u001b[0m\u001b[0m\n\u001b[0m\u001b[1;32m    307\u001b[0m         \u001b[0mgray\u001b[0m \u001b[0;34m=\u001b[0m \u001b[0mmpl\u001b[0m\u001b[0;34m.\u001b[0m\u001b[0mcolors\u001b[0m\u001b[0;34m.\u001b[0m\u001b[0mrgb2hex\u001b[0m\u001b[0;34m(\u001b[0m\u001b[0;34m(\u001b[0m\u001b[0ml\u001b[0m\u001b[0;34m,\u001b[0m \u001b[0ml\u001b[0m\u001b[0;34m,\u001b[0m \u001b[0ml\u001b[0m\u001b[0;34m)\u001b[0m\u001b[0;34m)\u001b[0m\u001b[0;34m\u001b[0m\u001b[0m\n\u001b[1;32m    308\u001b[0m \u001b[0;34m\u001b[0m\u001b[0m\n",
      "\u001b[0;31mValueError\u001b[0m: min() arg is an empty sequence"
     ]
    },
    {
     "data": {
      "image/png": "[encoded data removed]",
      "text/plain": [
       "<matplotlib.figure.Figure at 0x1044f3090>"
      ]
     },
     "metadata": {},
     "output_type": "display_data"
    }
   ],
   "source": [
    "# Setup the plot\n",
    "fig,ax = plt.subplots(3,1,figsize=(20,6),sharex=True,facecolor='white')\n",
    "plt.subplots_adjust(wspace=0, hspace=0)\n",
    "pal = list(sns.color_palette(\"Set1\", n_colors=4, desat=.5))\n",
    "\n",
    "# Plot the FDR-significant K for ExAC nsSNVs\n",
    "df = ns[(ns[\"Kq\"]<0.1) & (ns[\"Kz\"]>0)]\n",
    "df['dummy'] = ''\n",
    "sns.violinplot(x='T',y='dummy',data=df,inner='quart',color=pal[0],scale='width',cut=0,ax=ax[0])\n",
    "sns.stripplot(x='T',y='dummy',data=df,jitter=True,lw=2,color=pal[0],orient='h',edgecolor='white',size=10,ax=ax[0])\n",
    "ax[0].set_ylabel(\"ExAC\\nMissense\",fontsize=25,rotation='horizontal',ha='right')\n",
    "handles, labels = ax[0].get_legend_handles_labels()\n",
    "ax[0].legend(fontsize=20,handles=handles[:2])\n",
    "\n",
    "# Plot the FDR-significant K for COSMIC somatic nsSNVs\n",
    "df = csm[(csm[\"Kq\"]<0.1) & (csm[\"Kz\"]>0)]\n",
    "df['dummy'] = ''\n",
    "sns.violinplot(x='T',y='dummy',data=df,inner='quart',color=pal[1],scale='width',cut=0,ax=ax[1])\n",
    "sns.stripplot(x='T',y='dummy',data=df,jitter=True,lw=2,color=pal[1],orient='h',edgecolor='white',size=10,ax=ax[1])\n",
    "ax[1].set_ylabel(\"COSMIC\\nSomatic\",fontsize=25,rotation='horizontal',ha='right')\n",
    "handles, labels = ax[1].get_legend_handles_labels()\n",
    "ax[1].legend(fontsize=20,handles=handles[:2])\n",
    "\n",
    "# Plot the FDR-significant K for ClinVar pathogenic nsSNVs\n",
    "df = cv[(cv[\"Kq\"]<0.1) & (cv[\"Kz\"]>0)]\n",
    "df['dummy'] = ''\n",
    "sns.violinplot(x='T',y='dummy',data=df,inner='quart',color=pal[2],scale='width',cut=0,ax=ax[2])\n",
    "sns.stripplot(x='T',y='dummy',data=df,jitter=True,lw=2,color=pal[2],orient='h',edgecolor='white',size=10,ax=ax[2])\n",
    "ax[2].set_ylabel(\"ClinVar\\nPathogenic\",fontsize=25,rotation='horizontal',ha='right')\n",
    "handles, labels = ax[2].get_legend_handles_labels()\n",
    "ax[2].legend(fontsize=20,handles=handles[:2])\n",
    "\n",
    "plt.rcParams['xtick.labelsize'] = 20\n",
    "plt.xlabel(\"Optimal Distance Threshold\",fontsize=23)\n",
    "for x in ax:\n",
    "    x.axvline(x=10,c='darkorange',ls='dashed',lw=3)\n",
    "plt.xlim([0,70])\n",
    "plt.suptitle(\"Optimal Distance Thresholds for Proteins with Significant Clustering\",fontsize=28,y=0.97)\n",
    "plt.show()"
   ]
  },
  {
   "cell_type": "code",
   "execution_count": null,
   "metadata": {
    "collapsed": false
   },
   "outputs": [],
   "source": [
    "print len(ns.ix[(ns[\"Kq\"]<0.1) & (ns[\"Kz\"]>0),\"unp\"].drop_duplicates())\n",
    "print len(csm.ix[(csm[\"Kq\"]<0.1) & (csm[\"Kz\"]>0),\"unp\"].drop_duplicates())\n",
    "print len(cv.ix[(cv[\"Kq\"]<0.1) & (cv[\"Kz\"]>0),\"unp\"].drop_duplicates())"
   ]
  },
  {
   "cell_type": "code",
   "execution_count": null,
   "metadata": {
    "collapsed": false
   },
   "outputs": [],
   "source": [
    "from scipy.stats import mannwhitneyu\n",
    "print \"Mann-Whitney U Comparisons\"\n",
    "u,p = mannwhitneyu(ns.ix[(ns[\"Kq\"]<0.1) & (ns[\"Kz\"]>0),\"Kz\"],csm.ix[(csm[\"Kq\"]<0.1) & (csm[\"Kz\"]>0),\"Kz\"])\n",
    "print \"Nonsynonymous-COSMIC:      p = %4.2g\"%p\n",
    "u,p = mannwhitneyu(ns.ix[(ns[\"Kq\"]<0.1) & (ns[\"Kz\"]>0),\"Kz\"],cv.ix[(cv[\"Kq\"]<0.1) & (cv[\"Kz\"]>0),\"Kz\"])\n",
    "print \"Nonsynonymous-ClinVar:     p = %4.2g\"%p\n",
    "u,p = mannwhitneyu(csm.ix[(csm[\"Kq\"]<0.1) & (csm[\"Kz\"]>0),\"Kz\"],cv.ix[(cv[\"Kq\"]<0.1) & (cv[\"Kz\"]>0),\"Kz\"])\n",
    "print \"COSMIC-ClinVar:            p = %4.2g\"%p"
   ]
  },
  {
   "cell_type": "code",
   "execution_count": null,
   "metadata": {
    "collapsed": false
   },
   "outputs": [],
   "source": [
    "print ns.ix[(ns[\"Kq\"]<0.1) & (ns[\"T\"]>60),[\"structid\",\"chain\"]]"
   ]
  },
  {
   "cell_type": "code",
   "execution_count": null,
   "metadata": {
    "collapsed": false
   },
   "outputs": [],
   "source": [
    "print \"Optimal Threshold Medians:\"\n",
    "print \"ExAC:    %2d\"%ns.ix[(ns[\"Kq\"]<0.1)  & (ns[\"Kz\"]>0),\"T\"].median()\n",
    "print \"COSMIC:  %2d\"%csm.ix[(csm[\"Kq\"]<0.1) & (csm[\"Kz\"]>0),\"T\"].median()\n",
    "print \"ClinVar: %2d\"%cv.ix[(cv[\"Kq\"]<0.1)  & (cv[\"Kz\"]>0),\"T\"].median()"
   ]
  },
  {
   "cell_type": "code",
   "execution_count": null,
   "metadata": {
    "collapsed": false
   },
   "outputs": [],
   "source": [
    "print \"Proportion of Optimal Thresholds > 10 Angstroms:\"\n",
    "print \"ExAC:    %.2f\"%(((ns[\"Kq\"]<0.1) & (ns[\"Kz\"]>0) & (ns[\"T\"]>10.)).sum()/float(((ns[\"Kq\"]<0.1) & (ns[\"Kz\"]>0)).sum()))\n",
    "print \"COSMIC:  %.2f\"%(((csm[\"Kq\"]<0.1) & (csm[\"Kz\"]>0) & (csm[\"T\"]>10.)).sum()/float(((csm[\"Kq\"]<0.1) & (csm[\"Kz\"]>0)).sum()))\n",
    "print \"ClinVar: %.2f\"%(((cv[\"Kq\"]<0.1) & (cv[\"Kz\"]>0) & (cv[\"T\"]>10.)).sum()/float(((cv[\"Kq\"]<0.1) & (cv[\"Kz\"]>0)).sum()))"
   ]
  },
  {
   "cell_type": "code",
   "execution_count": null,
   "metadata": {
    "collapsed": false
   },
   "outputs": [],
   "source": [
    "# Wilcoxon Rank Sum test\n",
    "from scipy.stats import mannwhitneyu\n",
    "print \"Mann-Whitney U Tests for Optimal Distance Threshold Distributions:\\n\"\n",
    "\n",
    "u,p = mannwhitneyu(ns.ix[(ns[\"Kq\"]<0.1) & (ns[\"Kz\"]>0),\"T\"],csm.ix[(csm[\"Kq\"]<0.1) & (csm[\"Kz\"]>0),\"T\"])\n",
    "print \"ExAC-COSMIC:    U=%6.1f p=%.3g\"%(u,p)\n",
    "\n",
    "u,p = mannwhitneyu(ns.ix[(ns[\"Kq\"]<0.1) & (ns[\"Kz\"]>0),\"T\"],cv.ix[(cv[\"Kq\"]<0.1) & (cv[\"Kz\"]>0),\"T\"])\n",
    "print \"ExAC-ClinVar:   U=%6.1f p=%.3g\"%(u,p)\n",
    "\n",
    "u,p = mannwhitneyu(csm.ix[(csm[\"Kq\"]<0.1) & (csm[\"Kz\"]>0),\"T\"],cv.ix[cv[\"Kq\"]<0.1,\"T\"])\n",
    "print \"COSMIC-Clinvar: U=%6.1f p=%.3g\"%(u,p)"
   ]
  },
  {
   "cell_type": "code",
   "execution_count": null,
   "metadata": {
    "collapsed": true
   },
   "outputs": [],
   "source": []
  }
 ],
 "metadata": {
  "kernelspec": {
   "display_name": "Python 2",
   "language": "python",
   "name": "python2"
  },
  "language_info": {
   "codemirror_mode": {
    "name": "ipython",
    "version": 2
   },
   "file_extension": ".py",
   "mimetype": "text/x-python",
   "name": "python",
   "nbconvert_exporter": "python",
   "pygments_lexer": "ipython2",
   "version": "2.7.12"
  }
 },
 "nbformat": 4,
 "nbformat_minor": 0
}
