{
 "cells": [
  {
   "cell_type": "code",
   "execution_count": 9,
   "metadata": {
    "collapsed": false
   },
   "outputs": [],
   "source": [
    "import matplotlib as mpl\n",
    "import matplotlib.pyplot as plt\n",
    "import seaborn as sns\n",
    "%matplotlib inline\n",
    "import numpy as np\n",
    "import pandas as pd\n",
    "pd.set_option('max_rows',1000)\n",
    "import os\n",
    "from glob import iglob"
   ]
  },
  {
   "cell_type": "code",
   "execution_count": 10,
   "metadata": {
    "collapsed": false
   },
   "outputs": [],
   "source": [
    "# Load all structural p-values across both analyses\n",
    "df = pd.read_csv(\"/Volumes/sivleyrm/pdbmap/results/specialK_analysis_2016-05-06/clinvar/pathogenic_K_summary.txt\",delimiter='\\t')"
   ]
  },
  {
   "cell_type": "code",
   "execution_count": 11,
   "metadata": {
    "collapsed": false
   },
   "outputs": [
    {
     "name": "stdout",
     "output_type": "stream",
     "text": [
      "Number of structures evaluated:\n",
      "453\n",
      "Number of variants evluated:\n",
      "4827\n",
      "\n",
      "Proteins passing an FDR of 10% for the unweighted analysis\n",
      "Significant:     88\n",
      "    Clustered:   88\n",
      "    Dispersed:    0\n"
     ]
    }
   ],
   "source": [
    "print \"Number of structures evaluated:\"\n",
    "print len(df)\n",
    "print \"Number of variants evluated:\"\n",
    "print \"%.0f\"%np.sum(df[\"N\"])\n",
    "\n",
    "from qvalue import estimate\n",
    "THRESH = 0.1\n",
    "\n",
    "df.ix[~df[ \"Kp\"].isnull(), \"Kq\"], K_lam, K_pi = estimate(df.ix[~df[ \"Kp\"].isnull(), \"Kp\"].values)\n",
    "\n",
    "print \"\\nProteins passing an FDR of %.0f%% for the unweighted analysis\"%(THRESH*100)\n",
    "print \"Significant:   %4d\"%( df['Kq']<THRESH).sum()\n",
    "print \"    Clustered: %4d\"%((df['Kq']<THRESH) & (df[\"Kz\"]>0)).sum()\n",
    "print \"    Dispersed: %4d\"%((df['Kq']<THRESH) & (df[\"Kz\"]<0)).sum()"
   ]
  },
  {
   "cell_type": "code",
   "execution_count": 13,
   "metadata": {
    "collapsed": true
   },
   "outputs": [],
   "source": [
    "df.to_csv(\"/Volumes/sivleyrm/pdbmap/results/ripleysK_results/pdb_clinvar_missense_univariate.txt\",\n",
    "            header=False,index=False,sep=\"\\t\",na_rep=\"\\N\")"
   ]
  },
  {
   "cell_type": "code",
   "execution_count": null,
   "metadata": {
    "collapsed": false
   },
   "outputs": [],
   "source": [
    "# P-Value Distributions\n",
    "fig,ax = plt.subplots(1,1,figsize=(20,6))\n",
    "plt.suptitle(\"P-Value Distributions for ExAC Univariate K\",fontsize=25,y=1.02)\n",
    "ax.set_xlabel(\"Un-Weighted K p-value\",fontsize=20)\n",
    "# ax[0].hist(df[\"Kzp\"],bins=np.arange(0,1.02,0.02),color=\"darkblue\",normed=True)\n",
    "ax.hist(df[\"Kp\"],bins=np.arange(0,1.02,0.02),color=\"darkred\",alpha=0.8,normed=True)\n",
    "ax.plot(K_lam,K_pi,lw=3,c='cornflowerblue')\n",
    "plt.tight_layout()\n",
    "plt.show()"
   ]
  },
  {
   "cell_type": "code",
   "execution_count": null,
   "metadata": {
    "collapsed": false
   },
   "outputs": [],
   "source": [
    "dfv = pd.DataFrame(df[[\"Kp\",\"Kz\"]].values,columns=[\"p\",\"z\"])\n",
    "dfv['q'] = estimate(dfv[\"p\"].values)[0]\n",
    "dfv[\"w\"] = \"un-weighted\"\n",
    "dfv['dummy'] = \"\"\n",
    "\n",
    "fig,ax = plt.subplots(1,3,figsize=(20,10),sharey=True)\n",
    "sns.violinplot(x='dummy',y=\"z\",hue='w',data=dfv,ax=ax[0],cut=1,orient='v',inner='quart')\n",
    "dfv1 = dfv[dfv[\"p\"]<0.05]\n",
    "if not dfv1.empty:\n",
    "    split = (dfv1[\"w\"]==\"weighted\").sum() > 0\n",
    "    sns.violinplot(x='dummy',y=\"z\",hue='w',data=dfv1,ax=ax[1],orient='v',split=split,cut=0,inner='quart')\n",
    "    sns.stripplot( x='dummy',y=\"z\",hue='w',data=dfv1,ax=ax[1],orient='v',split=True,jitter=True,s=7,lw=1,edgecolor='white')\n",
    "dfv1 = dfv[dfv[\"q\"]<THRESH]\n",
    "if not dfv1.empty:\n",
    "    split = (dfv1[\"w\"]==\"weighted\").sum() > 0\n",
    "    sns.violinplot(x='dummy',y=\"z\",hue='w',data=dfv1,ax=ax[2],orient='v',split=split,cut=0,inner='quart')\n",
    "    sns.stripplot( x='dummy',y=\"z\",hue='w',data=dfv1,ax=ax[2],orient='v',split=True,jitter=True,s=7,lw=1,edgecolor='white')\n",
    "ax[0].set_xlabel(\"ALL\",fontsize=15)\n",
    "ax[1].set_xlabel(\"Nominally Significant (p<0.05)\",fontsize=15)\n",
    "ax[2].set_xlabel(\"FDR Significant (q<%.2f)\"%THRESH,fontsize=15)\n",
    "ax[0].legend(fontsize=15)\n",
    "ax[1].legend(fontsize=15)\n",
    "ax[2].legend(fontsize=15)\n",
    "plt.ylim([-5,20])\n",
    "ax[0].axhline(0.,ls='dashed',c='black')\n",
    "ax[1].axhline(0.,ls='dashed',c='black')\n",
    "ax[2].axhline(0.,ls='dashed',c='black')\n",
    "plt.show()"
   ]
  },
  {
   "cell_type": "code",
   "execution_count": null,
   "metadata": {
    "collapsed": false
   },
   "outputs": [],
   "source": [
    "print \"Un-Weighted: FDR-Significant Proteins\"\n",
    "print df.ix[df[\"Kq\"]<0.1,[\"structid\",\"chain\",\"Kz\",\"Kp\",\"Kq\"]]"
   ]
  },
  {
   "cell_type": "code",
   "execution_count": null,
   "metadata": {
    "collapsed": false
   },
   "outputs": [],
   "source": [
    "# Examine how many COSMIC-significant proteins contain 3+ ClinVar nsSNVs\n",
    "# In how many of those proteins were ClinVar nsSNVs also significantly clustered?\n",
    "# These are generated from the end of the univariate COSMIC notebook\n",
    "csm_sig = ['2SHP', '2OVQ', '4NM6', '4BHW', '1D5R', '4JSP', '2WTK', '2RD0', '1RJB', '3IJ9', '3GT8', '2K60', '2Q7Z', '2Y1M', '1MFV']\n",
    "ovlp = df[df['structid'].isin(csm_sig)]\n",
    "print len(csm_sig)-len(ovlp),'of',len(csm_sig),'COSMIC-significant proteins do not contain 3+ ClinVar nsSNVs'\n",
    "print '\\n',ovlp[[\"structid\",\"chain\",\"R\",\"N\",\"Kz\",\"Kq\"]]\n",
    "print '\\n',(ovlp[\"Kq\"]<0.1).sum(),'of',len(ovlp),'of the overlapping proteins are FDR-significant in ClinVar'\n",
    "print '\\n',ovlp.ix[ovlp[\"Kq\"]<0.1,[\"structid\",\"chain\",\"R\",\"N\",\"Kz\",\"Kq\"]]"
   ]
  }
 ],
 "metadata": {
  "kernelspec": {
   "display_name": "Python 2",
   "language": "python",
   "name": "python2"
  },
  "language_info": {
   "codemirror_mode": {
    "name": "ipython",
    "version": 2
   },
   "file_extension": ".py",
   "mimetype": "text/x-python",
   "name": "python",
   "nbconvert_exporter": "python",
   "pygments_lexer": "ipython2",
   "version": "2.7.11"
  }
 },
 "nbformat": 4,
 "nbformat_minor": 0
}
