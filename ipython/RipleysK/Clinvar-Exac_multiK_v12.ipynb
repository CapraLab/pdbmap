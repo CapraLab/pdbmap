{
 "cells": [
  {
   "cell_type": "code",
   "execution_count": 1,
   "metadata": {
    "collapsed": false
   },
   "outputs": [
    {
     "name": "stderr",
     "output_type": "stream",
     "text": [
      "/Users/mikesivley/anaconda/lib/python2.7/site-packages/matplotlib/__init__.py:872: UserWarning: axes.color_cycle is deprecated and replaced with axes.prop_cycle; please use the latter.\n",
      "  warnings.warn(self.msg_depr % (key, alt_key))\n"
     ]
    }
   ],
   "source": [
    "import matplotlib as mpl\n",
    "import matplotlib.pyplot as plt\n",
    "%matplotlib inline\n",
    "import numpy as np\n",
    "import pandas as pd\n",
    "pd.set_option('max_rows',1000)\n",
    "import seaborn as sns\n",
    "import os\n",
    "from glob import iglob"
   ]
  },
  {
   "cell_type": "code",
   "execution_count": 2,
   "metadata": {
    "collapsed": false
   },
   "outputs": [],
   "source": [
    "# Load results from the D analysis\n",
    "D   = pd.read_csv(\"/Volumes/sivleyrm/pdbmap/results/multiK_analysis_2016-05-27/clinvar-exac/clinvar-exac_D_summary.txt\",delimiter='\\t')\n",
    "D   = D.drop_duplicates([\"sid\",\"chain\"])\n",
    "KAD = pd.read_csv(\"/Volumes/sivleyrm/pdbmap/results/multiK_analysis_2016-05-27/clinvar-exac/clinvar-exac_KAD_summary.txt\",delimiter='\\t')\n",
    "KAD = KAD.drop_duplicates([\"sid\",\"chain\"])\n",
    "KBD = pd.read_csv(\"/Volumes/sivleyrm/pdbmap/results/multiK_analysis_2016-05-27/clinvar-exac/clinvar-exac_KBD_summary.txt\",delimiter='\\t')\n",
    "KBD = KBD.drop_duplicates([\"sid\",\"chain\"])"
   ]
  },
  {
   "cell_type": "code",
   "execution_count": 10,
   "metadata": {
    "collapsed": false
   },
   "outputs": [
    {
     "name": "stdout",
     "output_type": "stream",
     "text": [
      "Number of structures evaluated: 450\n",
      "Number of ClinVar variants: 4858\n",
      "Number of ExAC missense variants: 28105\n",
      "\n",
      "D Proportion with nominally significant unweighted p-values:\n",
      "Permutation:  (  58) 0.1289\n",
      "\n",
      "KAD Proportion with nominally significant unweighted p-values:\n",
      "Permutation:  (  52) 0.1156\n",
      "\n",
      "KBD Proportion with nominally significant unweighted p-values:\n",
      "Permutation:  (  41) 0.0911\n"
     ]
    }
   ],
   "source": [
    "print \"Number of structures evaluated:\",\n",
    "print len(D)\n",
    "print \"Number of ClinVar variants:\",\n",
    "print D[\"Na\"].sum()\n",
    "print \"Number of ExAC missense variants:\",\n",
    "print D[\"Nb\"].sum()\n",
    "\n",
    "print \"\\nD Proportion with nominally significant unweighted p-values:\"\n",
    "print \"Permutation:  (%4d) %.4f\"%(len(D[D[\"p\"]<0.01]),len(D[D[\"p\"]<0.01]) / float(len(D)))\n",
    "# print \"Perm Z-Score: (%4d) %.4f\"%(len(D[D[\"z_p\"]<0.01]),len(D[D[\"z_p\"]<0.01]) / float(len(D)))\n",
    "\n",
    "print \"\\nKAD Proportion with nominally significant unweighted p-values:\"\n",
    "print \"Permutation:  (%4d) %.4f\"%(len(KAD[KAD[\"p\"]<0.01]),len(KAD[KAD[\"p\"]<0.01]) / float(len(KAD)))\n",
    "# print \"Perm Z-Score: (%4d) %.4f\"%(len(KAD[KAD[\"z_p\"]<0.01]),len(KAD[KAD[\"z_p\"]<0.01]) / float(len(KAD)))\n",
    "\n",
    "print \"\\nKBD Proportion with nominally significant unweighted p-values:\"\n",
    "print \"Permutation:  (%4d) %.4f\"%(len(KBD[KBD[\"p\"]<0.01]),len(KBD[KBD[\"p\"]<0.01]) / float(len(KBD)))\n",
    "# print \"Perm Z-Score: (%4d) %.4f\"%(len(KBD[KBD[\"z_p\"]<0.01]),len(KBD[KBD[\"z_p\"]<0.01]) / float(len(KBD)))"
   ]
  },
  {
   "cell_type": "code",
   "execution_count": 4,
   "metadata": {
    "collapsed": false
   },
   "outputs": [
    {
     "name": "stdout",
     "output_type": "stream",
     "text": [
      "Proteins passing an FDR of 10% for K_clinvar - K_exac\n",
      "Permutation:  110\n",
      "\n",
      "Proteins passing an FDR of 10% for K_clinvar - K*\n",
      "Permutation:   86\n",
      "\n",
      "Proteins passing an FDR of 10% for K_exac - K*\n",
      "Permutation:   61\n"
     ]
    }
   ],
   "source": [
    "from qvalue import estimate\n",
    "THRESH = 0.1\n",
    "\n",
    "D['q'],    D_lam,  D_pi = estimate(  D['p'].values)\n",
    "KAD['q'],KAD_lam,KAD_pi = estimate(KAD['p'].values)\n",
    "KBD['q'],KBD_lam,KBD_pi = estimate(KBD['p'].values)\n",
    "\n",
    "print \"Proteins passing an FDR of %.0f%% for K_clinvar - K_exac\"%(THRESH*100)\n",
    "print \"Permutation: %4d\"%(D[\"q\"]<THRESH).sum()\n",
    "\n",
    "print \"\\nProteins passing an FDR of %.0f%% for K_clinvar - K*\"%(THRESH*100)\n",
    "print \"Permutation: %4d\"%(KAD[\"q\"]<THRESH).sum()\n",
    "\n",
    "print \"\\nProteins passing an FDR of %.0f%% for K_exac - K*\"%(THRESH*100)\n",
    "print \"Permutation: %4d\"%(KBD[\"q\"]<THRESH).sum()"
   ]
  },
  {
   "cell_type": "code",
   "execution_count": 5,
   "metadata": {
    "collapsed": true
   },
   "outputs": [],
   "source": [
    "D.to_csv(\"/Volumes/sivleyrm/pdbmap/results/ripleysK_results/pdb_clinvar_exac_multivariate_D.txt\",\n",
    "            header=False,index=False,sep=\"\\t\",na_rep=\"\\N\")\n",
    "KAD.to_csv(\"/Volumes/sivleyrm/pdbmap/results/ripleysK_results/pdb_clinvar_exac_multivariate_KAD.txt\",\n",
    "            header=False,index=False,sep=\"\\t\",na_rep=\"\\N\")\n",
    "KBD.to_csv(\"/Volumes/sivleyrm/pdbmap/results/ripleysK_results/pdb_clinvar_exac_multivariate_KBD.txt\",\n",
    "            header=False,index=False,sep=\"\\t\",na_rep=\"\\N\")"
   ]
  },
  {
   "cell_type": "code",
   "execution_count": 6,
   "metadata": {
    "collapsed": false
   },
   "outputs": [
    {
     "name": "stdout",
     "output_type": "stream",
     "text": [
      "    sid chain  Na  Nb       DAB        p         z     z_p  optT         q\n",
      "0  1APJ     A   3   4 -1.083211  0.57368 -1.078748  0.2807   6.0  0.503116\n",
      "    sid chain  Na  Nb  KAD       p         z       z_p  optT        q\n",
      "0  1APJ     A   3   4  0.0  0.8564  0.003778  0.996985   6.0  0.60457\n",
      "    sid chain  Na  Nb      KBD        p         z       z_p  optT         q\n",
      "0  1APJ     A   3   4  1.52536  0.57368  1.523926  0.127527   6.0  0.467284\n"
     ]
    }
   ],
   "source": [
    "print D.head(1)\n",
    "print KAD.head(1)\n",
    "print KBD.head(1)"
   ]
  },
  {
   "cell_type": "code",
   "execution_count": 8,
   "metadata": {
    "collapsed": false
   },
   "outputs": [
    {
     "data": {
      "image/png": "[encoded data removed]",
      "text/plain": [
       "<matplotlib.figure.Figure at 0x116e634d0>"
      ]
     },
     "metadata": {},
     "output_type": "display_data"
    }
   ],
   "source": [
    "# P-Value Distributions\n",
    "fig,ax = plt.subplots(1,1,figsize=(20,6))\n",
    "plt.suptitle(\"Pathogenic-Missense Bivariate K: P-values\",fontsize=35,y=1.05)\n",
    "ax.set_xlabel(\"K_clinvar - K_exac p-value\",fontsize=25)\n",
    "ax.hist(D[\"p\"],bins=np.arange(0,1.02,0.02),color=\"darkred\",alpha=0.8)\n",
    "ax.set_yticklabels(range(0,90,10),fontsize=25)\n",
    "plt.tight_layout()\n",
    "plt.show()"
   ]
  },
  {
   "cell_type": "code",
   "execution_count": null,
   "metadata": {
    "collapsed": false
   },
   "outputs": [],
   "source": [
    "# P-Value Distributions\n",
    "fig,ax = plt.subplots(3,1,figsize=(20,10))\n",
    "plt.suptitle(\"P-Value Distributions for ClinVar-ExAC Pairwise K\",fontsize=25,y=1.02)\n",
    "\n",
    "ax[0].set_xlabel(\"K_clinvar - K_exac p-value\",fontsize=20)\n",
    "# ax[0].hist(D[\"z_p\"],bins=np.arange(0,1.02,0.02),color=\"darkblue\",normed=True)\n",
    "ax[0].hist(D[\"p\"],bins=np.arange(0,1.02,0.02),color=\"darkred\",normed=True,alpha=0.8)\n",
    "ax[0].plot(D_lam,D_pi,lw=3,c='cornflowerblue')\n",
    "\n",
    "ax[1].set_xlabel(\"K_clinvar - K* p-value\",fontsize=20)\n",
    "# ax[1].hist(KAD[\"z_p\"],bins=np.arange(0,1.02,0.02),color=\"darkblue\",normed=True)\n",
    "ax[1].hist(KAD[\"p\"],bins=np.arange(0,1.02,0.02),color=\"darkred\",normed=True,alpha=0.8)\n",
    "ax[1].plot(KAD_lam,KAD_pi,lw=3,c='cornflowerblue')\n",
    "\n",
    "ax[2].set_xlabel(\"K_exac - K* p-value\",fontsize=20)\n",
    "# ax[2].hist(KBD[\"z_p\"],bins=np.arange(0,1.02,0.02),color=\"darkblue\",normed=True)\n",
    "ax[2].hist(KBD[\"p\"],bins=np.arange(0,1.02,0.02),color=\"darkred\",normed=True,alpha=0.8)\n",
    "ax[2].plot(KBD_lam,KBD_pi,lw=3,c='cornflowerblue')\n",
    "\n",
    "plt.tight_layout()\n",
    "plt.show()"
   ]
  },
  {
   "cell_type": "code",
   "execution_count": null,
   "metadata": {
    "collapsed": false
   },
   "outputs": [],
   "source": [
    "fig,ax = plt.subplots(1,3,figsize=(20,10),sharey=True)\n",
    "sns.violinplot(  D['z'],ax=ax[0],cut=0,orient='v',inner='quart')\n",
    "sns.violinplot(KAD['z'],ax=ax[1],cut=0,orient='v',inner='quart')\n",
    "sns.violinplot(KBD['z'],ax=ax[2],cut=0,orient='v',inner='quart')\n",
    "ax[0].set_xlabel(\"D\",fontsize=20)\n",
    "ax[1].set_xlabel(\"KAD\",fontsize=20)\n",
    "ax[2].set_xlabel(\"KBD\",fontsize=20)\n",
    "plt.ylim([-5,10])\n",
    "plt.suptitle(\"Z-Score Distributions for All Proteins\",fontsize=25,y=1.02)\n",
    "ax[0].axhline(0.,ls='dashed',c='black')\n",
    "ax[1].axhline(0.,ls='dashed',c='black')\n",
    "ax[2].axhline(0.,ls='dashed',c='black')\n",
    "plt.tight_layout()\n",
    "plt.show()"
   ]
  },
  {
   "cell_type": "code",
   "execution_count": null,
   "metadata": {
    "collapsed": false
   },
   "outputs": [],
   "source": [
    "fig,ax = plt.subplots(1,3,figsize=(20,10),sharey=True)\n",
    "sns.violinplot(  D.ix[  D['p']<0.05,'z'],ax=ax[0],cut=0,orient='v',inner='quart')\n",
    "sns.stripplot(   D.ix[  D['p']<0.05,'z'],ax=ax[0],orient='v',jitter=True,lw=0.5,color='white')\n",
    "sns.violinplot(KAD.ix[KAD['p']<0.05,'z'],ax=ax[1],cut=0,orient='v',inner='quart')\n",
    "sns.stripplot( KAD.ix[KAD['p']<0.05,'z'],ax=ax[1],orient='v',jitter=True,lw=0.5,color='white')\n",
    "sns.violinplot(KBD.ix[KBD['p']<0.05,'z'],ax=ax[2],cut=0,orient='v',inner='quart')\n",
    "sns.stripplot( KBD.ix[KBD['p']<0.05,'z'],ax=ax[2],orient='v',jitter=True,lw=0.5,color='white')\n",
    "ax[0].set_xlabel(\"D\",fontsize=20)\n",
    "ax[1].set_xlabel(\"KAD\",fontsize=20)\n",
    "ax[2].set_xlabel(\"KBD\",fontsize=20)\n",
    "plt.ylim([-5,15])\n",
    "plt.suptitle(\"Z-Score Distributions for Nominally Significant Proteins (p<0.05)\",fontsize=25,y=1.02)\n",
    "ax[0].axhline(0.,ls='dashed',c='black')\n",
    "ax[1].axhline(0.,ls='dashed',c='black')\n",
    "ax[2].axhline(0.,ls='dashed',c='black')\n",
    "plt.tight_layout()\n",
    "plt.show()"
   ]
  },
  {
   "cell_type": "code",
   "execution_count": null,
   "metadata": {
    "collapsed": false
   },
   "outputs": [],
   "source": [
    "fig,ax = plt.subplots(1,3,figsize=(20,10),sharey=True)\n",
    "sns.violinplot(  D.ix[  D['q']<0.1,'z'],ax=ax[0],cut=0,orient='v',inner='quart')\n",
    "sns.stripplot(   D.ix[  D['q']<0.1,'z'],ax=ax[0],orient='v',jitter=True,lw=0.5,color='white')\n",
    "sns.violinplot(KAD.ix[KAD['q']<0.1,'z'],ax=ax[1],cut=0,orient='v',inner='quart')\n",
    "sns.stripplot( KAD.ix[KAD['q']<0.1,'z'],ax=ax[1],orient='v',jitter=True,lw=0.5,color='white')\n",
    "sns.violinplot(KBD.ix[KBD['q']<0.1,'z'],ax=ax[2],cut=0,orient='v',inner='quart')\n",
    "sns.stripplot( KBD.ix[KBD['q']<0.1,'z'],ax=ax[2],orient='v',jitter=True,lw=0.5,color='white')\n",
    "ax[0].set_xlabel(\"D\",fontsize=20)\n",
    "ax[1].set_xlabel(\"KAD\",fontsize=20)\n",
    "ax[2].set_xlabel(\"KBD\",fontsize=20)\n",
    "plt.ylim([-5,15])\n",
    "plt.suptitle(\"Z-Score Distributions for FDR Significant Proteins (q<0.1)\",fontsize=25,y=1.02)\n",
    "ax[0].axhline(0.,ls='dashed',c='black')\n",
    "ax[1].axhline(0.,ls='dashed',c='black')\n",
    "ax[2].axhline(0.,ls='dashed',c='black')\n",
    "plt.tight_layout()\n",
    "plt.show()"
   ]
  },
  {
   "cell_type": "code",
   "execution_count": null,
   "metadata": {
    "collapsed": false,
    "scrolled": false
   },
   "outputs": [],
   "source": [
    "# Identify the FDR-significant proteins\n",
    "print \"FDR-Significant Difference in Clustered-ness:\"\n",
    "print D.ix[D['q']<0.1,[\"sid\",\"chain\",\"z\",\"q\"]].sort_values(by=\"z\")\n",
    "\n",
    "print \"\\nFDR-Significant K_clinvar - K_clinvar,exac\"\n",
    "print KAD.ix[KAD['q']<0.1,[\"sid\",\"chain\",\"z\",\"q\"]].sort_values(by=\"z\")\n",
    "\n",
    "print \"\\nFDR-Significant K_exac - K_clinvar,exac\"\n",
    "print KBD.ix[KBD['q']<0.1,[\"sid\",\"chain\",\"z\",\"q\"]].sort_values(by=\"z\")"
   ]
  },
  {
   "cell_type": "code",
   "execution_count": null,
   "metadata": {
    "collapsed": false
   },
   "outputs": [],
   "source": [
    "# Look for significant segregation\n",
    "sigKAD = KAD.ix[(KAD['q']<0.1) & (KAD['z']>0),[\"sid\",\"chain\"]]\n",
    "sigKBD = KBD.ix[(KBD['q']<0.1) & (KBD['z']>0),[\"sid\",\"chain\"]]\n",
    "print \"Proteins with co-occuring, significant K1-K* and K2-K*\"\n",
    "for t in set([(s,c) for _,s,c in sigKAD.itertuples()]).intersection([(s,c) for _,s,c in sigKBD.itertuples()]):\n",
    "    print \"%s\\t%s\"%t"
   ]
  },
  {
   "cell_type": "code",
   "execution_count": null,
   "metadata": {
    "collapsed": false
   },
   "outputs": [],
   "source": [
    "# Look for significant overlap\n",
    "sigKAD = KAD.ix[(KAD['q']<0.1) & (KAD['z']<0),[\"sid\",\"chain\"]]\n",
    "sigKBD = KBD.ix[(KBD['q']<0.1) & (KBD['z']<0),[\"sid\",\"chain\"]]\n",
    "print \"Proteins with co-occuring, significant K1-K* and K2-K*\"\n",
    "for t in set([(s,c) for _,s,c in sigKAD.itertuples()]).intersection([(s,c) for _,s,c in sigKBD.itertuples()]):\n",
    "    print \"%s\\t%s\"%t"
   ]
  },
  {
   "cell_type": "code",
   "execution_count": null,
   "metadata": {
    "collapsed": false
   },
   "outputs": [],
   "source": [
    "fig,ax = plt.subplots(1,3,figsize=(20,7),sharey=True)\n",
    "df = D.copy()\n",
    "ho = ['ClinVar > ExAC Missense','ExAC Missense > ClinVar']\n",
    "df.ix[df['z']>0.,'clust'] = 'ClinVar > ExAC Missense'\n",
    "df.ix[df['clust'].isnull(),'clust'] = 'ExAC Missense > ClinVar'\n",
    "df[''] = ''\n",
    "plt.suptitle(\"Optimal Distance Thresholds by Differential Clusteredness\",fontsize=25,y=.96)\n",
    "sns.violinplot(x='',y='optT',hue='clust',data=df,split=True,cut=0,ax=ax[0],inner='quart',hue_order=ho)\n",
    "ax[0].set_xlabel(\"All Proteins\")\n",
    "sns.violinplot(x='',y='optT',hue='clust',data=df[df['p']<0.05],split=True,cut=0,ax=ax[1],inner='quart',hue_order=ho)\n",
    "sns.stripplot(x='',y='optT',hue='clust',data=df[df['p']<0.05],split=True,orient='v',jitter=True,lw=0.5,color='white',hue_order=ho,ax=ax[1])\n",
    "ax[1].set_xlabel(\"Nominally Significant Proteins\")\n",
    "sns.violinplot(x='',y='optT',hue='clust',data=df[df['q']<0.1],split=True,cut=0,ax=ax[2],inner='quart',hue_order=ho)\n",
    "sns.stripplot(x='',y='optT',hue='clust',data=df[df['q']<0.1],split=True,orient='v',jitter=True,lw=0.5,color='white',hue_order=ho,ax=ax[2])\n",
    "ax[2].set_xlabel(\"FDR-Significant Proteins\")\n",
    "plt.ylim([0,35])\n",
    "plt.show()"
   ]
  },
  {
   "cell_type": "code",
   "execution_count": null,
   "metadata": {
    "collapsed": true
   },
   "outputs": [],
   "source": []
  }
 ],
 "metadata": {
  "kernelspec": {
   "display_name": "Python 2",
   "language": "python",
   "name": "python2"
  },
  "language_info": {
   "codemirror_mode": {
    "name": "ipython",
    "version": 2
   },
   "file_extension": ".py",
   "mimetype": "text/x-python",
   "name": "python",
   "nbconvert_exporter": "python",
   "pygments_lexer": "ipython2",
   "version": "2.7.12"
  }
 },
 "nbformat": 4,
 "nbformat_minor": 0
}
