{
 "metadata": {
  "name": "",
  "signature": "sha256:fdee1fac674bf7df4aa58c81251aef89e8133ae430b2ddef989a4e573280f93d"
 },
 "nbformat": 3,
 "nbformat_minor": 0,
 "worksheets": [
  {
   "cells": [
    {
     "cell_type": "code",
     "collapsed": false,
     "input": [
      "from scipy.constants import G\n",
      "import numpy as np\n",
      "def gforce(coord1,coord2,M=0.5,m=0.5):\n",
      "    x1,y1,z1 = coord1\n",
      "    x2,y2,z2 = coord2\n",
      "    r    = np.array([x2-x1,y2-y1,z2-z1])\n",
      "    dist = np.sqrt(np.sum([d**2 for d in r]))\n",
      "    fx,fy,fz = r * ((G * M * m) / dist)\n",
      "    return fx,fy,fz"
     ],
     "language": "python",
     "metadata": {},
     "outputs": [],
     "prompt_number": 1
    },
    {
     "cell_type": "code",
     "collapsed": false,
     "input": [
      "gforce((1,1,1),(5,5,5))"
     ],
     "language": "python",
     "metadata": {},
     "outputs": [
      {
       "metadata": {},
       "output_type": "pyout",
       "prompt_number": 2,
       "text": [
        "(9.6328583013212308e-12, 9.6328583013212308e-12, 9.6328583013212308e-12)"
       ]
      }
     ],
     "prompt_number": 2
    },
    {
     "cell_type": "code",
     "collapsed": false,
     "input": [
      "import pandas as pd\n",
      "# I'd like to represent the variants dataframe/matrix\n",
      "# as a boolean mask over the residues dataframe/matrix\n",
      "# It would work just as well to include a boolean column indicating variability\n",
      "# or a numeric column indicating allele frequency\n",
      "variants = pd.read_table('../temp/1pjl_1kg_vars.txt',delimiter='\\t')\n",
      "variants.set_index('model','chain','seqid')\n",
      "variants = variants[['x','y','z']]\n",
      "residues = pd.read_table('../temp/1pjl_1kg_resis.txt',delimiter='\\t')\n",
      "residues.set_index('model','chain','seqid')\n",
      "residues = residues[['x','y','z']]"
     ],
     "language": "python",
     "metadata": {},
     "outputs": [],
     "prompt_number": 51
    },
    {
     "cell_type": "code",
     "collapsed": false,
     "input": [
      "print variants.describe()\n",
      "print residues.describe()"
     ],
     "language": "python",
     "metadata": {},
     "outputs": [
      {
       "output_type": "stream",
       "stream": "stdout",
       "text": [
        "               x          y          z\n",
        "count  52.000000  52.000000  52.000000\n",
        "mean   -0.080572   0.117427  -0.260161\n",
        "std    34.606940  18.800810  38.222671\n",
        "min   -61.268501 -35.325874 -62.177120\n",
        "25%   -27.343813 -15.778085 -31.398500\n",
        "50%    -1.993643  -1.487786   2.406257\n",
        "75%    31.254025  15.710995  33.611062\n",
        "max    62.477001  36.752876  61.924496\n",
        "                 x            y            z\n",
        "count  2148.000000  2148.000000  2148.000000\n",
        "mean     -0.107923     0.297290    -0.157200\n",
        "std      29.966003    15.723731    30.802835\n",
        "min     -70.085999   -42.393444   -71.940666\n",
        "25%     -23.526398   -11.474182   -24.366232\n",
        "50%      -1.118945     0.258050     0.674900\n",
        "75%      22.350488    11.942626    23.782424\n",
        "max      69.315887    44.676777    65.678116\n"
       ]
      }
     ],
     "prompt_number": 120
    },
    {
     "cell_type": "raw",
     "metadata": {},
     "source": []
    },
    {
     "cell_type": "code",
     "collapsed": false,
     "input": [
      "def structural_gforce(residues,variants):\n",
      "    numres = len(residues)\n",
      "    numvar = len(variants)\n",
      "    return np.array([np.sum([gforce(r,v) for j,v in variants.iterrows()],axis=0) for i,r in residues.iterrows()],dtype=np.float64)"
     ],
     "language": "python",
     "metadata": {},
     "outputs": [],
     "prompt_number": 167
    },
    {
     "cell_type": "code",
     "collapsed": false,
     "input": [
      "gmat = structural_gforce(residues,variants)\n",
      "gmat *= 1e10\n",
      "print gmat"
     ],
     "language": "python",
     "metadata": {},
     "outputs": [
      {
       "output_type": "stream",
       "stream": "stdout",
       "text": [
        "[[ 7.02848563  0.31757474 -0.81841032]\n",
        " [ 6.95654329 -0.10310199 -1.07045155]\n",
        " [ 6.81348301 -0.4150285  -0.87076304]\n",
        " ..., \n",
        " [-6.90273882 -1.04363431  1.48890002]\n",
        " [-6.82506476  1.18522062  2.6758965 ]\n",
        " [-6.75052075  1.38629578  3.06436018]]\n"
       ]
      }
     ],
     "prompt_number": 168
    },
    {
     "cell_type": "code",
     "collapsed": false,
     "input": [
      "gmat = structural_gforce(residues,variants)\n",
      "gmat *= 1e10\n",
      "print gmat"
     ],
     "language": "python",
     "metadata": {},
     "outputs": [
      {
       "output_type": "stream",
       "stream": "stdout",
       "text": [
        "[ 0.46309762  0.43875467  0.42616439 ..., -0.36057752 -0.23600543\n",
        " -0.21732959]\n"
       ]
      }
     ],
     "prompt_number": 159
    },
    {
     "cell_type": "code",
     "collapsed": false,
     "input": [
      "def structure_reduce(residues,gmat):\n",
      "    # Apply the gravitational force vector to reach residue\n",
      "    return residues + gmat"
     ],
     "language": "python",
     "metadata": {},
     "outputs": [],
     "prompt_number": 191
    },
    {
     "cell_type": "code",
     "collapsed": false,
     "input": [
      "print residues.describe()\n",
      "# print variants.describe()\n",
      "residues,variants = structure_reduce(residues,variants,gmat)\n",
      "print residues.describe()\n",
      "# print variants.describe()"
     ],
     "language": "python",
     "metadata": {},
     "outputs": [
      {
       "output_type": "stream",
       "stream": "stdout",
       "text": [
        "                 x            y            z\n",
        "count  2096.000000  2096.000000  2096.000000\n",
        "mean     -0.084902     0.162221    -0.305433\n",
        "std       6.761449     2.688544     6.898813\n",
        "min     -14.654242    -7.131601   -17.113486\n",
        "25%      -5.377207    -1.638780    -5.593270\n",
        "50%      -0.233239     0.037156    -0.225072\n",
        "75%       4.836642     1.882699     5.023293\n",
        "max      15.909196     7.935954    15.573399\n",
        "                 x            y            z\n",
        "count  2096.000000  2096.000000  2096.000000\n",
        "mean     -0.085041     0.160641    -0.312135\n",
        "std       6.035823     2.349568     6.104045\n",
        "min     -13.024609    -6.137082   -15.215389\n",
        "25%      -4.807918    -1.404364    -4.973759\n",
        "50%      -0.211119     0.057169    -0.250303\n",
        "75%       4.324905     1.623927     4.393044\n",
        "max      14.152356     6.926699    13.802767\n"
       ]
      }
     ],
     "prompt_number": 150
    },
    {
     "cell_type": "code",
     "collapsed": false,
     "input": [
      "%matplotlib inline\n",
      "import matplotlib.pyplot as plt\n",
      "import time\n",
      "\n",
      "# Read clean copied of the data\n",
      "pdb   = pd.read_table('../temp/1pjl_1kg.txt',delimiter='\\t')\n",
      "# Create two views of pdb for residues and variants\n",
      "variants = pdb[pdb['var'] == 1][['x','y','z']]\n",
      "residues = pdb[['x','y','z']]\n",
      "\n",
      "# Define an equivalence tolerance\n",
      "etol,cur_iter,max_iter = 1.0,1,51\n",
      "\n",
      "# Apply force, recompute, continue until convergence\n",
      "while cur_iter < max_iter:\n",
      "    t0 = time.time()\n",
      "    # Compute the graviational force matrix\n",
      "    gmat = structural_gforce(residues,variants) * (1e10/(cur_iter*5))\n",
      "    t1 = time.time()\n",
      "    # Apply the gravitational force matrix to the residue matrix\n",
      "    residues = structure_reduce(residues,gmat)\n",
      "    t2 = time.time()\n",
      "    print 'Iteration #%d'%cur_iter\n",
      "    # Increment the iterator\n",
      "    cur_iter += 1\n",
      "\n",
      "# Print the final results\n",
      "if cur_iter < max_iter:\n",
      "    print \"Convergence reached after %d iterations\"%cur_iter\n",
      "else:\n",
      "    print \"Maximum iterations (%d) reached\"%max_iter\n",
      "print \"Final residue matrix:\"\n",
      "print residues\n",
      "print \"Gravitational force matrix:\"\n",
      "print gmat\n"
     ],
     "language": "python",
     "metadata": {},
     "outputs": [
      {
       "output_type": "stream",
       "stream": "stdout",
       "text": [
        "Iteration #1\n",
        "Iteration #2"
       ]
      },
      {
       "output_type": "stream",
       "stream": "stdout",
       "text": [
        "\n",
        "Iteration #3"
       ]
      },
      {
       "output_type": "stream",
       "stream": "stdout",
       "text": [
        "\n",
        "Iteration #4"
       ]
      },
      {
       "output_type": "stream",
       "stream": "stdout",
       "text": [
        "\n",
        "Iteration #5"
       ]
      },
      {
       "output_type": "stream",
       "stream": "stdout",
       "text": [
        "\n",
        "Iteration #6"
       ]
      },
      {
       "output_type": "stream",
       "stream": "stdout",
       "text": [
        "\n",
        "Iteration #7"
       ]
      },
      {
       "output_type": "stream",
       "stream": "stdout",
       "text": [
        "\n",
        "Iteration #8"
       ]
      },
      {
       "output_type": "stream",
       "stream": "stdout",
       "text": [
        "\n",
        "Iteration #9"
       ]
      },
      {
       "output_type": "stream",
       "stream": "stdout",
       "text": [
        "\n",
        "Iteration #10"
       ]
      },
      {
       "output_type": "stream",
       "stream": "stdout",
       "text": [
        "\n",
        "Iteration #11"
       ]
      },
      {
       "output_type": "stream",
       "stream": "stdout",
       "text": [
        "\n",
        "Iteration #12"
       ]
      },
      {
       "output_type": "stream",
       "stream": "stdout",
       "text": [
        "\n",
        "Iteration #13"
       ]
      },
      {
       "output_type": "stream",
       "stream": "stdout",
       "text": [
        "\n",
        "Iteration #14"
       ]
      },
      {
       "output_type": "stream",
       "stream": "stdout",
       "text": [
        "\n",
        "Iteration #15"
       ]
      },
      {
       "output_type": "stream",
       "stream": "stdout",
       "text": [
        "\n",
        "Iteration #16"
       ]
      },
      {
       "output_type": "stream",
       "stream": "stdout",
       "text": [
        "\n",
        "Iteration #17"
       ]
      },
      {
       "output_type": "stream",
       "stream": "stdout",
       "text": [
        "\n",
        "Iteration #18"
       ]
      },
      {
       "output_type": "stream",
       "stream": "stdout",
       "text": [
        "\n",
        "Iteration #19"
       ]
      },
      {
       "output_type": "stream",
       "stream": "stdout",
       "text": [
        "\n",
        "Iteration #20"
       ]
      },
      {
       "output_type": "stream",
       "stream": "stdout",
       "text": [
        "\n",
        "Iteration #21"
       ]
      },
      {
       "output_type": "stream",
       "stream": "stdout",
       "text": [
        "\n",
        "Iteration #22"
       ]
      },
      {
       "output_type": "stream",
       "stream": "stdout",
       "text": [
        "\n",
        "Iteration #23"
       ]
      },
      {
       "output_type": "stream",
       "stream": "stdout",
       "text": [
        "\n",
        "Iteration #24"
       ]
      },
      {
       "output_type": "stream",
       "stream": "stdout",
       "text": [
        "\n",
        "Iteration #25"
       ]
      },
      {
       "output_type": "stream",
       "stream": "stdout",
       "text": [
        "\n",
        "Iteration #26"
       ]
      },
      {
       "output_type": "stream",
       "stream": "stdout",
       "text": [
        "\n",
        "Iteration #27"
       ]
      },
      {
       "output_type": "stream",
       "stream": "stdout",
       "text": [
        "\n",
        "Iteration #28"
       ]
      },
      {
       "output_type": "stream",
       "stream": "stdout",
       "text": [
        "\n",
        "Iteration #29"
       ]
      },
      {
       "output_type": "stream",
       "stream": "stdout",
       "text": [
        "\n",
        "Iteration #30"
       ]
      },
      {
       "output_type": "stream",
       "stream": "stdout",
       "text": [
        "\n",
        "Iteration #31"
       ]
      },
      {
       "output_type": "stream",
       "stream": "stdout",
       "text": [
        "\n",
        "Iteration #32"
       ]
      },
      {
       "output_type": "stream",
       "stream": "stdout",
       "text": [
        "\n",
        "Iteration #33"
       ]
      },
      {
       "output_type": "stream",
       "stream": "stdout",
       "text": [
        "\n",
        "Iteration #34"
       ]
      },
      {
       "output_type": "stream",
       "stream": "stdout",
       "text": [
        "\n",
        "Iteration #35"
       ]
      },
      {
       "output_type": "stream",
       "stream": "stdout",
       "text": [
        "\n",
        "Iteration #36"
       ]
      },
      {
       "output_type": "stream",
       "stream": "stdout",
       "text": [
        "\n",
        "Iteration #37"
       ]
      },
      {
       "output_type": "stream",
       "stream": "stdout",
       "text": [
        "\n",
        "Iteration #38"
       ]
      },
      {
       "output_type": "stream",
       "stream": "stdout",
       "text": [
        "\n",
        "Iteration #39"
       ]
      },
      {
       "output_type": "stream",
       "stream": "stdout",
       "text": [
        "\n",
        "Iteration #40"
       ]
      },
      {
       "output_type": "stream",
       "stream": "stdout",
       "text": [
        "\n",
        "Iteration #41"
       ]
      },
      {
       "output_type": "stream",
       "stream": "stdout",
       "text": [
        "\n",
        "Iteration #42"
       ]
      },
      {
       "output_type": "stream",
       "stream": "stdout",
       "text": [
        "\n",
        "Iteration #43"
       ]
      },
      {
       "output_type": "stream",
       "stream": "stdout",
       "text": [
        "\n",
        "Iteration #44"
       ]
      },
      {
       "output_type": "stream",
       "stream": "stdout",
       "text": [
        "\n",
        "Iteration #45"
       ]
      },
      {
       "output_type": "stream",
       "stream": "stdout",
       "text": [
        "\n",
        "Iteration #46"
       ]
      },
      {
       "output_type": "stream",
       "stream": "stdout",
       "text": [
        "\n",
        "Iteration #47"
       ]
      },
      {
       "output_type": "stream",
       "stream": "stdout",
       "text": [
        "\n",
        "Iteration #48"
       ]
      },
      {
       "output_type": "stream",
       "stream": "stdout",
       "text": [
        "\n",
        "Iteration #49"
       ]
      },
      {
       "output_type": "stream",
       "stream": "stdout",
       "text": [
        "\n",
        "Iteration #50"
       ]
      },
      {
       "output_type": "stream",
       "stream": "stdout",
       "text": [
        "\n",
        "Maximum iterations (51) reached\n",
        "Final residue matrix:\n",
        "              x          y          z\n",
        "0    -63.899916  -7.218463  11.630068\n",
        "1    -63.231278  -4.281649  13.660809\n",
        "2    -61.235051  -2.000737  11.623258\n",
        "3    -61.057170 -10.248220  18.913290\n",
        "4    -59.705835  -3.752728  15.019379\n",
        "5    -59.527005  -6.701884  12.376143\n",
        "6    -59.480443 -19.496655  18.444544\n",
        "7    -59.104201 -10.691185  27.285175\n",
        "8    -58.505637 -10.122404  22.729914\n",
        "9    -58.368478  -4.228081   9.356680\n",
        "10   -58.156252 -12.224860  13.830243\n",
        "11   -57.992634 -15.254584  15.994744\n",
        "12   -57.857318 -15.436820  22.915968\n",
        "13   -57.778446 -12.340699  19.293605\n",
        "14   -57.730484 -22.737995  17.946771\n",
        "15   -57.513661 -19.515395  23.063690\n",
        "16   -57.444954 -17.603622  27.888691\n",
        "17   -57.207097  -8.085212  19.092234\n",
        "18   -56.634807 -20.741085  15.387828\n",
        "19          NaN        NaN        NaN\n",
        "20   -55.448752  -2.063763  12.038974\n",
        "21   -55.549029 -24.251252  27.353850\n",
        "22   -55.045747 -12.151757  10.660149\n",
        "23   -55.095976  -8.542827  24.802843\n",
        "24   -54.883203 -17.627851  18.559686\n",
        "25   -54.464697  -4.937457  15.111275\n",
        "26   -54.263932  -6.872816  11.204297\n",
        "27   -54.291985 -26.218980  21.883924\n",
        "28   -54.093483 -15.894680  12.526203\n",
        "29   -53.973653 -10.201750  20.644393\n",
        "...         ...        ...        ...\n",
        "2046  57.033120  15.171541 -15.178876\n",
        "2047  57.208810 -10.718294 -30.637326\n",
        "2048  57.709963  24.312993 -16.887900\n",
        "2049  57.469535   7.698777 -18.067559\n",
        "2050  58.099439  13.573459 -28.441219\n",
        "2051  58.126785   4.032062 -18.672277\n",
        "2052  58.262694   0.901767 -23.970373\n",
        "2053  58.311444  -2.505954 -24.127851\n",
        "2054  58.521959   3.777091 -15.131541\n",
        "2055  58.713350  12.005862 -16.343754\n",
        "2056  58.739324   1.978971 -29.963875\n",
        "2057  58.818473  10.074893 -23.554112\n",
        "2058  58.807410  -8.111624 -30.093051\n",
        "2059  59.035395  17.086227 -19.968125\n",
        "2060  59.428193  23.062814 -14.148305\n",
        "2061  59.719685   6.863910 -14.574530\n",
        "2062  59.844552   6.820275 -27.537466\n",
        "2063  59.763970  -6.819918 -23.661857\n",
        "2064  59.887028  -4.035572 -18.867627\n",
        "2065  60.439069   6.286767 -22.539953\n",
        "2066  60.617837  -9.618312 -25.866636\n",
        "2067  60.731289  -2.974607 -27.635852\n",
        "2068  61.031576  -0.025511 -19.769263\n",
        "2069  61.454396  -7.025916 -19.757117\n",
        "2070  61.473031   0.636068 -25.523209\n",
        "2071  61.712266  -2.908438 -21.688321\n",
        "2072  62.014623   5.048709 -16.727727\n",
        "2073  62.147875   8.212796 -18.499237\n",
        "2074  62.556785  -7.596064 -28.418136\n",
        "2075  63.341021  -9.390094 -31.770094\n",
        "\n",
        "[2076 rows x 3 columns]\n",
        "Gravitational force matrix:\n",
        "[[ 0.0267307   0.00098849 -0.00302048]\n",
        " [ 0.02637035 -0.00063839 -0.00402621]\n",
        " [ 0.02569802 -0.00182424 -0.00325723]\n",
        " ..., \n",
        " [-0.02585161 -0.00389984  0.00559731]\n",
        " [-0.02605494  0.00451544  0.00992053]\n",
        " [-0.02598506  0.00538517  0.01158557]]\n"
       ]
      }
     ],
     "prompt_number": 193
    },
    {
     "cell_type": "code",
     "collapsed": false,
     "input": [],
     "language": "python",
     "metadata": {},
     "outputs": []
    }
   ],
   "metadata": {}
  }
 ]
}